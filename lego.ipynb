{
 "cells": [
  {
   "cell_type": "markdown",
   "metadata": {
    "id": "saFIHRVejyj9"
   },
   "source": [
    "# DTSC 580: Data Manipulation\n",
    "## Assignment: LEGO Project\n",
    "### Name: "
   ]
  },
  {
   "cell_type": "markdown",
   "metadata": {
    "id": "7mxXHpBhjykD"
   },
   "source": [
    "![LegoSchema](Lego_Schema.PNG)"
   ]
  },
  {
   "cell_type": "markdown",
   "metadata": {
    "id": "6-orxR08jykE"
   },
   "source": [
    "## Overview\n",
    "\n",
    "In this assignment, you will load the various tables from the [Rebrickable](https://rebrickable.com/) website and perform analysis on the data.  Rebrickable is a fantastic website that is used to show you which LEGO sets you can build from the sets and parts you already own.  They will even show you which parts you are missing to complete the new set and suggest sets that you could purchase to get those parts.  \n",
    "\n",
    "## Data\n",
    "\n",
    "The data has been downloaded directly from their website and includes files for the tables shown in the schema above.  Your first task will be to go through the data and review the schema to understand how the tables all fit together.  There is no data dictionary that I am aware of, but you should be able to understand this data by reviewing the files and schema and visiting their [Download](https://rebrickable.com/downloads/) page and [API](https://rebrickable.com/api/) documentation.  **Note that you must use the files downloaded from Brightspace for this assignment and not download new files from the Rebrickable website.**\n",
    "\n",
    "## Assignment\n",
    "\n",
    "In this assignment, you will create a number of functions to complete certain tasks.  This is not needed if you were working on this project on your own, but since we want to see if you can select the data via Pandas/Numpy, we will use those functions in the automatic grading in CodeGrade.  Without this, students could try to look up the answers in the `csv` files instead of wrangling the data with Python/Pandas, which would defeat the purpose of this class.\n",
    "\n",
    "In addition, we would strongly suggest that you merge data sets as appropriate for the given task.  For example, you might merge the `sets` and `themes` DataFrames to answer one question, and then merge `sets`, `inventories`, `inventory_minifigs`, and `minifigs` to answer another.  This will make your code much easier to write and will be key in working with data across multiple tables.  In fact, I was able to create each function with only one line of code because of the merging of certain data sets.  Also note that you may not use all the tables in this assignment.  This is also an important skill for a Data Scientist to know when to use data and what data is unnecessary.\n",
    "\n",
    "When complete, save your notebook as `lego.ipynb` and submit to CodeGrade for automatic grading.\n",
    "\n",
    "## Note\n",
    "\n",
    "<u>Show Work</u>\n",
    "\n",
    "Remember that you must show your work.  Students submissions are spot checked manually throughout the term to verify that they are not hard coding the answer from looking only in the file or in CodeGrade's expected output.  If this is seen, the student's answer will be manually marked wrong and their grade will be changed to reflect this. \n",
    "\n",
    "For example, if the answer to Q1, the mean of a specific column, is 22:\n",
    "```\n",
    "# correct way\n",
    "Q1 = df['column_name'].mean()\n",
    "\n",
    "# incorrect way\n",
    "Q1 = 22 \n",
    "```\n",
    "\n",
    "Let's start out by importing some standard imports."
   ]
  },
  {
   "cell_type": "code",
   "execution_count": 1,
   "metadata": {
    "id": "_InjYEZDjykG"
   },
   "outputs": [],
   "source": [
    "# common imports\n",
    "import pandas as pd\n",
    "import numpy as np\n",
    "\n",
    "# Do not change this option; This allows the CodeGrade auto grading to function correctly\n",
    "pd.set_option('display.max_columns', None)"
   ]
  },
  {
   "cell_type": "markdown",
   "metadata": {
    "id": "jArCjBptjykH"
   },
   "source": [
    "## Import Data\n",
    "\n",
    "Load the various Lego datasets below calling them the same as the name of the table as seen in the schema.  Note that you may or may not have to use all the data sets.  One of the things that all Data Scientists and Analysts have to decide when working on a project is what data is useful for a task and what data is not.  Remember to look at the schema above to see how all the data sets are connected.\n",
    "\n",
    "The autograder in CodeGrade will have the `csv` files in the same location where the notebook is run.  Because of this, please make sure your local files are in the same location as your notebook."
   ]
  },
  {
   "cell_type": "code",
   "execution_count": 2,
   "metadata": {
    "id": "4ouOYdZDjykI"
   },
   "outputs": [],
   "source": [
    "# import Lego data sets here\n",
    "# make sure that files are in the same folder as your notebook\n",
    "inventories = pd.read_csv('inventories.csv')\n",
    "inventory_sets = pd.read_csv('inventory_sets.csv')\n",
    "sets = pd.read_csv('sets.csv')\n",
    "themes = pd.read_csv('themes.csv')\n",
    "inventory_minifigs = pd.read_csv('inventory_minifigs.csv')\n",
    "minifigs = pd.read_csv('minifigs.csv')\n",
    "inventory_parts = pd.read_csv('inventory_parts.csv')\n",
    "part_categories = pd.read_csv('part_categories.csv')\n",
    "parts = pd.read_csv('parts.csv')\n",
    "colors = pd.read_csv('colors.csv')\n",
    "part_relationships = pd.read_csv('part_relationships.csv')\n",
    "elements = pd.read_csv('elements.csv')"
   ]
  },
  {
   "cell_type": "markdown",
   "metadata": {
    "id": "Tv30r7NijykJ"
   },
   "source": [
    "## Exploration"
   ]
  },
  {
   "cell_type": "markdown",
   "metadata": {
    "id": "jij29U0pjykK"
   },
   "source": [
    "Take time to look at all of the data sets using `.head()`, `.info()`, `.describe()`, etc to familiarize yourself with the data sets.  As you look at them, notice how the various tables connect together."
   ]
  },
  {
   "cell_type": "code",
   "execution_count": 3,
   "metadata": {
    "colab": {
     "base_uri": "https://localhost:8080/",
     "height": 424
    },
    "id": "IFSCPPJDjykK",
    "outputId": "7b735710-3f74-49f0-9313-8a5978e54300"
   },
   "outputs": [
    {
     "data": {
      "text/html": [
       "<div>\n",
       "<style scoped>\n",
       "    .dataframe tbody tr th:only-of-type {\n",
       "        vertical-align: middle;\n",
       "    }\n",
       "\n",
       "    .dataframe tbody tr th {\n",
       "        vertical-align: top;\n",
       "    }\n",
       "\n",
       "    .dataframe thead th {\n",
       "        text-align: right;\n",
       "    }\n",
       "</style>\n",
       "<table border=\"1\" class=\"dataframe\">\n",
       "  <thead>\n",
       "    <tr style=\"text-align: right;\">\n",
       "      <th></th>\n",
       "      <th>id</th>\n",
       "      <th>version</th>\n",
       "      <th>set_num</th>\n",
       "    </tr>\n",
       "  </thead>\n",
       "  <tbody>\n",
       "    <tr>\n",
       "      <th>0</th>\n",
       "      <td>1</td>\n",
       "      <td>1</td>\n",
       "      <td>7922-1</td>\n",
       "    </tr>\n",
       "    <tr>\n",
       "      <th>1</th>\n",
       "      <td>3</td>\n",
       "      <td>1</td>\n",
       "      <td>3931-1</td>\n",
       "    </tr>\n",
       "    <tr>\n",
       "      <th>2</th>\n",
       "      <td>4</td>\n",
       "      <td>1</td>\n",
       "      <td>6942-1</td>\n",
       "    </tr>\n",
       "    <tr>\n",
       "      <th>3</th>\n",
       "      <td>15</td>\n",
       "      <td>1</td>\n",
       "      <td>5158-1</td>\n",
       "    </tr>\n",
       "    <tr>\n",
       "      <th>4</th>\n",
       "      <td>16</td>\n",
       "      <td>1</td>\n",
       "      <td>903-1</td>\n",
       "    </tr>\n",
       "    <tr>\n",
       "      <th>...</th>\n",
       "      <td>...</td>\n",
       "      <td>...</td>\n",
       "      <td>...</td>\n",
       "    </tr>\n",
       "    <tr>\n",
       "      <th>31582</th>\n",
       "      <td>122328</td>\n",
       "      <td>2</td>\n",
       "      <td>426-1</td>\n",
       "    </tr>\n",
       "    <tr>\n",
       "      <th>31583</th>\n",
       "      <td>122329</td>\n",
       "      <td>1</td>\n",
       "      <td>210-2-DUMMY-1</td>\n",
       "    </tr>\n",
       "    <tr>\n",
       "      <th>31584</th>\n",
       "      <td>122344</td>\n",
       "      <td>2</td>\n",
       "      <td>7036-1</td>\n",
       "    </tr>\n",
       "    <tr>\n",
       "      <th>31585</th>\n",
       "      <td>122450</td>\n",
       "      <td>1</td>\n",
       "      <td>11961-1</td>\n",
       "    </tr>\n",
       "    <tr>\n",
       "      <th>31586</th>\n",
       "      <td>122472</td>\n",
       "      <td>3</td>\n",
       "      <td>10262-1</td>\n",
       "    </tr>\n",
       "  </tbody>\n",
       "</table>\n",
       "<p>31587 rows × 3 columns</p>\n",
       "</div>"
      ],
      "text/plain": [
       "           id  version        set_num\n",
       "0           1        1         7922-1\n",
       "1           3        1         3931-1\n",
       "2           4        1         6942-1\n",
       "3          15        1         5158-1\n",
       "4          16        1          903-1\n",
       "...       ...      ...            ...\n",
       "31582  122328        2          426-1\n",
       "31583  122329        1  210-2-DUMMY-1\n",
       "31584  122344        2         7036-1\n",
       "31585  122450        1        11961-1\n",
       "31586  122472        3        10262-1\n",
       "\n",
       "[31587 rows x 3 columns]"
      ]
     },
     "execution_count": 3,
     "metadata": {},
     "output_type": "execute_result"
    }
   ],
   "source": [
    "### ENTER CODE HERE ###\n",
    "inventories \n"
   ]
  },
  {
   "cell_type": "code",
   "execution_count": 4,
   "metadata": {
    "colab": {
     "base_uri": "https://localhost:8080/",
     "height": 424
    },
    "id": "kil5Qr46lXoC",
    "outputId": "571a3460-8972-4115-db0e-e3fc1eddabfa"
   },
   "outputs": [
    {
     "data": {
      "text/html": [
       "<div>\n",
       "<style scoped>\n",
       "    .dataframe tbody tr th:only-of-type {\n",
       "        vertical-align: middle;\n",
       "    }\n",
       "\n",
       "    .dataframe tbody tr th {\n",
       "        vertical-align: top;\n",
       "    }\n",
       "\n",
       "    .dataframe thead th {\n",
       "        text-align: right;\n",
       "    }\n",
       "</style>\n",
       "<table border=\"1\" class=\"dataframe\">\n",
       "  <thead>\n",
       "    <tr style=\"text-align: right;\">\n",
       "      <th></th>\n",
       "      <th>inventory_id</th>\n",
       "      <th>set_num</th>\n",
       "      <th>quantity</th>\n",
       "    </tr>\n",
       "  </thead>\n",
       "  <tbody>\n",
       "    <tr>\n",
       "      <th>0</th>\n",
       "      <td>35</td>\n",
       "      <td>75911-1</td>\n",
       "      <td>1</td>\n",
       "    </tr>\n",
       "    <tr>\n",
       "      <th>1</th>\n",
       "      <td>35</td>\n",
       "      <td>75912-1</td>\n",
       "      <td>1</td>\n",
       "    </tr>\n",
       "    <tr>\n",
       "      <th>2</th>\n",
       "      <td>39</td>\n",
       "      <td>75048-1</td>\n",
       "      <td>1</td>\n",
       "    </tr>\n",
       "    <tr>\n",
       "      <th>3</th>\n",
       "      <td>39</td>\n",
       "      <td>75053-1</td>\n",
       "      <td>1</td>\n",
       "    </tr>\n",
       "    <tr>\n",
       "      <th>4</th>\n",
       "      <td>50</td>\n",
       "      <td>4515-1</td>\n",
       "      <td>1</td>\n",
       "    </tr>\n",
       "    <tr>\n",
       "      <th>...</th>\n",
       "      <td>...</td>\n",
       "      <td>...</td>\n",
       "      <td>...</td>\n",
       "    </tr>\n",
       "    <tr>\n",
       "      <th>3408</th>\n",
       "      <td>118961</td>\n",
       "      <td>71032-7</td>\n",
       "      <td>1</td>\n",
       "    </tr>\n",
       "    <tr>\n",
       "      <th>3409</th>\n",
       "      <td>118961</td>\n",
       "      <td>71032-8</td>\n",
       "      <td>1</td>\n",
       "    </tr>\n",
       "    <tr>\n",
       "      <th>3410</th>\n",
       "      <td>118961</td>\n",
       "      <td>71032-9</td>\n",
       "      <td>1</td>\n",
       "    </tr>\n",
       "    <tr>\n",
       "      <th>3411</th>\n",
       "      <td>122079</td>\n",
       "      <td>71032-0</td>\n",
       "      <td>6</td>\n",
       "    </tr>\n",
       "    <tr>\n",
       "      <th>3412</th>\n",
       "      <td>122081</td>\n",
       "      <td>71032-0</td>\n",
       "      <td>36</td>\n",
       "    </tr>\n",
       "  </tbody>\n",
       "</table>\n",
       "<p>3413 rows × 3 columns</p>\n",
       "</div>"
      ],
      "text/plain": [
       "      inventory_id  set_num  quantity\n",
       "0               35  75911-1         1\n",
       "1               35  75912-1         1\n",
       "2               39  75048-1         1\n",
       "3               39  75053-1         1\n",
       "4               50   4515-1         1\n",
       "...            ...      ...       ...\n",
       "3408        118961  71032-7         1\n",
       "3409        118961  71032-8         1\n",
       "3410        118961  71032-9         1\n",
       "3411        122079  71032-0         6\n",
       "3412        122081  71032-0        36\n",
       "\n",
       "[3413 rows x 3 columns]"
      ]
     },
     "execution_count": 4,
     "metadata": {},
     "output_type": "execute_result"
    }
   ],
   "source": [
    "inventory_sets \n"
   ]
  },
  {
   "cell_type": "code",
   "execution_count": 5,
   "metadata": {
    "colab": {
     "base_uri": "https://localhost:8080/",
     "height": 424
    },
    "id": "cFwO-gFplXqi",
    "outputId": "4585272d-ce12-422c-9507-0866d44395e2"
   },
   "outputs": [
    {
     "data": {
      "text/html": [
       "<div>\n",
       "<style scoped>\n",
       "    .dataframe tbody tr th:only-of-type {\n",
       "        vertical-align: middle;\n",
       "    }\n",
       "\n",
       "    .dataframe tbody tr th {\n",
       "        vertical-align: top;\n",
       "    }\n",
       "\n",
       "    .dataframe thead th {\n",
       "        text-align: right;\n",
       "    }\n",
       "</style>\n",
       "<table border=\"1\" class=\"dataframe\">\n",
       "  <thead>\n",
       "    <tr style=\"text-align: right;\">\n",
       "      <th></th>\n",
       "      <th>set_num</th>\n",
       "      <th>name</th>\n",
       "      <th>year</th>\n",
       "      <th>theme_id</th>\n",
       "      <th>num_parts</th>\n",
       "    </tr>\n",
       "  </thead>\n",
       "  <tbody>\n",
       "    <tr>\n",
       "      <th>0</th>\n",
       "      <td>001-1</td>\n",
       "      <td>Gears</td>\n",
       "      <td>1965</td>\n",
       "      <td>1</td>\n",
       "      <td>43</td>\n",
       "    </tr>\n",
       "    <tr>\n",
       "      <th>1</th>\n",
       "      <td>0011-2</td>\n",
       "      <td>Town Mini-Figures</td>\n",
       "      <td>1979</td>\n",
       "      <td>67</td>\n",
       "      <td>12</td>\n",
       "    </tr>\n",
       "    <tr>\n",
       "      <th>2</th>\n",
       "      <td>0011-3</td>\n",
       "      <td>Castle 2 for 1 Bonus Offer</td>\n",
       "      <td>1987</td>\n",
       "      <td>199</td>\n",
       "      <td>0</td>\n",
       "    </tr>\n",
       "    <tr>\n",
       "      <th>3</th>\n",
       "      <td>0012-1</td>\n",
       "      <td>Space Mini-Figures</td>\n",
       "      <td>1979</td>\n",
       "      <td>143</td>\n",
       "      <td>12</td>\n",
       "    </tr>\n",
       "    <tr>\n",
       "      <th>4</th>\n",
       "      <td>0013-1</td>\n",
       "      <td>Space Mini-Figures</td>\n",
       "      <td>1979</td>\n",
       "      <td>143</td>\n",
       "      <td>12</td>\n",
       "    </tr>\n",
       "    <tr>\n",
       "      <th>...</th>\n",
       "      <td>...</td>\n",
       "      <td>...</td>\n",
       "      <td>...</td>\n",
       "      <td>...</td>\n",
       "      <td>...</td>\n",
       "    </tr>\n",
       "    <tr>\n",
       "      <th>18571</th>\n",
       "      <td>XWING-1</td>\n",
       "      <td>Mini X-Wing Fighter</td>\n",
       "      <td>2019</td>\n",
       "      <td>158</td>\n",
       "      <td>60</td>\n",
       "    </tr>\n",
       "    <tr>\n",
       "      <th>18572</th>\n",
       "      <td>XWING-2</td>\n",
       "      <td>X-Wing Trench Run</td>\n",
       "      <td>2019</td>\n",
       "      <td>158</td>\n",
       "      <td>52</td>\n",
       "    </tr>\n",
       "    <tr>\n",
       "      <th>18573</th>\n",
       "      <td>YODACHRON-1</td>\n",
       "      <td>Yoda Chronicles Promotional Set</td>\n",
       "      <td>2013</td>\n",
       "      <td>158</td>\n",
       "      <td>413</td>\n",
       "    </tr>\n",
       "    <tr>\n",
       "      <th>18574</th>\n",
       "      <td>YTERRIER-1</td>\n",
       "      <td>Yorkshire Terrier</td>\n",
       "      <td>2018</td>\n",
       "      <td>598</td>\n",
       "      <td>0</td>\n",
       "    </tr>\n",
       "    <tr>\n",
       "      <th>18575</th>\n",
       "      <td>ZX8000-1</td>\n",
       "      <td>ZX 8000 LEGO Sneaker</td>\n",
       "      <td>2020</td>\n",
       "      <td>501</td>\n",
       "      <td>0</td>\n",
       "    </tr>\n",
       "  </tbody>\n",
       "</table>\n",
       "<p>18576 rows × 5 columns</p>\n",
       "</div>"
      ],
      "text/plain": [
       "           set_num                             name  year  theme_id  num_parts\n",
       "0            001-1                            Gears  1965         1         43\n",
       "1           0011-2                Town Mini-Figures  1979        67         12\n",
       "2           0011-3       Castle 2 for 1 Bonus Offer  1987       199          0\n",
       "3           0012-1               Space Mini-Figures  1979       143         12\n",
       "4           0013-1               Space Mini-Figures  1979       143         12\n",
       "...            ...                              ...   ...       ...        ...\n",
       "18571      XWING-1              Mini X-Wing Fighter  2019       158         60\n",
       "18572      XWING-2                X-Wing Trench Run  2019       158         52\n",
       "18573  YODACHRON-1  Yoda Chronicles Promotional Set  2013       158        413\n",
       "18574   YTERRIER-1                Yorkshire Terrier  2018       598          0\n",
       "18575     ZX8000-1             ZX 8000 LEGO Sneaker  2020       501          0\n",
       "\n",
       "[18576 rows x 5 columns]"
      ]
     },
     "execution_count": 5,
     "metadata": {},
     "output_type": "execute_result"
    }
   ],
   "source": [
    "sets \n"
   ]
  },
  {
   "cell_type": "code",
   "execution_count": 6,
   "metadata": {
    "colab": {
     "base_uri": "https://localhost:8080/",
     "height": 424
    },
    "id": "Nh65mIPslXtN",
    "outputId": "a33d8834-645d-4db6-a47a-24e1285ea4d1"
   },
   "outputs": [
    {
     "data": {
      "text/html": [
       "<div>\n",
       "<style scoped>\n",
       "    .dataframe tbody tr th:only-of-type {\n",
       "        vertical-align: middle;\n",
       "    }\n",
       "\n",
       "    .dataframe tbody tr th {\n",
       "        vertical-align: top;\n",
       "    }\n",
       "\n",
       "    .dataframe thead th {\n",
       "        text-align: right;\n",
       "    }\n",
       "</style>\n",
       "<table border=\"1\" class=\"dataframe\">\n",
       "  <thead>\n",
       "    <tr style=\"text-align: right;\">\n",
       "      <th></th>\n",
       "      <th>id</th>\n",
       "      <th>name</th>\n",
       "      <th>parent_id</th>\n",
       "    </tr>\n",
       "  </thead>\n",
       "  <tbody>\n",
       "    <tr>\n",
       "      <th>0</th>\n",
       "      <td>1</td>\n",
       "      <td>Technic</td>\n",
       "      <td>NaN</td>\n",
       "    </tr>\n",
       "    <tr>\n",
       "      <th>1</th>\n",
       "      <td>3</td>\n",
       "      <td>Competition</td>\n",
       "      <td>1.0</td>\n",
       "    </tr>\n",
       "    <tr>\n",
       "      <th>2</th>\n",
       "      <td>4</td>\n",
       "      <td>Expert Builder</td>\n",
       "      <td>1.0</td>\n",
       "    </tr>\n",
       "    <tr>\n",
       "      <th>3</th>\n",
       "      <td>16</td>\n",
       "      <td>RoboRiders</td>\n",
       "      <td>1.0</td>\n",
       "    </tr>\n",
       "    <tr>\n",
       "      <th>4</th>\n",
       "      <td>17</td>\n",
       "      <td>Speed Slammers</td>\n",
       "      <td>1.0</td>\n",
       "    </tr>\n",
       "    <tr>\n",
       "      <th>...</th>\n",
       "      <td>...</td>\n",
       "      <td>...</td>\n",
       "      <td>...</td>\n",
       "    </tr>\n",
       "    <tr>\n",
       "      <th>439</th>\n",
       "      <td>715</td>\n",
       "      <td>Marvel</td>\n",
       "      <td>535.0</td>\n",
       "    </tr>\n",
       "    <tr>\n",
       "      <th>440</th>\n",
       "      <td>716</td>\n",
       "      <td>Modulex</td>\n",
       "      <td>NaN</td>\n",
       "    </tr>\n",
       "    <tr>\n",
       "      <th>441</th>\n",
       "      <td>717</td>\n",
       "      <td>Speed Racer</td>\n",
       "      <td>NaN</td>\n",
       "    </tr>\n",
       "    <tr>\n",
       "      <th>442</th>\n",
       "      <td>718</td>\n",
       "      <td>Series 22 Minifigures</td>\n",
       "      <td>535.0</td>\n",
       "    </tr>\n",
       "    <tr>\n",
       "      <th>443</th>\n",
       "      <td>719</td>\n",
       "      <td>BrickLink Designer Program</td>\n",
       "      <td>NaN</td>\n",
       "    </tr>\n",
       "  </tbody>\n",
       "</table>\n",
       "<p>444 rows × 3 columns</p>\n",
       "</div>"
      ],
      "text/plain": [
       "      id                        name  parent_id\n",
       "0      1                     Technic        NaN\n",
       "1      3                 Competition        1.0\n",
       "2      4              Expert Builder        1.0\n",
       "3     16                  RoboRiders        1.0\n",
       "4     17              Speed Slammers        1.0\n",
       "..   ...                         ...        ...\n",
       "439  715                      Marvel      535.0\n",
       "440  716                     Modulex        NaN\n",
       "441  717                 Speed Racer        NaN\n",
       "442  718       Series 22 Minifigures      535.0\n",
       "443  719  BrickLink Designer Program        NaN\n",
       "\n",
       "[444 rows x 3 columns]"
      ]
     },
     "execution_count": 6,
     "metadata": {},
     "output_type": "execute_result"
    }
   ],
   "source": [
    "themes \n"
   ]
  },
  {
   "cell_type": "code",
   "execution_count": 7,
   "metadata": {
    "colab": {
     "base_uri": "https://localhost:8080/",
     "height": 424
    },
    "id": "oDdQVpZzlXwN",
    "outputId": "3e49c3e2-285d-45c4-9046-3ac3c8018e6e"
   },
   "outputs": [
    {
     "data": {
      "text/html": [
       "<div>\n",
       "<style scoped>\n",
       "    .dataframe tbody tr th:only-of-type {\n",
       "        vertical-align: middle;\n",
       "    }\n",
       "\n",
       "    .dataframe tbody tr th {\n",
       "        vertical-align: top;\n",
       "    }\n",
       "\n",
       "    .dataframe thead th {\n",
       "        text-align: right;\n",
       "    }\n",
       "</style>\n",
       "<table border=\"1\" class=\"dataframe\">\n",
       "  <thead>\n",
       "    <tr style=\"text-align: right;\">\n",
       "      <th></th>\n",
       "      <th>inventory_id</th>\n",
       "      <th>fig_num</th>\n",
       "      <th>quantity</th>\n",
       "    </tr>\n",
       "  </thead>\n",
       "  <tbody>\n",
       "    <tr>\n",
       "      <th>0</th>\n",
       "      <td>3</td>\n",
       "      <td>fig-001549</td>\n",
       "      <td>1</td>\n",
       "    </tr>\n",
       "    <tr>\n",
       "      <th>1</th>\n",
       "      <td>4</td>\n",
       "      <td>fig-000764</td>\n",
       "      <td>1</td>\n",
       "    </tr>\n",
       "    <tr>\n",
       "      <th>2</th>\n",
       "      <td>19</td>\n",
       "      <td>fig-000555</td>\n",
       "      <td>1</td>\n",
       "    </tr>\n",
       "    <tr>\n",
       "      <th>3</th>\n",
       "      <td>25</td>\n",
       "      <td>fig-000574</td>\n",
       "      <td>1</td>\n",
       "    </tr>\n",
       "    <tr>\n",
       "      <th>4</th>\n",
       "      <td>26</td>\n",
       "      <td>fig-000842</td>\n",
       "      <td>1</td>\n",
       "    </tr>\n",
       "    <tr>\n",
       "      <th>...</th>\n",
       "      <td>...</td>\n",
       "      <td>...</td>\n",
       "      <td>...</td>\n",
       "    </tr>\n",
       "    <tr>\n",
       "      <th>18139</th>\n",
       "      <td>122344</td>\n",
       "      <td>fig-009900</td>\n",
       "      <td>1</td>\n",
       "    </tr>\n",
       "    <tr>\n",
       "      <th>18140</th>\n",
       "      <td>122344</td>\n",
       "      <td>fig-009908</td>\n",
       "      <td>2</td>\n",
       "    </tr>\n",
       "    <tr>\n",
       "      <th>18141</th>\n",
       "      <td>122344</td>\n",
       "      <td>fig-009954</td>\n",
       "      <td>1</td>\n",
       "    </tr>\n",
       "    <tr>\n",
       "      <th>18142</th>\n",
       "      <td>122344</td>\n",
       "      <td>fig-009955</td>\n",
       "      <td>1</td>\n",
       "    </tr>\n",
       "    <tr>\n",
       "      <th>18143</th>\n",
       "      <td>122344</td>\n",
       "      <td>fig-009956</td>\n",
       "      <td>1</td>\n",
       "    </tr>\n",
       "  </tbody>\n",
       "</table>\n",
       "<p>18144 rows × 3 columns</p>\n",
       "</div>"
      ],
      "text/plain": [
       "       inventory_id     fig_num  quantity\n",
       "0                 3  fig-001549         1\n",
       "1                 4  fig-000764         1\n",
       "2                19  fig-000555         1\n",
       "3                25  fig-000574         1\n",
       "4                26  fig-000842         1\n",
       "...             ...         ...       ...\n",
       "18139        122344  fig-009900         1\n",
       "18140        122344  fig-009908         2\n",
       "18141        122344  fig-009954         1\n",
       "18142        122344  fig-009955         1\n",
       "18143        122344  fig-009956         1\n",
       "\n",
       "[18144 rows x 3 columns]"
      ]
     },
     "execution_count": 7,
     "metadata": {},
     "output_type": "execute_result"
    }
   ],
   "source": [
    "inventory_minifigs \n"
   ]
  },
  {
   "cell_type": "code",
   "execution_count": 8,
   "metadata": {
    "colab": {
     "base_uri": "https://localhost:8080/",
     "height": 424
    },
    "id": "7FJVSgudlXy1",
    "outputId": "c16e4a8a-18e7-4381-86fa-1385bc4389e3"
   },
   "outputs": [
    {
     "data": {
      "text/html": [
       "<div>\n",
       "<style scoped>\n",
       "    .dataframe tbody tr th:only-of-type {\n",
       "        vertical-align: middle;\n",
       "    }\n",
       "\n",
       "    .dataframe tbody tr th {\n",
       "        vertical-align: top;\n",
       "    }\n",
       "\n",
       "    .dataframe thead th {\n",
       "        text-align: right;\n",
       "    }\n",
       "</style>\n",
       "<table border=\"1\" class=\"dataframe\">\n",
       "  <thead>\n",
       "    <tr style=\"text-align: right;\">\n",
       "      <th></th>\n",
       "      <th>fig_num</th>\n",
       "      <th>name</th>\n",
       "      <th>num_parts</th>\n",
       "    </tr>\n",
       "  </thead>\n",
       "  <tbody>\n",
       "    <tr>\n",
       "      <th>0</th>\n",
       "      <td>fig-000001</td>\n",
       "      <td>Toy Store Employee</td>\n",
       "      <td>4</td>\n",
       "    </tr>\n",
       "    <tr>\n",
       "      <th>1</th>\n",
       "      <td>fig-000002</td>\n",
       "      <td>Customer Kid</td>\n",
       "      <td>4</td>\n",
       "    </tr>\n",
       "    <tr>\n",
       "      <th>2</th>\n",
       "      <td>fig-000003</td>\n",
       "      <td>Assassin Droid, White</td>\n",
       "      <td>8</td>\n",
       "    </tr>\n",
       "    <tr>\n",
       "      <th>3</th>\n",
       "      <td>fig-000004</td>\n",
       "      <td>Basic Figure</td>\n",
       "      <td>4</td>\n",
       "    </tr>\n",
       "    <tr>\n",
       "      <th>4</th>\n",
       "      <td>fig-000005</td>\n",
       "      <td>Captain America with Short Legs</td>\n",
       "      <td>3</td>\n",
       "    </tr>\n",
       "    <tr>\n",
       "      <th>...</th>\n",
       "      <td>...</td>\n",
       "      <td>...</td>\n",
       "      <td>...</td>\n",
       "    </tr>\n",
       "    <tr>\n",
       "      <th>11822</th>\n",
       "      <td>fig-012221</td>\n",
       "      <td>Bob-omb</td>\n",
       "      <td>11</td>\n",
       "    </tr>\n",
       "    <tr>\n",
       "      <th>11823</th>\n",
       "      <td>fig-012222</td>\n",
       "      <td>Boomer (Banzai) Bill</td>\n",
       "      <td>10</td>\n",
       "    </tr>\n",
       "    <tr>\n",
       "      <th>11824</th>\n",
       "      <td>fig-012223</td>\n",
       "      <td>Bullet Bill</td>\n",
       "      <td>10</td>\n",
       "    </tr>\n",
       "    <tr>\n",
       "      <th>11825</th>\n",
       "      <td>fig-012224</td>\n",
       "      <td>Buzzy Beetle</td>\n",
       "      <td>7</td>\n",
       "    </tr>\n",
       "    <tr>\n",
       "      <th>11826</th>\n",
       "      <td>fig-012225</td>\n",
       "      <td>Unikitty - Cheerykitty (Cheery Kitty)</td>\n",
       "      <td>14</td>\n",
       "    </tr>\n",
       "  </tbody>\n",
       "</table>\n",
       "<p>11827 rows × 3 columns</p>\n",
       "</div>"
      ],
      "text/plain": [
       "          fig_num                                   name  num_parts\n",
       "0      fig-000001                     Toy Store Employee          4\n",
       "1      fig-000002                           Customer Kid          4\n",
       "2      fig-000003                  Assassin Droid, White          8\n",
       "3      fig-000004                           Basic Figure          4\n",
       "4      fig-000005        Captain America with Short Legs          3\n",
       "...           ...                                    ...        ...\n",
       "11822  fig-012221                                Bob-omb         11\n",
       "11823  fig-012222                   Boomer (Banzai) Bill         10\n",
       "11824  fig-012223                            Bullet Bill         10\n",
       "11825  fig-012224                           Buzzy Beetle          7\n",
       "11826  fig-012225  Unikitty - Cheerykitty (Cheery Kitty)         14\n",
       "\n",
       "[11827 rows x 3 columns]"
      ]
     },
     "execution_count": 8,
     "metadata": {},
     "output_type": "execute_result"
    }
   ],
   "source": [
    "minifigs \n"
   ]
  },
  {
   "cell_type": "code",
   "execution_count": 9,
   "metadata": {
    "colab": {
     "base_uri": "https://localhost:8080/",
     "height": 424
    },
    "id": "Ve6j2rr5lX1g",
    "outputId": "0c284528-4cc3-46e0-fec6-979c1b2b49ae"
   },
   "outputs": [
    {
     "data": {
      "text/html": [
       "<div>\n",
       "<style scoped>\n",
       "    .dataframe tbody tr th:only-of-type {\n",
       "        vertical-align: middle;\n",
       "    }\n",
       "\n",
       "    .dataframe tbody tr th {\n",
       "        vertical-align: top;\n",
       "    }\n",
       "\n",
       "    .dataframe thead th {\n",
       "        text-align: right;\n",
       "    }\n",
       "</style>\n",
       "<table border=\"1\" class=\"dataframe\">\n",
       "  <thead>\n",
       "    <tr style=\"text-align: right;\">\n",
       "      <th></th>\n",
       "      <th>inventory_id</th>\n",
       "      <th>part_num</th>\n",
       "      <th>color_id</th>\n",
       "      <th>quantity</th>\n",
       "      <th>is_spare</th>\n",
       "    </tr>\n",
       "  </thead>\n",
       "  <tbody>\n",
       "    <tr>\n",
       "      <th>0</th>\n",
       "      <td>1</td>\n",
       "      <td>48379c01</td>\n",
       "      <td>72</td>\n",
       "      <td>1</td>\n",
       "      <td>f</td>\n",
       "    </tr>\n",
       "    <tr>\n",
       "      <th>1</th>\n",
       "      <td>1</td>\n",
       "      <td>48395</td>\n",
       "      <td>7</td>\n",
       "      <td>1</td>\n",
       "      <td>f</td>\n",
       "    </tr>\n",
       "    <tr>\n",
       "      <th>2</th>\n",
       "      <td>1</td>\n",
       "      <td>stickerupn0077</td>\n",
       "      <td>9999</td>\n",
       "      <td>1</td>\n",
       "      <td>f</td>\n",
       "    </tr>\n",
       "    <tr>\n",
       "      <th>3</th>\n",
       "      <td>1</td>\n",
       "      <td>upn0342</td>\n",
       "      <td>0</td>\n",
       "      <td>1</td>\n",
       "      <td>f</td>\n",
       "    </tr>\n",
       "    <tr>\n",
       "      <th>4</th>\n",
       "      <td>1</td>\n",
       "      <td>upn0350</td>\n",
       "      <td>25</td>\n",
       "      <td>1</td>\n",
       "      <td>f</td>\n",
       "    </tr>\n",
       "    <tr>\n",
       "      <th>...</th>\n",
       "      <td>...</td>\n",
       "      <td>...</td>\n",
       "      <td>...</td>\n",
       "      <td>...</td>\n",
       "      <td>...</td>\n",
       "    </tr>\n",
       "    <tr>\n",
       "      <th>989524</th>\n",
       "      <td>122472</td>\n",
       "      <td>99206</td>\n",
       "      <td>71</td>\n",
       "      <td>2</td>\n",
       "      <td>f</td>\n",
       "    </tr>\n",
       "    <tr>\n",
       "      <th>989525</th>\n",
       "      <td>122472</td>\n",
       "      <td>99207</td>\n",
       "      <td>71</td>\n",
       "      <td>2</td>\n",
       "      <td>f</td>\n",
       "    </tr>\n",
       "    <tr>\n",
       "      <th>989526</th>\n",
       "      <td>122472</td>\n",
       "      <td>99207</td>\n",
       "      <td>0</td>\n",
       "      <td>2</td>\n",
       "      <td>f</td>\n",
       "    </tr>\n",
       "    <tr>\n",
       "      <th>989527</th>\n",
       "      <td>122472</td>\n",
       "      <td>99780</td>\n",
       "      <td>0</td>\n",
       "      <td>2</td>\n",
       "      <td>f</td>\n",
       "    </tr>\n",
       "    <tr>\n",
       "      <th>989528</th>\n",
       "      <td>122472</td>\n",
       "      <td>99780</td>\n",
       "      <td>1</td>\n",
       "      <td>1</td>\n",
       "      <td>f</td>\n",
       "    </tr>\n",
       "  </tbody>\n",
       "</table>\n",
       "<p>989529 rows × 5 columns</p>\n",
       "</div>"
      ],
      "text/plain": [
       "        inventory_id        part_num  color_id  quantity is_spare\n",
       "0                  1        48379c01        72         1        f\n",
       "1                  1           48395         7         1        f\n",
       "2                  1  stickerupn0077      9999         1        f\n",
       "3                  1         upn0342         0         1        f\n",
       "4                  1         upn0350        25         1        f\n",
       "...              ...             ...       ...       ...      ...\n",
       "989524        122472           99206        71         2        f\n",
       "989525        122472           99207        71         2        f\n",
       "989526        122472           99207         0         2        f\n",
       "989527        122472           99780         0         2        f\n",
       "989528        122472           99780         1         1        f\n",
       "\n",
       "[989529 rows x 5 columns]"
      ]
     },
     "execution_count": 9,
     "metadata": {},
     "output_type": "execute_result"
    }
   ],
   "source": [
    "inventory_parts \n"
   ]
  },
  {
   "cell_type": "code",
   "execution_count": 10,
   "metadata": {
    "colab": {
     "base_uri": "https://localhost:8080/",
     "height": 424
    },
    "id": "gSIjQ6QWlX3x",
    "outputId": "353991df-663e-4e18-83e6-26763d4e4a12"
   },
   "outputs": [
    {
     "data": {
      "text/html": [
       "<div>\n",
       "<style scoped>\n",
       "    .dataframe tbody tr th:only-of-type {\n",
       "        vertical-align: middle;\n",
       "    }\n",
       "\n",
       "    .dataframe tbody tr th {\n",
       "        vertical-align: top;\n",
       "    }\n",
       "\n",
       "    .dataframe thead th {\n",
       "        text-align: right;\n",
       "    }\n",
       "</style>\n",
       "<table border=\"1\" class=\"dataframe\">\n",
       "  <thead>\n",
       "    <tr style=\"text-align: right;\">\n",
       "      <th></th>\n",
       "      <th>id</th>\n",
       "      <th>name</th>\n",
       "    </tr>\n",
       "  </thead>\n",
       "  <tbody>\n",
       "    <tr>\n",
       "      <th>0</th>\n",
       "      <td>1</td>\n",
       "      <td>Baseplates</td>\n",
       "    </tr>\n",
       "    <tr>\n",
       "      <th>1</th>\n",
       "      <td>3</td>\n",
       "      <td>Bricks Sloped</td>\n",
       "    </tr>\n",
       "    <tr>\n",
       "      <th>2</th>\n",
       "      <td>4</td>\n",
       "      <td>Duplo, Quatro and Primo</td>\n",
       "    </tr>\n",
       "    <tr>\n",
       "      <th>3</th>\n",
       "      <td>5</td>\n",
       "      <td>Bricks Special</td>\n",
       "    </tr>\n",
       "    <tr>\n",
       "      <th>4</th>\n",
       "      <td>6</td>\n",
       "      <td>Bricks Wedged</td>\n",
       "    </tr>\n",
       "    <tr>\n",
       "      <th>...</th>\n",
       "      <td>...</td>\n",
       "      <td>...</td>\n",
       "    </tr>\n",
       "    <tr>\n",
       "      <th>61</th>\n",
       "      <td>64</td>\n",
       "      <td>Minidoll Lower Body</td>\n",
       "    </tr>\n",
       "    <tr>\n",
       "      <th>62</th>\n",
       "      <td>65</td>\n",
       "      <td>Minifig Headwear</td>\n",
       "    </tr>\n",
       "    <tr>\n",
       "      <th>63</th>\n",
       "      <td>66</td>\n",
       "      <td>Modulex</td>\n",
       "    </tr>\n",
       "    <tr>\n",
       "      <th>64</th>\n",
       "      <td>67</td>\n",
       "      <td>Tiles Round and Curved</td>\n",
       "    </tr>\n",
       "    <tr>\n",
       "      <th>65</th>\n",
       "      <td>68</td>\n",
       "      <td>Projectiles / Launchers</td>\n",
       "    </tr>\n",
       "  </tbody>\n",
       "</table>\n",
       "<p>66 rows × 2 columns</p>\n",
       "</div>"
      ],
      "text/plain": [
       "    id                     name\n",
       "0    1               Baseplates\n",
       "1    3            Bricks Sloped\n",
       "2    4  Duplo, Quatro and Primo\n",
       "3    5           Bricks Special\n",
       "4    6            Bricks Wedged\n",
       "..  ..                      ...\n",
       "61  64      Minidoll Lower Body\n",
       "62  65         Minifig Headwear\n",
       "63  66                  Modulex\n",
       "64  67   Tiles Round and Curved\n",
       "65  68  Projectiles / Launchers\n",
       "\n",
       "[66 rows x 2 columns]"
      ]
     },
     "execution_count": 10,
     "metadata": {},
     "output_type": "execute_result"
    }
   ],
   "source": [
    "part_categories\n"
   ]
  },
  {
   "cell_type": "code",
   "execution_count": 11,
   "metadata": {
    "colab": {
     "base_uri": "https://localhost:8080/",
     "height": 424
    },
    "id": "LUCsNyM_lX6F",
    "outputId": "c2ed00df-a292-4f0d-850d-0ed2cf58c635"
   },
   "outputs": [
    {
     "data": {
      "text/html": [
       "<div>\n",
       "<style scoped>\n",
       "    .dataframe tbody tr th:only-of-type {\n",
       "        vertical-align: middle;\n",
       "    }\n",
       "\n",
       "    .dataframe tbody tr th {\n",
       "        vertical-align: top;\n",
       "    }\n",
       "\n",
       "    .dataframe thead th {\n",
       "        text-align: right;\n",
       "    }\n",
       "</style>\n",
       "<table border=\"1\" class=\"dataframe\">\n",
       "  <thead>\n",
       "    <tr style=\"text-align: right;\">\n",
       "      <th></th>\n",
       "      <th>part_num</th>\n",
       "      <th>name</th>\n",
       "      <th>part_cat_id</th>\n",
       "      <th>part_material</th>\n",
       "    </tr>\n",
       "  </thead>\n",
       "  <tbody>\n",
       "    <tr>\n",
       "      <th>0</th>\n",
       "      <td>003381</td>\n",
       "      <td>Sticker Sheet for Set 663-1</td>\n",
       "      <td>58</td>\n",
       "      <td>Plastic</td>\n",
       "    </tr>\n",
       "    <tr>\n",
       "      <th>1</th>\n",
       "      <td>003383</td>\n",
       "      <td>Sticker Sheet for Sets 618-1, 628-2</td>\n",
       "      <td>58</td>\n",
       "      <td>Plastic</td>\n",
       "    </tr>\n",
       "    <tr>\n",
       "      <th>2</th>\n",
       "      <td>003402</td>\n",
       "      <td>Sticker Sheet for Sets 310-3, 311-1, 312-3</td>\n",
       "      <td>58</td>\n",
       "      <td>Plastic</td>\n",
       "    </tr>\n",
       "    <tr>\n",
       "      <th>3</th>\n",
       "      <td>003429</td>\n",
       "      <td>Sticker Sheet for Set 1550-1</td>\n",
       "      <td>58</td>\n",
       "      <td>Plastic</td>\n",
       "    </tr>\n",
       "    <tr>\n",
       "      <th>4</th>\n",
       "      <td>003432</td>\n",
       "      <td>Sticker Sheet for Sets 357-1, 355-1, 940-1</td>\n",
       "      <td>58</td>\n",
       "      <td>Plastic</td>\n",
       "    </tr>\n",
       "    <tr>\n",
       "      <th>...</th>\n",
       "      <td>...</td>\n",
       "      <td>...</td>\n",
       "      <td>...</td>\n",
       "      <td>...</td>\n",
       "    </tr>\n",
       "    <tr>\n",
       "      <th>44776</th>\n",
       "      <td>znapupn0002</td>\n",
       "      <td>Znap Connector 3 x 3 - 4 way B (Beam)</td>\n",
       "      <td>43</td>\n",
       "      <td>Plastic</td>\n",
       "    </tr>\n",
       "    <tr>\n",
       "      <th>44777</th>\n",
       "      <td>znapupn0003</td>\n",
       "      <td>Znap Connector 1 x 3 - 2 way A</td>\n",
       "      <td>43</td>\n",
       "      <td>Plastic</td>\n",
       "    </tr>\n",
       "    <tr>\n",
       "      <th>44778</th>\n",
       "      <td>znapupn0004</td>\n",
       "      <td>Znap Beam 3, 1 Hole</td>\n",
       "      <td>43</td>\n",
       "      <td>Plastic</td>\n",
       "    </tr>\n",
       "    <tr>\n",
       "      <th>44779</th>\n",
       "      <td>znapupn0005</td>\n",
       "      <td>Znap Connector 3 x 3 - 4 way C (Closed)</td>\n",
       "      <td>43</td>\n",
       "      <td>Plastic</td>\n",
       "    </tr>\n",
       "    <tr>\n",
       "      <th>44780</th>\n",
       "      <td>znapupn0006</td>\n",
       "      <td>Wheel 68mm Znap Propeller (9 x 2)</td>\n",
       "      <td>29</td>\n",
       "      <td>Plastic</td>\n",
       "    </tr>\n",
       "  </tbody>\n",
       "</table>\n",
       "<p>44781 rows × 4 columns</p>\n",
       "</div>"
      ],
      "text/plain": [
       "          part_num                                        name  part_cat_id  \\\n",
       "0           003381                 Sticker Sheet for Set 663-1           58   \n",
       "1           003383         Sticker Sheet for Sets 618-1, 628-2           58   \n",
       "2           003402  Sticker Sheet for Sets 310-3, 311-1, 312-3           58   \n",
       "3           003429                Sticker Sheet for Set 1550-1           58   \n",
       "4           003432  Sticker Sheet for Sets 357-1, 355-1, 940-1           58   \n",
       "...            ...                                         ...          ...   \n",
       "44776  znapupn0002       Znap Connector 3 x 3 - 4 way B (Beam)           43   \n",
       "44777  znapupn0003              Znap Connector 1 x 3 - 2 way A           43   \n",
       "44778  znapupn0004                         Znap Beam 3, 1 Hole           43   \n",
       "44779  znapupn0005     Znap Connector 3 x 3 - 4 way C (Closed)           43   \n",
       "44780  znapupn0006           Wheel 68mm Znap Propeller (9 x 2)           29   \n",
       "\n",
       "      part_material  \n",
       "0           Plastic  \n",
       "1           Plastic  \n",
       "2           Plastic  \n",
       "3           Plastic  \n",
       "4           Plastic  \n",
       "...             ...  \n",
       "44776       Plastic  \n",
       "44777       Plastic  \n",
       "44778       Plastic  \n",
       "44779       Plastic  \n",
       "44780       Plastic  \n",
       "\n",
       "[44781 rows x 4 columns]"
      ]
     },
     "execution_count": 11,
     "metadata": {},
     "output_type": "execute_result"
    }
   ],
   "source": [
    "parts \n"
   ]
  },
  {
   "cell_type": "code",
   "execution_count": 12,
   "metadata": {
    "colab": {
     "base_uri": "https://localhost:8080/",
     "height": 424
    },
    "id": "I0D6V5SMlX8r",
    "outputId": "60cb959e-b5fc-4e9b-c911-dcdc8a79f01a"
   },
   "outputs": [
    {
     "data": {
      "text/html": [
       "<div>\n",
       "<style scoped>\n",
       "    .dataframe tbody tr th:only-of-type {\n",
       "        vertical-align: middle;\n",
       "    }\n",
       "\n",
       "    .dataframe tbody tr th {\n",
       "        vertical-align: top;\n",
       "    }\n",
       "\n",
       "    .dataframe thead th {\n",
       "        text-align: right;\n",
       "    }\n",
       "</style>\n",
       "<table border=\"1\" class=\"dataframe\">\n",
       "  <thead>\n",
       "    <tr style=\"text-align: right;\">\n",
       "      <th></th>\n",
       "      <th>id</th>\n",
       "      <th>name</th>\n",
       "      <th>rgb</th>\n",
       "      <th>is_trans</th>\n",
       "    </tr>\n",
       "  </thead>\n",
       "  <tbody>\n",
       "    <tr>\n",
       "      <th>0</th>\n",
       "      <td>-1</td>\n",
       "      <td>[Unknown]</td>\n",
       "      <td>0033B2</td>\n",
       "      <td>f</td>\n",
       "    </tr>\n",
       "    <tr>\n",
       "      <th>1</th>\n",
       "      <td>0</td>\n",
       "      <td>Black</td>\n",
       "      <td>05131D</td>\n",
       "      <td>f</td>\n",
       "    </tr>\n",
       "    <tr>\n",
       "      <th>2</th>\n",
       "      <td>1</td>\n",
       "      <td>Blue</td>\n",
       "      <td>0055BF</td>\n",
       "      <td>f</td>\n",
       "    </tr>\n",
       "    <tr>\n",
       "      <th>3</th>\n",
       "      <td>2</td>\n",
       "      <td>Green</td>\n",
       "      <td>237841</td>\n",
       "      <td>f</td>\n",
       "    </tr>\n",
       "    <tr>\n",
       "      <th>4</th>\n",
       "      <td>3</td>\n",
       "      <td>Dark Turquoise</td>\n",
       "      <td>008F9B</td>\n",
       "      <td>f</td>\n",
       "    </tr>\n",
       "    <tr>\n",
       "      <th>...</th>\n",
       "      <td>...</td>\n",
       "      <td>...</td>\n",
       "      <td>...</td>\n",
       "      <td>...</td>\n",
       "    </tr>\n",
       "    <tr>\n",
       "      <th>185</th>\n",
       "      <td>1059</td>\n",
       "      <td>Trans-Purple Opal</td>\n",
       "      <td>8320B7</td>\n",
       "      <td>t</td>\n",
       "    </tr>\n",
       "    <tr>\n",
       "      <th>186</th>\n",
       "      <td>1060</td>\n",
       "      <td>Trans-Green Opal</td>\n",
       "      <td>84B68D</td>\n",
       "      <td>t</td>\n",
       "    </tr>\n",
       "    <tr>\n",
       "      <th>187</th>\n",
       "      <td>1061</td>\n",
       "      <td>Trans-Dark Blue Opal</td>\n",
       "      <td>0020A0</td>\n",
       "      <td>t</td>\n",
       "    </tr>\n",
       "    <tr>\n",
       "      <th>188</th>\n",
       "      <td>1062</td>\n",
       "      <td>Vibrant Yellow</td>\n",
       "      <td>EBD800</td>\n",
       "      <td>f</td>\n",
       "    </tr>\n",
       "    <tr>\n",
       "      <th>189</th>\n",
       "      <td>9999</td>\n",
       "      <td>[No Color/Any Color]</td>\n",
       "      <td>05131D</td>\n",
       "      <td>f</td>\n",
       "    </tr>\n",
       "  </tbody>\n",
       "</table>\n",
       "<p>190 rows × 4 columns</p>\n",
       "</div>"
      ],
      "text/plain": [
       "       id                  name     rgb is_trans\n",
       "0      -1             [Unknown]  0033B2        f\n",
       "1       0                 Black  05131D        f\n",
       "2       1                  Blue  0055BF        f\n",
       "3       2                 Green  237841        f\n",
       "4       3        Dark Turquoise  008F9B        f\n",
       "..    ...                   ...     ...      ...\n",
       "185  1059     Trans-Purple Opal  8320B7        t\n",
       "186  1060      Trans-Green Opal  84B68D        t\n",
       "187  1061  Trans-Dark Blue Opal  0020A0        t\n",
       "188  1062        Vibrant Yellow  EBD800        f\n",
       "189  9999  [No Color/Any Color]  05131D        f\n",
       "\n",
       "[190 rows x 4 columns]"
      ]
     },
     "execution_count": 12,
     "metadata": {},
     "output_type": "execute_result"
    }
   ],
   "source": [
    "colors \n"
   ]
  },
  {
   "cell_type": "code",
   "execution_count": 13,
   "metadata": {
    "colab": {
     "base_uri": "https://localhost:8080/",
     "height": 424
    },
    "id": "Qyf3yCI3lX-8",
    "outputId": "7ca4385c-6a9f-4c4a-fae8-a3fda8a966ec"
   },
   "outputs": [
    {
     "data": {
      "text/html": [
       "<div>\n",
       "<style scoped>\n",
       "    .dataframe tbody tr th:only-of-type {\n",
       "        vertical-align: middle;\n",
       "    }\n",
       "\n",
       "    .dataframe tbody tr th {\n",
       "        vertical-align: top;\n",
       "    }\n",
       "\n",
       "    .dataframe thead th {\n",
       "        text-align: right;\n",
       "    }\n",
       "</style>\n",
       "<table border=\"1\" class=\"dataframe\">\n",
       "  <thead>\n",
       "    <tr style=\"text-align: right;\">\n",
       "      <th></th>\n",
       "      <th>rel_type</th>\n",
       "      <th>child_part_num</th>\n",
       "      <th>parent_part_num</th>\n",
       "    </tr>\n",
       "  </thead>\n",
       "  <tbody>\n",
       "    <tr>\n",
       "      <th>0</th>\n",
       "      <td>P</td>\n",
       "      <td>87079pr9974</td>\n",
       "      <td>87079</td>\n",
       "    </tr>\n",
       "    <tr>\n",
       "      <th>1</th>\n",
       "      <td>P</td>\n",
       "      <td>3960pr9971</td>\n",
       "      <td>3960</td>\n",
       "    </tr>\n",
       "    <tr>\n",
       "      <th>2</th>\n",
       "      <td>R</td>\n",
       "      <td>98653pr0003</td>\n",
       "      <td>98086pr0003</td>\n",
       "    </tr>\n",
       "    <tr>\n",
       "      <th>3</th>\n",
       "      <td>R</td>\n",
       "      <td>98653pr0003</td>\n",
       "      <td>98088pat0003</td>\n",
       "    </tr>\n",
       "    <tr>\n",
       "      <th>4</th>\n",
       "      <td>R</td>\n",
       "      <td>98653pr0003</td>\n",
       "      <td>98089pat0003</td>\n",
       "    </tr>\n",
       "    <tr>\n",
       "      <th>...</th>\n",
       "      <td>...</td>\n",
       "      <td>...</td>\n",
       "      <td>...</td>\n",
       "    </tr>\n",
       "    <tr>\n",
       "      <th>24503</th>\n",
       "      <td>P</td>\n",
       "      <td>98138pr0284</td>\n",
       "      <td>98138</td>\n",
       "    </tr>\n",
       "    <tr>\n",
       "      <th>24504</th>\n",
       "      <td>B</td>\n",
       "      <td>98138pr0284</td>\n",
       "      <td>83079</td>\n",
       "    </tr>\n",
       "    <tr>\n",
       "      <th>24505</th>\n",
       "      <td>P</td>\n",
       "      <td>11203pr9998</td>\n",
       "      <td>11203</td>\n",
       "    </tr>\n",
       "    <tr>\n",
       "      <th>24506</th>\n",
       "      <td>P</td>\n",
       "      <td>98138pr0285</td>\n",
       "      <td>98138</td>\n",
       "    </tr>\n",
       "    <tr>\n",
       "      <th>24507</th>\n",
       "      <td>B</td>\n",
       "      <td>98138pr0285</td>\n",
       "      <td>83079</td>\n",
       "    </tr>\n",
       "  </tbody>\n",
       "</table>\n",
       "<p>24508 rows × 3 columns</p>\n",
       "</div>"
      ],
      "text/plain": [
       "      rel_type child_part_num parent_part_num\n",
       "0            P    87079pr9974           87079\n",
       "1            P     3960pr9971            3960\n",
       "2            R    98653pr0003     98086pr0003\n",
       "3            R    98653pr0003    98088pat0003\n",
       "4            R    98653pr0003    98089pat0003\n",
       "...        ...            ...             ...\n",
       "24503        P    98138pr0284           98138\n",
       "24504        B    98138pr0284           83079\n",
       "24505        P    11203pr9998           11203\n",
       "24506        P    98138pr0285           98138\n",
       "24507        B    98138pr0285           83079\n",
       "\n",
       "[24508 rows x 3 columns]"
      ]
     },
     "execution_count": 13,
     "metadata": {},
     "output_type": "execute_result"
    }
   ],
   "source": [
    "part_relationships \n"
   ]
  },
  {
   "cell_type": "code",
   "execution_count": 14,
   "metadata": {
    "colab": {
     "base_uri": "https://localhost:8080/",
     "height": 424
    },
    "id": "pI9Dlk-clh66",
    "outputId": "3d5207fc-118d-46f5-d09d-7870df186711"
   },
   "outputs": [
    {
     "data": {
      "text/html": [
       "<div>\n",
       "<style scoped>\n",
       "    .dataframe tbody tr th:only-of-type {\n",
       "        vertical-align: middle;\n",
       "    }\n",
       "\n",
       "    .dataframe tbody tr th {\n",
       "        vertical-align: top;\n",
       "    }\n",
       "\n",
       "    .dataframe thead th {\n",
       "        text-align: right;\n",
       "    }\n",
       "</style>\n",
       "<table border=\"1\" class=\"dataframe\">\n",
       "  <thead>\n",
       "    <tr style=\"text-align: right;\">\n",
       "      <th></th>\n",
       "      <th>element_id</th>\n",
       "      <th>part_num</th>\n",
       "      <th>color_id</th>\n",
       "    </tr>\n",
       "  </thead>\n",
       "  <tbody>\n",
       "    <tr>\n",
       "      <th>0</th>\n",
       "      <td>6300211</td>\n",
       "      <td>67906c01</td>\n",
       "      <td>14</td>\n",
       "    </tr>\n",
       "    <tr>\n",
       "      <th>1</th>\n",
       "      <td>4566309</td>\n",
       "      <td>2564</td>\n",
       "      <td>0</td>\n",
       "    </tr>\n",
       "    <tr>\n",
       "      <th>2</th>\n",
       "      <td>4275423</td>\n",
       "      <td>53657</td>\n",
       "      <td>1004</td>\n",
       "    </tr>\n",
       "    <tr>\n",
       "      <th>3</th>\n",
       "      <td>6194308</td>\n",
       "      <td>92926</td>\n",
       "      <td>71</td>\n",
       "    </tr>\n",
       "    <tr>\n",
       "      <th>4</th>\n",
       "      <td>6229123</td>\n",
       "      <td>26561</td>\n",
       "      <td>4</td>\n",
       "    </tr>\n",
       "    <tr>\n",
       "      <th>...</th>\n",
       "      <td>...</td>\n",
       "      <td>...</td>\n",
       "      <td>...</td>\n",
       "    </tr>\n",
       "    <tr>\n",
       "      <th>62679</th>\n",
       "      <td>6288007</td>\n",
       "      <td>66429</td>\n",
       "      <td>9999</td>\n",
       "    </tr>\n",
       "    <tr>\n",
       "      <th>62680</th>\n",
       "      <td>4622289</td>\n",
       "      <td>92755pr0001</td>\n",
       "      <td>72</td>\n",
       "    </tr>\n",
       "    <tr>\n",
       "      <th>62681</th>\n",
       "      <td>6375358</td>\n",
       "      <td>98138pr0283</td>\n",
       "      <td>297</td>\n",
       "    </tr>\n",
       "    <tr>\n",
       "      <th>62682</th>\n",
       "      <td>3894199</td>\n",
       "      <td>3894</td>\n",
       "      <td>72</td>\n",
       "    </tr>\n",
       "    <tr>\n",
       "      <th>62683</th>\n",
       "      <td>6380659</td>\n",
       "      <td>88293</td>\n",
       "      <td>297</td>\n",
       "    </tr>\n",
       "  </tbody>\n",
       "</table>\n",
       "<p>62684 rows × 3 columns</p>\n",
       "</div>"
      ],
      "text/plain": [
       "      element_id     part_num  color_id\n",
       "0        6300211     67906c01        14\n",
       "1        4566309         2564         0\n",
       "2        4275423        53657      1004\n",
       "3        6194308        92926        71\n",
       "4        6229123        26561         4\n",
       "...          ...          ...       ...\n",
       "62679    6288007        66429      9999\n",
       "62680    4622289  92755pr0001        72\n",
       "62681    6375358  98138pr0283       297\n",
       "62682    3894199         3894        72\n",
       "62683    6380659        88293       297\n",
       "\n",
       "[62684 rows x 3 columns]"
      ]
     },
     "execution_count": 14,
     "metadata": {},
     "output_type": "execute_result"
    }
   ],
   "source": [
    "elements"
   ]
  },
  {
   "cell_type": "markdown",
   "metadata": {
    "id": "e-KJGftcjykL"
   },
   "source": [
    "## Assignment\n",
    "\n",
    "Answer all the questions below using the available data.  There are multiple ways to get some of the answers.  I would suggest that you attempt to merge some data sets as needed to assist with getting answers.  This will make your tasks a lot easier and your code will be cleaner.\n",
    "\n",
    "Also, you will be creating functions to get the answers to some of these questions.  This will make it much easier for you to get answers to similar questions in the future and CodeGrade will be checking your functions using different inputs.  "
   ]
  },
  {
   "cell_type": "markdown",
   "metadata": {
    "id": "zdaU-jGjjykL"
   },
   "source": [
    "**Q1:** Create a function called `data_count` that takes as input the data set (for example: `sets`) and returns the total number of rows in the data (as an integer).  Nothing else should be returned."
   ]
  },
  {
   "cell_type": "code",
   "execution_count": 15,
   "metadata": {
    "id": "XVAOj15ajykL"
   },
   "outputs": [],
   "source": [
    "### ENTER CODE HERE ###\n",
    "def data_count(df):\n",
    "  return len(df.index)"
   ]
  },
  {
   "cell_type": "markdown",
   "metadata": {
    "id": "4pqatHPqjykL"
   },
   "source": [
    "**Code Check:**  If you call your `data_count` function using the `sets` DataFrame, you should see that there are 18,576 sets represented in the data."
   ]
  },
  {
   "cell_type": "code",
   "execution_count": 16,
   "metadata": {
    "colab": {
     "base_uri": "https://localhost:8080/"
    },
    "id": "B00izVyajykM",
    "outputId": "8c942f63-4720-467b-d15a-4f1ebb82dfac"
   },
   "outputs": [
    {
     "data": {
      "text/plain": [
       "18576"
      ]
     },
     "execution_count": 16,
     "metadata": {},
     "output_type": "execute_result"
    }
   ],
   "source": [
    "### CODE CHECK ###\n",
    "data_count(sets)\n"
   ]
  },
  {
   "cell_type": "markdown",
   "metadata": {
    "id": "IzrOg951jykM"
   },
   "source": [
    "**Q2:** What is the average number of parts for a Lego set (rounded to the nearest integer)?  Save this as `Q2`."
   ]
  },
  {
   "cell_type": "code",
   "execution_count": 17,
   "metadata": {
    "colab": {
     "base_uri": "https://localhost:8080/"
    },
    "id": "veM7NQAujykM",
    "outputId": "f7d53153-d82a-4437-b214-836172cdb796"
   },
   "outputs": [
    {
     "data": {
      "text/plain": [
       "161"
      ]
     },
     "execution_count": 17,
     "metadata": {},
     "output_type": "execute_result"
    }
   ],
   "source": [
    "### ENTER CODE HERE ###\n",
    "Q2 = round(sets['num_parts'].mean())\n",
    "Q2"
   ]
  },
  {
   "cell_type": "markdown",
   "metadata": {
    "id": "WHrvRPifjykM"
   },
   "source": [
    "**Q3:** What is the median number of parts per set (output as an integer)?  Save this as `Q3`."
   ]
  },
  {
   "cell_type": "code",
   "execution_count": 18,
   "metadata": {
    "colab": {
     "base_uri": "https://localhost:8080/"
    },
    "id": "BCGJ4AaLjykN",
    "outputId": "65c0b546-78d7-4833-c85a-73bc5cb7c2f8"
   },
   "outputs": [
    {
     "data": {
      "text/plain": [
       "37"
      ]
     },
     "execution_count": 18,
     "metadata": {},
     "output_type": "execute_result"
    }
   ],
   "source": [
    "### ENTER CODE HERE ###\n",
    "Q3 = round(sets['num_parts'].median())\n",
    "Q3"
   ]
  },
  {
   "cell_type": "markdown",
   "metadata": {
    "id": "X0gWII0IjykN"
   },
   "source": [
    "You should see that the median number of parts is much lower than the average number of parts per set.  This tells us that there are some Lego sets with a very high number of parts that brings the average up."
   ]
  },
  {
   "cell_type": "markdown",
   "metadata": {
    "id": "lzY6W3sUjykN"
   },
   "source": [
    "**Q4:** What is the largest number of parts that a set has? Save this as `Q4`."
   ]
  },
  {
   "cell_type": "code",
   "execution_count": 19,
   "metadata": {
    "colab": {
     "base_uri": "https://localhost:8080/"
    },
    "id": "RWj7Zdc6jykN",
    "outputId": "2abcb3a2-dd29-4933-c8fa-1638077ad48b"
   },
   "outputs": [
    {
     "data": {
      "text/plain": [
       "11695"
      ]
     },
     "execution_count": 19,
     "metadata": {},
     "output_type": "execute_result"
    }
   ],
   "source": [
    "### ENTER CODE HERE ###\n",
    "Q4 = round(sets['num_parts'].max())\n",
    "Q4"
   ]
  },
  {
   "cell_type": "markdown",
   "metadata": {
    "id": "dIq_cP7djykN"
   },
   "source": [
    "**Q5:** Given the set with the largest number of parts calculated above, select its row from the `sets` DataFrame.  Save this as `Q5`.  Do not reset the index."
   ]
  },
  {
   "cell_type": "code",
   "execution_count": 20,
   "metadata": {
    "colab": {
     "base_uri": "https://localhost:8080/",
     "height": 81
    },
    "id": "58Wkj8kQjykO",
    "outputId": "51263921-742c-4590-e01c-2f97d8c714e5"
   },
   "outputs": [
    {
     "data": {
      "text/html": [
       "<div>\n",
       "<style scoped>\n",
       "    .dataframe tbody tr th:only-of-type {\n",
       "        vertical-align: middle;\n",
       "    }\n",
       "\n",
       "    .dataframe tbody tr th {\n",
       "        vertical-align: top;\n",
       "    }\n",
       "\n",
       "    .dataframe thead th {\n",
       "        text-align: right;\n",
       "    }\n",
       "</style>\n",
       "<table border=\"1\" class=\"dataframe\">\n",
       "  <thead>\n",
       "    <tr style=\"text-align: right;\">\n",
       "      <th></th>\n",
       "      <th>set_num</th>\n",
       "      <th>name</th>\n",
       "      <th>year</th>\n",
       "      <th>theme_id</th>\n",
       "      <th>num_parts</th>\n",
       "    </tr>\n",
       "  </thead>\n",
       "  <tbody>\n",
       "    <tr>\n",
       "      <th>3867</th>\n",
       "      <td>31203-1</td>\n",
       "      <td>World Map</td>\n",
       "      <td>2021</td>\n",
       "      <td>709</td>\n",
       "      <td>11695</td>\n",
       "    </tr>\n",
       "  </tbody>\n",
       "</table>\n",
       "</div>"
      ],
      "text/plain": [
       "      set_num       name  year  theme_id  num_parts\n",
       "3867  31203-1  World Map  2021       709      11695"
      ]
     },
     "execution_count": 20,
     "metadata": {},
     "output_type": "execute_result"
    }
   ],
   "source": [
    "### ENTER CODE HERE ###\n",
    "Q5 = sets[sets['num_parts']==Q4]\n",
    "Q5"
   ]
  },
  {
   "cell_type": "markdown",
   "metadata": {
    "id": "CG06FVy9jykO"
   },
   "source": [
    "**Q6:** Create a function called `select_set_row` where you pass it the `set_num` (as a string) and the function returns the respective row of the DataFrame from `sets`. Do not reset the index."
   ]
  },
  {
   "cell_type": "code",
   "execution_count": 21,
   "metadata": {
    "colab": {
     "base_uri": "https://localhost:8080/",
     "height": 81
    },
    "id": "MBKHNKs3jykO",
    "outputId": "fbd847dd-c2ef-4664-c4e6-d88e4ed37435"
   },
   "outputs": [
    {
     "data": {
      "text/html": [
       "<div>\n",
       "<style scoped>\n",
       "    .dataframe tbody tr th:only-of-type {\n",
       "        vertical-align: middle;\n",
       "    }\n",
       "\n",
       "    .dataframe tbody tr th {\n",
       "        vertical-align: top;\n",
       "    }\n",
       "\n",
       "    .dataframe thead th {\n",
       "        text-align: right;\n",
       "    }\n",
       "</style>\n",
       "<table border=\"1\" class=\"dataframe\">\n",
       "  <thead>\n",
       "    <tr style=\"text-align: right;\">\n",
       "      <th></th>\n",
       "      <th>set_num</th>\n",
       "      <th>name</th>\n",
       "      <th>year</th>\n",
       "      <th>theme_id</th>\n",
       "      <th>num_parts</th>\n",
       "    </tr>\n",
       "  </thead>\n",
       "  <tbody>\n",
       "    <tr>\n",
       "      <th>3</th>\n",
       "      <td>0012-1</td>\n",
       "      <td>Space Mini-Figures</td>\n",
       "      <td>1979</td>\n",
       "      <td>143</td>\n",
       "      <td>12</td>\n",
       "    </tr>\n",
       "  </tbody>\n",
       "</table>\n",
       "</div>"
      ],
      "text/plain": [
       "  set_num                name  year  theme_id  num_parts\n",
       "3  0012-1  Space Mini-Figures  1979       143         12"
      ]
     },
     "execution_count": 21,
     "metadata": {},
     "output_type": "execute_result"
    }
   ],
   "source": [
    "### ENTER CODE HERE ###\n",
    "def select_set_row(set_num):\n",
    "  return sets[sets['set_num']==set_num]\n",
    "\n",
    "select_set_row('0012-1')"
   ]
  },
  {
   "cell_type": "markdown",
   "metadata": {
    "id": "WRjKuyHGjykO"
   },
   "source": [
    "**Q7:** Create a function called `select_set_numparts` that takes as input a specific number of parts (as an integer) and selects all the rows in the `sets` DataFrame that contain those number of parts.  Return the DataFrame sorted by `year` and then by `set_num`.  Do not reset the index."
   ]
  },
  {
   "cell_type": "code",
   "execution_count": 22,
   "metadata": {
    "id": "2OJ8hXzGjykO"
   },
   "outputs": [],
   "source": [
    "### ENTER CODE HERE ###\n",
    "def select_set_numparts(num):\n",
    "  return sets[sets['num_parts']==num].sort_values(by=['year','set_num'])\n",
    "\n"
   ]
  },
  {
   "cell_type": "markdown",
   "metadata": {
    "id": "VemNPufZjykO"
   },
   "source": [
    "**Code Check:** Call the `select_set_numparts()` function to select all sets with `0` number of parts.  There should be 3,146 rows returned."
   ]
  },
  {
   "cell_type": "code",
   "execution_count": 23,
   "metadata": {
    "colab": {
     "base_uri": "https://localhost:8080/",
     "height": 424
    },
    "id": "1J8R9hjNjykP",
    "outputId": "57a93729-eed1-4076-8cff-f82d4b54b940"
   },
   "outputs": [
    {
     "data": {
      "text/html": [
       "<div>\n",
       "<style scoped>\n",
       "    .dataframe tbody tr th:only-of-type {\n",
       "        vertical-align: middle;\n",
       "    }\n",
       "\n",
       "    .dataframe tbody tr th {\n",
       "        vertical-align: top;\n",
       "    }\n",
       "\n",
       "    .dataframe thead th {\n",
       "        text-align: right;\n",
       "    }\n",
       "</style>\n",
       "<table border=\"1\" class=\"dataframe\">\n",
       "  <thead>\n",
       "    <tr style=\"text-align: right;\">\n",
       "      <th></th>\n",
       "      <th>set_num</th>\n",
       "      <th>name</th>\n",
       "      <th>year</th>\n",
       "      <th>theme_id</th>\n",
       "      <th>num_parts</th>\n",
       "    </tr>\n",
       "  </thead>\n",
       "  <tbody>\n",
       "    <tr>\n",
       "      <th>11061</th>\n",
       "      <td>700.1-2</td>\n",
       "      <td>Extra-Large Gift Set (Mursten)</td>\n",
       "      <td>1953</td>\n",
       "      <td>366</td>\n",
       "      <td>0</td>\n",
       "    </tr>\n",
       "    <tr>\n",
       "      <th>17563</th>\n",
       "      <td>b55dk-01</td>\n",
       "      <td>Lego Mursten - System i Leg Byggebog</td>\n",
       "      <td>1955</td>\n",
       "      <td>497</td>\n",
       "      <td>0</td>\n",
       "    </tr>\n",
       "    <tr>\n",
       "      <th>17564</th>\n",
       "      <td>b56de-01</td>\n",
       "      <td>System im Spiel</td>\n",
       "      <td>1956</td>\n",
       "      <td>497</td>\n",
       "      <td>0</td>\n",
       "    </tr>\n",
       "    <tr>\n",
       "      <th>11072</th>\n",
       "      <td>700.2-2</td>\n",
       "      <td>Gift Package</td>\n",
       "      <td>1957</td>\n",
       "      <td>366</td>\n",
       "      <td>0</td>\n",
       "    </tr>\n",
       "    <tr>\n",
       "      <th>11078</th>\n",
       "      <td>700.3A-2</td>\n",
       "      <td>Gift Package</td>\n",
       "      <td>1957</td>\n",
       "      <td>372</td>\n",
       "      <td>0</td>\n",
       "    </tr>\n",
       "    <tr>\n",
       "      <th>...</th>\n",
       "      <td>...</td>\n",
       "      <td>...</td>\n",
       "      <td>...</td>\n",
       "      <td>...</td>\n",
       "      <td>...</td>\n",
       "    </tr>\n",
       "    <tr>\n",
       "      <th>15619</th>\n",
       "      <td>854195-1</td>\n",
       "      <td>Ernie Key Chain</td>\n",
       "      <td>2022</td>\n",
       "      <td>503</td>\n",
       "      <td>0</td>\n",
       "    </tr>\n",
       "    <tr>\n",
       "      <th>15620</th>\n",
       "      <td>854197-1</td>\n",
       "      <td>Demogorgon Key Chain</td>\n",
       "      <td>2022</td>\n",
       "      <td>503</td>\n",
       "      <td>0</td>\n",
       "    </tr>\n",
       "    <tr>\n",
       "      <th>17170</th>\n",
       "      <td>9780744054583-1</td>\n",
       "      <td>DC Comics Super Heroes: Character Encyclopedia...</td>\n",
       "      <td>2022</td>\n",
       "      <td>497</td>\n",
       "      <td>0</td>\n",
       "    </tr>\n",
       "    <tr>\n",
       "      <th>17193</th>\n",
       "      <td>9780794447557-1</td>\n",
       "      <td>City: Color The City</td>\n",
       "      <td>2022</td>\n",
       "      <td>497</td>\n",
       "      <td>0</td>\n",
       "    </tr>\n",
       "    <tr>\n",
       "      <th>17200</th>\n",
       "      <td>9780794448172-1</td>\n",
       "      <td>DC Comics Super Heroes: Ready For Action</td>\n",
       "      <td>2022</td>\n",
       "      <td>497</td>\n",
       "      <td>0</td>\n",
       "    </tr>\n",
       "  </tbody>\n",
       "</table>\n",
       "<p>3146 rows × 5 columns</p>\n",
       "</div>"
      ],
      "text/plain": [
       "               set_num                                               name  \\\n",
       "11061          700.1-2                     Extra-Large Gift Set (Mursten)   \n",
       "17563         b55dk-01               Lego Mursten - System i Leg Byggebog   \n",
       "17564         b56de-01                                    System im Spiel   \n",
       "11072          700.2-2                                       Gift Package   \n",
       "11078         700.3A-2                                       Gift Package   \n",
       "...                ...                                                ...   \n",
       "15619         854195-1                                    Ernie Key Chain   \n",
       "15620         854197-1                               Demogorgon Key Chain   \n",
       "17170  9780744054583-1  DC Comics Super Heroes: Character Encyclopedia...   \n",
       "17193  9780794447557-1                               City: Color The City   \n",
       "17200  9780794448172-1           DC Comics Super Heroes: Ready For Action   \n",
       "\n",
       "       year  theme_id  num_parts  \n",
       "11061  1953       366          0  \n",
       "17563  1955       497          0  \n",
       "17564  1956       497          0  \n",
       "11072  1957       366          0  \n",
       "11078  1957       372          0  \n",
       "...     ...       ...        ...  \n",
       "15619  2022       503          0  \n",
       "15620  2022       503          0  \n",
       "17170  2022       497          0  \n",
       "17193  2022       497          0  \n",
       "17200  2022       497          0  \n",
       "\n",
       "[3146 rows x 5 columns]"
      ]
     },
     "execution_count": 23,
     "metadata": {},
     "output_type": "execute_result"
    }
   ],
   "source": [
    "### CODE CHECK ###\n",
    "select_set_numparts(0)"
   ]
  },
  {
   "cell_type": "markdown",
   "metadata": {
    "id": "TULgJIjsjykP"
   },
   "source": [
    "**Q8:** \n",
    "- The oldest set listed was made in what year?  Save the year as `Q8A` (as an integer).  \n",
    "- The newest set listed was made in what year? Save the year as `Q8B` (as an integer)."
   ]
  },
  {
   "cell_type": "code",
   "execution_count": 24,
   "metadata": {
    "colab": {
     "base_uri": "https://localhost:8080/"
    },
    "id": "BeeMcqokjykP",
    "outputId": "25b77012-882c-4243-a0ac-5ce36d62dc34"
   },
   "outputs": [
    {
     "data": {
      "text/plain": [
       "1949"
      ]
     },
     "execution_count": 24,
     "metadata": {},
     "output_type": "execute_result"
    }
   ],
   "source": [
    "### ENTER CODE HERE ###\n",
    "Q8A = sets['year'].min()\n",
    "Q8A"
   ]
  },
  {
   "cell_type": "code",
   "execution_count": 25,
   "metadata": {
    "colab": {
     "base_uri": "https://localhost:8080/"
    },
    "id": "p-aicErnjykP",
    "outputId": "d48c4611-61cd-48d1-98b4-4d60b03c11dc"
   },
   "outputs": [
    {
     "data": {
      "text/plain": [
       "2022"
      ]
     },
     "execution_count": 25,
     "metadata": {},
     "output_type": "execute_result"
    }
   ],
   "source": [
    "### ENTER CODE HERE ###\n",
    "Q8B = sets['year'].max()\n",
    "Q8B"
   ]
  },
  {
   "cell_type": "markdown",
   "metadata": {
    "id": "13eg4-svjykP"
   },
   "source": [
    "**Q9:** \n",
    "- Create a function called `select_set_year` that takes as input a year (as an integer) and returns the rows from the `sets` DataFrame that matches that year.  Sort the DataFrame by `set_num`.  Do not reset the index.\n",
    "- Use the above function to return a DataFrame for rows that match the minimum year (calculated as `Q8A` above) and call this `Q9A`.  \n",
    "- Then use the above function to return a DataFrame for rows that match the maximum year (calculated as `Q8B` above) and call this `Q9B`."
   ]
  },
  {
   "cell_type": "code",
   "execution_count": 26,
   "metadata": {
    "id": "oGQFObEUjykP"
   },
   "outputs": [],
   "source": [
    "### ENTER CODE HERE ###\n",
    "def select_set_year(year):\n",
    "  return sets[sets['year']==year].sort_values(by='set_num')"
   ]
  },
  {
   "cell_type": "code",
   "execution_count": 27,
   "metadata": {
    "colab": {
     "base_uri": "https://localhost:8080/",
     "height": 206
    },
    "id": "iKt7QyV_jykP",
    "outputId": "40ed8408-f62c-46f7-d021-f9e98c3779b9"
   },
   "outputs": [
    {
     "data": {
      "text/html": [
       "<div>\n",
       "<style scoped>\n",
       "    .dataframe tbody tr th:only-of-type {\n",
       "        vertical-align: middle;\n",
       "    }\n",
       "\n",
       "    .dataframe tbody tr th {\n",
       "        vertical-align: top;\n",
       "    }\n",
       "\n",
       "    .dataframe thead th {\n",
       "        text-align: right;\n",
       "    }\n",
       "</style>\n",
       "<table border=\"1\" class=\"dataframe\">\n",
       "  <thead>\n",
       "    <tr style=\"text-align: right;\">\n",
       "      <th></th>\n",
       "      <th>set_num</th>\n",
       "      <th>name</th>\n",
       "      <th>year</th>\n",
       "      <th>theme_id</th>\n",
       "      <th>num_parts</th>\n",
       "    </tr>\n",
       "  </thead>\n",
       "  <tbody>\n",
       "    <tr>\n",
       "      <th>11057</th>\n",
       "      <td>700.1-1</td>\n",
       "      <td>Extra-Large Gift Set (ABB)</td>\n",
       "      <td>1949</td>\n",
       "      <td>365</td>\n",
       "      <td>142</td>\n",
       "    </tr>\n",
       "    <tr>\n",
       "      <th>11070</th>\n",
       "      <td>700.2-1</td>\n",
       "      <td>Large Gift Set (ABB)</td>\n",
       "      <td>1949</td>\n",
       "      <td>365</td>\n",
       "      <td>178</td>\n",
       "    </tr>\n",
       "    <tr>\n",
       "      <th>11075</th>\n",
       "      <td>700.3-1</td>\n",
       "      <td>Medium Gift Set (ABB)</td>\n",
       "      <td>1949</td>\n",
       "      <td>365</td>\n",
       "      <td>142</td>\n",
       "    </tr>\n",
       "    <tr>\n",
       "      <th>11080</th>\n",
       "      <td>700.A-1</td>\n",
       "      <td>Small Brick Set (ABB)</td>\n",
       "      <td>1949</td>\n",
       "      <td>371</td>\n",
       "      <td>24</td>\n",
       "    </tr>\n",
       "    <tr>\n",
       "      <th>11081</th>\n",
       "      <td>700.B-1</td>\n",
       "      <td>Small Doors and Windows Set (ABB)</td>\n",
       "      <td>1949</td>\n",
       "      <td>371</td>\n",
       "      <td>12</td>\n",
       "    </tr>\n",
       "  </tbody>\n",
       "</table>\n",
       "</div>"
      ],
      "text/plain": [
       "       set_num                               name  year  theme_id  num_parts\n",
       "11057  700.1-1         Extra-Large Gift Set (ABB)  1949       365        142\n",
       "11070  700.2-1               Large Gift Set (ABB)  1949       365        178\n",
       "11075  700.3-1              Medium Gift Set (ABB)  1949       365        142\n",
       "11080  700.A-1              Small Brick Set (ABB)  1949       371         24\n",
       "11081  700.B-1  Small Doors and Windows Set (ABB)  1949       371         12"
      ]
     },
     "execution_count": 27,
     "metadata": {},
     "output_type": "execute_result"
    }
   ],
   "source": [
    "### ENTER CODE HERE ###\n",
    "Q9A = select_set_year(Q8A)\n",
    "Q9A "
   ]
  },
  {
   "cell_type": "code",
   "execution_count": 28,
   "metadata": {
    "colab": {
     "base_uri": "https://localhost:8080/",
     "height": 424
    },
    "id": "KMEdQSbljykP",
    "outputId": "ec1c2ce9-bc95-47d2-fb1a-562b5476f4d0"
   },
   "outputs": [
    {
     "data": {
      "text/html": [
       "<div>\n",
       "<style scoped>\n",
       "    .dataframe tbody tr th:only-of-type {\n",
       "        vertical-align: middle;\n",
       "    }\n",
       "\n",
       "    .dataframe tbody tr th {\n",
       "        vertical-align: top;\n",
       "    }\n",
       "\n",
       "    .dataframe thead th {\n",
       "        text-align: right;\n",
       "    }\n",
       "</style>\n",
       "<table border=\"1\" class=\"dataframe\">\n",
       "  <thead>\n",
       "    <tr style=\"text-align: right;\">\n",
       "      <th></th>\n",
       "      <th>set_num</th>\n",
       "      <th>name</th>\n",
       "      <th>year</th>\n",
       "      <th>theme_id</th>\n",
       "      <th>num_parts</th>\n",
       "    </tr>\n",
       "  </thead>\n",
       "  <tbody>\n",
       "    <tr>\n",
       "      <th>336</th>\n",
       "      <td>10297-1</td>\n",
       "      <td>Boutique Hotel</td>\n",
       "      <td>2022</td>\n",
       "      <td>155</td>\n",
       "      <td>3068</td>\n",
       "    </tr>\n",
       "    <tr>\n",
       "      <th>600</th>\n",
       "      <td>10781-1</td>\n",
       "      <td>Spider-Man’s Techno Trike</td>\n",
       "      <td>2022</td>\n",
       "      <td>706</td>\n",
       "      <td>59</td>\n",
       "    </tr>\n",
       "    <tr>\n",
       "      <th>601</th>\n",
       "      <td>10782-1</td>\n",
       "      <td>Hulk vs. Rhino Truck Showdown</td>\n",
       "      <td>2022</td>\n",
       "      <td>706</td>\n",
       "      <td>110</td>\n",
       "    </tr>\n",
       "    <tr>\n",
       "      <th>602</th>\n",
       "      <td>10783-1</td>\n",
       "      <td>Spider-Man at Doc Ock’s Lab</td>\n",
       "      <td>2022</td>\n",
       "      <td>706</td>\n",
       "      <td>131</td>\n",
       "    </tr>\n",
       "    <tr>\n",
       "      <th>603</th>\n",
       "      <td>10784-1</td>\n",
       "      <td>Spider-Man Webquarters Hangout</td>\n",
       "      <td>2022</td>\n",
       "      <td>706</td>\n",
       "      <td>155</td>\n",
       "    </tr>\n",
       "    <tr>\n",
       "      <th>...</th>\n",
       "      <td>...</td>\n",
       "      <td>...</td>\n",
       "      <td>...</td>\n",
       "      <td>...</td>\n",
       "      <td>...</td>\n",
       "    </tr>\n",
       "    <tr>\n",
       "      <th>17170</th>\n",
       "      <td>9780744054583-1</td>\n",
       "      <td>DC Comics Super Heroes: Character Encyclopedia...</td>\n",
       "      <td>2022</td>\n",
       "      <td>497</td>\n",
       "      <td>0</td>\n",
       "    </tr>\n",
       "    <tr>\n",
       "      <th>17193</th>\n",
       "      <td>9780794447557-1</td>\n",
       "      <td>City: Color The City</td>\n",
       "      <td>2022</td>\n",
       "      <td>497</td>\n",
       "      <td>0</td>\n",
       "    </tr>\n",
       "    <tr>\n",
       "      <th>17200</th>\n",
       "      <td>9780794448172-1</td>\n",
       "      <td>DC Comics Super Heroes: Ready For Action</td>\n",
       "      <td>2022</td>\n",
       "      <td>497</td>\n",
       "      <td>0</td>\n",
       "    </tr>\n",
       "    <tr>\n",
       "      <th>17207</th>\n",
       "      <td>9780794449247-1</td>\n",
       "      <td>DC Comics Super Heroes: Gotham City’s New Defe...</td>\n",
       "      <td>2022</td>\n",
       "      <td>497</td>\n",
       "      <td>7</td>\n",
       "    </tr>\n",
       "    <tr>\n",
       "      <th>17726</th>\n",
       "      <td>DOTS-SERIES-6</td>\n",
       "      <td>DOTS Collectible Tiles Series 6</td>\n",
       "      <td>2022</td>\n",
       "      <td>688</td>\n",
       "      <td>16</td>\n",
       "    </tr>\n",
       "  </tbody>\n",
       "</table>\n",
       "<p>183 rows × 5 columns</p>\n",
       "</div>"
      ],
      "text/plain": [
       "               set_num                                               name  \\\n",
       "336            10297-1                                     Boutique Hotel   \n",
       "600            10781-1                          Spider-Man’s Techno Trike   \n",
       "601            10782-1                      Hulk vs. Rhino Truck Showdown   \n",
       "602            10783-1                        Spider-Man at Doc Ock’s Lab   \n",
       "603            10784-1                     Spider-Man Webquarters Hangout   \n",
       "...                ...                                                ...   \n",
       "17170  9780744054583-1  DC Comics Super Heroes: Character Encyclopedia...   \n",
       "17193  9780794447557-1                               City: Color The City   \n",
       "17200  9780794448172-1           DC Comics Super Heroes: Ready For Action   \n",
       "17207  9780794449247-1  DC Comics Super Heroes: Gotham City’s New Defe...   \n",
       "17726    DOTS-SERIES-6                    DOTS Collectible Tiles Series 6   \n",
       "\n",
       "       year  theme_id  num_parts  \n",
       "336    2022       155       3068  \n",
       "600    2022       706         59  \n",
       "601    2022       706        110  \n",
       "602    2022       706        131  \n",
       "603    2022       706        155  \n",
       "...     ...       ...        ...  \n",
       "17170  2022       497          0  \n",
       "17193  2022       497          0  \n",
       "17200  2022       497          0  \n",
       "17207  2022       497          7  \n",
       "17726  2022       688         16  \n",
       "\n",
       "[183 rows x 5 columns]"
      ]
     },
     "execution_count": 28,
     "metadata": {},
     "output_type": "execute_result"
    }
   ],
   "source": [
    "### ENTER CODE HERE ###\n",
    "Q9B = select_set_year(Q8B)\n",
    "Q9B "
   ]
  },
  {
   "cell_type": "markdown",
   "metadata": {
    "id": "YV7dw6_VjykQ"
   },
   "source": [
    "**Q10:** What is the median year represented in the `sets` data?  Save this as `Q10` (as an integer)."
   ]
  },
  {
   "cell_type": "code",
   "execution_count": 29,
   "metadata": {
    "colab": {
     "base_uri": "https://localhost:8080/"
    },
    "id": "D1RqKlADjykQ",
    "outputId": "27f520f8-d408-46eb-fb55-5cbc2396aab4"
   },
   "outputs": [
    {
     "data": {
      "text/plain": [
       "2010"
      ]
     },
     "execution_count": 29,
     "metadata": {},
     "output_type": "execute_result"
    }
   ],
   "source": [
    "### ENTER CODE HERE ###\n",
    "Q10 = round(sets['year'].median())\n",
    "Q10"
   ]
  },
  {
   "cell_type": "markdown",
   "metadata": {
    "id": "waceefTajykQ"
   },
   "source": [
    "Notice that the first set was back in 1949 but over half of the sets were after the median year. This could be an indication that the number of sets has increased greatly over the past number of years."
   ]
  },
  {
   "cell_type": "markdown",
   "metadata": {
    "id": "xxKSYJAQjykQ"
   },
   "source": [
    "**Q11:** What is the average number of sets listed per year?  Save this as `Q11` (as an integer)."
   ]
  },
  {
   "cell_type": "code",
   "execution_count": 30,
   "metadata": {
    "colab": {
     "base_uri": "https://localhost:8080/"
    },
    "id": "VW66lUdrjykQ",
    "outputId": "e6d7e69f-8777-43aa-e960-7fb1d10f3307"
   },
   "outputs": [
    {
     "data": {
      "text/plain": [
       "258"
      ]
     },
     "execution_count": 30,
     "metadata": {},
     "output_type": "execute_result"
    }
   ],
   "source": [
    "### ENTER CODE HERE ###\n",
    "Q11 = round(sets.groupby('year')['set_num'].count().mean())\n",
    "Q11"
   ]
  },
  {
   "cell_type": "markdown",
   "metadata": {
    "id": "CL0T53VdjykQ"
   },
   "source": [
    "**Q12:** What year had the lowest total number of sets?  Save this year as `Q12` (as an integer)."
   ]
  },
  {
   "cell_type": "code",
   "execution_count": 31,
   "metadata": {
    "colab": {
     "base_uri": "https://localhost:8080/"
    },
    "id": "wNssKJoGjykQ",
    "outputId": "cb7e46dd-d4b5-4b0d-9d8b-d5b4d512ff68"
   },
   "outputs": [
    {
     "data": {
      "text/plain": [
       "1960"
      ]
     },
     "execution_count": 31,
     "metadata": {},
     "output_type": "execute_result"
    }
   ],
   "source": [
    "### ENTER CODE HERE ###\n",
    "Q12 = round(sets.groupby('year').size().sort_values().index[0])\n",
    "Q12"
   ]
  },
  {
   "cell_type": "markdown",
   "metadata": {
    "id": "5bta94qwjykR"
   },
   "source": [
    "**Q13:** What year had the highest total number of sets? Save this as `Q13` (as an integer)."
   ]
  },
  {
   "cell_type": "code",
   "execution_count": 32,
   "metadata": {
    "colab": {
     "base_uri": "https://localhost:8080/"
    },
    "id": "gv0H6Iv3jykR",
    "outputId": "27625b05-08db-4232-9f5d-23bde0628b42"
   },
   "outputs": [
    {
     "data": {
      "text/plain": [
       "2021"
      ]
     },
     "execution_count": 32,
     "metadata": {},
     "output_type": "execute_result"
    }
   ],
   "source": [
    "### ENTER CODE HERE ###\n",
    "Q13 = round(sets.groupby('year').size().sort_values(ascending=False).index[0])\n",
    "Q13"
   ]
  },
  {
   "cell_type": "markdown",
   "metadata": {
    "id": "LyqXooI9jykR"
   },
   "source": [
    "**Q14:** \n",
    "- Create a function called `theme_by_year` that takes as input a year (as an integer) and shows the theme ids and theme names (listed in order by theme id) that were in sets that year.  \n",
    "- The column names must be `id` and `name_themes` (to differentiate between the name of a theme and the name of a set) in that order.  \n",
    "- The index should be reset and go from `0` to `n-1`.  \n",
    "- Each theme should only be listed once even if it appeared in more than one set from that year -- duplicate themes should be based on theme id and not name since there are some themes with the same name but with a different id.\n",
    "- Hint:  It will help if you were to think about merging appropriate DataFrames to help you get this answer."
   ]
  },
  {
   "cell_type": "code",
   "execution_count": 33,
   "metadata": {
    "id": "l5N0ainPjykR"
   },
   "outputs": [],
   "source": [
    "### ENTER CODE HERE ###\n",
    "sets_with_theme = sets.merge(themes, left_on='theme_id', right_on='id', suffixes=('_sets','_themes'))\n",
    "def theme_by_year(year):\n",
    "  year_df = sets_with_theme[sets_with_theme['year']==year]\n",
    "  year_df = year_df[['id','name_themes']].drop_duplicates().sort_values(by='id').reset_index(drop=True)\n",
    "  return year_df\n"
   ]
  },
  {
   "cell_type": "markdown",
   "metadata": {
    "id": "7ajrVY4SjykR"
   },
   "source": [
    "**Code Check:** Call the `theme_by_year()` function on the year with the lowest number of total sets as found in `Q12`.  Your output should look as follows:\n",
    "\n",
    "| | id | name_themes|\n",
    "|-|---|---|\n",
    "|0|371|Supplemental|\n",
    "|1|497|Books|\n",
    "|2|513|Classic|\n",
    "\n",
    "**Optional Practice:** Call the `theme_by_year()` function using your birth year to see the Lego themes that were popular when you were born."
   ]
  },
  {
   "cell_type": "code",
   "execution_count": 34,
   "metadata": {
    "colab": {
     "base_uri": "https://localhost:8080/",
     "height": 143
    },
    "id": "VjF5YYnnjykR",
    "outputId": "2e04c0cc-5fe0-4dc5-ee50-8e906380ce4d"
   },
   "outputs": [
    {
     "data": {
      "text/html": [
       "<div>\n",
       "<style scoped>\n",
       "    .dataframe tbody tr th:only-of-type {\n",
       "        vertical-align: middle;\n",
       "    }\n",
       "\n",
       "    .dataframe tbody tr th {\n",
       "        vertical-align: top;\n",
       "    }\n",
       "\n",
       "    .dataframe thead th {\n",
       "        text-align: right;\n",
       "    }\n",
       "</style>\n",
       "<table border=\"1\" class=\"dataframe\">\n",
       "  <thead>\n",
       "    <tr style=\"text-align: right;\">\n",
       "      <th></th>\n",
       "      <th>id</th>\n",
       "      <th>name_themes</th>\n",
       "    </tr>\n",
       "  </thead>\n",
       "  <tbody>\n",
       "    <tr>\n",
       "      <th>0</th>\n",
       "      <td>371</td>\n",
       "      <td>Supplemental</td>\n",
       "    </tr>\n",
       "    <tr>\n",
       "      <th>1</th>\n",
       "      <td>497</td>\n",
       "      <td>Books</td>\n",
       "    </tr>\n",
       "    <tr>\n",
       "      <th>2</th>\n",
       "      <td>513</td>\n",
       "      <td>Classic</td>\n",
       "    </tr>\n",
       "  </tbody>\n",
       "</table>\n",
       "</div>"
      ],
      "text/plain": [
       "    id   name_themes\n",
       "0  371  Supplemental\n",
       "1  497         Books\n",
       "2  513       Classic"
      ]
     },
     "execution_count": 34,
     "metadata": {},
     "output_type": "execute_result"
    }
   ],
   "source": [
    "### CODE CHECK / OPTIONAL PRACTICE ###\n",
    "theme_by_year(Q12)"
   ]
  },
  {
   "cell_type": "markdown",
   "metadata": {
    "id": "j_heln7hjykR"
   },
   "source": [
    "**Q15:** What theme has the most number of sets associated with it?  Save the theme name as `Q15` (as a string)."
   ]
  },
  {
   "cell_type": "code",
   "execution_count": 35,
   "metadata": {
    "colab": {
     "base_uri": "https://localhost:8080/",
     "height": 35
    },
    "id": "aHJCi6RejykR",
    "outputId": "cedae963-05b9-46ce-db77-a4e88e5995c5"
   },
   "outputs": [
    {
     "data": {
      "text/plain": [
       "'Gear'"
      ]
     },
     "execution_count": 35,
     "metadata": {},
     "output_type": "execute_result"
    }
   ],
   "source": [
    "### ENTER CODE HERE ###\n",
    "Q15 = sets_with_theme.groupby(['theme_id','name_themes'])['set_num'].count().sort_values(ascending=False).index[0][1]\n",
    "Q15"
   ]
  },
  {
   "cell_type": "markdown",
   "metadata": {
    "id": "IyXkanABjykS"
   },
   "source": [
    "**Q16:** \n",
    "- Create a function called `theme_by_name` that takes as input a theme name and outputs all the sets (in `set_num` order) that had that theme.  \n",
    "- The DataFrame should include the following columns in this order and with these exact names: `set_num`,`name_sets`,`year`,`num_parts`, `theme_id`, and `name_themes`.  \n",
    "- The index should go from `0` to `n-1`."
   ]
  },
  {
   "cell_type": "code",
   "execution_count": 36,
   "metadata": {
    "id": "YwCAyPDUjykS"
   },
   "outputs": [],
   "source": [
    "### ENTER CODE HERE ###\n",
    "def theme_by_name(theme_name):\n",
    "  df = sets_with_theme[sets_with_theme['name_themes']==theme_name].sort_values(by='set_num')\n",
    "  df = df[['set_num','name_sets','year','num_parts','theme_id','name_themes']]\n",
    "\n",
    "  return df.reset_index(drop=True)"
   ]
  },
  {
   "cell_type": "markdown",
   "metadata": {
    "id": "8Cg79YBnjykS"
   },
   "source": [
    "**Code Check:** Call the `theme_by_name()` function using the theme name from `Q15`.  You should return 1,904 sets that match that theme name."
   ]
  },
  {
   "cell_type": "code",
   "execution_count": 37,
   "metadata": {
    "colab": {
     "base_uri": "https://localhost:8080/",
     "height": 424
    },
    "id": "dtCm0WfNjykS",
    "outputId": "3455b9a2-f9f8-488d-a726-2aedcd380927"
   },
   "outputs": [
    {
     "data": {
      "text/html": [
       "<div>\n",
       "<style scoped>\n",
       "    .dataframe tbody tr th:only-of-type {\n",
       "        vertical-align: middle;\n",
       "    }\n",
       "\n",
       "    .dataframe tbody tr th {\n",
       "        vertical-align: top;\n",
       "    }\n",
       "\n",
       "    .dataframe thead th {\n",
       "        text-align: right;\n",
       "    }\n",
       "</style>\n",
       "<table border=\"1\" class=\"dataframe\">\n",
       "  <thead>\n",
       "    <tr style=\"text-align: right;\">\n",
       "      <th></th>\n",
       "      <th>set_num</th>\n",
       "      <th>name_sets</th>\n",
       "      <th>year</th>\n",
       "      <th>num_parts</th>\n",
       "      <th>theme_id</th>\n",
       "      <th>name_themes</th>\n",
       "    </tr>\n",
       "  </thead>\n",
       "  <tbody>\n",
       "    <tr>\n",
       "      <th>0</th>\n",
       "      <td>11138-1</td>\n",
       "      <td>Bionicle Barraki Wallet</td>\n",
       "      <td>2008</td>\n",
       "      <td>0</td>\n",
       "      <td>501</td>\n",
       "      <td>Gear</td>\n",
       "    </tr>\n",
       "    <tr>\n",
       "      <th>1</th>\n",
       "      <td>119645111436-1</td>\n",
       "      <td>Classic Space Astronaut Plush (Red)</td>\n",
       "      <td>2021</td>\n",
       "      <td>0</td>\n",
       "      <td>501</td>\n",
       "      <td>Gear</td>\n",
       "    </tr>\n",
       "    <tr>\n",
       "      <th>2</th>\n",
       "      <td>119645111504-1</td>\n",
       "      <td>Classic Space Astronaut Plush (Blue)</td>\n",
       "      <td>2021</td>\n",
       "      <td>0</td>\n",
       "      <td>501</td>\n",
       "      <td>Gear</td>\n",
       "    </tr>\n",
       "    <tr>\n",
       "      <th>3</th>\n",
       "      <td>119645111740-1</td>\n",
       "      <td>Classic Space Astronaut Plush (White)</td>\n",
       "      <td>2021</td>\n",
       "      <td>0</td>\n",
       "      <td>501</td>\n",
       "      <td>Gear</td>\n",
       "    </tr>\n",
       "    <tr>\n",
       "      <th>4</th>\n",
       "      <td>119645111818-1</td>\n",
       "      <td>Classic Space Astronaut Plush (Pink)</td>\n",
       "      <td>2021</td>\n",
       "      <td>0</td>\n",
       "      <td>501</td>\n",
       "      <td>Gear</td>\n",
       "    </tr>\n",
       "    <tr>\n",
       "      <th>...</th>\n",
       "      <td>...</td>\n",
       "      <td>...</td>\n",
       "      <td>...</td>\n",
       "      <td>...</td>\n",
       "      <td>...</td>\n",
       "      <td>...</td>\n",
       "    </tr>\n",
       "    <tr>\n",
       "      <th>1899</th>\n",
       "      <td>WATCH-3</td>\n",
       "      <td>Watch System Voyager (UFO Space)</td>\n",
       "      <td>1997</td>\n",
       "      <td>29</td>\n",
       "      <td>501</td>\n",
       "      <td>Gear</td>\n",
       "    </tr>\n",
       "    <tr>\n",
       "      <th>1900</th>\n",
       "      <td>WIIGAME-1</td>\n",
       "      <td>Bionicle Heroes - Wii</td>\n",
       "      <td>2007</td>\n",
       "      <td>0</td>\n",
       "      <td>501</td>\n",
       "      <td>Gear</td>\n",
       "    </tr>\n",
       "    <tr>\n",
       "      <th>1901</th>\n",
       "      <td>WIIGAME-2</td>\n",
       "      <td>Indiana Jones: The Original Adventures Video G...</td>\n",
       "      <td>2008</td>\n",
       "      <td>0</td>\n",
       "      <td>501</td>\n",
       "      <td>Gear</td>\n",
       "    </tr>\n",
       "    <tr>\n",
       "      <th>1902</th>\n",
       "      <td>WOODENELEPHANT-1</td>\n",
       "      <td>Original Wooden Elephant Pull-Along Toy and Print</td>\n",
       "      <td>2021</td>\n",
       "      <td>0</td>\n",
       "      <td>501</td>\n",
       "      <td>Gear</td>\n",
       "    </tr>\n",
       "    <tr>\n",
       "      <th>1903</th>\n",
       "      <td>ZX8000-1</td>\n",
       "      <td>ZX 8000 LEGO Sneaker</td>\n",
       "      <td>2020</td>\n",
       "      <td>0</td>\n",
       "      <td>501</td>\n",
       "      <td>Gear</td>\n",
       "    </tr>\n",
       "  </tbody>\n",
       "</table>\n",
       "<p>1904 rows × 6 columns</p>\n",
       "</div>"
      ],
      "text/plain": [
       "               set_num                                          name_sets  \\\n",
       "0              11138-1                            Bionicle Barraki Wallet   \n",
       "1       119645111436-1                Classic Space Astronaut Plush (Red)   \n",
       "2       119645111504-1               Classic Space Astronaut Plush (Blue)   \n",
       "3       119645111740-1              Classic Space Astronaut Plush (White)   \n",
       "4       119645111818-1               Classic Space Astronaut Plush (Pink)   \n",
       "...                ...                                                ...   \n",
       "1899           WATCH-3                   Watch System Voyager (UFO Space)   \n",
       "1900         WIIGAME-1                              Bionicle Heroes - Wii   \n",
       "1901         WIIGAME-2  Indiana Jones: The Original Adventures Video G...   \n",
       "1902  WOODENELEPHANT-1  Original Wooden Elephant Pull-Along Toy and Print   \n",
       "1903          ZX8000-1                               ZX 8000 LEGO Sneaker   \n",
       "\n",
       "      year  num_parts  theme_id name_themes  \n",
       "0     2008          0       501        Gear  \n",
       "1     2021          0       501        Gear  \n",
       "2     2021          0       501        Gear  \n",
       "3     2021          0       501        Gear  \n",
       "4     2021          0       501        Gear  \n",
       "...    ...        ...       ...         ...  \n",
       "1899  1997         29       501        Gear  \n",
       "1900  2007          0       501        Gear  \n",
       "1901  2008          0       501        Gear  \n",
       "1902  2021          0       501        Gear  \n",
       "1903  2020          0       501        Gear  \n",
       "\n",
       "[1904 rows x 6 columns]"
      ]
     },
     "execution_count": 37,
     "metadata": {},
     "output_type": "execute_result"
    }
   ],
   "source": [
    "### CODE CHECK ###\n",
    "theme_by_name(Q15)"
   ]
  },
  {
   "cell_type": "markdown",
   "metadata": {
    "id": "EenppBzojykS"
   },
   "source": [
    "**Q17:** What themes have the most sets associated with them?  Output the top 5 themes as a Series with the theme name as the index and the number of sets that the theme appears in as the values.  The Series should be sorted in descending order.  Save this as `Q17`."
   ]
  },
  {
   "cell_type": "code",
   "execution_count": 38,
   "metadata": {
    "colab": {
     "base_uri": "https://localhost:8080/"
    },
    "id": "vyYTLNOkjykS",
    "outputId": "fd481c64-ca3d-4e48-b959-675554a952c3"
   },
   "outputs": [
    {
     "data": {
      "text/plain": [
       "name_themes\n",
       "Gear         1904\n",
       "Star Wars     825\n",
       "Technic       693\n",
       "Key Chain     583\n",
       "Friends       482\n",
       "dtype: int64"
      ]
     },
     "execution_count": 38,
     "metadata": {},
     "output_type": "execute_result"
    }
   ],
   "source": [
    "### ENTER CODE HERE ###\n",
    "Q17 = sets_with_theme.groupby('name_themes').size().nlargest(5)\n",
    "Q17"
   ]
  },
  {
   "cell_type": "markdown",
   "metadata": {
    "id": "ZwKVDuQkjykT"
   },
   "source": [
    "**Q18:** Create a function called `theme_by_setnum` that takes as input the set_num (as a string) and returns the respective theme name as a string."
   ]
  },
  {
   "cell_type": "code",
   "execution_count": 39,
   "metadata": {
    "id": "J6E6ek8ajykT"
   },
   "outputs": [],
   "source": [
    "### ENTER CODE HERE ###\n",
    "def theme_by_setnum(set_num):\n",
    "  theme = sets_with_theme[sets_with_theme['set_num']==set_num]['name_themes']\n",
    "  return theme.values[0]\n"
   ]
  },
  {
   "cell_type": "markdown",
   "metadata": {
    "id": "0gYRsCy1jykT"
   },
   "source": [
    "**Code Check:** Visit the [Sets page](https://rebrickable.com/sets/) from the Rebrickable website and find a set that you like.  Call your `theme_by_setnum()` function on that set and make sure the correct theme name is output."
   ]
  },
  {
   "cell_type": "code",
   "execution_count": 40,
   "metadata": {
    "colab": {
     "base_uri": "https://localhost:8080/",
     "height": 35
    },
    "id": "sEC6Mcg7jykT",
    "outputId": "2a188c41-df1b-4f0d-f31b-894f8f1efc57"
   },
   "outputs": [
    {
     "data": {
      "text/plain": [
       "'Gear'"
      ]
     },
     "execution_count": 40,
     "metadata": {},
     "output_type": "execute_result"
    }
   ],
   "source": [
    "### CODE CHECK ###\n",
    "theme_by_setnum('WATCH-3')"
   ]
  },
  {
   "cell_type": "markdown",
   "metadata": {
    "id": "gEaegHIXjykT"
   },
   "source": [
    "**Q19:** Find all the sets named 'Millennium Falcon'. Of these sets, find the set with the largest number of parts.  You **do not** need to save this as `Q19`.  Instead you will use this information for later questions."
   ]
  },
  {
   "cell_type": "code",
   "execution_count": 41,
   "metadata": {
    "id": "IA79gDMAjykT"
   },
   "outputs": [],
   "source": [
    "### ENTER CODE HERE ###\n",
    "sets_with_theme[sets_with_theme['name_sets']=='Millennium Falcon'].nlargest(1,columns='num_parts')\n",
    "#largest set 75192-1\n",
    "Q19='75192-1'"
   ]
  },
  {
   "cell_type": "markdown",
   "metadata": {
    "id": "h9t12mEdjykT"
   },
   "source": [
    "**Q20:** \n",
    "- How many minifigs are contained in the set from `Q19`?  Save this as `Q20` (as an integer).  \n",
    "- Note that there are sometimes multiple versions of a set as shown in the `inventories` table.  This will not matter for this question as there is only one version for the respective set but this should be noted for future questions.\n",
    "- Remember to show your work or your answer will manually get marked as incorrect."
   ]
  },
  {
   "cell_type": "code",
   "execution_count": 42,
   "metadata": {
    "id": "KLTLIoq_jykT"
   },
   "outputs": [],
   "source": [
    "### ENTER CODE HERE ###\n",
    "big_merged_table = sets_with_theme.merge(inventories, on='set_num', suffixes=('_themes','_inventory'))\n",
    "big_merged_table = big_merged_table.merge(inventory_minifigs, left_on='id_inventory', right_on='inventory_id')\n",
    "big_merged_table = big_merged_table.merge(minifigs, on='fig_num', suffixes=('_sets','_fig'))\n",
    "#big_merged_table"
   ]
  },
  {
   "cell_type": "code",
   "execution_count": 43,
   "metadata": {
    "colab": {
     "base_uri": "https://localhost:8080/"
    },
    "id": "-IrzB1UY8KgA",
    "outputId": "b0bb6f89-051e-46a8-c0b7-0a1adcce7aef"
   },
   "outputs": [
    {
     "data": {
      "text/plain": [
       "8"
      ]
     },
     "execution_count": 43,
     "metadata": {},
     "output_type": "execute_result"
    }
   ],
   "source": [
    "Q20 = big_merged_table[big_merged_table['set_num']==Q19].groupby(['version','fig_num']).size().sum()\n",
    "Q20"
   ]
  },
  {
   "cell_type": "code",
   "execution_count": 44,
   "metadata": {
    "colab": {
     "base_uri": "https://localhost:8080/",
     "height": 483
    },
    "id": "w2FRpFC1_JS9",
    "outputId": "18425327-b113-4df0-cf31-9955246f82fa"
   },
   "outputs": [
    {
     "data": {
      "text/html": [
       "<div>\n",
       "<style scoped>\n",
       "    .dataframe tbody tr th:only-of-type {\n",
       "        vertical-align: middle;\n",
       "    }\n",
       "\n",
       "    .dataframe tbody tr th {\n",
       "        vertical-align: top;\n",
       "    }\n",
       "\n",
       "    .dataframe thead th {\n",
       "        text-align: right;\n",
       "    }\n",
       "</style>\n",
       "<table border=\"1\" class=\"dataframe\">\n",
       "  <thead>\n",
       "    <tr style=\"text-align: right;\">\n",
       "      <th></th>\n",
       "      <th>set_num</th>\n",
       "      <th>name_sets</th>\n",
       "      <th>year</th>\n",
       "      <th>theme_id</th>\n",
       "      <th>num_parts_sets</th>\n",
       "      <th>id_themes</th>\n",
       "      <th>name_themes</th>\n",
       "      <th>parent_id</th>\n",
       "      <th>id_inventory</th>\n",
       "      <th>version</th>\n",
       "      <th>inventory_id</th>\n",
       "      <th>fig_num</th>\n",
       "      <th>quantity</th>\n",
       "      <th>name</th>\n",
       "      <th>num_parts_fig</th>\n",
       "    </tr>\n",
       "  </thead>\n",
       "  <tbody>\n",
       "    <tr>\n",
       "      <th>1791</th>\n",
       "      <td>75192-1</td>\n",
       "      <td>Millennium Falcon</td>\n",
       "      <td>2017</td>\n",
       "      <td>171</td>\n",
       "      <td>7541</td>\n",
       "      <td>171</td>\n",
       "      <td>Ultimate Collector Series</td>\n",
       "      <td>158.0</td>\n",
       "      <td>19670</td>\n",
       "      <td>1</td>\n",
       "      <td>19670</td>\n",
       "      <td>fig-002057</td>\n",
       "      <td>1</td>\n",
       "      <td>Rey, Dark Tan Robe</td>\n",
       "      <td>4</td>\n",
       "    </tr>\n",
       "    <tr>\n",
       "      <th>2564</th>\n",
       "      <td>75192-1</td>\n",
       "      <td>Millennium Falcon</td>\n",
       "      <td>2017</td>\n",
       "      <td>171</td>\n",
       "      <td>7541</td>\n",
       "      <td>171</td>\n",
       "      <td>Ultimate Collector Series</td>\n",
       "      <td>158.0</td>\n",
       "      <td>19670</td>\n",
       "      <td>1</td>\n",
       "      <td>19670</td>\n",
       "      <td>fig-001714</td>\n",
       "      <td>1</td>\n",
       "      <td>Chewbacca, Dark Brown</td>\n",
       "      <td>3</td>\n",
       "    </tr>\n",
       "    <tr>\n",
       "      <th>2584</th>\n",
       "      <td>75192-1</td>\n",
       "      <td>Millennium Falcon</td>\n",
       "      <td>2017</td>\n",
       "      <td>171</td>\n",
       "      <td>7541</td>\n",
       "      <td>171</td>\n",
       "      <td>Ultimate Collector Series</td>\n",
       "      <td>158.0</td>\n",
       "      <td>19670</td>\n",
       "      <td>1</td>\n",
       "      <td>19670</td>\n",
       "      <td>fig-002514</td>\n",
       "      <td>1</td>\n",
       "      <td>C-3PO, Pearl Gold, Colorful Wires, Printed Legs</td>\n",
       "      <td>3</td>\n",
       "    </tr>\n",
       "    <tr>\n",
       "      <th>2635</th>\n",
       "      <td>75192-1</td>\n",
       "      <td>Millennium Falcon</td>\n",
       "      <td>2017</td>\n",
       "      <td>171</td>\n",
       "      <td>7541</td>\n",
       "      <td>171</td>\n",
       "      <td>Ultimate Collector Series</td>\n",
       "      <td>158.0</td>\n",
       "      <td>19670</td>\n",
       "      <td>1</td>\n",
       "      <td>19670</td>\n",
       "      <td>fig-001810</td>\n",
       "      <td>1</td>\n",
       "      <td>Finn, Black Undershirt</td>\n",
       "      <td>4</td>\n",
       "    </tr>\n",
       "    <tr>\n",
       "      <th>2640</th>\n",
       "      <td>75192-1</td>\n",
       "      <td>Millennium Falcon</td>\n",
       "      <td>2017</td>\n",
       "      <td>171</td>\n",
       "      <td>7541</td>\n",
       "      <td>171</td>\n",
       "      <td>Ultimate Collector Series</td>\n",
       "      <td>158.0</td>\n",
       "      <td>19670</td>\n",
       "      <td>1</td>\n",
       "      <td>19670</td>\n",
       "      <td>fig-002544</td>\n",
       "      <td>1</td>\n",
       "      <td>BB-8</td>\n",
       "      <td>2</td>\n",
       "    </tr>\n",
       "    <tr>\n",
       "      <th>2650</th>\n",
       "      <td>75192-1</td>\n",
       "      <td>Millennium Falcon</td>\n",
       "      <td>2017</td>\n",
       "      <td>171</td>\n",
       "      <td>7541</td>\n",
       "      <td>171</td>\n",
       "      <td>Ultimate Collector Series</td>\n",
       "      <td>158.0</td>\n",
       "      <td>19670</td>\n",
       "      <td>1</td>\n",
       "      <td>19670</td>\n",
       "      <td>fig-002549</td>\n",
       "      <td>1</td>\n",
       "      <td>Princess Leia, Hoth Outfit, White Jacket, Prin...</td>\n",
       "      <td>4</td>\n",
       "    </tr>\n",
       "    <tr>\n",
       "      <th>2651</th>\n",
       "      <td>75192-1</td>\n",
       "      <td>Millennium Falcon</td>\n",
       "      <td>2017</td>\n",
       "      <td>171</td>\n",
       "      <td>7541</td>\n",
       "      <td>171</td>\n",
       "      <td>Ultimate Collector Series</td>\n",
       "      <td>158.0</td>\n",
       "      <td>19670</td>\n",
       "      <td>1</td>\n",
       "      <td>19670</td>\n",
       "      <td>fig-002550</td>\n",
       "      <td>1</td>\n",
       "      <td>Han Solo, Dark Blue Jacket, Dark Brown Legs, P...</td>\n",
       "      <td>4</td>\n",
       "    </tr>\n",
       "    <tr>\n",
       "      <th>2652</th>\n",
       "      <td>75192-1</td>\n",
       "      <td>Millennium Falcon</td>\n",
       "      <td>2017</td>\n",
       "      <td>171</td>\n",
       "      <td>7541</td>\n",
       "      <td>171</td>\n",
       "      <td>Ultimate Collector Series</td>\n",
       "      <td>158.0</td>\n",
       "      <td>19670</td>\n",
       "      <td>1</td>\n",
       "      <td>19670</td>\n",
       "      <td>fig-002551</td>\n",
       "      <td>1</td>\n",
       "      <td>Han Solo, Old, Angry</td>\n",
       "      <td>4</td>\n",
       "    </tr>\n",
       "  </tbody>\n",
       "</table>\n",
       "</div>"
      ],
      "text/plain": [
       "      set_num          name_sets  year  theme_id  num_parts_sets  id_themes  \\\n",
       "1791  75192-1  Millennium Falcon  2017       171            7541        171   \n",
       "2564  75192-1  Millennium Falcon  2017       171            7541        171   \n",
       "2584  75192-1  Millennium Falcon  2017       171            7541        171   \n",
       "2635  75192-1  Millennium Falcon  2017       171            7541        171   \n",
       "2640  75192-1  Millennium Falcon  2017       171            7541        171   \n",
       "2650  75192-1  Millennium Falcon  2017       171            7541        171   \n",
       "2651  75192-1  Millennium Falcon  2017       171            7541        171   \n",
       "2652  75192-1  Millennium Falcon  2017       171            7541        171   \n",
       "\n",
       "                    name_themes  parent_id  id_inventory  version  \\\n",
       "1791  Ultimate Collector Series      158.0         19670        1   \n",
       "2564  Ultimate Collector Series      158.0         19670        1   \n",
       "2584  Ultimate Collector Series      158.0         19670        1   \n",
       "2635  Ultimate Collector Series      158.0         19670        1   \n",
       "2640  Ultimate Collector Series      158.0         19670        1   \n",
       "2650  Ultimate Collector Series      158.0         19670        1   \n",
       "2651  Ultimate Collector Series      158.0         19670        1   \n",
       "2652  Ultimate Collector Series      158.0         19670        1   \n",
       "\n",
       "      inventory_id     fig_num  quantity  \\\n",
       "1791         19670  fig-002057         1   \n",
       "2564         19670  fig-001714         1   \n",
       "2584         19670  fig-002514         1   \n",
       "2635         19670  fig-001810         1   \n",
       "2640         19670  fig-002544         1   \n",
       "2650         19670  fig-002549         1   \n",
       "2651         19670  fig-002550         1   \n",
       "2652         19670  fig-002551         1   \n",
       "\n",
       "                                                   name  num_parts_fig  \n",
       "1791                                 Rey, Dark Tan Robe              4  \n",
       "2564                              Chewbacca, Dark Brown              3  \n",
       "2584    C-3PO, Pearl Gold, Colorful Wires, Printed Legs              3  \n",
       "2635                             Finn, Black Undershirt              4  \n",
       "2640                                               BB-8              2  \n",
       "2650  Princess Leia, Hoth Outfit, White Jacket, Prin...              4  \n",
       "2651  Han Solo, Dark Blue Jacket, Dark Brown Legs, P...              4  \n",
       "2652                               Han Solo, Old, Angry              4  "
      ]
     },
     "execution_count": 44,
     "metadata": {},
     "output_type": "execute_result"
    }
   ],
   "source": [
    "big_merged_table[big_merged_table['set_num']==Q19]\n"
   ]
  },
  {
   "cell_type": "markdown",
   "metadata": {
    "id": "4r1NQ9OajykT"
   },
   "source": [
    "**Q21:** \n",
    "- Create a function called `get_minifigs` that takes as input a set number (as a string) and a version number (as an integer) and outputs all minifigs from that set / version combination.  \n",
    "- The DataFrame should be in `fig_num` order with the following columns/column names: `set_num`, `fig_num`, `fig_name`, `fig_num_parts`.  \n",
    "- The index should go from 0 to n-1."
   ]
  },
  {
   "cell_type": "code",
   "execution_count": 45,
   "metadata": {
    "id": "TnUH5f6tjykU"
   },
   "outputs": [],
   "source": [
    "### ENTER CODE HERE ###\n",
    "def get_minifigs(set_num, version=1):\n",
    "  mini = big_merged_table[big_merged_table['set_num']==set_num]\n",
    "  mini = mini[mini['version']==version]\n",
    "  mini = mini.rename({'name':'fig_name','num_parts_fig':'fig_num_parts'},axis=1).sort_values(by='fig_num').reset_index()[['set_num','fig_num','fig_name','fig_num_parts']]\n",
    "  return mini"
   ]
  },
  {
   "cell_type": "markdown",
   "metadata": {
    "id": "2MwHg4NjjykU"
   },
   "source": [
    "**Q22:** Using the above function, output information about the minifigs from the set discussed in `Q19`.  Save this output as `Q22`."
   ]
  },
  {
   "cell_type": "code",
   "execution_count": 46,
   "metadata": {
    "colab": {
     "base_uri": "https://localhost:8080/",
     "height": 300
    },
    "id": "cDFYj9RsjykU",
    "outputId": "fad1a534-dc2d-4bf8-d66f-aa1d131afea1"
   },
   "outputs": [
    {
     "data": {
      "text/html": [
       "<div>\n",
       "<style scoped>\n",
       "    .dataframe tbody tr th:only-of-type {\n",
       "        vertical-align: middle;\n",
       "    }\n",
       "\n",
       "    .dataframe tbody tr th {\n",
       "        vertical-align: top;\n",
       "    }\n",
       "\n",
       "    .dataframe thead th {\n",
       "        text-align: right;\n",
       "    }\n",
       "</style>\n",
       "<table border=\"1\" class=\"dataframe\">\n",
       "  <thead>\n",
       "    <tr style=\"text-align: right;\">\n",
       "      <th></th>\n",
       "      <th>set_num</th>\n",
       "      <th>fig_num</th>\n",
       "      <th>fig_name</th>\n",
       "      <th>fig_num_parts</th>\n",
       "    </tr>\n",
       "  </thead>\n",
       "  <tbody>\n",
       "    <tr>\n",
       "      <th>0</th>\n",
       "      <td>75192-1</td>\n",
       "      <td>fig-001714</td>\n",
       "      <td>Chewbacca, Dark Brown</td>\n",
       "      <td>3</td>\n",
       "    </tr>\n",
       "    <tr>\n",
       "      <th>1</th>\n",
       "      <td>75192-1</td>\n",
       "      <td>fig-001810</td>\n",
       "      <td>Finn, Black Undershirt</td>\n",
       "      <td>4</td>\n",
       "    </tr>\n",
       "    <tr>\n",
       "      <th>2</th>\n",
       "      <td>75192-1</td>\n",
       "      <td>fig-002057</td>\n",
       "      <td>Rey, Dark Tan Robe</td>\n",
       "      <td>4</td>\n",
       "    </tr>\n",
       "    <tr>\n",
       "      <th>3</th>\n",
       "      <td>75192-1</td>\n",
       "      <td>fig-002514</td>\n",
       "      <td>C-3PO, Pearl Gold, Colorful Wires, Printed Legs</td>\n",
       "      <td>3</td>\n",
       "    </tr>\n",
       "    <tr>\n",
       "      <th>4</th>\n",
       "      <td>75192-1</td>\n",
       "      <td>fig-002544</td>\n",
       "      <td>BB-8</td>\n",
       "      <td>2</td>\n",
       "    </tr>\n",
       "    <tr>\n",
       "      <th>5</th>\n",
       "      <td>75192-1</td>\n",
       "      <td>fig-002549</td>\n",
       "      <td>Princess Leia, Hoth Outfit, White Jacket, Prin...</td>\n",
       "      <td>4</td>\n",
       "    </tr>\n",
       "    <tr>\n",
       "      <th>6</th>\n",
       "      <td>75192-1</td>\n",
       "      <td>fig-002550</td>\n",
       "      <td>Han Solo, Dark Blue Jacket, Dark Brown Legs, P...</td>\n",
       "      <td>4</td>\n",
       "    </tr>\n",
       "    <tr>\n",
       "      <th>7</th>\n",
       "      <td>75192-1</td>\n",
       "      <td>fig-002551</td>\n",
       "      <td>Han Solo, Old, Angry</td>\n",
       "      <td>4</td>\n",
       "    </tr>\n",
       "  </tbody>\n",
       "</table>\n",
       "</div>"
      ],
      "text/plain": [
       "   set_num     fig_num                                           fig_name  \\\n",
       "0  75192-1  fig-001714                              Chewbacca, Dark Brown   \n",
       "1  75192-1  fig-001810                             Finn, Black Undershirt   \n",
       "2  75192-1  fig-002057                                 Rey, Dark Tan Robe   \n",
       "3  75192-1  fig-002514    C-3PO, Pearl Gold, Colorful Wires, Printed Legs   \n",
       "4  75192-1  fig-002544                                               BB-8   \n",
       "5  75192-1  fig-002549  Princess Leia, Hoth Outfit, White Jacket, Prin...   \n",
       "6  75192-1  fig-002550  Han Solo, Dark Blue Jacket, Dark Brown Legs, P...   \n",
       "7  75192-1  fig-002551                               Han Solo, Old, Angry   \n",
       "\n",
       "   fig_num_parts  \n",
       "0              3  \n",
       "1              4  \n",
       "2              4  \n",
       "3              3  \n",
       "4              2  \n",
       "5              4  \n",
       "6              4  \n",
       "7              4  "
      ]
     },
     "execution_count": 46,
     "metadata": {},
     "output_type": "execute_result"
    }
   ],
   "source": [
    "### ENTER CODE HERE ###\n",
    "Q22 = get_minifigs(Q19)\n",
    "Q22"
   ]
  },
  {
   "cell_type": "markdown",
   "metadata": {
    "id": "tNTIiRu2jykU"
   },
   "source": [
    "**Code Check:** Make sure that your `get_minifigs()` function works with both version 1 and version 2 of set 10217-1, Harry Potter's Diagon Alley.  Both versions should have 11 minifigs in the DataFrame."
   ]
  },
  {
   "cell_type": "code",
   "execution_count": 47,
   "metadata": {
    "colab": {
     "base_uri": "https://localhost:8080/",
     "height": 394
    },
    "id": "wpayU1HzjykU",
    "outputId": "2d607fd5-65da-40f8-da2d-13c11459500b"
   },
   "outputs": [
    {
     "data": {
      "text/html": [
       "<div>\n",
       "<style scoped>\n",
       "    .dataframe tbody tr th:only-of-type {\n",
       "        vertical-align: middle;\n",
       "    }\n",
       "\n",
       "    .dataframe tbody tr th {\n",
       "        vertical-align: top;\n",
       "    }\n",
       "\n",
       "    .dataframe thead th {\n",
       "        text-align: right;\n",
       "    }\n",
       "</style>\n",
       "<table border=\"1\" class=\"dataframe\">\n",
       "  <thead>\n",
       "    <tr style=\"text-align: right;\">\n",
       "      <th></th>\n",
       "      <th>set_num</th>\n",
       "      <th>fig_num</th>\n",
       "      <th>fig_name</th>\n",
       "      <th>fig_num_parts</th>\n",
       "    </tr>\n",
       "  </thead>\n",
       "  <tbody>\n",
       "    <tr>\n",
       "      <th>0</th>\n",
       "      <td>10217-1</td>\n",
       "      <td>fig-002229</td>\n",
       "      <td>Skeleton (Standard) (3626b Head)</td>\n",
       "      <td>6</td>\n",
       "    </tr>\n",
       "    <tr>\n",
       "      <th>1</th>\n",
       "      <td>10217-1</td>\n",
       "      <td>fig-006075</td>\n",
       "      <td>Rubeus Hagrid, Dark Brown Overcoat</td>\n",
       "      <td>3</td>\n",
       "    </tr>\n",
       "    <tr>\n",
       "      <th>2</th>\n",
       "      <td>10217-1</td>\n",
       "      <td>fig-006084</td>\n",
       "      <td>Lucius Malfoy, Black Robes and Cape, Death Eat...</td>\n",
       "      <td>5</td>\n",
       "    </tr>\n",
       "    <tr>\n",
       "      <th>3</th>\n",
       "      <td>10217-1</td>\n",
       "      <td>fig-006130</td>\n",
       "      <td>Harry Potter, Open Dark Blue Jacket over White...</td>\n",
       "      <td>4</td>\n",
       "    </tr>\n",
       "    <tr>\n",
       "      <th>4</th>\n",
       "      <td>10217-1</td>\n",
       "      <td>fig-006138</td>\n",
       "      <td>Fenrir Greyback</td>\n",
       "      <td>4</td>\n",
       "    </tr>\n",
       "    <tr>\n",
       "      <th>5</th>\n",
       "      <td>10217-1</td>\n",
       "      <td>fig-006162</td>\n",
       "      <td>Ron Weasley, Red Tartan Sweater Vest, Reddish ...</td>\n",
       "      <td>4</td>\n",
       "    </tr>\n",
       "    <tr>\n",
       "      <th>6</th>\n",
       "      <td>10217-1</td>\n",
       "      <td>fig-006163</td>\n",
       "      <td>Fred / George Weasley in Dark Orange Suit</td>\n",
       "      <td>4</td>\n",
       "    </tr>\n",
       "    <tr>\n",
       "      <th>7</th>\n",
       "      <td>10217-1</td>\n",
       "      <td>fig-006164</td>\n",
       "      <td>Garrick Ollivander</td>\n",
       "      <td>4</td>\n",
       "    </tr>\n",
       "    <tr>\n",
       "      <th>8</th>\n",
       "      <td>10217-1</td>\n",
       "      <td>fig-006165</td>\n",
       "      <td>Goblin, Black Jacket and Light Bluish Gray Legs</td>\n",
       "      <td>3</td>\n",
       "    </tr>\n",
       "    <tr>\n",
       "      <th>9</th>\n",
       "      <td>10217-1</td>\n",
       "      <td>fig-006166</td>\n",
       "      <td>Goblin, Black Jacket and Reddish Brown Legs</td>\n",
       "      <td>3</td>\n",
       "    </tr>\n",
       "    <tr>\n",
       "      <th>10</th>\n",
       "      <td>10217-1</td>\n",
       "      <td>fig-006167</td>\n",
       "      <td>Hermione Granger, Light Bluish Gray Sweater wi...</td>\n",
       "      <td>4</td>\n",
       "    </tr>\n",
       "  </tbody>\n",
       "</table>\n",
       "</div>"
      ],
      "text/plain": [
       "    set_num     fig_num                                           fig_name  \\\n",
       "0   10217-1  fig-002229                   Skeleton (Standard) (3626b Head)   \n",
       "1   10217-1  fig-006075                 Rubeus Hagrid, Dark Brown Overcoat   \n",
       "2   10217-1  fig-006084  Lucius Malfoy, Black Robes and Cape, Death Eat...   \n",
       "3   10217-1  fig-006130  Harry Potter, Open Dark Blue Jacket over White...   \n",
       "4   10217-1  fig-006138                                    Fenrir Greyback   \n",
       "5   10217-1  fig-006162  Ron Weasley, Red Tartan Sweater Vest, Reddish ...   \n",
       "6   10217-1  fig-006163          Fred / George Weasley in Dark Orange Suit   \n",
       "7   10217-1  fig-006164                                 Garrick Ollivander   \n",
       "8   10217-1  fig-006165    Goblin, Black Jacket and Light Bluish Gray Legs   \n",
       "9   10217-1  fig-006166        Goblin, Black Jacket and Reddish Brown Legs   \n",
       "10  10217-1  fig-006167  Hermione Granger, Light Bluish Gray Sweater wi...   \n",
       "\n",
       "    fig_num_parts  \n",
       "0               6  \n",
       "1               3  \n",
       "2               5  \n",
       "3               4  \n",
       "4               4  \n",
       "5               4  \n",
       "6               4  \n",
       "7               4  \n",
       "8               3  \n",
       "9               3  \n",
       "10              4  "
      ]
     },
     "execution_count": 47,
     "metadata": {},
     "output_type": "execute_result"
    }
   ],
   "source": [
    "### CODE CHECK ###\n",
    "get_minifigs('10217-1',2)"
   ]
  },
  {
   "cell_type": "markdown",
   "metadata": {
    "id": "b9y1R10ojykU"
   },
   "source": [
    "**Q23:** \n",
    "- Create a function called `minifigs_from_themes` that takes as input a theme id (as an integer) and outputs all the minifigs contained in sets with that theme.  \n",
    "- The DataFrame should be in `fig_num` order with the following columns/column names: `fig_num`, `fig_name`. \n",
    "- The index should go from 0 to n-1.  \n",
    "- Exact duplicates should be removed so that only unique figs are included."
   ]
  },
  {
   "cell_type": "code",
   "execution_count": 48,
   "metadata": {
    "id": "TQr5ZZ73jykU"
   },
   "outputs": [],
   "source": [
    "### ENTER CODE HERE ###\n",
    "def minifigs_from_themes(id):\n",
    "  df = big_merged_table[big_merged_table['theme_id']==id].rename({'name':'fig_name'}, axis=1).sort_values(by='fig_num')\n",
    "  \n",
    "\n",
    "  return df[['fig_num','fig_name']].drop_duplicates().reset_index(drop=True)\n"
   ]
  },
  {
   "cell_type": "markdown",
   "metadata": {
    "id": "MEJgHWr-jykU"
   },
   "source": [
    "**Code Check:** Call the `minifigs_from_themes()` function using the theme number of the set discussed in `Q19`.  There should be 149 minifigs output for that respective theme."
   ]
  },
  {
   "cell_type": "code",
   "execution_count": 49,
   "metadata": {
    "colab": {
     "base_uri": "https://localhost:8080/",
     "height": 424
    },
    "id": "7KYHYryLjykU",
    "outputId": "dc7761db-16e3-4400-ca98-d41047ab666b"
   },
   "outputs": [
    {
     "data": {
      "text/html": [
       "<div>\n",
       "<style scoped>\n",
       "    .dataframe tbody tr th:only-of-type {\n",
       "        vertical-align: middle;\n",
       "    }\n",
       "\n",
       "    .dataframe tbody tr th {\n",
       "        vertical-align: top;\n",
       "    }\n",
       "\n",
       "    .dataframe thead th {\n",
       "        text-align: right;\n",
       "    }\n",
       "</style>\n",
       "<table border=\"1\" class=\"dataframe\">\n",
       "  <thead>\n",
       "    <tr style=\"text-align: right;\">\n",
       "      <th></th>\n",
       "      <th>fig_num</th>\n",
       "      <th>fig_name</th>\n",
       "    </tr>\n",
       "  </thead>\n",
       "  <tbody>\n",
       "    <tr>\n",
       "      <th>0</th>\n",
       "      <td>fig-000003</td>\n",
       "      <td>Assassin Droid, White</td>\n",
       "    </tr>\n",
       "    <tr>\n",
       "      <th>1</th>\n",
       "      <td>fig-000124</td>\n",
       "      <td>Chewbacca, Reddish Brown</td>\n",
       "    </tr>\n",
       "    <tr>\n",
       "      <th>2</th>\n",
       "      <td>fig-000144</td>\n",
       "      <td>Luke Skywalker, White Robe, White Legs, Cheek ...</td>\n",
       "    </tr>\n",
       "    <tr>\n",
       "      <th>3</th>\n",
       "      <td>fig-000303</td>\n",
       "      <td>Clone Trooper, Phase I Armor, Brown Eyes</td>\n",
       "    </tr>\n",
       "    <tr>\n",
       "      <th>4</th>\n",
       "      <td>fig-000516</td>\n",
       "      <td>Darth Vader, Light Bluish Gray Skin, Scarred R...</td>\n",
       "    </tr>\n",
       "    <tr>\n",
       "      <th>...</th>\n",
       "      <td>...</td>\n",
       "      <td>...</td>\n",
       "    </tr>\n",
       "    <tr>\n",
       "      <th>144</th>\n",
       "      <td>fig-011942</td>\n",
       "      <td>AT-AT Driver - Light Bluish Grey Helmet, Sand ...</td>\n",
       "    </tr>\n",
       "    <tr>\n",
       "      <th>145</th>\n",
       "      <td>fig-011944</td>\n",
       "      <td>Snowtrooper, White Hips, Reddish Brown Head, F...</td>\n",
       "    </tr>\n",
       "    <tr>\n",
       "      <th>146</th>\n",
       "      <td>fig-011945</td>\n",
       "      <td>Snowtrooper, White Hips, Light Flesh Head, Female</td>\n",
       "    </tr>\n",
       "    <tr>\n",
       "      <th>147</th>\n",
       "      <td>fig-011946</td>\n",
       "      <td>Snowtrooper, White Hips, Light Flesh Head, Off...</td>\n",
       "    </tr>\n",
       "    <tr>\n",
       "      <th>148</th>\n",
       "      <td>fig-011957</td>\n",
       "      <td>Snowtrooper, White Hips, Light Flesh Head, Grin</td>\n",
       "    </tr>\n",
       "  </tbody>\n",
       "</table>\n",
       "<p>149 rows × 2 columns</p>\n",
       "</div>"
      ],
      "text/plain": [
       "        fig_num                                           fig_name\n",
       "0    fig-000003                              Assassin Droid, White\n",
       "1    fig-000124                           Chewbacca, Reddish Brown\n",
       "2    fig-000144  Luke Skywalker, White Robe, White Legs, Cheek ...\n",
       "3    fig-000303           Clone Trooper, Phase I Armor, Brown Eyes\n",
       "4    fig-000516  Darth Vader, Light Bluish Gray Skin, Scarred R...\n",
       "..          ...                                                ...\n",
       "144  fig-011942  AT-AT Driver - Light Bluish Grey Helmet, Sand ...\n",
       "145  fig-011944  Snowtrooper, White Hips, Reddish Brown Head, F...\n",
       "146  fig-011945  Snowtrooper, White Hips, Light Flesh Head, Female\n",
       "147  fig-011946  Snowtrooper, White Hips, Light Flesh Head, Off...\n",
       "148  fig-011957    Snowtrooper, White Hips, Light Flesh Head, Grin\n",
       "\n",
       "[149 rows x 2 columns]"
      ]
     },
     "execution_count": 49,
     "metadata": {},
     "output_type": "execute_result"
    }
   ],
   "source": [
    "### CODE CHECK ###\n",
    "minifigs_from_themes(171)"
   ]
  },
  {
   "cell_type": "markdown",
   "metadata": {
    "id": "nAiyZ1lJjykV"
   },
   "source": [
    "**Q24:** \n",
    "- Create a function called `sets_from_minifig` that takes as input a minifig number (as a string) and returns a list of sets a minifig has appeared in.  \n",
    "- Return a DataFrame (sorted by `set_num` and then by `version`) with the following columns: `set_num`, `version`,`name_sets`, `fig_num`, `fig_name`.  \n",
    "- The index should go from 0 to n-1."
   ]
  },
  {
   "cell_type": "code",
   "execution_count": 50,
   "metadata": {
    "id": "DHjZ3jGsjykV"
   },
   "outputs": [],
   "source": [
    "### ENTER CODE HERE ###\n",
    "def sets_from_minifig(fig_num):\n",
    "  df = big_merged_table[big_merged_table['fig_num']==fig_num].rename({'name':'fig_name'},axis=1)\n",
    "\n",
    "  return df.sort_values(by=['set_num','version']).reset_index()[['set_num','version','name_sets','fig_num','fig_name']]"
   ]
  },
  {
   "cell_type": "markdown",
   "metadata": {
    "id": "uUWr_w55jykV"
   },
   "source": [
    "**Code Check:** Call your `sets_from_minifig()` function on one of the Lego Friends minifigs, Andrea, who has figure number: `fig-001039`.  Your function should return a DataFrame that contains the following sets:\n",
    "\n",
    "- Andrea on the Beach\n",
    "- Birthday Party\n",
    "- City Park Cafe"
   ]
  },
  {
   "cell_type": "code",
   "execution_count": 51,
   "metadata": {
    "colab": {
     "base_uri": "https://localhost:8080/",
     "height": 143
    },
    "id": "jCwW2NjEjykV",
    "outputId": "0b426c57-3b3c-4159-f0ab-230941180d2d"
   },
   "outputs": [
    {
     "data": {
      "text/html": [
       "<div>\n",
       "<style scoped>\n",
       "    .dataframe tbody tr th:only-of-type {\n",
       "        vertical-align: middle;\n",
       "    }\n",
       "\n",
       "    .dataframe tbody tr th {\n",
       "        vertical-align: top;\n",
       "    }\n",
       "\n",
       "    .dataframe thead th {\n",
       "        text-align: right;\n",
       "    }\n",
       "</style>\n",
       "<table border=\"1\" class=\"dataframe\">\n",
       "  <thead>\n",
       "    <tr style=\"text-align: right;\">\n",
       "      <th></th>\n",
       "      <th>set_num</th>\n",
       "      <th>version</th>\n",
       "      <th>name_sets</th>\n",
       "      <th>fig_num</th>\n",
       "      <th>fig_name</th>\n",
       "    </tr>\n",
       "  </thead>\n",
       "  <tbody>\n",
       "    <tr>\n",
       "      <th>0</th>\n",
       "      <td>30100-1</td>\n",
       "      <td>1</td>\n",
       "      <td>Andrea on the Beach</td>\n",
       "      <td>fig-001039</td>\n",
       "      <td>Andrea - Bright Light Orange Top, Light Aqua S...</td>\n",
       "    </tr>\n",
       "    <tr>\n",
       "      <th>1</th>\n",
       "      <td>30107-1</td>\n",
       "      <td>1</td>\n",
       "      <td>Birthday Party</td>\n",
       "      <td>fig-001039</td>\n",
       "      <td>Andrea - Bright Light Orange Top, Light Aqua S...</td>\n",
       "    </tr>\n",
       "    <tr>\n",
       "      <th>2</th>\n",
       "      <td>3061-1</td>\n",
       "      <td>1</td>\n",
       "      <td>City Park Café</td>\n",
       "      <td>fig-001039</td>\n",
       "      <td>Andrea - Bright Light Orange Top, Light Aqua S...</td>\n",
       "    </tr>\n",
       "  </tbody>\n",
       "</table>\n",
       "</div>"
      ],
      "text/plain": [
       "   set_num  version            name_sets     fig_num  \\\n",
       "0  30100-1        1  Andrea on the Beach  fig-001039   \n",
       "1  30107-1        1       Birthday Party  fig-001039   \n",
       "2   3061-1        1       City Park Café  fig-001039   \n",
       "\n",
       "                                            fig_name  \n",
       "0  Andrea - Bright Light Orange Top, Light Aqua S...  \n",
       "1  Andrea - Bright Light Orange Top, Light Aqua S...  \n",
       "2  Andrea - Bright Light Orange Top, Light Aqua S...  "
      ]
     },
     "execution_count": 51,
     "metadata": {},
     "output_type": "execute_result"
    }
   ],
   "source": [
    "### CODE CHECK ###\n",
    "sets_from_minifig('fig-001039')"
   ]
  },
  {
   "cell_type": "markdown",
   "metadata": {
    "id": "FP71wCs9jykV"
   },
   "source": [
    "**Q25:** \n",
    "- Create a function called `set_parts` that takes as input the set number (as a string) and version number (as an integer) and outputs a DataFrame with each part in the set.  \n",
    "- The DataFrame should have the following columns/column names: `set_num`, `version`, `name_sets`, `year`, `name_themes`, `part_num`, `name_part`, `name_color`,`quantity`,`is_spare`.  \n",
    "- The Data should be sorted by `part_num` and then `name_color`.  \n",
    "- The index should go from 0 to n-1."
   ]
  },
  {
   "cell_type": "code",
   "execution_count": 52,
   "metadata": {
    "id": "Z2lsgm2MKqz5"
   },
   "outputs": [],
   "source": [
    "big_merged_table = big_merged_table.merge(inventory_parts, on='inventory_id', suffixes=('_fig','_part')).rename({'name':'fig_name'},axis=1)\n",
    "big_merged_table = big_merged_table.merge(colors, left_on='color_id', right_on='id').drop(columns=['id','id_inventory','id_themes']).rename({'name':'name_color'},axis=1)\n",
    "big_merged_table = big_merged_table.merge(parts, on='part_num').rename({'name':'name_part'},axis=1)"
   ]
  },
  {
   "cell_type": "code",
   "execution_count": 53,
   "metadata": {
    "id": "dHFnZCyQjykV"
   },
   "outputs": [],
   "source": [
    "### ENTER CODE HERE ###\n",
    "def set_parts(set_num, version=1):\n",
    "  df = big_merged_table[big_merged_table['set_num']==set_num]\n",
    "  df = df[df['version']==version].rename({'quantity_part':'quantity'},axis=1)\n",
    "  df = df[['set_num','version','name_sets','year','name_themes','part_num','name_part','name_color','quantity','is_spare']].drop_duplicates().reset_index(drop=True)\n",
    "\n",
    "  return df.sort_values(['part_num','name_color'])"
   ]
  },
  {
   "cell_type": "markdown",
   "metadata": {
    "id": "5jgoV0fQjykV"
   },
   "source": [
    "**Code Check**: Using the `set_parts()` function, output a list of parts for the set discussed in `Q19`. There should be a total of 730 rows in the DataFrame, which includes 676 parts and 54 spare parts. You can check the respective page on the rebrickable website to verify these results."
   ]
  },
  {
   "cell_type": "code",
   "execution_count": 54,
   "metadata": {
    "colab": {
     "base_uri": "https://localhost:8080/",
     "height": 424
    },
    "id": "wN07bQTgjykV",
    "outputId": "32bb989a-0761-4498-ee4d-53c142fab2c4"
   },
   "outputs": [
    {
     "data": {
      "text/html": [
       "<div>\n",
       "<style scoped>\n",
       "    .dataframe tbody tr th:only-of-type {\n",
       "        vertical-align: middle;\n",
       "    }\n",
       "\n",
       "    .dataframe tbody tr th {\n",
       "        vertical-align: top;\n",
       "    }\n",
       "\n",
       "    .dataframe thead th {\n",
       "        text-align: right;\n",
       "    }\n",
       "</style>\n",
       "<table border=\"1\" class=\"dataframe\">\n",
       "  <thead>\n",
       "    <tr style=\"text-align: right;\">\n",
       "      <th></th>\n",
       "      <th>set_num</th>\n",
       "      <th>version</th>\n",
       "      <th>name_sets</th>\n",
       "      <th>year</th>\n",
       "      <th>name_themes</th>\n",
       "      <th>part_num</th>\n",
       "      <th>name_part</th>\n",
       "      <th>name_color</th>\n",
       "      <th>quantity</th>\n",
       "      <th>is_spare</th>\n",
       "    </tr>\n",
       "  </thead>\n",
       "  <tbody>\n",
       "    <tr>\n",
       "      <th>644</th>\n",
       "      <td>75192-1</td>\n",
       "      <td>1</td>\n",
       "      <td>Millennium Falcon</td>\n",
       "      <td>2017</td>\n",
       "      <td>Ultimate Collector Series</td>\n",
       "      <td>10197</td>\n",
       "      <td>Technic Pin Connector Hub with 2 Perpendicular...</td>\n",
       "      <td>Dark Bluish Gray</td>\n",
       "      <td>3</td>\n",
       "      <td>f</td>\n",
       "    </tr>\n",
       "    <tr>\n",
       "      <th>560</th>\n",
       "      <td>75192-1</td>\n",
       "      <td>1</td>\n",
       "      <td>Millennium Falcon</td>\n",
       "      <td>2017</td>\n",
       "      <td>Ultimate Collector Series</td>\n",
       "      <td>10201</td>\n",
       "      <td>Bracket 1 x 2 - 1 x 4 [Rounded Corners]</td>\n",
       "      <td>Light Bluish Gray</td>\n",
       "      <td>12</td>\n",
       "      <td>f</td>\n",
       "    </tr>\n",
       "    <tr>\n",
       "      <th>538</th>\n",
       "      <td>75192-1</td>\n",
       "      <td>1</td>\n",
       "      <td>Millennium Falcon</td>\n",
       "      <td>2017</td>\n",
       "      <td>Ultimate Collector Series</td>\n",
       "      <td>10247</td>\n",
       "      <td>Plate Special 2 x 2 with 1 Pin Hole [Complete ...</td>\n",
       "      <td>Dark Bluish Gray</td>\n",
       "      <td>5</td>\n",
       "      <td>f</td>\n",
       "    </tr>\n",
       "    <tr>\n",
       "      <th>537</th>\n",
       "      <td>75192-1</td>\n",
       "      <td>1</td>\n",
       "      <td>Millennium Falcon</td>\n",
       "      <td>2017</td>\n",
       "      <td>Ultimate Collector Series</td>\n",
       "      <td>10247</td>\n",
       "      <td>Plate Special 2 x 2 with 1 Pin Hole [Complete ...</td>\n",
       "      <td>White</td>\n",
       "      <td>22</td>\n",
       "      <td>f</td>\n",
       "    </tr>\n",
       "    <tr>\n",
       "      <th>634</th>\n",
       "      <td>75192-1</td>\n",
       "      <td>1</td>\n",
       "      <td>Millennium Falcon</td>\n",
       "      <td>2017</td>\n",
       "      <td>Ultimate Collector Series</td>\n",
       "      <td>10314</td>\n",
       "      <td>Brick Curved 1 x 4 x 1 1/3 No Studs, Curved To...</td>\n",
       "      <td>Tan</td>\n",
       "      <td>3</td>\n",
       "      <td>f</td>\n",
       "    </tr>\n",
       "    <tr>\n",
       "      <th>...</th>\n",
       "      <td>...</td>\n",
       "      <td>...</td>\n",
       "      <td>...</td>\n",
       "      <td>...</td>\n",
       "      <td>...</td>\n",
       "      <td>...</td>\n",
       "      <td>...</td>\n",
       "      <td>...</td>\n",
       "      <td>...</td>\n",
       "      <td>...</td>\n",
       "    </tr>\n",
       "    <tr>\n",
       "      <th>601</th>\n",
       "      <td>75192-1</td>\n",
       "      <td>1</td>\n",
       "      <td>Millennium Falcon</td>\n",
       "      <td>2017</td>\n",
       "      <td>Ultimate Collector Series</td>\n",
       "      <td>99563</td>\n",
       "      <td>Tile Special 1 x 2 with Sloped Walls AKA Money...</td>\n",
       "      <td>Light Bluish Gray</td>\n",
       "      <td>70</td>\n",
       "      <td>f</td>\n",
       "    </tr>\n",
       "    <tr>\n",
       "      <th>396</th>\n",
       "      <td>75192-1</td>\n",
       "      <td>1</td>\n",
       "      <td>Millennium Falcon</td>\n",
       "      <td>2017</td>\n",
       "      <td>Ultimate Collector Series</td>\n",
       "      <td>99780</td>\n",
       "      <td>Bracket 1 x 2 - 1 x 2 Inverted</td>\n",
       "      <td>Black</td>\n",
       "      <td>6</td>\n",
       "      <td>f</td>\n",
       "    </tr>\n",
       "    <tr>\n",
       "      <th>397</th>\n",
       "      <td>75192-1</td>\n",
       "      <td>1</td>\n",
       "      <td>Millennium Falcon</td>\n",
       "      <td>2017</td>\n",
       "      <td>Ultimate Collector Series</td>\n",
       "      <td>99780</td>\n",
       "      <td>Bracket 1 x 2 - 1 x 2 Inverted</td>\n",
       "      <td>Dark Bluish Gray</td>\n",
       "      <td>25</td>\n",
       "      <td>f</td>\n",
       "    </tr>\n",
       "    <tr>\n",
       "      <th>518</th>\n",
       "      <td>75192-1</td>\n",
       "      <td>1</td>\n",
       "      <td>Millennium Falcon</td>\n",
       "      <td>2017</td>\n",
       "      <td>Ultimate Collector Series</td>\n",
       "      <td>99781</td>\n",
       "      <td>Bracket 1 x 2 - 1 x 2</td>\n",
       "      <td>Light Bluish Gray</td>\n",
       "      <td>2</td>\n",
       "      <td>f</td>\n",
       "    </tr>\n",
       "    <tr>\n",
       "      <th>699</th>\n",
       "      <td>75192-1</td>\n",
       "      <td>1</td>\n",
       "      <td>Millennium Falcon</td>\n",
       "      <td>2017</td>\n",
       "      <td>Ultimate Collector Series</td>\n",
       "      <td>99784</td>\n",
       "      <td>Bar 1 x 12 with 1 x 2 Plate End with Hollow St...</td>\n",
       "      <td>Light Bluish Gray</td>\n",
       "      <td>3</td>\n",
       "      <td>f</td>\n",
       "    </tr>\n",
       "  </tbody>\n",
       "</table>\n",
       "<p>730 rows × 10 columns</p>\n",
       "</div>"
      ],
      "text/plain": [
       "     set_num  version          name_sets  year                name_themes  \\\n",
       "644  75192-1        1  Millennium Falcon  2017  Ultimate Collector Series   \n",
       "560  75192-1        1  Millennium Falcon  2017  Ultimate Collector Series   \n",
       "538  75192-1        1  Millennium Falcon  2017  Ultimate Collector Series   \n",
       "537  75192-1        1  Millennium Falcon  2017  Ultimate Collector Series   \n",
       "634  75192-1        1  Millennium Falcon  2017  Ultimate Collector Series   \n",
       "..       ...      ...                ...   ...                        ...   \n",
       "601  75192-1        1  Millennium Falcon  2017  Ultimate Collector Series   \n",
       "396  75192-1        1  Millennium Falcon  2017  Ultimate Collector Series   \n",
       "397  75192-1        1  Millennium Falcon  2017  Ultimate Collector Series   \n",
       "518  75192-1        1  Millennium Falcon  2017  Ultimate Collector Series   \n",
       "699  75192-1        1  Millennium Falcon  2017  Ultimate Collector Series   \n",
       "\n",
       "    part_num                                          name_part  \\\n",
       "644    10197  Technic Pin Connector Hub with 2 Perpendicular...   \n",
       "560    10201            Bracket 1 x 2 - 1 x 4 [Rounded Corners]   \n",
       "538    10247  Plate Special 2 x 2 with 1 Pin Hole [Complete ...   \n",
       "537    10247  Plate Special 2 x 2 with 1 Pin Hole [Complete ...   \n",
       "634    10314  Brick Curved 1 x 4 x 1 1/3 No Studs, Curved To...   \n",
       "..       ...                                                ...   \n",
       "601    99563  Tile Special 1 x 2 with Sloped Walls AKA Money...   \n",
       "396    99780                     Bracket 1 x 2 - 1 x 2 Inverted   \n",
       "397    99780                     Bracket 1 x 2 - 1 x 2 Inverted   \n",
       "518    99781                              Bracket 1 x 2 - 1 x 2   \n",
       "699    99784  Bar 1 x 12 with 1 x 2 Plate End with Hollow St...   \n",
       "\n",
       "            name_color  quantity is_spare  \n",
       "644   Dark Bluish Gray         3        f  \n",
       "560  Light Bluish Gray        12        f  \n",
       "538   Dark Bluish Gray         5        f  \n",
       "537              White        22        f  \n",
       "634                Tan         3        f  \n",
       "..                 ...       ...      ...  \n",
       "601  Light Bluish Gray        70        f  \n",
       "396              Black         6        f  \n",
       "397   Dark Bluish Gray        25        f  \n",
       "518  Light Bluish Gray         2        f  \n",
       "699  Light Bluish Gray         3        f  \n",
       "\n",
       "[730 rows x 10 columns]"
      ]
     },
     "execution_count": 54,
     "metadata": {},
     "output_type": "execute_result"
    }
   ],
   "source": [
    "### CODE CHECK ###\n",
    "set_parts(Q19)"
   ]
  },
  {
   "cell_type": "markdown",
   "metadata": {
    "id": "ueKM5s1ZjykV"
   },
   "source": [
    "  **Q26:**  Get a list of all unique color names, sort by color name, and output as a list.  Save this as `Q26`. "
   ]
  },
  {
   "cell_type": "code",
   "execution_count": 55,
   "metadata": {
    "colab": {
     "base_uri": "https://localhost:8080/"
    },
    "id": "_ITilxuOjykW",
    "outputId": "814f25ba-8f18-4e8a-e1ef-8c8a3c2dc32e"
   },
   "outputs": [
    {
     "data": {
      "text/plain": [
       "['Black',\n",
       " 'Yellow',\n",
       " 'Dark Gray',\n",
       " 'Light Gray',\n",
       " 'Red',\n",
       " 'White',\n",
       " 'Blue',\n",
       " 'Reddish Brown',\n",
       " 'Dark Turquoise',\n",
       " 'Dark Bluish Gray',\n",
       " 'Dark Orange',\n",
       " 'Medium Azure',\n",
       " 'Dark Blue',\n",
       " 'Trans-Red',\n",
       " 'Trans-Dark Blue',\n",
       " 'Green',\n",
       " 'Brown',\n",
       " 'Light Bluish Gray',\n",
       " 'Trans-Neon Orange',\n",
       " 'Sand Green',\n",
       " 'Orange',\n",
       " 'Dark Tan',\n",
       " 'Dark Green',\n",
       " 'Dark Red',\n",
       " 'Lime',\n",
       " 'Dark Purple',\n",
       " 'Magenta',\n",
       " 'Tan',\n",
       " 'Dark Azure',\n",
       " 'Metallic Silver',\n",
       " 'Trans-Clear',\n",
       " 'Medium Blue',\n",
       " 'Bright Green',\n",
       " 'Dark Pink',\n",
       " 'Pink',\n",
       " 'Dark Brown',\n",
       " 'Pearl Gold',\n",
       " 'Medium Dark Flesh',\n",
       " 'Bright Pink',\n",
       " 'Sand Blue',\n",
       " 'Bright Light Orange',\n",
       " 'Coral',\n",
       " 'Light Aqua',\n",
       " 'Bright Light Blue',\n",
       " 'Medium Lavender',\n",
       " 'Lavender',\n",
       " 'Bright Light Yellow',\n",
       " 'Vibrant Yellow',\n",
       " 'Blue-Violet',\n",
       " 'Earth Orange',\n",
       " 'Milky White',\n",
       " 'Maersk Blue',\n",
       " 'Yellowish Green',\n",
       " 'Pastel Blue',\n",
       " 'Medium Orange',\n",
       " 'Flat Silver',\n",
       " 'Purple',\n",
       " 'Glow in Dark White',\n",
       " 'Pearl Light Gray',\n",
       " 'Olive Green',\n",
       " 'Trans-Yellow',\n",
       " 'Trans-Green',\n",
       " 'Trans-Light Blue',\n",
       " 'Trans-Neon Green',\n",
       " 'Trans-Black',\n",
       " 'Chrome Gold',\n",
       " 'Chrome Silver',\n",
       " 'Trans-Orange',\n",
       " 'Trans-Medium Blue',\n",
       " 'Sand Red',\n",
       " 'Trans-Dark Pink',\n",
       " 'Flesh',\n",
       " 'Light Flesh',\n",
       " 'Glow In Dark Opaque',\n",
       " 'Trans-Bright Green',\n",
       " 'Metallic Gold',\n",
       " 'Glow In Dark Trans',\n",
       " 'Trans-Blue Opal',\n",
       " 'Trans-Brown Opal',\n",
       " 'Trans-Purple',\n",
       " 'Light Violet',\n",
       " 'Light Yellow',\n",
       " 'Sand Purple',\n",
       " 'Glitter Trans-Purple',\n",
       " 'Glitter Trans-Dark Pink',\n",
       " 'Medium Green',\n",
       " 'Trans-Clear Opal',\n",
       " 'Pearl Dark Gray',\n",
       " 'Chrome Antique Brass',\n",
       " 'Rust',\n",
       " 'Trans-Dark Blue Opal',\n",
       " 'Speckle Black-Silver',\n",
       " 'Light Green',\n",
       " 'Copper',\n",
       " 'Trans-Medium Reddish Violet Opal',\n",
       " 'Glitter Trans-Neon Green',\n",
       " 'Violet',\n",
       " 'Dark Flesh',\n",
       " 'Metal Blue',\n",
       " 'Flat Dark Gold',\n",
       " 'Glitter Trans-Light Blue',\n",
       " 'Light Purple',\n",
       " 'Chrome Green',\n",
       " '[No Color/Any Color]',\n",
       " 'Glitter Trans-Clear',\n",
       " 'Royal Blue',\n",
       " 'Chrome Blue',\n",
       " 'Light Turquoise',\n",
       " 'Trans-Green Opal',\n",
       " 'Trans-Purple Opal',\n",
       " 'Light Blue',\n",
       " 'Sky Blue',\n",
       " 'Very Light Bluish Gray',\n",
       " 'Speckle Black-Gold',\n",
       " 'Dark Blue-Violet',\n",
       " 'Speckle Black-Copper',\n",
       " 'Glitter Trans-Orange']"
      ]
     },
     "execution_count": 55,
     "metadata": {},
     "output_type": "execute_result"
    }
   ],
   "source": [
    "### ENTER CODE HERE ###\n",
    "Q26 = big_merged_table['name_color'].drop_duplicates().values.tolist()\n",
    "Q26"
   ]
  },
  {
   "cell_type": "markdown",
   "metadata": {
    "id": "atl7xaFijykW"
   },
   "source": [
    "**Q27:** How many total transparent colors are in the `colors` DataFrame?  Save this as `Q27` (as an integer)."
   ]
  },
  {
   "cell_type": "code",
   "execution_count": 56,
   "metadata": {
    "id": "B1BYTPxajykW"
   },
   "outputs": [],
   "source": [
    "### ENTER CODE HERE ###\n",
    "Q27 = colors[colors['is_trans']=='t']['id'].count()\n",
    "\n",
    "#Q27=0\n",
    "#for i in Q26:\n",
    "#  if 'trans' in i.lower():\n",
    "#    Q27+=1\n",
    "#Q27"
   ]
  },
  {
   "cell_type": "markdown",
   "metadata": {
    "id": "lDuJRk9ZjykW"
   },
   "source": [
    "**Q28:**  \n",
    "- Create a function called `get_part_colors` that takes as input a part number (as a string) and returns a DataFrame of all colors a part has appeared in.  \n",
    "- The output will return the corresponding rows from the `colors` DataFrame for each color.\n",
    "- The DataFrame should be sorted by color id  \n",
    "- **Do not reset the index.**"
   ]
  },
  {
   "cell_type": "code",
   "execution_count": 57,
   "metadata": {
    "id": "FjOeeWN3jykW"
   },
   "outputs": [],
   "source": [
    "### ENTER CODE HERE ###\n",
    "def get_part_colors(part_num):\n",
    "  df = colors.merge(inventory_parts, left_on='id', right_on='color_id').drop(columns='color_id').merge(parts, on='part_num', suffixes=(None,'_part'))\n",
    "  df = df[df['part_num']==part_num]\n",
    "\n",
    "\n",
    "  return df[['id','name','rgb','is_trans']].sort_values(['id'])"
   ]
  },
  {
   "cell_type": "code",
   "execution_count": 58,
   "metadata": {
    "colab": {
     "base_uri": "https://localhost:8080/",
     "height": 424
    },
    "id": "wQmF_5ZfTyq5",
    "outputId": "bea08997-eed6-4b99-86dd-f56c9e71cdf2"
   },
   "outputs": [
    {
     "data": {
      "text/html": [
       "<div>\n",
       "<style scoped>\n",
       "    .dataframe tbody tr th:only-of-type {\n",
       "        vertical-align: middle;\n",
       "    }\n",
       "\n",
       "    .dataframe tbody tr th {\n",
       "        vertical-align: top;\n",
       "    }\n",
       "\n",
       "    .dataframe thead th {\n",
       "        text-align: right;\n",
       "    }\n",
       "</style>\n",
       "<table border=\"1\" class=\"dataframe\">\n",
       "  <thead>\n",
       "    <tr style=\"text-align: right;\">\n",
       "      <th></th>\n",
       "      <th>id</th>\n",
       "      <th>name</th>\n",
       "      <th>rgb</th>\n",
       "      <th>is_trans</th>\n",
       "    </tr>\n",
       "  </thead>\n",
       "  <tbody>\n",
       "    <tr>\n",
       "      <th>2</th>\n",
       "      <td>-1</td>\n",
       "      <td>[Unknown]</td>\n",
       "      <td>0033B2</td>\n",
       "      <td>f</td>\n",
       "    </tr>\n",
       "    <tr>\n",
       "      <th>70</th>\n",
       "      <td>0</td>\n",
       "      <td>Black</td>\n",
       "      <td>05131D</td>\n",
       "      <td>f</td>\n",
       "    </tr>\n",
       "    <tr>\n",
       "      <th>69</th>\n",
       "      <td>0</td>\n",
       "      <td>Black</td>\n",
       "      <td>05131D</td>\n",
       "      <td>f</td>\n",
       "    </tr>\n",
       "    <tr>\n",
       "      <th>68</th>\n",
       "      <td>0</td>\n",
       "      <td>Black</td>\n",
       "      <td>05131D</td>\n",
       "      <td>f</td>\n",
       "    </tr>\n",
       "    <tr>\n",
       "      <th>67</th>\n",
       "      <td>0</td>\n",
       "      <td>Black</td>\n",
       "      <td>05131D</td>\n",
       "      <td>f</td>\n",
       "    </tr>\n",
       "    <tr>\n",
       "      <th>...</th>\n",
       "      <td>...</td>\n",
       "      <td>...</td>\n",
       "      <td>...</td>\n",
       "      <td>...</td>\n",
       "    </tr>\n",
       "    <tr>\n",
       "      <th>3842</th>\n",
       "      <td>1050</td>\n",
       "      <td>Coral</td>\n",
       "      <td>FF698F</td>\n",
       "      <td>f</td>\n",
       "    </tr>\n",
       "    <tr>\n",
       "      <th>3843</th>\n",
       "      <td>1050</td>\n",
       "      <td>Coral</td>\n",
       "      <td>FF698F</td>\n",
       "      <td>f</td>\n",
       "    </tr>\n",
       "    <tr>\n",
       "      <th>3844</th>\n",
       "      <td>1050</td>\n",
       "      <td>Coral</td>\n",
       "      <td>FF698F</td>\n",
       "      <td>f</td>\n",
       "    </tr>\n",
       "    <tr>\n",
       "      <th>3845</th>\n",
       "      <td>1050</td>\n",
       "      <td>Coral</td>\n",
       "      <td>FF698F</td>\n",
       "      <td>f</td>\n",
       "    </tr>\n",
       "    <tr>\n",
       "      <th>3847</th>\n",
       "      <td>1057</td>\n",
       "      <td>Trans-Light Bright Green</td>\n",
       "      <td>C9E788</td>\n",
       "      <td>t</td>\n",
       "    </tr>\n",
       "  </tbody>\n",
       "</table>\n",
       "<p>3846 rows × 4 columns</p>\n",
       "</div>"
      ],
      "text/plain": [
       "        id                      name     rgb is_trans\n",
       "2       -1                 [Unknown]  0033B2        f\n",
       "70       0                     Black  05131D        f\n",
       "69       0                     Black  05131D        f\n",
       "68       0                     Black  05131D        f\n",
       "67       0                     Black  05131D        f\n",
       "...    ...                       ...     ...      ...\n",
       "3842  1050                     Coral  FF698F        f\n",
       "3843  1050                     Coral  FF698F        f\n",
       "3844  1050                     Coral  FF698F        f\n",
       "3845  1050                     Coral  FF698F        f\n",
       "3847  1057  Trans-Light Bright Green  C9E788        t\n",
       "\n",
       "[3846 rows x 4 columns]"
      ]
     },
     "execution_count": 58,
     "metadata": {},
     "output_type": "execute_result"
    }
   ],
   "source": [
    "get_part_colors('3437')"
   ]
  },
  {
   "cell_type": "markdown",
   "metadata": {
    "id": "pgohuqDojykW"
   },
   "source": [
    "## Optional Exercises\n",
    "These exercises are optional and are not graded by CodeGrade.  They can be used as extra optional practice.\n",
    "\n",
    "- What minifig has the most number of parts?\n",
    "- What minifig shows up in the most number of sets?\n",
    "- When was the first minifig included in a set?\n",
    "- What set has the most number of minifigs\n",
    "- What part is used the most for all sets?\n",
    "- What color is used the most for all parts?\n",
    "- What part / color combination is used the most for all sets?\n",
    "- What part / color combination is used the least for all sets?\n",
    "- Explore some of your favorite themes and which colors are used the most for those themes.\n",
    "- Plot a line graph of the average number of parts per set per year.\n"
   ]
  }
 ],
 "metadata": {
  "colab": {
   "name": "lego.ipynb",
   "provenance": []
  },
  "kernelspec": {
   "display_name": "Python 3",
   "language": "python",
   "name": "python3"
  },
  "language_info": {
   "codemirror_mode": {
    "name": "ipython",
    "version": 3
   },
   "file_extension": ".py",
   "mimetype": "text/x-python",
   "name": "python",
   "nbconvert_exporter": "python",
   "pygments_lexer": "ipython3",
   "version": "3.8.8"
  }
 },
 "nbformat": 4,
 "nbformat_minor": 1
}
