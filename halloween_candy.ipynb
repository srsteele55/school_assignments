{
  "cells": [
    {
      "cell_type": "markdown",
      "metadata": {
        "id": "1XDWHf5Aa6Xu"
      },
      "source": [
        "# DTSC 580: Data Manipulation\n",
        "\n",
        "## Assignment:  Halloween Candy\n",
        "\n",
        "### Name: \n",
        "\n",
        "## Overview\n",
        "\n",
        "In this assignment, your job will be to clean and wrangle data from a survey of Halloween candy to prepare it for a machine learning project. After completing your assignment, you will:\n",
        "\n",
        "1. submit your notebook to be automatically graded to CodeGrade \n",
        "\n",
        "2. answer questions about this data and the cleaning process through a Brightspace quiz. \n",
        "\n",
        "Once you have completed all the tasks in the notebook, save your notebook as `halloween_candy`, and verify that all the tests pass in CodeGrade.  Then when you take the quiz you can be more sure that the answers you provide in the quiz are accurate.  **Note that some CodeGrade automatic tests will not pass until the entire notebook is finished so you should wait until at least you have completed the data cleaning section to check that part of your work.**\n",
        "\n",
        "## Data Set\n",
        "\n",
        "The data set that we will be using is the 2017 Halloween Candy Hierarchy data set as discussed in this [boingboing](https://boingboing.net/2017/10/30/the-2017-halloween-candy-hiera.html) article.  You can also read more about the data in the [Science Creative Quarterly](https://www.scq.ubc.ca/so-much-candy-data-seriously/).\n",
        "\n",
        "The following are the rating instructions from the survey:  \n",
        "\n",
        "> Basically, consider that feeling you get when you receive this item in your Halloween haul. Does it make you really happy (JOY)? Or is it something that you automatically place in the junk pile (DESPAIR)? MEH for indifference, and you can leave blank if you have no idea what the item is.\n",
        "\n",
        "Note that the original data set has been slightly altered from its original state, and if you wanted to perform any analysis for future projects, you would need to download the data directly from the links above.\n",
        "\n",
        "This data is a great example of a messy data set, especially since they allowed respondents to enter text for a number of the fields. Also, note that some of the comments in the file might be considered inappropriate to some readers but cleaning this type of data is normal in a lot of data science projects.\n",
        "\n",
        "## Note\n",
        "\n",
        "<u>Show Work</u>\n",
        "\n",
        "Remember that you must show your work.  Students submissions are spot checked manually throughout the term to verify that they are not hard coding the answer from looking only in the file or in CodeGrade's expected output.  If this is seen, the student's answer will be manually marked wrong and their grade will be changed to reflect this. \n",
        "\n",
        "For example, if the answer to Q1, the mean of a specific column, is 22:\n",
        "```\n",
        "# correct way\n",
        "Q1 = df['column_name'].mean()\n",
        "\n",
        "# incorrect way\n",
        "Q1 = 22 \n",
        "```\n",
        "\n",
        "## Our End Goal\n",
        "\n",
        "Our end goal for this project is to clean the data so that we could then create a machine learning model. We want to see if we are able to predict a person's gender based purely on their candy preferences. Although, you will not be creating a model for this assignment, only cleaning the data. The results of the models that I used after cleaning the data are provided at the end of this notebook.\n",
        "\n",
        "## Initial Import & Exploration"
      ]
    },
    {
      "cell_type": "code",
      "execution_count": 904,
      "metadata": {
        "scrolled": true,
        "id": "8l34sFOCa6X0"
      },
      "outputs": [],
      "source": [
        "# initial imports\n",
        "import pandas as pd\n",
        "import numpy as np\n",
        "\n",
        "# Do not change this option; This allows the CodeGrade auto grading to function correctly\n",
        "pd.set_option('display.max_columns', 20)"
      ]
    },
    {
      "cell_type": "markdown",
      "metadata": {
        "id": "fGoKGt8_a6X3"
      },
      "source": [
        "Let's start by importing our data and creating a DataFrame called `candy`.  We need to include `encoding='iso-8859-1'` during the import because there are special characters in the data that Pandas doesn't recognize. This happens a lot when attempting to import data where the public is able to input answers, especially if there are foreign language characters included. The normal encoding for Pandas is `utf-8`, so changing the encoding allows Pandas to recognize those special characters. \n",
        "\n",
        "Run the following code, with the encoding argument, and it should import correctly."
      ]
    },
    {
      "cell_type": "code",
      "execution_count": 905,
      "metadata": {
        "scrolled": true,
        "id": "t0EMKjt5a6X5"
      },
      "outputs": [],
      "source": [
        "# read_csv with iso-8859-1 encoding; using latin-1 would also work here\n",
        "candy_full = pd.read_csv('candy.csv', encoding='iso-8859-1')\n",
        "\n",
        "# copy to new DF so that we can have a copy of the original import if needed\n",
        "candy = candy_full.copy()"
      ]
    },
    {
      "cell_type": "markdown",
      "metadata": {
        "id": "5Z3BNnkHa6X5"
      },
      "source": [
        "Let's take a brief look at the data by using `head()`."
      ]
    },
    {
      "cell_type": "code",
      "execution_count": 906,
      "metadata": {
        "scrolled": true,
        "colab": {
          "base_uri": "https://localhost:8080/",
          "height": 560
        },
        "id": "eQ_BoPAoa6X6",
        "outputId": "3517652c-778d-4b6d-b12f-c6c0cbc2e7a7"
      },
      "outputs": [
        {
          "output_type": "execute_result",
          "data": {
            "text/plain": [
              "   Internal ID Q1: GOING OUT? Q2: GENDER Q3: AGE Q4: COUNTRY  \\\n",
              "0     90258773            NaN        NaN     NaN         NaN   \n",
              "1     90272821             No       Male      44        USA    \n",
              "2     90272829            NaN       Male      49         USA   \n",
              "3     90272840             No       Male      40          us   \n",
              "4     90272841             No       Male      23         usa   \n",
              "\n",
              "  Q5: STATE, PROVINCE, COUNTY, ETC Q6 | 100 Grand Bar  \\\n",
              "0                              NaN                NaN   \n",
              "1                               NM                MEH   \n",
              "2                         Virginia                NaN   \n",
              "3                               or                MEH   \n",
              "4                         exton pa                JOY   \n",
              "\n",
              "  Q6 | Anonymous brown globs that come in black and orange wrappers\\t(a.k.a. Mary Janes)  \\\n",
              "0                                                NaN                                       \n",
              "1                                            DESPAIR                                       \n",
              "2                                                NaN                                       \n",
              "3                                            DESPAIR                                       \n",
              "4                                            DESPAIR                                       \n",
              "\n",
              "  Q6 | Any full-sized candy bar Q6 | Black Jacks  ... Q8: DESPAIR OTHER  \\\n",
              "0                           NaN              NaN  ...               NaN   \n",
              "1                           JOY              MEH  ...               NaN   \n",
              "2                           NaN              NaN  ...               NaN   \n",
              "3                           JOY              MEH  ...               NaN   \n",
              "4                           JOY          DESPAIR  ...               NaN   \n",
              "\n",
              "                                  Q9: OTHER COMMENTS      Q10: DRESS  \\\n",
              "0                                                NaN             NaN   \n",
              "1  Bottom line is Twix is really the only candy w...  White and gold   \n",
              "2                                                NaN             NaN   \n",
              "3                             Raisins can go to hell  White and gold   \n",
              "4                                                NaN  White and gold   \n",
              "\n",
              "  Unnamed: 113 Q11: DAY Q12: MEDIA [Daily Dish] Q12: MEDIA [Science]  \\\n",
              "0          NaN      NaN                     NaN                  NaN   \n",
              "1          NaN   Sunday                     NaN                  1.0   \n",
              "2          NaN      NaN                     NaN                  NaN   \n",
              "3          NaN   Sunday                     NaN                  1.0   \n",
              "4          NaN   Friday                     NaN                  1.0   \n",
              "\n",
              "  Q12: MEDIA [ESPN] Q12: MEDIA [Yahoo] Click Coordinates (x, y)  \n",
              "0               NaN                NaN                      NaN  \n",
              "1               NaN                NaN                 (84, 25)  \n",
              "2               NaN                NaN                      NaN  \n",
              "3               NaN                NaN                 (75, 23)  \n",
              "4               NaN                NaN                 (70, 10)  \n",
              "\n",
              "[5 rows x 120 columns]"
            ],
            "text/html": [
              "\n",
              "  <div id=\"df-7e1b3287-ece8-412b-9ae6-46429ac34f39\">\n",
              "    <div class=\"colab-df-container\">\n",
              "      <div>\n",
              "<style scoped>\n",
              "    .dataframe tbody tr th:only-of-type {\n",
              "        vertical-align: middle;\n",
              "    }\n",
              "\n",
              "    .dataframe tbody tr th {\n",
              "        vertical-align: top;\n",
              "    }\n",
              "\n",
              "    .dataframe thead th {\n",
              "        text-align: right;\n",
              "    }\n",
              "</style>\n",
              "<table border=\"1\" class=\"dataframe\">\n",
              "  <thead>\n",
              "    <tr style=\"text-align: right;\">\n",
              "      <th></th>\n",
              "      <th>Internal ID</th>\n",
              "      <th>Q1: GOING OUT?</th>\n",
              "      <th>Q2: GENDER</th>\n",
              "      <th>Q3: AGE</th>\n",
              "      <th>Q4: COUNTRY</th>\n",
              "      <th>Q5: STATE, PROVINCE, COUNTY, ETC</th>\n",
              "      <th>Q6 | 100 Grand Bar</th>\n",
              "      <th>Q6 | Anonymous brown globs that come in black and orange wrappers\\t(a.k.a. Mary Janes)</th>\n",
              "      <th>Q6 | Any full-sized candy bar</th>\n",
              "      <th>Q6 | Black Jacks</th>\n",
              "      <th>...</th>\n",
              "      <th>Q8: DESPAIR OTHER</th>\n",
              "      <th>Q9: OTHER COMMENTS</th>\n",
              "      <th>Q10: DRESS</th>\n",
              "      <th>Unnamed: 113</th>\n",
              "      <th>Q11: DAY</th>\n",
              "      <th>Q12: MEDIA [Daily Dish]</th>\n",
              "      <th>Q12: MEDIA [Science]</th>\n",
              "      <th>Q12: MEDIA [ESPN]</th>\n",
              "      <th>Q12: MEDIA [Yahoo]</th>\n",
              "      <th>Click Coordinates (x, y)</th>\n",
              "    </tr>\n",
              "  </thead>\n",
              "  <tbody>\n",
              "    <tr>\n",
              "      <th>0</th>\n",
              "      <td>90258773</td>\n",
              "      <td>NaN</td>\n",
              "      <td>NaN</td>\n",
              "      <td>NaN</td>\n",
              "      <td>NaN</td>\n",
              "      <td>NaN</td>\n",
              "      <td>NaN</td>\n",
              "      <td>NaN</td>\n",
              "      <td>NaN</td>\n",
              "      <td>NaN</td>\n",
              "      <td>...</td>\n",
              "      <td>NaN</td>\n",
              "      <td>NaN</td>\n",
              "      <td>NaN</td>\n",
              "      <td>NaN</td>\n",
              "      <td>NaN</td>\n",
              "      <td>NaN</td>\n",
              "      <td>NaN</td>\n",
              "      <td>NaN</td>\n",
              "      <td>NaN</td>\n",
              "      <td>NaN</td>\n",
              "    </tr>\n",
              "    <tr>\n",
              "      <th>1</th>\n",
              "      <td>90272821</td>\n",
              "      <td>No</td>\n",
              "      <td>Male</td>\n",
              "      <td>44</td>\n",
              "      <td>USA</td>\n",
              "      <td>NM</td>\n",
              "      <td>MEH</td>\n",
              "      <td>DESPAIR</td>\n",
              "      <td>JOY</td>\n",
              "      <td>MEH</td>\n",
              "      <td>...</td>\n",
              "      <td>NaN</td>\n",
              "      <td>Bottom line is Twix is really the only candy w...</td>\n",
              "      <td>White and gold</td>\n",
              "      <td>NaN</td>\n",
              "      <td>Sunday</td>\n",
              "      <td>NaN</td>\n",
              "      <td>1.0</td>\n",
              "      <td>NaN</td>\n",
              "      <td>NaN</td>\n",
              "      <td>(84, 25)</td>\n",
              "    </tr>\n",
              "    <tr>\n",
              "      <th>2</th>\n",
              "      <td>90272829</td>\n",
              "      <td>NaN</td>\n",
              "      <td>Male</td>\n",
              "      <td>49</td>\n",
              "      <td>USA</td>\n",
              "      <td>Virginia</td>\n",
              "      <td>NaN</td>\n",
              "      <td>NaN</td>\n",
              "      <td>NaN</td>\n",
              "      <td>NaN</td>\n",
              "      <td>...</td>\n",
              "      <td>NaN</td>\n",
              "      <td>NaN</td>\n",
              "      <td>NaN</td>\n",
              "      <td>NaN</td>\n",
              "      <td>NaN</td>\n",
              "      <td>NaN</td>\n",
              "      <td>NaN</td>\n",
              "      <td>NaN</td>\n",
              "      <td>NaN</td>\n",
              "      <td>NaN</td>\n",
              "    </tr>\n",
              "    <tr>\n",
              "      <th>3</th>\n",
              "      <td>90272840</td>\n",
              "      <td>No</td>\n",
              "      <td>Male</td>\n",
              "      <td>40</td>\n",
              "      <td>us</td>\n",
              "      <td>or</td>\n",
              "      <td>MEH</td>\n",
              "      <td>DESPAIR</td>\n",
              "      <td>JOY</td>\n",
              "      <td>MEH</td>\n",
              "      <td>...</td>\n",
              "      <td>NaN</td>\n",
              "      <td>Raisins can go to hell</td>\n",
              "      <td>White and gold</td>\n",
              "      <td>NaN</td>\n",
              "      <td>Sunday</td>\n",
              "      <td>NaN</td>\n",
              "      <td>1.0</td>\n",
              "      <td>NaN</td>\n",
              "      <td>NaN</td>\n",
              "      <td>(75, 23)</td>\n",
              "    </tr>\n",
              "    <tr>\n",
              "      <th>4</th>\n",
              "      <td>90272841</td>\n",
              "      <td>No</td>\n",
              "      <td>Male</td>\n",
              "      <td>23</td>\n",
              "      <td>usa</td>\n",
              "      <td>exton pa</td>\n",
              "      <td>JOY</td>\n",
              "      <td>DESPAIR</td>\n",
              "      <td>JOY</td>\n",
              "      <td>DESPAIR</td>\n",
              "      <td>...</td>\n",
              "      <td>NaN</td>\n",
              "      <td>NaN</td>\n",
              "      <td>White and gold</td>\n",
              "      <td>NaN</td>\n",
              "      <td>Friday</td>\n",
              "      <td>NaN</td>\n",
              "      <td>1.0</td>\n",
              "      <td>NaN</td>\n",
              "      <td>NaN</td>\n",
              "      <td>(70, 10)</td>\n",
              "    </tr>\n",
              "  </tbody>\n",
              "</table>\n",
              "<p>5 rows × 120 columns</p>\n",
              "</div>\n",
              "      <button class=\"colab-df-convert\" onclick=\"convertToInteractive('df-7e1b3287-ece8-412b-9ae6-46429ac34f39')\"\n",
              "              title=\"Convert this dataframe to an interactive table.\"\n",
              "              style=\"display:none;\">\n",
              "        \n",
              "  <svg xmlns=\"http://www.w3.org/2000/svg\" height=\"24px\"viewBox=\"0 0 24 24\"\n",
              "       width=\"24px\">\n",
              "    <path d=\"M0 0h24v24H0V0z\" fill=\"none\"/>\n",
              "    <path d=\"M18.56 5.44l.94 2.06.94-2.06 2.06-.94-2.06-.94-.94-2.06-.94 2.06-2.06.94zm-11 1L8.5 8.5l.94-2.06 2.06-.94-2.06-.94L8.5 2.5l-.94 2.06-2.06.94zm10 10l.94 2.06.94-2.06 2.06-.94-2.06-.94-.94-2.06-.94 2.06-2.06.94z\"/><path d=\"M17.41 7.96l-1.37-1.37c-.4-.4-.92-.59-1.43-.59-.52 0-1.04.2-1.43.59L10.3 9.45l-7.72 7.72c-.78.78-.78 2.05 0 2.83L4 21.41c.39.39.9.59 1.41.59.51 0 1.02-.2 1.41-.59l7.78-7.78 2.81-2.81c.8-.78.8-2.07 0-2.86zM5.41 20L4 18.59l7.72-7.72 1.47 1.35L5.41 20z\"/>\n",
              "  </svg>\n",
              "      </button>\n",
              "      \n",
              "  <style>\n",
              "    .colab-df-container {\n",
              "      display:flex;\n",
              "      flex-wrap:wrap;\n",
              "      gap: 12px;\n",
              "    }\n",
              "\n",
              "    .colab-df-convert {\n",
              "      background-color: #E8F0FE;\n",
              "      border: none;\n",
              "      border-radius: 50%;\n",
              "      cursor: pointer;\n",
              "      display: none;\n",
              "      fill: #1967D2;\n",
              "      height: 32px;\n",
              "      padding: 0 0 0 0;\n",
              "      width: 32px;\n",
              "    }\n",
              "\n",
              "    .colab-df-convert:hover {\n",
              "      background-color: #E2EBFA;\n",
              "      box-shadow: 0px 1px 2px rgba(60, 64, 67, 0.3), 0px 1px 3px 1px rgba(60, 64, 67, 0.15);\n",
              "      fill: #174EA6;\n",
              "    }\n",
              "\n",
              "    [theme=dark] .colab-df-convert {\n",
              "      background-color: #3B4455;\n",
              "      fill: #D2E3FC;\n",
              "    }\n",
              "\n",
              "    [theme=dark] .colab-df-convert:hover {\n",
              "      background-color: #434B5C;\n",
              "      box-shadow: 0px 1px 3px 1px rgba(0, 0, 0, 0.15);\n",
              "      filter: drop-shadow(0px 1px 2px rgba(0, 0, 0, 0.3));\n",
              "      fill: #FFFFFF;\n",
              "    }\n",
              "  </style>\n",
              "\n",
              "      <script>\n",
              "        const buttonEl =\n",
              "          document.querySelector('#df-7e1b3287-ece8-412b-9ae6-46429ac34f39 button.colab-df-convert');\n",
              "        buttonEl.style.display =\n",
              "          google.colab.kernel.accessAllowed ? 'block' : 'none';\n",
              "\n",
              "        async function convertToInteractive(key) {\n",
              "          const element = document.querySelector('#df-7e1b3287-ece8-412b-9ae6-46429ac34f39');\n",
              "          const dataTable =\n",
              "            await google.colab.kernel.invokeFunction('convertToInteractive',\n",
              "                                                     [key], {});\n",
              "          if (!dataTable) return;\n",
              "\n",
              "          const docLinkHtml = 'Like what you see? Visit the ' +\n",
              "            '<a target=\"_blank\" href=https://colab.research.google.com/notebooks/data_table.ipynb>data table notebook</a>'\n",
              "            + ' to learn more about interactive tables.';\n",
              "          element.innerHTML = '';\n",
              "          dataTable['output_type'] = 'display_data';\n",
              "          await google.colab.output.renderOutput(dataTable, element);\n",
              "          const docLink = document.createElement('div');\n",
              "          docLink.innerHTML = docLinkHtml;\n",
              "          element.appendChild(docLink);\n",
              "        }\n",
              "      </script>\n",
              "    </div>\n",
              "  </div>\n",
              "  "
            ]
          },
          "metadata": {},
          "execution_count": 906
        }
      ],
      "source": [
        "# first five rows\n",
        "candy.head()"
      ]
    },
    {
      "cell_type": "markdown",
      "metadata": {
        "id": "viX0kqLYa6X8"
      },
      "source": [
        "Next, run the following code to see information about the DataFrame."
      ]
    },
    {
      "cell_type": "code",
      "execution_count": 907,
      "metadata": {
        "scrolled": true,
        "colab": {
          "base_uri": "https://localhost:8080/"
        },
        "id": "0vevr_fHa6X9",
        "outputId": "bf2a6171-e817-4fbe-ba36-e5f0ed50ba13"
      },
      "outputs": [
        {
          "output_type": "stream",
          "name": "stdout",
          "text": [
            "<class 'pandas.core.frame.DataFrame'>\n",
            "RangeIndex: 2479 entries, 0 to 2478\n",
            "Columns: 120 entries, Internal ID to Click Coordinates (x, y)\n",
            "dtypes: float64(4), int64(1), object(115)\n",
            "memory usage: 2.3+ MB\n"
          ]
        }
      ],
      "source": [
        "# check info about the DataFrame\n",
        "candy.info()"
      ]
    },
    {
      "cell_type": "markdown",
      "metadata": {
        "id": "1f-JMKcqa6X9"
      },
      "source": [
        "Notice that this did not print the columns as you might be used to seeing. According to the Pandas documentation:  \"If the DataFrame has more than max_cols columns, the truncated output is used. By default, the setting in pandas.options.display.max_info_columns is used.\" \n",
        "\n",
        "We can make the columns display by setting the `max_cols` argument equal to the number of columns in the data set."
      ]
    },
    {
      "cell_type": "code",
      "execution_count": 908,
      "metadata": {
        "scrolled": false,
        "colab": {
          "base_uri": "https://localhost:8080/"
        },
        "id": "93ytXGfha6X_",
        "outputId": "5026956d-09d1-41d0-db4f-08a368666043"
      },
      "outputs": [
        {
          "output_type": "stream",
          "name": "stdout",
          "text": [
            "<class 'pandas.core.frame.DataFrame'>\n",
            "RangeIndex: 2479 entries, 0 to 2478\n",
            "Data columns (total 120 columns):\n",
            " #    Column                                                                                 Non-Null Count  Dtype  \n",
            "---   ------                                                                                 --------------  -----  \n",
            " 0    Internal ID                                                                            2479 non-null   int64  \n",
            " 1    Q1: GOING OUT?                                                                         2368 non-null   object \n",
            " 2    Q2: GENDER                                                                             2437 non-null   object \n",
            " 3    Q3: AGE                                                                                2394 non-null   object \n",
            " 4    Q4: COUNTRY                                                                            2414 non-null   object \n",
            " 5    Q5: STATE, PROVINCE, COUNTY, ETC                                                       2377 non-null   object \n",
            " 6    Q6 | 100 Grand Bar                                                                     1728 non-null   object \n",
            " 7    Q6 | Anonymous brown globs that come in black and orange wrappers\t(a.k.a. Mary Janes)  1741 non-null   object \n",
            " 8    Q6 | Any full-sized candy bar                                                          1803 non-null   object \n",
            " 9    Q6 | Black Jacks                                                                       1517 non-null   object \n",
            " 10   Q6 | Bonkers (the candy)                                                               1482 non-null   object \n",
            " 11   Q6 | Bonkers (the board game)                                                          1469 non-null   object \n",
            " 12   Q6 | Bottle Caps                                                                       1709 non-null   object \n",
            " 13   Q6 | Box'o'Raisins                                                                     1787 non-null   object \n",
            " 14   Q6 | Broken glow stick                                                                 1767 non-null   object \n",
            " 15   Q6 | Butterfinger                                                                      1793 non-null   object \n",
            " 16   Q6 | Cadbury Creme Eggs                                                                1792 non-null   object \n",
            " 17   Q6 | Candy Corn                                                                        1796 non-null   object \n",
            " 18   Q6 | Candy that is clearly just the stuff given out for free at restaurants            1784 non-null   object \n",
            " 19   Q6 | Caramellos                                                                        1723 non-null   object \n",
            " 20   Q6 | Cash, or other forms of legal tender                                              1795 non-null   object \n",
            " 21   Q6 | Chardonnay                                                                        1732 non-null   object \n",
            " 22   Q6 | Chick-o-Sticks (we donÕt know what that is)                                       1528 non-null   object \n",
            " 23   Q6 | Chiclets                                                                          1764 non-null   object \n",
            " 24   Q6 | Coffee Crisp                                                                      1621 non-null   object \n",
            " 25   Q6 | Creepy Religious comics/Chick Tracts                                              1771 non-null   object \n",
            " 26   Q6 | Dental paraphenalia                                                               1783 non-null   object \n",
            " 27   Q6 | Dots                                                                              1746 non-null   object \n",
            " 28   Q6 | Dove Bars                                                                         1773 non-null   object \n",
            " 29   Q6 | Fuzzy Peaches                                                                     1652 non-null   object \n",
            " 30   Q6 | Generic Brand Acetaminophen                                                       1744 non-null   object \n",
            " 31   Q6 | Glow sticks                                                                       1778 non-null   object \n",
            " 32   Q6 | Goo Goo Clusters                                                                  1595 non-null   object \n",
            " 33   Q6 | Good N' Plenty                                                                    1741 non-null   object \n",
            " 34   Q6 | Gum from baseball cards                                                           1759 non-null   object \n",
            " 35   Q6 | Gummy Bears straight up                                                           1778 non-null   object \n",
            " 36   Q6 | Hard Candy                                                                        1780 non-null   object \n",
            " 37   Q6 | Healthy Fruit                                                                     1781 non-null   object \n",
            " 38   Q6 | Heath Bar                                                                         1763 non-null   object \n",
            " 39   Q6 | Hershey's Dark Chocolate                                                          1802 non-null   object \n",
            " 40   Q6 | HersheyÕs Milk Chocolate                                                          1803 non-null   object \n",
            " 41   Q6 | Hershey's Kisses                                                                  1797 non-null   object \n",
            " 42   Q6 | Hugs (actual physical hugs)                                                       1762 non-null   object \n",
            " 43   Q6 | Jolly Rancher (bad flavor)                                                        1781 non-null   object \n",
            " 44   Q6 | Jolly Ranchers (good flavor)                                                      1780 non-null   object \n",
            " 45   Q6 | JoyJoy (Mit Iodine!)                                                              1449 non-null   object \n",
            " 46   Q6 | Junior Mints                                                                      1777 non-null   object \n",
            " 47   Q6 | Senior Mints                                                                      1532 non-null   object \n",
            " 48   Q6 | Kale smoothie                                                                     1731 non-null   object \n",
            " 49   Q6 | Kinder Happy Hippo                                                                1528 non-null   object \n",
            " 50   Q6 | Kit Kat                                                                           1801 non-null   object \n",
            " 51   Q6 | LaffyTaffy                                                                        1739 non-null   object \n",
            " 52   Q6 | LemonHeads                                                                        1745 non-null   object \n",
            " 53   Q6 | Licorice (not black)                                                              1789 non-null   object \n",
            " 54   Q6 | Licorice (yes black)                                                              1790 non-null   object \n",
            " 55   Q6 | Lindt Truffle                                                                     1757 non-null   object \n",
            " 56   Q6 | Lollipops                                                                         1784 non-null   object \n",
            " 57   Q6 | Mars                                                                              1750 non-null   object \n",
            " 58   Q6 | Maynards                                                                          1450 non-null   object \n",
            " 59   Q6 | Mike and Ike                                                                      1746 non-null   object \n",
            " 60   Q6 | Milk Duds                                                                         1782 non-null   object \n",
            " 61   Q6 | Milky Way                                                                         1787 non-null   object \n",
            " 62   Q6 | Regular M&Ms                                                                      1800 non-null   object \n",
            " 63   Q6 | Peanut M&MÕs                                                                      1804 non-null   object \n",
            " 64   Q6 | Blue M&M's                                                                        1748 non-null   object \n",
            " 65   Q6 | Red M&M's                                                                         1746 non-null   object \n",
            " 66   Q6 | Green Party M&M's                                                                 1711 non-null   object \n",
            " 67   Q6 | Independent M&M's                                                                 1662 non-null   object \n",
            " 68   Q6 | Abstained from M&M'ing.                                                           1532 non-null   object \n",
            " 69   Q6 | Minibags of chips                                                                 1751 non-null   object \n",
            " 70   Q6 | Mint Kisses                                                                       1699 non-null   object \n",
            " 71   Q6 | Mint Juleps                                                                       1664 non-null   object \n",
            " 72   Q6 | Mr. Goodbar                                                                       1735 non-null   object \n",
            " 73   Q6 | Necco Wafers                                                                      1731 non-null   object \n",
            " 74   Q6 | Nerds                                                                             1752 non-null   object \n",
            " 75   Q6 | Nestle Crunch                                                                     1777 non-null   object \n",
            " 76   Q6 | Now'n'Laters                                                                      1657 non-null   object \n",
            " 77   Q6 | Peeps                                                                             1765 non-null   object \n",
            " 78   Q6 | Pencils                                                                           1766 non-null   object \n",
            " 79   Q6 | Pixy Stix                                                                         1753 non-null   object \n",
            " 80   Q6 | Real Housewives of Orange County Season 9 Blue-Ray                                1722 non-null   object \n",
            " 81   Q6 | ReeseÕs Peanut Butter Cups                                                        1796 non-null   object \n",
            " 82   Q6 | Reese's Pieces                                                                    1784 non-null   object \n",
            " 83   Q6 | Reggie Jackson Bar                                                                1460 non-null   object \n",
            " 84   Q6 | Rolos                                                                             1761 non-null   object \n",
            " 85   Q6 | Sandwich-sized bags filled with BooBerry Crunch                                   1699 non-null   object \n",
            " 86   Q6 | Skittles                                                                          1769 non-null   object \n",
            " 87   Q6 | Smarties (American)                                                               1750 non-null   object \n",
            " 88   Q6 | Smarties (Commonwealth)                                                           1573 non-null   object \n",
            " 89   Q6 | Snickers                                                                          1785 non-null   object \n",
            " 90   Q6 | Sourpatch Kids (i.e. abominations of nature)                                      1737 non-null   object \n",
            " 91   Q6 | Spotted Dick                                                                      1593 non-null   object \n",
            " 92   Q6 | Starburst                                                                         1782 non-null   object \n",
            " 93   Q6 | Sweet Tarts                                                                       1767 non-null   object \n",
            " 94   Q6 | Swedish Fish                                                                      1760 non-null   object \n",
            " 95   Q6 | Sweetums (a friend to diabetes)                                                   1472 non-null   object \n",
            " 96   Q6 | Take 5                                                                            1557 non-null   object \n",
            " 97   Q6 | Tic Tacs                                                                          1761 non-null   object \n",
            " 98   Q6 | Those odd marshmallow circus peanut things                                        1739 non-null   object \n",
            " 99   Q6 | Three Musketeers                                                                  1767 non-null   object \n",
            " 100  Q6 | Tolberone something or other                                                      1769 non-null   object \n",
            " 101  Q6 | Trail Mix                                                                         1767 non-null   object \n",
            " 102  Q6 | Twix                                                                              1785 non-null   object \n",
            " 103  Q6 | Vials of pure high fructose corn syrup, for main-lining into your vein            1683 non-null   object \n",
            " 104  Q6 | Vicodin                                                                           1686 non-null   object \n",
            " 105  Q6 | Whatchamacallit Bars                                                              1652 non-null   object \n",
            " 106  Q6 | White Bread                                                                       1718 non-null   object \n",
            " 107  Q6 | Whole Wheat anything                                                              1728 non-null   object \n",
            " 108  Q6 | York Peppermint Patties                                                           1770 non-null   object \n",
            " 109  Q7: JOY OTHER                                                                          917 non-null    object \n",
            " 110  Q8: DESPAIR OTHER                                                                      723 non-null    object \n",
            " 111  Q9: OTHER COMMENTS                                                                     389 non-null    object \n",
            " 112  Q10: DRESS                                                                             1730 non-null   object \n",
            " 113  Unnamed: 113                                                                           9 non-null      object \n",
            " 114  Q11: DAY                                                                               1750 non-null   object \n",
            " 115  Q12: MEDIA [Daily Dish]                                                                85 non-null     float64\n",
            " 116  Q12: MEDIA [Science]                                                                   1376 non-null   float64\n",
            " 117  Q12: MEDIA [ESPN]                                                                      99 non-null     float64\n",
            " 118  Q12: MEDIA [Yahoo]                                                                     67 non-null     float64\n",
            " 119  Click Coordinates (x, y)                                                               1619 non-null   object \n",
            "dtypes: float64(4), int64(1), object(115)\n",
            "memory usage: 2.3+ MB\n"
          ]
        }
      ],
      "source": [
        "# check info, set max_cols\n",
        "candy.info(max_cols=120)"
      ]
    },
    {
      "cell_type": "markdown",
      "metadata": {
        "id": "pcqQieP1a6X_"
      },
      "source": [
        "Of course, if you are just looking for the column names, you can just use a simple `for` loop."
      ]
    },
    {
      "cell_type": "code",
      "execution_count": 909,
      "metadata": {
        "scrolled": false,
        "colab": {
          "base_uri": "https://localhost:8080/"
        },
        "id": "s2KZdliVa6YA",
        "outputId": "7aae42ec-5f86-441f-931d-d99941e6da57"
      },
      "outputs": [
        {
          "output_type": "stream",
          "name": "stdout",
          "text": [
            "Internal ID\n",
            "Q1: GOING OUT?\n",
            "Q2: GENDER\n",
            "Q3: AGE\n",
            "Q4: COUNTRY\n",
            "Q5: STATE, PROVINCE, COUNTY, ETC\n",
            "Q6 | 100 Grand Bar\n",
            "Q6 | Anonymous brown globs that come in black and orange wrappers\t(a.k.a. Mary Janes)\n",
            "Q6 | Any full-sized candy bar\n",
            "Q6 | Black Jacks\n",
            "Q6 | Bonkers (the candy)\n",
            "Q6 | Bonkers (the board game)\n",
            "Q6 | Bottle Caps\n",
            "Q6 | Box'o'Raisins\n",
            "Q6 | Broken glow stick\n",
            "Q6 | Butterfinger\n",
            "Q6 | Cadbury Creme Eggs\n",
            "Q6 | Candy Corn\n",
            "Q6 | Candy that is clearly just the stuff given out for free at restaurants\n",
            "Q6 | Caramellos\n",
            "Q6 | Cash, or other forms of legal tender\n",
            "Q6 | Chardonnay\n",
            "Q6 | Chick-o-Sticks (we donÕt know what that is)\n",
            "Q6 | Chiclets\n",
            "Q6 | Coffee Crisp\n",
            "Q6 | Creepy Religious comics/Chick Tracts\n",
            "Q6 | Dental paraphenalia\n",
            "Q6 | Dots\n",
            "Q6 | Dove Bars\n",
            "Q6 | Fuzzy Peaches\n",
            "Q6 | Generic Brand Acetaminophen\n",
            "Q6 | Glow sticks\n",
            "Q6 | Goo Goo Clusters\n",
            "Q6 | Good N' Plenty\n",
            "Q6 | Gum from baseball cards\n",
            "Q6 | Gummy Bears straight up\n",
            "Q6 | Hard Candy\n",
            "Q6 | Healthy Fruit\n",
            "Q6 | Heath Bar\n",
            "Q6 | Hershey's Dark Chocolate\n",
            "Q6 | HersheyÕs Milk Chocolate\n",
            "Q6 | Hershey's Kisses\n",
            "Q6 | Hugs (actual physical hugs)\n",
            "Q6 | Jolly Rancher (bad flavor)\n",
            "Q6 | Jolly Ranchers (good flavor)\n",
            "Q6 | JoyJoy (Mit Iodine!)\n",
            "Q6 | Junior Mints\n",
            "Q6 | Senior Mints\n",
            "Q6 | Kale smoothie\n",
            "Q6 | Kinder Happy Hippo\n",
            "Q6 | Kit Kat\n",
            "Q6 | LaffyTaffy\n",
            "Q6 | LemonHeads\n",
            "Q6 | Licorice (not black)\n",
            "Q6 | Licorice (yes black)\n",
            "Q6 | Lindt Truffle\n",
            "Q6 | Lollipops\n",
            "Q6 | Mars\n",
            "Q6 | Maynards\n",
            "Q6 | Mike and Ike\n",
            "Q6 | Milk Duds\n",
            "Q6 | Milky Way\n",
            "Q6 | Regular M&Ms\n",
            "Q6 | Peanut M&MÕs\n",
            "Q6 | Blue M&M's\n",
            "Q6 | Red M&M's\n",
            "Q6 | Green Party M&M's\n",
            "Q6 | Independent M&M's\n",
            "Q6 | Abstained from M&M'ing.\n",
            "Q6 | Minibags of chips\n",
            "Q6 | Mint Kisses\n",
            "Q6 | Mint Juleps\n",
            "Q6 | Mr. Goodbar\n",
            "Q6 | Necco Wafers\n",
            "Q6 | Nerds\n",
            "Q6 | Nestle Crunch\n",
            "Q6 | Now'n'Laters\n",
            "Q6 | Peeps\n",
            "Q6 | Pencils\n",
            "Q6 | Pixy Stix\n",
            "Q6 | Real Housewives of Orange County Season 9 Blue-Ray\n",
            "Q6 | ReeseÕs Peanut Butter Cups\n",
            "Q6 | Reese's Pieces\n",
            "Q6 | Reggie Jackson Bar\n",
            "Q6 | Rolos\n",
            "Q6 | Sandwich-sized bags filled with BooBerry Crunch\n",
            "Q6 | Skittles\n",
            "Q6 | Smarties (American)\n",
            "Q6 | Smarties (Commonwealth)\n",
            "Q6 | Snickers\n",
            "Q6 | Sourpatch Kids (i.e. abominations of nature)\n",
            "Q6 | Spotted Dick\n",
            "Q6 | Starburst\n",
            "Q6 | Sweet Tarts\n",
            "Q6 | Swedish Fish\n",
            "Q6 | Sweetums (a friend to diabetes)\n",
            "Q6 | Take 5\n",
            "Q6 | Tic Tacs\n",
            "Q6 | Those odd marshmallow circus peanut things\n",
            "Q6 | Three Musketeers\n",
            "Q6 | Tolberone something or other\n",
            "Q6 | Trail Mix\n",
            "Q6 | Twix\n",
            "Q6 | Vials of pure high fructose corn syrup, for main-lining into your vein\n",
            "Q6 | Vicodin\n",
            "Q6 | Whatchamacallit Bars\n",
            "Q6 | White Bread\n",
            "Q6 | Whole Wheat anything\n",
            "Q6 | York Peppermint Patties\n",
            "Q7: JOY OTHER\n",
            "Q8: DESPAIR OTHER\n",
            "Q9: OTHER COMMENTS\n",
            "Q10: DRESS\n",
            "Unnamed: 113\n",
            "Q11: DAY\n",
            "Q12: MEDIA [Daily Dish]\n",
            "Q12: MEDIA [Science]\n",
            "Q12: MEDIA [ESPN]\n",
            "Q12: MEDIA [Yahoo]\n",
            "Click Coordinates (x, y)\n"
          ]
        }
      ],
      "source": [
        "# print a list of column names\n",
        "for col in candy.columns:\n",
        "    print(col)"
      ]
    },
    {
      "cell_type": "markdown",
      "metadata": {
        "id": "CpQsYKt5a6YC"
      },
      "source": [
        "This data set is pretty messy. Your goal is now to perform the following actions to get it to the point where it can be passed to a machine learning model.\n",
        "\n",
        "**Note: Unless the instructions ask you to do something different, please always update the original `candy` DataFrame for the exercises below.  The automatic grading in CodeGrade will check your final DataFrame and ensure that you have performed all required data manipulations.  Also, feel free to add additional cells as needed.**  "
      ]
    },
    {
      "cell_type": "markdown",
      "metadata": {
        "id": "Z0pvjy9Va6YC"
      },
      "source": [
        "## Data Cleaning"
      ]
    },
    {
      "cell_type": "markdown",
      "metadata": {
        "id": "Ge1-nAl6a6YD"
      },
      "source": [
        "**Exercise_A:** Taking a look at the column names, you may notice that some include the character `Õ`. This should instead be an apostrophe `'` mark. Rename the column names that include the `Õ` character and replace it was an apostrophe.  \n",
        "\n",
        "Remember that you should be updating the `candy` DataFrame for the tasks listed as \"Exercises\" unless told differently. "
      ]
    },
    {
      "cell_type": "code",
      "execution_count": 910,
      "metadata": {
        "scrolled": true,
        "id": "zZCjSIPea6YE"
      },
      "outputs": [],
      "source": [
        "### ENTER CODE HERE ###\n",
        "\n",
        "for col in candy.columns:\n",
        "    candy.rename(columns = {col:col.replace('Õ','\\'')}, inplace=True)\n",
        "  \n",
        "#for col in candy.columns:\n",
        " #   print(col)"
      ]
    },
    {
      "cell_type": "markdown",
      "metadata": {
        "id": "Z_G57ECda6YE"
      },
      "source": [
        "**Q1:** How many duplicated rows are there in the file? Assume that a duplicate is any row that is *exactly* the same as another one. Save this number as `Q1`."
      ]
    },
    {
      "cell_type": "code",
      "execution_count": 911,
      "metadata": {
        "scrolled": true,
        "id": "Du5YlT3Aa6YF"
      },
      "outputs": [],
      "source": [
        "### ENTER CODE HERE ###\n",
        "Q1 = candy.duplicated().sum()"
      ]
    },
    {
      "cell_type": "markdown",
      "metadata": {
        "id": "mxsouNdta6YG"
      },
      "source": [
        "**Q2:** How many duplicated rows are there in the file if we were to assume that a duplicate is any row with the same `Internal ID` number as another. In other words, even if the other values are different, a row would count as a duplicate if it had the same `Internal ID` as another. Save this number as `Q2`."
      ]
    },
    {
      "cell_type": "code",
      "execution_count": 912,
      "metadata": {
        "scrolled": true,
        "id": "fCrOGqO_a6YG"
      },
      "outputs": [],
      "source": [
        "### ENTER CODE HERE ###\n",
        "Q2 = candy.duplicated(subset=['Internal ID']).sum()"
      ]
    },
    {
      "cell_type": "markdown",
      "metadata": {
        "id": "gT0MQVMsa6YH"
      },
      "source": [
        "**Exercise_B:** Drop any duplicates from the `candy` DataFrame.  Duplicates are to be defined as any row with the same `Internal ID` as another. Use the default setting that keeps the first record from the duplicates."
      ]
    },
    {
      "cell_type": "code",
      "execution_count": 913,
      "metadata": {
        "scrolled": true,
        "id": "XNvL_jtya6YH"
      },
      "outputs": [],
      "source": [
        "### ENTER CODE HERE ###\n",
        "candy.drop_duplicates(subset=['Internal ID'], inplace=True)"
      ]
    },
    {
      "cell_type": "markdown",
      "metadata": {
        "id": "9JsSLolOa6YI"
      },
      "source": [
        "**Exercise_C:** Your next task is to remove the following columns from the `candy` DataFrame as we will not use these columns for this project.  You are welcome to do further analysis on these columns but do not save your analysis in this notebook.\n",
        "\n",
        "Remove the following columns: `Internal ID`, `Q5: STATE, PROVINCE, COUNTY, ETC`, `Q7: JOY OTHER`, `Q8: DESPAIR OTHER`, `Q9: OTHER COMMENTS`, `Unnamed: 113`, `Click Coordinates (x, y)`."
      ]
    },
    {
      "cell_type": "code",
      "execution_count": 914,
      "metadata": {
        "scrolled": true,
        "id": "XmB-oQoda6YI"
      },
      "outputs": [],
      "source": [
        "### ENTER CODE HERE ###\n",
        "candy.drop(['Internal ID', 'Q5: STATE, PROVINCE, COUNTY, ETC', 'Q7: JOY OTHER', 'Q8: DESPAIR OTHER', 'Q9: OTHER COMMENTS', 'Unnamed: 113', 'Click Coordinates (x, y)'], axis=1, inplace=True)\n"
      ]
    },
    {
      "cell_type": "markdown",
      "metadata": {
        "id": "-vObiqjEa6YJ"
      },
      "source": [
        "**Code Check:** As a check for the above exercises, the shape of your data should now be: `(2460, 113)`"
      ]
    },
    {
      "cell_type": "code",
      "execution_count": 915,
      "metadata": {
        "scrolled": true,
        "colab": {
          "base_uri": "https://localhost:8080/"
        },
        "id": "b9eDe9xPa6YJ",
        "outputId": "bf0b00d7-bf62-4e64-d5a1-b965a062c70a"
      },
      "outputs": [
        {
          "output_type": "execute_result",
          "data": {
            "text/plain": [
              "(2460, 113)"
            ]
          },
          "metadata": {},
          "execution_count": 915
        }
      ],
      "source": [
        "### ENTER CODE HERE ###\n",
        "candy.shape"
      ]
    },
    {
      "cell_type": "markdown",
      "metadata": {
        "id": "Jae7mOXJa6YK"
      },
      "source": [
        "**Exercise_D:** Let's now take a look at the `Q2: GENDER` column since this will be what we are trying to predict. Take a look at the value counts for this column."
      ]
    },
    {
      "cell_type": "code",
      "execution_count": 916,
      "metadata": {
        "scrolled": true,
        "colab": {
          "base_uri": "https://localhost:8080/"
        },
        "id": "3p0oNLCKa6YK",
        "outputId": "919e28fe-19a0-4a09-d289-5c7eb6d3573e"
      },
      "outputs": [
        {
          "output_type": "execute_result",
          "data": {
            "text/plain": [
              "Male                  1466\n",
              "Female                 839\n",
              "I'd rather not say      83\n",
              "Other                   30\n",
              "Name: Q2: GENDER, dtype: int64"
            ]
          },
          "metadata": {},
          "execution_count": 916
        }
      ],
      "source": [
        "### ENTER CODE HERE ###\n",
        "candy['Q2: GENDER'].value_counts()"
      ]
    },
    {
      "cell_type": "markdown",
      "metadata": {
        "id": "8lWKVc8na6YL"
      },
      "source": [
        "**Q3:** How many missing values are in the `Q2: GENDER` column? Save this as `Q3`."
      ]
    },
    {
      "cell_type": "code",
      "execution_count": 917,
      "metadata": {
        "scrolled": true,
        "id": "jHgqO5ida6YM"
      },
      "outputs": [],
      "source": [
        "### ENTER CODE HERE ###\n",
        "Q3 = candy['Q2: GENDER'].isnull().sum()"
      ]
    },
    {
      "cell_type": "markdown",
      "metadata": {
        "id": "H-B2T3CVa6YM"
      },
      "source": [
        "**Exercise_E:** Using the `candy` DataFrame, remove all rows with a missing value in the `Q2: GENDER` column.  (This should overwrite and be saved as `candy` like you have been doing for the previous exercises.)"
      ]
    },
    {
      "cell_type": "code",
      "execution_count": 918,
      "metadata": {
        "scrolled": true,
        "id": "srxuav6Ua6YN"
      },
      "outputs": [],
      "source": [
        "### ENTER CODE HERE ###\n",
        "candy['Q2: GENDER'].dropna(inplace=True)"
      ]
    },
    {
      "cell_type": "markdown",
      "metadata": {
        "id": "KtPuT1Z5a6YN"
      },
      "source": [
        "**Exercise_F:** For this project, we want to use binary classification, which predicts one of two classes. We want to predict between `Male` or `Female`. Because of this, select only the rows that contain either `Male` or `Female` in the `Q2: GENDER` column."
      ]
    },
    {
      "cell_type": "code",
      "execution_count": 919,
      "metadata": {
        "scrolled": false,
        "id": "bvJw_Ok5a6YO"
      },
      "outputs": [],
      "source": [
        "### ENTER CODE HERE ###\n",
        "candy = candy[(candy['Q2: GENDER'] == 'Male')| (candy['Q2: GENDER'] =='Female')]"
      ]
    },
    {
      "cell_type": "markdown",
      "metadata": {
        "id": "EMvrlouoa6YO"
      },
      "source": [
        "**Code Check:** As a check for the above exercises, the shape of your data should now be: `(2305, 113)`"
      ]
    },
    {
      "cell_type": "code",
      "execution_count": 920,
      "metadata": {
        "scrolled": true,
        "colab": {
          "base_uri": "https://localhost:8080/"
        },
        "id": "Sis_WEeWa6YO",
        "outputId": "472361c8-ea91-4b82-d4a8-347f5dabbbec"
      },
      "outputs": [
        {
          "output_type": "execute_result",
          "data": {
            "text/plain": [
              "(2305, 113)"
            ]
          },
          "metadata": {},
          "execution_count": 920
        }
      ],
      "source": [
        "### ENTER CODE HERE ###\n",
        "candy.shape"
      ]
    },
    {
      "cell_type": "markdown",
      "metadata": {
        "id": "Yn0BcG25a6YP"
      },
      "source": [
        "Now, let's work on filling some of the missing data.  There are easier ways to do this with the sklearn library which you will learn about more in the machine learning classes, but for now, let's try to practice our Pandas skills."
      ]
    },
    {
      "cell_type": "markdown",
      "metadata": {
        "id": "xCVrbo82a6YP"
      },
      "source": [
        "**Q4:** How many missing values are in the `Q1: GOING OUT?` column? Save this number as `Q4`."
      ]
    },
    {
      "cell_type": "code",
      "execution_count": 921,
      "metadata": {
        "scrolled": true,
        "id": "l9nXRp5Wa6YQ"
      },
      "outputs": [],
      "source": [
        "### ENTER CODE HERE ###\n",
        "Q4 = candy['Q1: GOING OUT?'].isnull().sum()\n"
      ]
    },
    {
      "cell_type": "markdown",
      "metadata": {
        "id": "cwGLVJ2Ea6YQ"
      },
      "source": [
        "**Exercise_G:** For a future analysis question, we are interested in those that we know will *definitely* go out for Halloween.  Because of this, fill all missing values in the `Q1: GOING OUT?` column with a `No` value."
      ]
    },
    {
      "cell_type": "code",
      "execution_count": 922,
      "metadata": {
        "code_folding": [],
        "scrolled": true,
        "colab": {
          "base_uri": "https://localhost:8080/"
        },
        "id": "V4kNgxfUa6YR",
        "outputId": "bea8483d-f8c9-46cf-e8e6-550e682d521b"
      },
      "outputs": [
        {
          "output_type": "stream",
          "name": "stderr",
          "text": [
            "/usr/local/lib/python3.7/dist-packages/ipykernel_launcher.py:2: SettingWithCopyWarning: \n",
            "A value is trying to be set on a copy of a slice from a DataFrame.\n",
            "Try using .loc[row_indexer,col_indexer] = value instead\n",
            "\n",
            "See the caveats in the documentation: https://pandas.pydata.org/pandas-docs/stable/user_guide/indexing.html#returning-a-view-versus-a-copy\n",
            "  \n"
          ]
        }
      ],
      "source": [
        "### ENTER CODE HERE ###\n",
        "candy['Q1: GOING OUT?'] = candy['Q1: GOING OUT?'].fillna('No')\n"
      ]
    },
    {
      "cell_type": "markdown",
      "metadata": {
        "id": "_2KNaA3Da6YR"
      },
      "source": [
        "**Code Check:** Double check your above work and look at the value counts for the `Q1: GOING OUT?` column.  Make sure that you only have \"Yes\" and No\" values and that they add up to 2305, which is the number of rows you should have at this step in the assignment."
      ]
    },
    {
      "cell_type": "code",
      "execution_count": 923,
      "metadata": {
        "scrolled": true,
        "colab": {
          "base_uri": "https://localhost:8080/"
        },
        "id": "56L-PzHea6YR",
        "outputId": "0b6f8dad-e6da-4f39-fbf8-4a47dea630b2"
      },
      "outputs": [
        {
          "output_type": "execute_result",
          "data": {
            "text/plain": [
              "2305"
            ]
          },
          "metadata": {},
          "execution_count": 923
        }
      ],
      "source": [
        "### ENTER CODE HERE ###\n",
        "candy['Q1: GOING OUT?'].value_counts()\n",
        "candy['Q1: GOING OUT?'].value_counts().sum()"
      ]
    },
    {
      "cell_type": "markdown",
      "metadata": {
        "id": "NaPo3AbKa6YR"
      },
      "source": [
        "**Q5:** To get ready for the next step, let's practice selecting all the columns: going from `Q6 | 100 Grand Bar` to `Q11: DAY`.  Save this slice as `Q5`."
      ]
    },
    {
      "cell_type": "code",
      "execution_count": 924,
      "metadata": {
        "scrolled": true,
        "id": "du7nCdn1a6YS"
      },
      "outputs": [],
      "source": [
        "### ENTER CODE HERE ###\n",
        "Q5 = candy.loc[:,'Q6 | 100 Grand Bar':'Q11: DAY']"
      ]
    },
    {
      "cell_type": "markdown",
      "metadata": {
        "id": "vmnEcWoLa6YS"
      },
      "source": [
        "**Exercise_H:** Now that you know how to slice the data, fill any missing values in the `candy` DataFrame for those columns (going from `Q6 | 100 Grand Bar` to `Q11: DAY`) with the string `NO_ANSWER`. "
      ]
    },
    {
      "cell_type": "code",
      "execution_count": 925,
      "metadata": {
        "scrolled": true,
        "colab": {
          "base_uri": "https://localhost:8080/"
        },
        "id": "2_iG93z1a6YT",
        "outputId": "c4ca22d2-b63d-492f-84d7-58a7f521e140"
      },
      "outputs": [
        {
          "output_type": "stream",
          "name": "stderr",
          "text": [
            "/usr/local/lib/python3.7/dist-packages/pandas/core/indexing.py:1884: SettingWithCopyWarning: \n",
            "A value is trying to be set on a copy of a slice from a DataFrame.\n",
            "Try using .loc[row_indexer,col_indexer] = value instead\n",
            "\n",
            "See the caveats in the documentation: https://pandas.pydata.org/pandas-docs/stable/user_guide/indexing.html#returning-a-view-versus-a-copy\n",
            "  self._setitem_single_column(loc, val, pi)\n"
          ]
        }
      ],
      "source": [
        "### ENTER CODE HERE ###\n",
        "candy.loc[:,'Q6 | 100 Grand Bar':'Q11: DAY'] = candy.loc[:,'Q6 | 100 Grand Bar':'Q11: DAY'].fillna('NO_ANSWER')"
      ]
    },
    {
      "cell_type": "markdown",
      "metadata": {
        "id": "c4BqeP6na6YT"
      },
      "source": [
        "**Exercise_I:** For all four `Q12: Media` columns in the `candy` DataFrame, fill the missing values with `0.0`."
      ]
    },
    {
      "cell_type": "code",
      "execution_count": 926,
      "metadata": {
        "scrolled": true,
        "id": "KcRc2l8wa6YU"
      },
      "outputs": [],
      "source": [
        "### ENTER CODE HERE ###\n",
        "candy.loc[:,candy.columns.str.contains('Q12:')] = candy.loc[:,candy.columns.str.contains('Q12:')].fillna(0.0)\n",
        "  "
      ]
    },
    {
      "cell_type": "markdown",
      "metadata": {
        "id": "k1h58lrJa6YU"
      },
      "source": [
        "**Code Check:** As a check for the above code, make sure that there are no missing values left for the `Q6` to `Q12` columns.  "
      ]
    },
    {
      "cell_type": "code",
      "execution_count": 927,
      "metadata": {
        "scrolled": true,
        "colab": {
          "base_uri": "https://localhost:8080/"
        },
        "id": "V8uA1ScVa6YV",
        "outputId": "0f10ff4a-a9d6-4450-aea4-8437a409f94d"
      },
      "outputs": [
        {
          "output_type": "execute_result",
          "data": {
            "text/plain": [
              "Q6 | 100 Grand Bar                                                                        0\n",
              "Q6 | Anonymous brown globs that come in black and orange wrappers\\t(a.k.a. Mary Janes)    0\n",
              "Q6 | Any full-sized candy bar                                                             0\n",
              "Q6 | Black Jacks                                                                          0\n",
              "Q6 | Bonkers (the candy)                                                                  0\n",
              "                                                                                         ..\n",
              "Q11: DAY                                                                                  0\n",
              "Q12: MEDIA [Daily Dish]                                                                   0\n",
              "Q12: MEDIA [Science]                                                                      0\n",
              "Q12: MEDIA [ESPN]                                                                         0\n",
              "Q12: MEDIA [Yahoo]                                                                        0\n",
              "Length: 109, dtype: int64"
            ]
          },
          "metadata": {},
          "execution_count": 927
        }
      ],
      "source": [
        "### ENTER CODE HERE ###\n",
        "candy.loc[:,'Q6 | 100 Grand Bar':'Q12: MEDIA [Yahoo]'].isna().sum()"
      ]
    },
    {
      "cell_type": "markdown",
      "metadata": {
        "id": "osurwZ4Ua6YV"
      },
      "source": [
        "Now, let's look at the very messy `Q4: COUNTRY` column and see what we can do about it. First, run the code below to look at the different unique values in the data."
      ]
    },
    {
      "cell_type": "code",
      "execution_count": 928,
      "metadata": {
        "scrolled": true,
        "colab": {
          "base_uri": "https://localhost:8080/"
        },
        "id": "PVSqwF7ja6YW",
        "outputId": "950c8404-d4a9-4e43-da84-d625ea474cf5"
      },
      "outputs": [
        {
          "output_type": "execute_result",
          "data": {
            "text/plain": [
              "array(['USA ', 'USA', 'us', 'usa', nan, 'canada', 'Canada', 'Us', 'US',\n",
              "       'Murica', 'United States', 'uk', 'United Kingdom', 'united states',\n",
              "       'Usa', 'United States ', 'United staes',\n",
              "       'United States of America', 'UAE', 'England', 'UK', 'canada ',\n",
              "       'United states', 'u.s.a.', '35', 'france',\n",
              "       'United States of America ', 'america', 'U.S.A.', 'finland',\n",
              "       'unhinged states', 'Mexico', 'Canada ', 'united states of america',\n",
              "       'US of A', 'The United States', 'North Carolina ', 'Unied States',\n",
              "       'Netherlands', 'germany', 'Europe', 'U S', 'u.s.', 'U.K. ',\n",
              "       'Costa Rica', 'The United States of America', 'unite states',\n",
              "       'U.S.', '46', 'Australia', 'Greece', 'USA? Hard to tell anymore..',\n",
              "       \"'merica\", '45', 'United State', '32', 'France', 'australia',\n",
              "       'Can', 'Canae', 'Trumpistan', 'Ireland', 'United Sates', 'Korea',\n",
              "       'California', 'Unites States', 'Japan', 'USa', 'South africa',\n",
              "       'I pretend to be from Canada, but I am really from the United States.',\n",
              "       'Usa ', 'Uk', 'Germany', 'Canada`', 'Scotland', 'UK ', 'Denmark',\n",
              "       'United Stated', 'France ', 'Switzerland', 'UD', 'Scotland ',\n",
              "       'South Korea', 'New Jersey', 'CANADA', 'Indonesia',\n",
              "       'United ststes', 'America', 'The Netherlands', 'United Statss',\n",
              "       'endland', 'murrika', 'USA! USA! USA!', 'USAA', 'united States ',\n",
              "       'soviet canuckistan', 'N. America', 'Singapore', 'USSA', 'China',\n",
              "       'Taiwan', 'Ireland ', 'hong kong', 'spain', 'Sweden', 'Hong Kong',\n",
              "       'U.S. ', 'Narnia', 'u s a', 'United Statea', 'united ststes',\n",
              "       'subscribe to dm4uz3 on youtube', 'United kingdom',\n",
              "       'USA USA USA!!!!', \"I don't know anymore\", 'Fear and Loathing'],\n",
              "      dtype=object)"
            ]
          },
          "metadata": {},
          "execution_count": 928
        }
      ],
      "source": [
        "# check unique values\n",
        "candy['Q4: COUNTRY'].unique()"
      ]
    },
    {
      "cell_type": "markdown",
      "metadata": {
        "id": "Mz0e0cGKa6YW"
      },
      "source": [
        "**Code Check:** As a check for the Country column, check to see how many unique values are in the data.  You should have `115` different unique values for the `Q4: COUNTRY` column.  If you have less or more than this number, double check your work above."
      ]
    },
    {
      "cell_type": "code",
      "execution_count": 929,
      "metadata": {
        "scrolled": true,
        "colab": {
          "base_uri": "https://localhost:8080/"
        },
        "id": "aGdww7tfa6YX",
        "outputId": "513c670f-7fce-4818-945f-15cbda95f121"
      },
      "outputs": [
        {
          "output_type": "execute_result",
          "data": {
            "text/plain": [
              "115"
            ]
          },
          "metadata": {},
          "execution_count": 929
        }
      ],
      "source": [
        "# check the Q4: COUNTRY number of unique values\n",
        "candy['Q4: COUNTRY'].nunique()"
      ]
    },
    {
      "cell_type": "markdown",
      "metadata": {
        "id": "-yBJqGmka6YY"
      },
      "source": [
        "We want to clean up this data to only include four areas: USA, Canada, Europe (the continent, not necessarily the European Union), and Other.\n",
        "\n",
        "There are different ways to do this, but I would suggest that you look at the way we handled the `property_type` column in the `vienna` data set and the code in the `amenities_to_columns()` function in the module notebook.  These might be a little harder than those examples but they should give you a good baseline approach.  \n",
        "\n",
        "You could use `replace()` for this step, and it is fine if you ultimately decide to do this, but I would suggest that you come up with a solution similar to what was shown in the `vienna` data cleaning notebook.  This method would be much more robust if you had many more values in your data.\n",
        "\n",
        "I suggest the following order for this section to make it easier:\n",
        "- Fill in all missing values with `Other`\n",
        "- Code Australia as `Other` (doing this step will help when trying to use `us` in the next step if you use string methods)\n",
        "- Combine all USA entries together as `USA`\n",
        "- Combine Canadian entries as `CA`\n",
        "- Combine European entries as `EU`\n",
        "- Everything else gets coded as `Other`"
      ]
    },
    {
      "cell_type": "markdown",
      "metadata": {
        "id": "phinPybVa6YY"
      },
      "source": [
        "**Exercise_J:** Fill the missing values in the `Q4: Country` column with `Other`."
      ]
    },
    {
      "cell_type": "code",
      "execution_count": 930,
      "metadata": {
        "scrolled": true,
        "id": "H2vcVUDua6YZ"
      },
      "outputs": [],
      "source": [
        "### ENTER CODE HERE ###\n",
        "\n",
        "candy.loc[:,'Q4: COUNTRY'] = candy.loc[:,'Q4: COUNTRY'].fillna('Other')"
      ]
    },
    {
      "cell_type": "code",
      "source": [
        "def update_country(data):\n",
        "  \n",
        "  new_countries = ['Other','USA','CA','EU']\n",
        "\n",
        "  data[new_countries] = data[new_countries].fillna('Other')\n",
        "  data.loc[data['Q4: Country'].str.contains('Australia', case=False)] = 'Other'\n",
        "  data.loc[data['Q4: Country'].str.contains('us|america', case=False)] = 'USA'\n",
        "  data.loc[data['Q4: Country'].str.contains('canada', case=False)] = 'CA'\n",
        "  data.loc[data['Q4: Country'].str.contains('europe|eu|england|uk|greece|german|land', case=False), 'cooking'] = 1\n",
        "  data.loc[data['Q4: Country'].str.contains('refrigerator|freezer|fridge', case=False), 'fridge'] = 1\n"
      ],
      "metadata": {
        "id": "YIQPhbtfpXTv"
      },
      "execution_count": 931,
      "outputs": []
    },
    {
      "cell_type": "markdown",
      "metadata": {
        "id": "UVJHXMsLa6YZ"
      },
      "source": [
        "**Code Check:** Double check that there are no missing values in the `Q4: COUNTRY` column.  Also, double check the unique values to make sure that \"Other\" was added.  This should mean that you now have `116` unique values for this column."
      ]
    },
    {
      "cell_type": "code",
      "execution_count": 932,
      "metadata": {
        "scrolled": true,
        "colab": {
          "base_uri": "https://localhost:8080/"
        },
        "id": "Wum6V_2Ia6Ya",
        "outputId": "ffb76288-af17-47e0-c56b-cde7906f0652"
      },
      "outputs": [
        {
          "output_type": "execute_result",
          "data": {
            "text/plain": [
              "0"
            ]
          },
          "metadata": {},
          "execution_count": 932
        }
      ],
      "source": [
        "# check missing Q4 values\n",
        "### ENTER CODE HERE ###\n",
        "candy['Q4: COUNTRY'].isnull().sum()"
      ]
    },
    {
      "cell_type": "code",
      "execution_count": 933,
      "metadata": {
        "scrolled": true,
        "colab": {
          "base_uri": "https://localhost:8080/"
        },
        "id": "ty38Gy2ba6Ya",
        "outputId": "1e66cf72-3c29-4f03-9f20-842d10f8ad30"
      },
      "outputs": [
        {
          "output_type": "stream",
          "name": "stdout",
          "text": [
            "['USA ' 'USA' 'us' 'usa' 'Other' 'canada' 'Canada' 'Us' 'US' 'Murica'\n",
            " 'United States' 'uk' 'United Kingdom' 'united states' 'Usa'\n",
            " 'United States ' 'United staes' 'United States of America' 'UAE'\n",
            " 'England' 'UK' 'canada ' 'United states' 'u.s.a.' '35' 'france'\n",
            " 'United States of America ' 'america' 'U.S.A.' 'finland'\n",
            " 'unhinged states' 'Mexico' 'Canada ' 'united states of america' 'US of A'\n",
            " 'The United States' 'North Carolina ' 'Unied States' 'Netherlands'\n",
            " 'germany' 'Europe' 'U S' 'u.s.' 'U.K. ' 'Costa Rica'\n",
            " 'The United States of America' 'unite states' 'U.S.' '46' 'Australia'\n",
            " 'Greece' 'USA? Hard to tell anymore..' \"'merica\" '45' 'United State' '32'\n",
            " 'France' 'australia' 'Can' 'Canae' 'Trumpistan' 'Ireland' 'United Sates'\n",
            " 'Korea' 'California' 'Unites States' 'Japan' 'USa' 'South africa'\n",
            " 'I pretend to be from Canada, but I am really from the United States.'\n",
            " 'Usa ' 'Uk' 'Germany' 'Canada`' 'Scotland' 'UK ' 'Denmark'\n",
            " 'United Stated' 'France ' 'Switzerland' 'UD' 'Scotland ' 'South Korea'\n",
            " 'New Jersey' 'CANADA' 'Indonesia' 'United ststes' 'America'\n",
            " 'The Netherlands' 'United Statss' 'endland' 'murrika' 'USA! USA! USA!'\n",
            " 'USAA' 'united States ' 'soviet canuckistan' 'N. America' 'Singapore'\n",
            " 'USSA' 'China' 'Taiwan' 'Ireland ' 'hong kong' 'spain' 'Sweden'\n",
            " 'Hong Kong' 'U.S. ' 'Narnia' 'u s a' 'United Statea' 'united ststes'\n",
            " 'subscribe to dm4uz3 on youtube' 'United kingdom' 'USA USA USA!!!!'\n",
            " \"I don't know anymore\" 'Fear and Loathing']\n",
            "116\n"
          ]
        }
      ],
      "source": [
        "# check unique values \n",
        "### ENTER CODE HERE ###\n",
        "print(candy['Q4: COUNTRY'].unique())\n",
        "print(candy['Q4: COUNTRY'].nunique())\n"
      ]
    },
    {
      "cell_type": "markdown",
      "metadata": {
        "id": "0gNBuG7xa6Yb"
      },
      "source": [
        "**Exercise_K:** Combine all Australia entries into `Other`.  Watch out for capitalization issues.  You should have `114` unique values after this step."
      ]
    },
    {
      "cell_type": "code",
      "execution_count": 934,
      "metadata": {
        "scrolled": true,
        "colab": {
          "base_uri": "https://localhost:8080/",
          "height": 1000
        },
        "id": "Iz_x5l3Ya6Yb",
        "outputId": "032cf242-872e-4633-c9c8-7d595a216450"
      },
      "outputs": [
        {
          "output_type": "execute_result",
          "data": {
            "text/plain": [
              "     Q1: GOING OUT? Q2: GENDER Q3: AGE Q4: COUNTRY Q6 | 100 Grand Bar  \\\n",
              "5                No       Male     NaN       Other                JOY   \n",
              "10              Yes       Male      43       Other          NO_ANSWER   \n",
              "118              No       Male     NaN       Other          NO_ANSWER   \n",
              "154             Yes     Female     NaN       Other          NO_ANSWER   \n",
              "358              No     Female     NaN       Other                JOY   \n",
              "536              No     Female     NaN       Other          NO_ANSWER   \n",
              "576              No       Male     NaN       Other                MEH   \n",
              "611              No       Male     NaN       Other                MEH   \n",
              "637             Yes     Female       7       Other          NO_ANSWER   \n",
              "716              No       Male     NaN       Other          NO_ANSWER   \n",
              "731              No       Male      46       Other          NO_ANSWER   \n",
              "843              No       Male      32       Other          NO_ANSWER   \n",
              "868             Yes       Male     NaN       Other                MEH   \n",
              "882              No       Male     NaN       Other          NO_ANSWER   \n",
              "918              No       Male     NaN       Other                JOY   \n",
              "1011            Yes     Female      53       Other                MEH   \n",
              "1246             No       Male      35       Other          NO_ANSWER   \n",
              "1407             No       Male     NaN       Other                JOY   \n",
              "1428            Yes     Female      43       Other                JOY   \n",
              "1471             No       Male     NaN       Other          NO_ANSWER   \n",
              "1628             No       Male     NaN       Other          NO_ANSWER   \n",
              "1637            Yes       Male      47       Other          NO_ANSWER   \n",
              "1641             No       Male      38       Other          NO_ANSWER   \n",
              "1669             No       Male     NaN       Other          NO_ANSWER   \n",
              "1694             No     Female      24       Other          NO_ANSWER   \n",
              "1810             No       Male      37       Other          NO_ANSWER   \n",
              "1996            Yes       Male     NaN       Other          NO_ANSWER   \n",
              "2377             No       Male     NaN       Other                JOY   \n",
              "2398             No       Male     NaN       Other                JOY   \n",
              "\n",
              "     Q6 | Anonymous brown globs that come in black and orange wrappers\\t(a.k.a. Mary Janes)  \\\n",
              "5                                               DESPAIR                                       \n",
              "10                                            NO_ANSWER                                       \n",
              "118                                           NO_ANSWER                                       \n",
              "154                                           NO_ANSWER                                       \n",
              "358                                                 MEH                                       \n",
              "536                                           NO_ANSWER                                       \n",
              "576                                             DESPAIR                                       \n",
              "611                                                 MEH                                       \n",
              "637                                           NO_ANSWER                                       \n",
              "716                                           NO_ANSWER                                       \n",
              "731                                           NO_ANSWER                                       \n",
              "843                                           NO_ANSWER                                       \n",
              "868                                             DESPAIR                                       \n",
              "882                                           NO_ANSWER                                       \n",
              "918                                                 MEH                                       \n",
              "1011                                                MEH                                       \n",
              "1246                                          NO_ANSWER                                       \n",
              "1407                                            DESPAIR                                       \n",
              "1428                                                MEH                                       \n",
              "1471                                          NO_ANSWER                                       \n",
              "1628                                          NO_ANSWER                                       \n",
              "1637                                          NO_ANSWER                                       \n",
              "1641                                          NO_ANSWER                                       \n",
              "1669                                          NO_ANSWER                                       \n",
              "1694                                          NO_ANSWER                                       \n",
              "1810                                          NO_ANSWER                                       \n",
              "1996                                          NO_ANSWER                                       \n",
              "2377                                            DESPAIR                                       \n",
              "2398                                            DESPAIR                                       \n",
              "\n",
              "     Q6 | Any full-sized candy bar Q6 | Black Jacks Q6 | Bonkers (the candy)  \\\n",
              "5                              JOY        NO_ANSWER                NO_ANSWER   \n",
              "10                       NO_ANSWER        NO_ANSWER                NO_ANSWER   \n",
              "118                      NO_ANSWER        NO_ANSWER                NO_ANSWER   \n",
              "154                      NO_ANSWER        NO_ANSWER                NO_ANSWER   \n",
              "358                            MEH          DESPAIR                  DESPAIR   \n",
              "536                      NO_ANSWER        NO_ANSWER                NO_ANSWER   \n",
              "576                            JOY        NO_ANSWER                NO_ANSWER   \n",
              "611                            JOY              MEH                      MEH   \n",
              "637                      NO_ANSWER        NO_ANSWER                NO_ANSWER   \n",
              "716                      NO_ANSWER        NO_ANSWER                NO_ANSWER   \n",
              "731                      NO_ANSWER        NO_ANSWER                NO_ANSWER   \n",
              "843                      NO_ANSWER        NO_ANSWER                NO_ANSWER   \n",
              "868                            MEH          DESPAIR                NO_ANSWER   \n",
              "882                      NO_ANSWER        NO_ANSWER                NO_ANSWER   \n",
              "918                            JOY              JOY                      MEH   \n",
              "1011                           JOY              MEH                      MEH   \n",
              "1246                     NO_ANSWER        NO_ANSWER                NO_ANSWER   \n",
              "1407                           JOY          DESPAIR                  DESPAIR   \n",
              "1428                           JOY              MEH                  DESPAIR   \n",
              "1471                     NO_ANSWER        NO_ANSWER                NO_ANSWER   \n",
              "1628                     NO_ANSWER        NO_ANSWER                NO_ANSWER   \n",
              "1637                     NO_ANSWER        NO_ANSWER                NO_ANSWER   \n",
              "1641                     NO_ANSWER        NO_ANSWER                NO_ANSWER   \n",
              "1669                     NO_ANSWER        NO_ANSWER                NO_ANSWER   \n",
              "1694                           JOY        NO_ANSWER                NO_ANSWER   \n",
              "1810                     NO_ANSWER        NO_ANSWER                NO_ANSWER   \n",
              "1996                     NO_ANSWER        NO_ANSWER                NO_ANSWER   \n",
              "2377                           JOY              MEH                      MEH   \n",
              "2398                           JOY        NO_ANSWER                NO_ANSWER   \n",
              "\n",
              "     Q6 | Bonkers (the board game)  ... Q6 | Whatchamacallit Bars  \\\n",
              "5                        NO_ANSWER  ...                       JOY   \n",
              "10                       NO_ANSWER  ...                 NO_ANSWER   \n",
              "118                      NO_ANSWER  ...                 NO_ANSWER   \n",
              "154                      NO_ANSWER  ...                 NO_ANSWER   \n",
              "358                            MEH  ...                       JOY   \n",
              "536                      NO_ANSWER  ...                 NO_ANSWER   \n",
              "576                      NO_ANSWER  ...                 NO_ANSWER   \n",
              "611                        DESPAIR  ...                   DESPAIR   \n",
              "637                      NO_ANSWER  ...                 NO_ANSWER   \n",
              "716                      NO_ANSWER  ...                 NO_ANSWER   \n",
              "731                      NO_ANSWER  ...                 NO_ANSWER   \n",
              "843                      NO_ANSWER  ...                 NO_ANSWER   \n",
              "868                      NO_ANSWER  ...                 NO_ANSWER   \n",
              "882                      NO_ANSWER  ...                 NO_ANSWER   \n",
              "918                        DESPAIR  ...                       MEH   \n",
              "1011                           MEH  ...                   DESPAIR   \n",
              "1246                     NO_ANSWER  ...                 NO_ANSWER   \n",
              "1407                       DESPAIR  ...                       MEH   \n",
              "1428                           MEH  ...                       JOY   \n",
              "1471                     NO_ANSWER  ...                 NO_ANSWER   \n",
              "1628                     NO_ANSWER  ...                 NO_ANSWER   \n",
              "1637                     NO_ANSWER  ...                 NO_ANSWER   \n",
              "1641                     NO_ANSWER  ...                 NO_ANSWER   \n",
              "1669                     NO_ANSWER  ...                 NO_ANSWER   \n",
              "1694                     NO_ANSWER  ...                 NO_ANSWER   \n",
              "1810                     NO_ANSWER  ...                 NO_ANSWER   \n",
              "1996                     NO_ANSWER  ...                 NO_ANSWER   \n",
              "2377                       DESPAIR  ...                       MEH   \n",
              "2398                     NO_ANSWER  ...                       JOY   \n",
              "\n",
              "     Q6 | White Bread Q6 | Whole Wheat anything Q6 | York Peppermint Patties  \\\n",
              "5             DESPAIR                   DESPAIR                          JOY   \n",
              "10          NO_ANSWER                 NO_ANSWER                    NO_ANSWER   \n",
              "118         NO_ANSWER                 NO_ANSWER                    NO_ANSWER   \n",
              "154         NO_ANSWER                 NO_ANSWER                    NO_ANSWER   \n",
              "358           DESPAIR                   DESPAIR                          JOY   \n",
              "536         NO_ANSWER                 NO_ANSWER                    NO_ANSWER   \n",
              "576           DESPAIR                   DESPAIR                          MEH   \n",
              "611           DESPAIR                   DESPAIR                          JOY   \n",
              "637         NO_ANSWER                 NO_ANSWER                    NO_ANSWER   \n",
              "716         NO_ANSWER                 NO_ANSWER                    NO_ANSWER   \n",
              "731         NO_ANSWER                 NO_ANSWER                    NO_ANSWER   \n",
              "843         NO_ANSWER                 NO_ANSWER                    NO_ANSWER   \n",
              "868           DESPAIR                   DESPAIR                    NO_ANSWER   \n",
              "882         NO_ANSWER                 NO_ANSWER                    NO_ANSWER   \n",
              "918           DESPAIR                   DESPAIR                          JOY   \n",
              "1011          DESPAIR                   DESPAIR                          JOY   \n",
              "1246        NO_ANSWER                 NO_ANSWER                    NO_ANSWER   \n",
              "1407          DESPAIR                   DESPAIR                      DESPAIR   \n",
              "1428          DESPAIR                   DESPAIR                          MEH   \n",
              "1471        NO_ANSWER                 NO_ANSWER                    NO_ANSWER   \n",
              "1628        NO_ANSWER                 NO_ANSWER                    NO_ANSWER   \n",
              "1637        NO_ANSWER                 NO_ANSWER                    NO_ANSWER   \n",
              "1641        NO_ANSWER                 NO_ANSWER                    NO_ANSWER   \n",
              "1669        NO_ANSWER                 NO_ANSWER                    NO_ANSWER   \n",
              "1694          DESPAIR                   DESPAIR                    NO_ANSWER   \n",
              "1810        NO_ANSWER                 NO_ANSWER                    NO_ANSWER   \n",
              "1996        NO_ANSWER                 NO_ANSWER                    NO_ANSWER   \n",
              "2377          DESPAIR                   DESPAIR                          JOY   \n",
              "2398          DESPAIR                       MEH                          JOY   \n",
              "\n",
              "          Q10: DRESS   Q11: DAY Q12: MEDIA [Daily Dish] Q12: MEDIA [Science]  \\\n",
              "5          NO_ANSWER  NO_ANSWER                     0.0                  1.0   \n",
              "10         NO_ANSWER  NO_ANSWER                     0.0                  0.0   \n",
              "118        NO_ANSWER  NO_ANSWER                     0.0                  0.0   \n",
              "154        NO_ANSWER  NO_ANSWER                     0.0                  0.0   \n",
              "358   Blue and black     Sunday                     0.0                  1.0   \n",
              "536        NO_ANSWER  NO_ANSWER                     0.0                  0.0   \n",
              "576   White and gold     Sunday                     0.0                  0.0   \n",
              "611   White and gold     Friday                     0.0                  1.0   \n",
              "637        NO_ANSWER  NO_ANSWER                     0.0                  0.0   \n",
              "716        NO_ANSWER  NO_ANSWER                     0.0                  0.0   \n",
              "731        NO_ANSWER  NO_ANSWER                     0.0                  0.0   \n",
              "843        NO_ANSWER  NO_ANSWER                     0.0                  0.0   \n",
              "868   White and gold     Friday                     0.0                  0.0   \n",
              "882        NO_ANSWER  NO_ANSWER                     0.0                  0.0   \n",
              "918   Blue and black     Sunday                     0.0                  1.0   \n",
              "1011  Blue and black     Sunday                     0.0                  1.0   \n",
              "1246       NO_ANSWER  NO_ANSWER                     0.0                  0.0   \n",
              "1407  White and gold     Friday                     0.0                  0.0   \n",
              "1428  White and gold     Friday                     0.0                  1.0   \n",
              "1471       NO_ANSWER  NO_ANSWER                     0.0                  0.0   \n",
              "1628       NO_ANSWER  NO_ANSWER                     0.0                  0.0   \n",
              "1637       NO_ANSWER  NO_ANSWER                     0.0                  0.0   \n",
              "1641       NO_ANSWER  NO_ANSWER                     0.0                  0.0   \n",
              "1669       NO_ANSWER  NO_ANSWER                     0.0                  0.0   \n",
              "1694  Blue and black     Sunday                     0.0                  1.0   \n",
              "1810       NO_ANSWER  NO_ANSWER                     0.0                  0.0   \n",
              "1996       NO_ANSWER  NO_ANSWER                     0.0                  0.0   \n",
              "2377  Blue and black     Sunday                     0.0                  1.0   \n",
              "2398  White and gold     Sunday                     0.0                  1.0   \n",
              "\n",
              "     Q12: MEDIA [ESPN] Q12: MEDIA [Yahoo]  \n",
              "5                  0.0                0.0  \n",
              "10                 0.0                0.0  \n",
              "118                0.0                0.0  \n",
              "154                0.0                0.0  \n",
              "358                0.0                0.0  \n",
              "536                0.0                0.0  \n",
              "576                1.0                0.0  \n",
              "611                0.0                0.0  \n",
              "637                0.0                0.0  \n",
              "716                0.0                0.0  \n",
              "731                0.0                0.0  \n",
              "843                0.0                0.0  \n",
              "868                0.0                0.0  \n",
              "882                0.0                0.0  \n",
              "918                0.0                0.0  \n",
              "1011               0.0                0.0  \n",
              "1246               0.0                0.0  \n",
              "1407               0.0                0.0  \n",
              "1428               0.0                0.0  \n",
              "1471               0.0                0.0  \n",
              "1628               0.0                0.0  \n",
              "1637               0.0                0.0  \n",
              "1641               0.0                0.0  \n",
              "1669               0.0                0.0  \n",
              "1694               0.0                0.0  \n",
              "1810               0.0                0.0  \n",
              "1996               0.0                0.0  \n",
              "2377               0.0                0.0  \n",
              "2398               0.0                0.0  \n",
              "\n",
              "[29 rows x 113 columns]"
            ],
            "text/html": [
              "\n",
              "  <div id=\"df-5c013f12-1853-40a6-b085-4ed8f0f3ad48\">\n",
              "    <div class=\"colab-df-container\">\n",
              "      <div>\n",
              "<style scoped>\n",
              "    .dataframe tbody tr th:only-of-type {\n",
              "        vertical-align: middle;\n",
              "    }\n",
              "\n",
              "    .dataframe tbody tr th {\n",
              "        vertical-align: top;\n",
              "    }\n",
              "\n",
              "    .dataframe thead th {\n",
              "        text-align: right;\n",
              "    }\n",
              "</style>\n",
              "<table border=\"1\" class=\"dataframe\">\n",
              "  <thead>\n",
              "    <tr style=\"text-align: right;\">\n",
              "      <th></th>\n",
              "      <th>Q1: GOING OUT?</th>\n",
              "      <th>Q2: GENDER</th>\n",
              "      <th>Q3: AGE</th>\n",
              "      <th>Q4: COUNTRY</th>\n",
              "      <th>Q6 | 100 Grand Bar</th>\n",
              "      <th>Q6 | Anonymous brown globs that come in black and orange wrappers\\t(a.k.a. Mary Janes)</th>\n",
              "      <th>Q6 | Any full-sized candy bar</th>\n",
              "      <th>Q6 | Black Jacks</th>\n",
              "      <th>Q6 | Bonkers (the candy)</th>\n",
              "      <th>Q6 | Bonkers (the board game)</th>\n",
              "      <th>...</th>\n",
              "      <th>Q6 | Whatchamacallit Bars</th>\n",
              "      <th>Q6 | White Bread</th>\n",
              "      <th>Q6 | Whole Wheat anything</th>\n",
              "      <th>Q6 | York Peppermint Patties</th>\n",
              "      <th>Q10: DRESS</th>\n",
              "      <th>Q11: DAY</th>\n",
              "      <th>Q12: MEDIA [Daily Dish]</th>\n",
              "      <th>Q12: MEDIA [Science]</th>\n",
              "      <th>Q12: MEDIA [ESPN]</th>\n",
              "      <th>Q12: MEDIA [Yahoo]</th>\n",
              "    </tr>\n",
              "  </thead>\n",
              "  <tbody>\n",
              "    <tr>\n",
              "      <th>5</th>\n",
              "      <td>No</td>\n",
              "      <td>Male</td>\n",
              "      <td>NaN</td>\n",
              "      <td>Other</td>\n",
              "      <td>JOY</td>\n",
              "      <td>DESPAIR</td>\n",
              "      <td>JOY</td>\n",
              "      <td>NO_ANSWER</td>\n",
              "      <td>NO_ANSWER</td>\n",
              "      <td>NO_ANSWER</td>\n",
              "      <td>...</td>\n",
              "      <td>JOY</td>\n",
              "      <td>DESPAIR</td>\n",
              "      <td>DESPAIR</td>\n",
              "      <td>JOY</td>\n",
              "      <td>NO_ANSWER</td>\n",
              "      <td>NO_ANSWER</td>\n",
              "      <td>0.0</td>\n",
              "      <td>1.0</td>\n",
              "      <td>0.0</td>\n",
              "      <td>0.0</td>\n",
              "    </tr>\n",
              "    <tr>\n",
              "      <th>10</th>\n",
              "      <td>Yes</td>\n",
              "      <td>Male</td>\n",
              "      <td>43</td>\n",
              "      <td>Other</td>\n",
              "      <td>NO_ANSWER</td>\n",
              "      <td>NO_ANSWER</td>\n",
              "      <td>NO_ANSWER</td>\n",
              "      <td>NO_ANSWER</td>\n",
              "      <td>NO_ANSWER</td>\n",
              "      <td>NO_ANSWER</td>\n",
              "      <td>...</td>\n",
              "      <td>NO_ANSWER</td>\n",
              "      <td>NO_ANSWER</td>\n",
              "      <td>NO_ANSWER</td>\n",
              "      <td>NO_ANSWER</td>\n",
              "      <td>NO_ANSWER</td>\n",
              "      <td>NO_ANSWER</td>\n",
              "      <td>0.0</td>\n",
              "      <td>0.0</td>\n",
              "      <td>0.0</td>\n",
              "      <td>0.0</td>\n",
              "    </tr>\n",
              "    <tr>\n",
              "      <th>118</th>\n",
              "      <td>No</td>\n",
              "      <td>Male</td>\n",
              "      <td>NaN</td>\n",
              "      <td>Other</td>\n",
              "      <td>NO_ANSWER</td>\n",
              "      <td>NO_ANSWER</td>\n",
              "      <td>NO_ANSWER</td>\n",
              "      <td>NO_ANSWER</td>\n",
              "      <td>NO_ANSWER</td>\n",
              "      <td>NO_ANSWER</td>\n",
              "      <td>...</td>\n",
              "      <td>NO_ANSWER</td>\n",
              "      <td>NO_ANSWER</td>\n",
              "      <td>NO_ANSWER</td>\n",
              "      <td>NO_ANSWER</td>\n",
              "      <td>NO_ANSWER</td>\n",
              "      <td>NO_ANSWER</td>\n",
              "      <td>0.0</td>\n",
              "      <td>0.0</td>\n",
              "      <td>0.0</td>\n",
              "      <td>0.0</td>\n",
              "    </tr>\n",
              "    <tr>\n",
              "      <th>154</th>\n",
              "      <td>Yes</td>\n",
              "      <td>Female</td>\n",
              "      <td>NaN</td>\n",
              "      <td>Other</td>\n",
              "      <td>NO_ANSWER</td>\n",
              "      <td>NO_ANSWER</td>\n",
              "      <td>NO_ANSWER</td>\n",
              "      <td>NO_ANSWER</td>\n",
              "      <td>NO_ANSWER</td>\n",
              "      <td>NO_ANSWER</td>\n",
              "      <td>...</td>\n",
              "      <td>NO_ANSWER</td>\n",
              "      <td>NO_ANSWER</td>\n",
              "      <td>NO_ANSWER</td>\n",
              "      <td>NO_ANSWER</td>\n",
              "      <td>NO_ANSWER</td>\n",
              "      <td>NO_ANSWER</td>\n",
              "      <td>0.0</td>\n",
              "      <td>0.0</td>\n",
              "      <td>0.0</td>\n",
              "      <td>0.0</td>\n",
              "    </tr>\n",
              "    <tr>\n",
              "      <th>358</th>\n",
              "      <td>No</td>\n",
              "      <td>Female</td>\n",
              "      <td>NaN</td>\n",
              "      <td>Other</td>\n",
              "      <td>JOY</td>\n",
              "      <td>MEH</td>\n",
              "      <td>MEH</td>\n",
              "      <td>DESPAIR</td>\n",
              "      <td>DESPAIR</td>\n",
              "      <td>MEH</td>\n",
              "      <td>...</td>\n",
              "      <td>JOY</td>\n",
              "      <td>DESPAIR</td>\n",
              "      <td>DESPAIR</td>\n",
              "      <td>JOY</td>\n",
              "      <td>Blue and black</td>\n",
              "      <td>Sunday</td>\n",
              "      <td>0.0</td>\n",
              "      <td>1.0</td>\n",
              "      <td>0.0</td>\n",
              "      <td>0.0</td>\n",
              "    </tr>\n",
              "    <tr>\n",
              "      <th>536</th>\n",
              "      <td>No</td>\n",
              "      <td>Female</td>\n",
              "      <td>NaN</td>\n",
              "      <td>Other</td>\n",
              "      <td>NO_ANSWER</td>\n",
              "      <td>NO_ANSWER</td>\n",
              "      <td>NO_ANSWER</td>\n",
              "      <td>NO_ANSWER</td>\n",
              "      <td>NO_ANSWER</td>\n",
              "      <td>NO_ANSWER</td>\n",
              "      <td>...</td>\n",
              "      <td>NO_ANSWER</td>\n",
              "      <td>NO_ANSWER</td>\n",
              "      <td>NO_ANSWER</td>\n",
              "      <td>NO_ANSWER</td>\n",
              "      <td>NO_ANSWER</td>\n",
              "      <td>NO_ANSWER</td>\n",
              "      <td>0.0</td>\n",
              "      <td>0.0</td>\n",
              "      <td>0.0</td>\n",
              "      <td>0.0</td>\n",
              "    </tr>\n",
              "    <tr>\n",
              "      <th>576</th>\n",
              "      <td>No</td>\n",
              "      <td>Male</td>\n",
              "      <td>NaN</td>\n",
              "      <td>Other</td>\n",
              "      <td>MEH</td>\n",
              "      <td>DESPAIR</td>\n",
              "      <td>JOY</td>\n",
              "      <td>NO_ANSWER</td>\n",
              "      <td>NO_ANSWER</td>\n",
              "      <td>NO_ANSWER</td>\n",
              "      <td>...</td>\n",
              "      <td>NO_ANSWER</td>\n",
              "      <td>DESPAIR</td>\n",
              "      <td>DESPAIR</td>\n",
              "      <td>MEH</td>\n",
              "      <td>White and gold</td>\n",
              "      <td>Sunday</td>\n",
              "      <td>0.0</td>\n",
              "      <td>0.0</td>\n",
              "      <td>1.0</td>\n",
              "      <td>0.0</td>\n",
              "    </tr>\n",
              "    <tr>\n",
              "      <th>611</th>\n",
              "      <td>No</td>\n",
              "      <td>Male</td>\n",
              "      <td>NaN</td>\n",
              "      <td>Other</td>\n",
              "      <td>MEH</td>\n",
              "      <td>MEH</td>\n",
              "      <td>JOY</td>\n",
              "      <td>MEH</td>\n",
              "      <td>MEH</td>\n",
              "      <td>DESPAIR</td>\n",
              "      <td>...</td>\n",
              "      <td>DESPAIR</td>\n",
              "      <td>DESPAIR</td>\n",
              "      <td>DESPAIR</td>\n",
              "      <td>JOY</td>\n",
              "      <td>White and gold</td>\n",
              "      <td>Friday</td>\n",
              "      <td>0.0</td>\n",
              "      <td>1.0</td>\n",
              "      <td>0.0</td>\n",
              "      <td>0.0</td>\n",
              "    </tr>\n",
              "    <tr>\n",
              "      <th>637</th>\n",
              "      <td>Yes</td>\n",
              "      <td>Female</td>\n",
              "      <td>7</td>\n",
              "      <td>Other</td>\n",
              "      <td>NO_ANSWER</td>\n",
              "      <td>NO_ANSWER</td>\n",
              "      <td>NO_ANSWER</td>\n",
              "      <td>NO_ANSWER</td>\n",
              "      <td>NO_ANSWER</td>\n",
              "      <td>NO_ANSWER</td>\n",
              "      <td>...</td>\n",
              "      <td>NO_ANSWER</td>\n",
              "      <td>NO_ANSWER</td>\n",
              "      <td>NO_ANSWER</td>\n",
              "      <td>NO_ANSWER</td>\n",
              "      <td>NO_ANSWER</td>\n",
              "      <td>NO_ANSWER</td>\n",
              "      <td>0.0</td>\n",
              "      <td>0.0</td>\n",
              "      <td>0.0</td>\n",
              "      <td>0.0</td>\n",
              "    </tr>\n",
              "    <tr>\n",
              "      <th>716</th>\n",
              "      <td>No</td>\n",
              "      <td>Male</td>\n",
              "      <td>NaN</td>\n",
              "      <td>Other</td>\n",
              "      <td>NO_ANSWER</td>\n",
              "      <td>NO_ANSWER</td>\n",
              "      <td>NO_ANSWER</td>\n",
              "      <td>NO_ANSWER</td>\n",
              "      <td>NO_ANSWER</td>\n",
              "      <td>NO_ANSWER</td>\n",
              "      <td>...</td>\n",
              "      <td>NO_ANSWER</td>\n",
              "      <td>NO_ANSWER</td>\n",
              "      <td>NO_ANSWER</td>\n",
              "      <td>NO_ANSWER</td>\n",
              "      <td>NO_ANSWER</td>\n",
              "      <td>NO_ANSWER</td>\n",
              "      <td>0.0</td>\n",
              "      <td>0.0</td>\n",
              "      <td>0.0</td>\n",
              "      <td>0.0</td>\n",
              "    </tr>\n",
              "    <tr>\n",
              "      <th>731</th>\n",
              "      <td>No</td>\n",
              "      <td>Male</td>\n",
              "      <td>46</td>\n",
              "      <td>Other</td>\n",
              "      <td>NO_ANSWER</td>\n",
              "      <td>NO_ANSWER</td>\n",
              "      <td>NO_ANSWER</td>\n",
              "      <td>NO_ANSWER</td>\n",
              "      <td>NO_ANSWER</td>\n",
              "      <td>NO_ANSWER</td>\n",
              "      <td>...</td>\n",
              "      <td>NO_ANSWER</td>\n",
              "      <td>NO_ANSWER</td>\n",
              "      <td>NO_ANSWER</td>\n",
              "      <td>NO_ANSWER</td>\n",
              "      <td>NO_ANSWER</td>\n",
              "      <td>NO_ANSWER</td>\n",
              "      <td>0.0</td>\n",
              "      <td>0.0</td>\n",
              "      <td>0.0</td>\n",
              "      <td>0.0</td>\n",
              "    </tr>\n",
              "    <tr>\n",
              "      <th>843</th>\n",
              "      <td>No</td>\n",
              "      <td>Male</td>\n",
              "      <td>32</td>\n",
              "      <td>Other</td>\n",
              "      <td>NO_ANSWER</td>\n",
              "      <td>NO_ANSWER</td>\n",
              "      <td>NO_ANSWER</td>\n",
              "      <td>NO_ANSWER</td>\n",
              "      <td>NO_ANSWER</td>\n",
              "      <td>NO_ANSWER</td>\n",
              "      <td>...</td>\n",
              "      <td>NO_ANSWER</td>\n",
              "      <td>NO_ANSWER</td>\n",
              "      <td>NO_ANSWER</td>\n",
              "      <td>NO_ANSWER</td>\n",
              "      <td>NO_ANSWER</td>\n",
              "      <td>NO_ANSWER</td>\n",
              "      <td>0.0</td>\n",
              "      <td>0.0</td>\n",
              "      <td>0.0</td>\n",
              "      <td>0.0</td>\n",
              "    </tr>\n",
              "    <tr>\n",
              "      <th>868</th>\n",
              "      <td>Yes</td>\n",
              "      <td>Male</td>\n",
              "      <td>NaN</td>\n",
              "      <td>Other</td>\n",
              "      <td>MEH</td>\n",
              "      <td>DESPAIR</td>\n",
              "      <td>MEH</td>\n",
              "      <td>DESPAIR</td>\n",
              "      <td>NO_ANSWER</td>\n",
              "      <td>NO_ANSWER</td>\n",
              "      <td>...</td>\n",
              "      <td>NO_ANSWER</td>\n",
              "      <td>DESPAIR</td>\n",
              "      <td>DESPAIR</td>\n",
              "      <td>NO_ANSWER</td>\n",
              "      <td>White and gold</td>\n",
              "      <td>Friday</td>\n",
              "      <td>0.0</td>\n",
              "      <td>0.0</td>\n",
              "      <td>0.0</td>\n",
              "      <td>0.0</td>\n",
              "    </tr>\n",
              "    <tr>\n",
              "      <th>882</th>\n",
              "      <td>No</td>\n",
              "      <td>Male</td>\n",
              "      <td>NaN</td>\n",
              "      <td>Other</td>\n",
              "      <td>NO_ANSWER</td>\n",
              "      <td>NO_ANSWER</td>\n",
              "      <td>NO_ANSWER</td>\n",
              "      <td>NO_ANSWER</td>\n",
              "      <td>NO_ANSWER</td>\n",
              "      <td>NO_ANSWER</td>\n",
              "      <td>...</td>\n",
              "      <td>NO_ANSWER</td>\n",
              "      <td>NO_ANSWER</td>\n",
              "      <td>NO_ANSWER</td>\n",
              "      <td>NO_ANSWER</td>\n",
              "      <td>NO_ANSWER</td>\n",
              "      <td>NO_ANSWER</td>\n",
              "      <td>0.0</td>\n",
              "      <td>0.0</td>\n",
              "      <td>0.0</td>\n",
              "      <td>0.0</td>\n",
              "    </tr>\n",
              "    <tr>\n",
              "      <th>918</th>\n",
              "      <td>No</td>\n",
              "      <td>Male</td>\n",
              "      <td>NaN</td>\n",
              "      <td>Other</td>\n",
              "      <td>JOY</td>\n",
              "      <td>MEH</td>\n",
              "      <td>JOY</td>\n",
              "      <td>JOY</td>\n",
              "      <td>MEH</td>\n",
              "      <td>DESPAIR</td>\n",
              "      <td>...</td>\n",
              "      <td>MEH</td>\n",
              "      <td>DESPAIR</td>\n",
              "      <td>DESPAIR</td>\n",
              "      <td>JOY</td>\n",
              "      <td>Blue and black</td>\n",
              "      <td>Sunday</td>\n",
              "      <td>0.0</td>\n",
              "      <td>1.0</td>\n",
              "      <td>0.0</td>\n",
              "      <td>0.0</td>\n",
              "    </tr>\n",
              "    <tr>\n",
              "      <th>1011</th>\n",
              "      <td>Yes</td>\n",
              "      <td>Female</td>\n",
              "      <td>53</td>\n",
              "      <td>Other</td>\n",
              "      <td>MEH</td>\n",
              "      <td>MEH</td>\n",
              "      <td>JOY</td>\n",
              "      <td>MEH</td>\n",
              "      <td>MEH</td>\n",
              "      <td>MEH</td>\n",
              "      <td>...</td>\n",
              "      <td>DESPAIR</td>\n",
              "      <td>DESPAIR</td>\n",
              "      <td>DESPAIR</td>\n",
              "      <td>JOY</td>\n",
              "      <td>Blue and black</td>\n",
              "      <td>Sunday</td>\n",
              "      <td>0.0</td>\n",
              "      <td>1.0</td>\n",
              "      <td>0.0</td>\n",
              "      <td>0.0</td>\n",
              "    </tr>\n",
              "    <tr>\n",
              "      <th>1246</th>\n",
              "      <td>No</td>\n",
              "      <td>Male</td>\n",
              "      <td>35</td>\n",
              "      <td>Other</td>\n",
              "      <td>NO_ANSWER</td>\n",
              "      <td>NO_ANSWER</td>\n",
              "      <td>NO_ANSWER</td>\n",
              "      <td>NO_ANSWER</td>\n",
              "      <td>NO_ANSWER</td>\n",
              "      <td>NO_ANSWER</td>\n",
              "      <td>...</td>\n",
              "      <td>NO_ANSWER</td>\n",
              "      <td>NO_ANSWER</td>\n",
              "      <td>NO_ANSWER</td>\n",
              "      <td>NO_ANSWER</td>\n",
              "      <td>NO_ANSWER</td>\n",
              "      <td>NO_ANSWER</td>\n",
              "      <td>0.0</td>\n",
              "      <td>0.0</td>\n",
              "      <td>0.0</td>\n",
              "      <td>0.0</td>\n",
              "    </tr>\n",
              "    <tr>\n",
              "      <th>1407</th>\n",
              "      <td>No</td>\n",
              "      <td>Male</td>\n",
              "      <td>NaN</td>\n",
              "      <td>Other</td>\n",
              "      <td>JOY</td>\n",
              "      <td>DESPAIR</td>\n",
              "      <td>JOY</td>\n",
              "      <td>DESPAIR</td>\n",
              "      <td>DESPAIR</td>\n",
              "      <td>DESPAIR</td>\n",
              "      <td>...</td>\n",
              "      <td>MEH</td>\n",
              "      <td>DESPAIR</td>\n",
              "      <td>DESPAIR</td>\n",
              "      <td>DESPAIR</td>\n",
              "      <td>White and gold</td>\n",
              "      <td>Friday</td>\n",
              "      <td>0.0</td>\n",
              "      <td>0.0</td>\n",
              "      <td>0.0</td>\n",
              "      <td>0.0</td>\n",
              "    </tr>\n",
              "    <tr>\n",
              "      <th>1428</th>\n",
              "      <td>Yes</td>\n",
              "      <td>Female</td>\n",
              "      <td>43</td>\n",
              "      <td>Other</td>\n",
              "      <td>JOY</td>\n",
              "      <td>MEH</td>\n",
              "      <td>JOY</td>\n",
              "      <td>MEH</td>\n",
              "      <td>DESPAIR</td>\n",
              "      <td>MEH</td>\n",
              "      <td>...</td>\n",
              "      <td>JOY</td>\n",
              "      <td>DESPAIR</td>\n",
              "      <td>DESPAIR</td>\n",
              "      <td>MEH</td>\n",
              "      <td>White and gold</td>\n",
              "      <td>Friday</td>\n",
              "      <td>0.0</td>\n",
              "      <td>1.0</td>\n",
              "      <td>0.0</td>\n",
              "      <td>0.0</td>\n",
              "    </tr>\n",
              "    <tr>\n",
              "      <th>1471</th>\n",
              "      <td>No</td>\n",
              "      <td>Male</td>\n",
              "      <td>NaN</td>\n",
              "      <td>Other</td>\n",
              "      <td>NO_ANSWER</td>\n",
              "      <td>NO_ANSWER</td>\n",
              "      <td>NO_ANSWER</td>\n",
              "      <td>NO_ANSWER</td>\n",
              "      <td>NO_ANSWER</td>\n",
              "      <td>NO_ANSWER</td>\n",
              "      <td>...</td>\n",
              "      <td>NO_ANSWER</td>\n",
              "      <td>NO_ANSWER</td>\n",
              "      <td>NO_ANSWER</td>\n",
              "      <td>NO_ANSWER</td>\n",
              "      <td>NO_ANSWER</td>\n",
              "      <td>NO_ANSWER</td>\n",
              "      <td>0.0</td>\n",
              "      <td>0.0</td>\n",
              "      <td>0.0</td>\n",
              "      <td>0.0</td>\n",
              "    </tr>\n",
              "    <tr>\n",
              "      <th>1628</th>\n",
              "      <td>No</td>\n",
              "      <td>Male</td>\n",
              "      <td>NaN</td>\n",
              "      <td>Other</td>\n",
              "      <td>NO_ANSWER</td>\n",
              "      <td>NO_ANSWER</td>\n",
              "      <td>NO_ANSWER</td>\n",
              "      <td>NO_ANSWER</td>\n",
              "      <td>NO_ANSWER</td>\n",
              "      <td>NO_ANSWER</td>\n",
              "      <td>...</td>\n",
              "      <td>NO_ANSWER</td>\n",
              "      <td>NO_ANSWER</td>\n",
              "      <td>NO_ANSWER</td>\n",
              "      <td>NO_ANSWER</td>\n",
              "      <td>NO_ANSWER</td>\n",
              "      <td>NO_ANSWER</td>\n",
              "      <td>0.0</td>\n",
              "      <td>0.0</td>\n",
              "      <td>0.0</td>\n",
              "      <td>0.0</td>\n",
              "    </tr>\n",
              "    <tr>\n",
              "      <th>1637</th>\n",
              "      <td>Yes</td>\n",
              "      <td>Male</td>\n",
              "      <td>47</td>\n",
              "      <td>Other</td>\n",
              "      <td>NO_ANSWER</td>\n",
              "      <td>NO_ANSWER</td>\n",
              "      <td>NO_ANSWER</td>\n",
              "      <td>NO_ANSWER</td>\n",
              "      <td>NO_ANSWER</td>\n",
              "      <td>NO_ANSWER</td>\n",
              "      <td>...</td>\n",
              "      <td>NO_ANSWER</td>\n",
              "      <td>NO_ANSWER</td>\n",
              "      <td>NO_ANSWER</td>\n",
              "      <td>NO_ANSWER</td>\n",
              "      <td>NO_ANSWER</td>\n",
              "      <td>NO_ANSWER</td>\n",
              "      <td>0.0</td>\n",
              "      <td>0.0</td>\n",
              "      <td>0.0</td>\n",
              "      <td>0.0</td>\n",
              "    </tr>\n",
              "    <tr>\n",
              "      <th>1641</th>\n",
              "      <td>No</td>\n",
              "      <td>Male</td>\n",
              "      <td>38</td>\n",
              "      <td>Other</td>\n",
              "      <td>NO_ANSWER</td>\n",
              "      <td>NO_ANSWER</td>\n",
              "      <td>NO_ANSWER</td>\n",
              "      <td>NO_ANSWER</td>\n",
              "      <td>NO_ANSWER</td>\n",
              "      <td>NO_ANSWER</td>\n",
              "      <td>...</td>\n",
              "      <td>NO_ANSWER</td>\n",
              "      <td>NO_ANSWER</td>\n",
              "      <td>NO_ANSWER</td>\n",
              "      <td>NO_ANSWER</td>\n",
              "      <td>NO_ANSWER</td>\n",
              "      <td>NO_ANSWER</td>\n",
              "      <td>0.0</td>\n",
              "      <td>0.0</td>\n",
              "      <td>0.0</td>\n",
              "      <td>0.0</td>\n",
              "    </tr>\n",
              "    <tr>\n",
              "      <th>1669</th>\n",
              "      <td>No</td>\n",
              "      <td>Male</td>\n",
              "      <td>NaN</td>\n",
              "      <td>Other</td>\n",
              "      <td>NO_ANSWER</td>\n",
              "      <td>NO_ANSWER</td>\n",
              "      <td>NO_ANSWER</td>\n",
              "      <td>NO_ANSWER</td>\n",
              "      <td>NO_ANSWER</td>\n",
              "      <td>NO_ANSWER</td>\n",
              "      <td>...</td>\n",
              "      <td>NO_ANSWER</td>\n",
              "      <td>NO_ANSWER</td>\n",
              "      <td>NO_ANSWER</td>\n",
              "      <td>NO_ANSWER</td>\n",
              "      <td>NO_ANSWER</td>\n",
              "      <td>NO_ANSWER</td>\n",
              "      <td>0.0</td>\n",
              "      <td>0.0</td>\n",
              "      <td>0.0</td>\n",
              "      <td>0.0</td>\n",
              "    </tr>\n",
              "    <tr>\n",
              "      <th>1694</th>\n",
              "      <td>No</td>\n",
              "      <td>Female</td>\n",
              "      <td>24</td>\n",
              "      <td>Other</td>\n",
              "      <td>NO_ANSWER</td>\n",
              "      <td>NO_ANSWER</td>\n",
              "      <td>JOY</td>\n",
              "      <td>NO_ANSWER</td>\n",
              "      <td>NO_ANSWER</td>\n",
              "      <td>NO_ANSWER</td>\n",
              "      <td>...</td>\n",
              "      <td>NO_ANSWER</td>\n",
              "      <td>DESPAIR</td>\n",
              "      <td>DESPAIR</td>\n",
              "      <td>NO_ANSWER</td>\n",
              "      <td>Blue and black</td>\n",
              "      <td>Sunday</td>\n",
              "      <td>0.0</td>\n",
              "      <td>1.0</td>\n",
              "      <td>0.0</td>\n",
              "      <td>0.0</td>\n",
              "    </tr>\n",
              "    <tr>\n",
              "      <th>1810</th>\n",
              "      <td>No</td>\n",
              "      <td>Male</td>\n",
              "      <td>37</td>\n",
              "      <td>Other</td>\n",
              "      <td>NO_ANSWER</td>\n",
              "      <td>NO_ANSWER</td>\n",
              "      <td>NO_ANSWER</td>\n",
              "      <td>NO_ANSWER</td>\n",
              "      <td>NO_ANSWER</td>\n",
              "      <td>NO_ANSWER</td>\n",
              "      <td>...</td>\n",
              "      <td>NO_ANSWER</td>\n",
              "      <td>NO_ANSWER</td>\n",
              "      <td>NO_ANSWER</td>\n",
              "      <td>NO_ANSWER</td>\n",
              "      <td>NO_ANSWER</td>\n",
              "      <td>NO_ANSWER</td>\n",
              "      <td>0.0</td>\n",
              "      <td>0.0</td>\n",
              "      <td>0.0</td>\n",
              "      <td>0.0</td>\n",
              "    </tr>\n",
              "    <tr>\n",
              "      <th>1996</th>\n",
              "      <td>Yes</td>\n",
              "      <td>Male</td>\n",
              "      <td>NaN</td>\n",
              "      <td>Other</td>\n",
              "      <td>NO_ANSWER</td>\n",
              "      <td>NO_ANSWER</td>\n",
              "      <td>NO_ANSWER</td>\n",
              "      <td>NO_ANSWER</td>\n",
              "      <td>NO_ANSWER</td>\n",
              "      <td>NO_ANSWER</td>\n",
              "      <td>...</td>\n",
              "      <td>NO_ANSWER</td>\n",
              "      <td>NO_ANSWER</td>\n",
              "      <td>NO_ANSWER</td>\n",
              "      <td>NO_ANSWER</td>\n",
              "      <td>NO_ANSWER</td>\n",
              "      <td>NO_ANSWER</td>\n",
              "      <td>0.0</td>\n",
              "      <td>0.0</td>\n",
              "      <td>0.0</td>\n",
              "      <td>0.0</td>\n",
              "    </tr>\n",
              "    <tr>\n",
              "      <th>2377</th>\n",
              "      <td>No</td>\n",
              "      <td>Male</td>\n",
              "      <td>NaN</td>\n",
              "      <td>Other</td>\n",
              "      <td>JOY</td>\n",
              "      <td>DESPAIR</td>\n",
              "      <td>JOY</td>\n",
              "      <td>MEH</td>\n",
              "      <td>MEH</td>\n",
              "      <td>DESPAIR</td>\n",
              "      <td>...</td>\n",
              "      <td>MEH</td>\n",
              "      <td>DESPAIR</td>\n",
              "      <td>DESPAIR</td>\n",
              "      <td>JOY</td>\n",
              "      <td>Blue and black</td>\n",
              "      <td>Sunday</td>\n",
              "      <td>0.0</td>\n",
              "      <td>1.0</td>\n",
              "      <td>0.0</td>\n",
              "      <td>0.0</td>\n",
              "    </tr>\n",
              "    <tr>\n",
              "      <th>2398</th>\n",
              "      <td>No</td>\n",
              "      <td>Male</td>\n",
              "      <td>NaN</td>\n",
              "      <td>Other</td>\n",
              "      <td>JOY</td>\n",
              "      <td>DESPAIR</td>\n",
              "      <td>JOY</td>\n",
              "      <td>NO_ANSWER</td>\n",
              "      <td>NO_ANSWER</td>\n",
              "      <td>NO_ANSWER</td>\n",
              "      <td>...</td>\n",
              "      <td>JOY</td>\n",
              "      <td>DESPAIR</td>\n",
              "      <td>MEH</td>\n",
              "      <td>JOY</td>\n",
              "      <td>White and gold</td>\n",
              "      <td>Sunday</td>\n",
              "      <td>0.0</td>\n",
              "      <td>1.0</td>\n",
              "      <td>0.0</td>\n",
              "      <td>0.0</td>\n",
              "    </tr>\n",
              "  </tbody>\n",
              "</table>\n",
              "<p>29 rows × 113 columns</p>\n",
              "</div>\n",
              "      <button class=\"colab-df-convert\" onclick=\"convertToInteractive('df-5c013f12-1853-40a6-b085-4ed8f0f3ad48')\"\n",
              "              title=\"Convert this dataframe to an interactive table.\"\n",
              "              style=\"display:none;\">\n",
              "        \n",
              "  <svg xmlns=\"http://www.w3.org/2000/svg\" height=\"24px\"viewBox=\"0 0 24 24\"\n",
              "       width=\"24px\">\n",
              "    <path d=\"M0 0h24v24H0V0z\" fill=\"none\"/>\n",
              "    <path d=\"M18.56 5.44l.94 2.06.94-2.06 2.06-.94-2.06-.94-.94-2.06-.94 2.06-2.06.94zm-11 1L8.5 8.5l.94-2.06 2.06-.94-2.06-.94L8.5 2.5l-.94 2.06-2.06.94zm10 10l.94 2.06.94-2.06 2.06-.94-2.06-.94-.94-2.06-.94 2.06-2.06.94z\"/><path d=\"M17.41 7.96l-1.37-1.37c-.4-.4-.92-.59-1.43-.59-.52 0-1.04.2-1.43.59L10.3 9.45l-7.72 7.72c-.78.78-.78 2.05 0 2.83L4 21.41c.39.39.9.59 1.41.59.51 0 1.02-.2 1.41-.59l7.78-7.78 2.81-2.81c.8-.78.8-2.07 0-2.86zM5.41 20L4 18.59l7.72-7.72 1.47 1.35L5.41 20z\"/>\n",
              "  </svg>\n",
              "      </button>\n",
              "      \n",
              "  <style>\n",
              "    .colab-df-container {\n",
              "      display:flex;\n",
              "      flex-wrap:wrap;\n",
              "      gap: 12px;\n",
              "    }\n",
              "\n",
              "    .colab-df-convert {\n",
              "      background-color: #E8F0FE;\n",
              "      border: none;\n",
              "      border-radius: 50%;\n",
              "      cursor: pointer;\n",
              "      display: none;\n",
              "      fill: #1967D2;\n",
              "      height: 32px;\n",
              "      padding: 0 0 0 0;\n",
              "      width: 32px;\n",
              "    }\n",
              "\n",
              "    .colab-df-convert:hover {\n",
              "      background-color: #E2EBFA;\n",
              "      box-shadow: 0px 1px 2px rgba(60, 64, 67, 0.3), 0px 1px 3px 1px rgba(60, 64, 67, 0.15);\n",
              "      fill: #174EA6;\n",
              "    }\n",
              "\n",
              "    [theme=dark] .colab-df-convert {\n",
              "      background-color: #3B4455;\n",
              "      fill: #D2E3FC;\n",
              "    }\n",
              "\n",
              "    [theme=dark] .colab-df-convert:hover {\n",
              "      background-color: #434B5C;\n",
              "      box-shadow: 0px 1px 3px 1px rgba(0, 0, 0, 0.15);\n",
              "      filter: drop-shadow(0px 1px 2px rgba(0, 0, 0, 0.3));\n",
              "      fill: #FFFFFF;\n",
              "    }\n",
              "  </style>\n",
              "\n",
              "      <script>\n",
              "        const buttonEl =\n",
              "          document.querySelector('#df-5c013f12-1853-40a6-b085-4ed8f0f3ad48 button.colab-df-convert');\n",
              "        buttonEl.style.display =\n",
              "          google.colab.kernel.accessAllowed ? 'block' : 'none';\n",
              "\n",
              "        async function convertToInteractive(key) {\n",
              "          const element = document.querySelector('#df-5c013f12-1853-40a6-b085-4ed8f0f3ad48');\n",
              "          const dataTable =\n",
              "            await google.colab.kernel.invokeFunction('convertToInteractive',\n",
              "                                                     [key], {});\n",
              "          if (!dataTable) return;\n",
              "\n",
              "          const docLinkHtml = 'Like what you see? Visit the ' +\n",
              "            '<a target=\"_blank\" href=https://colab.research.google.com/notebooks/data_table.ipynb>data table notebook</a>'\n",
              "            + ' to learn more about interactive tables.';\n",
              "          element.innerHTML = '';\n",
              "          dataTable['output_type'] = 'display_data';\n",
              "          await google.colab.output.renderOutput(dataTable, element);\n",
              "          const docLink = document.createElement('div');\n",
              "          docLink.innerHTML = docLinkHtml;\n",
              "          element.appendChild(docLink);\n",
              "        }\n",
              "      </script>\n",
              "    </div>\n",
              "  </div>\n",
              "  "
            ]
          },
          "metadata": {},
          "execution_count": 934
        }
      ],
      "source": [
        "### ENTER CODE HERE ###\n",
        "candy.loc[candy['Q4: COUNTRY'].str.contains('Australia', case=False), 'Q4: COUNTRY'] = 'Other'\n",
        "candy[candy['Q4: COUNTRY']=='Other']"
      ]
    },
    {
      "cell_type": "code",
      "execution_count": 935,
      "metadata": {
        "scrolled": true,
        "colab": {
          "base_uri": "https://localhost:8080/"
        },
        "id": "moE_znt0a6Yc",
        "outputId": "e12d431a-36eb-499e-b5db-fbade3d8c7ea"
      },
      "outputs": [
        {
          "output_type": "execute_result",
          "data": {
            "text/plain": [
              "114"
            ]
          },
          "metadata": {},
          "execution_count": 935
        }
      ],
      "source": [
        "# check unique values\n",
        "### ENTER CODE HERE ###\n",
        "candy['Q4: COUNTRY'].nunique()"
      ]
    },
    {
      "cell_type": "markdown",
      "metadata": {
        "id": "GHtloxiVa6Yc"
      },
      "source": [
        "**Exercise_L:** Combine all United States entries together into `USA`.  These would include the following:\n",
        "```\n",
        "'USA ', 'USA', 'us', 'usa', 'Us', 'US', 'Murica', 'United States', 'united states', 'Usa', 'United States ', 'United staes', 'United States of America', 'United states', 'u.s.a.', 'United States of America ', 'america', 'U.S.A.', 'unhinged states', 'united states of america', 'US of A', 'The United States', 'North Carolina ', 'Unied States', 'U S', 'u.s.', 'The United States of America', 'unite states','U.S.', 'USA? Hard to tell anymore..', \"'merica\", 'United State', 'United Sates', 'California', 'Unites States', 'USa', 'I pretend to be from Canada, but I am really from the United States.', 'Usa ', 'United Stated', 'New Jersey', 'United ststes', 'America', 'United Statss', 'murrika', 'USA! USA! USA!', 'USAA', 'united States ', 'N. America', 'USSA', 'U.S. ', 'u s a', 'United Statea', 'united ststes', 'USA USA USA!!!!'\n",
        "```"
      ]
    },
    {
      "cell_type": "code",
      "execution_count": 936,
      "metadata": {
        "scrolled": true,
        "id": "O3zItZwXa6Yd"
      },
      "outputs": [],
      "source": [
        "### ENTER CODE HERE ###\n",
        "usa_names = ['USA ', 'USA', 'us', 'usa', 'Us', 'US', 'Murica', 'United States', 'united states', 'Usa', 'United States ', 'United staes', 'United States of America', 'United states', 'u.s.a.', 'United States of America ', 'america', 'U.S.A.', 'unhinged states', 'united states of america', 'US of A', 'The United States', 'North Carolina ', 'Unied States', 'U S', 'u.s.', 'The United States of America', 'unite states','U.S.', 'USA? Hard to tell anymore..', \"'merica\", 'United State', 'United Sates', 'California', 'Unites States', 'USa', 'I pretend to be from Canada, but I am really from the United States.', 'Usa ', 'United Stated', 'New Jersey', 'United ststes', 'America', 'United Statss', 'murrika', 'USA! USA! USA!', 'USAA', 'united States ', 'N. America', 'USSA', 'U.S. ', 'u s a', 'United Statea', 'united ststes', 'USA USA USA!!!!']\n",
        "\n",
        "candy.loc[candy['Q4: COUNTRY'].isin(usa_names), 'Q4: COUNTRY'] = 'USA'"
      ]
    },
    {
      "cell_type": "markdown",
      "metadata": {
        "id": "KbMuMwIMa6Yd"
      },
      "source": [
        "**Code Check:** You should be merging the above values together into 1 (`USA`) and be left with 61 unique values after this step (including the `USA` value)."
      ]
    },
    {
      "cell_type": "code",
      "execution_count": 937,
      "metadata": {
        "scrolled": true,
        "colab": {
          "base_uri": "https://localhost:8080/"
        },
        "id": "Vw1PJRixa6Ye",
        "outputId": "94eb7de3-1f05-415c-9441-54dc8f157f28"
      },
      "outputs": [
        {
          "output_type": "stream",
          "name": "stdout",
          "text": [
            "['USA' 'Other' 'canada' 'Canada' 'uk' 'United Kingdom' 'UAE' 'England'\n",
            " 'UK' 'canada ' '35' 'france' 'finland' 'Mexico' 'Canada ' 'Netherlands'\n",
            " 'germany' 'Europe' 'U.K. ' 'Costa Rica' '46' 'Greece' '45' '32' 'France'\n",
            " 'Can' 'Canae' 'Trumpistan' 'Ireland' 'Korea' 'Japan' 'South africa' 'Uk'\n",
            " 'Germany' 'Canada`' 'Scotland' 'UK ' 'Denmark' 'France ' 'Switzerland'\n",
            " 'UD' 'Scotland ' 'South Korea' 'CANADA' 'Indonesia' 'The Netherlands'\n",
            " 'endland' 'soviet canuckistan' 'Singapore' 'China' 'Taiwan' 'Ireland '\n",
            " 'hong kong' 'spain' 'Sweden' 'Hong Kong' 'Narnia'\n",
            " 'subscribe to dm4uz3 on youtube' 'United kingdom' \"I don't know anymore\"\n",
            " 'Fear and Loathing']\n",
            "61\n"
          ]
        }
      ],
      "source": [
        "# check unique values\n",
        "### ENTER CODE HERE ###\n",
        "print(candy['Q4: COUNTRY'].unique())\n",
        "print(candy['Q4: COUNTRY'].nunique())"
      ]
    },
    {
      "cell_type": "markdown",
      "metadata": {
        "id": "oaHLPyrWa6Ye"
      },
      "source": [
        "**Exercise_M:** Combine the Canadian entries (both upper and lower case) and label them as `CA`. Be careful as there are extra spaces, characters, and misspellings (Can, Canae). \n",
        "\n",
        "These values include:\n",
        "```\n",
        "'canada', 'Canada', 'canada ', 'Canada ', 'Can', 'Canae', 'Canada`', 'CANADA'\n",
        "```"
      ]
    },
    {
      "cell_type": "code",
      "execution_count": 938,
      "metadata": {
        "scrolled": true,
        "id": "7TmWTce3a6Yf"
      },
      "outputs": [],
      "source": [
        "### ENTER CODE HERE ###\n",
        "candy.loc[candy['Q4: COUNTRY'].str.contains('^can', case=False), 'Q4: COUNTRY'] = 'CA'"
      ]
    },
    {
      "cell_type": "markdown",
      "metadata": {
        "id": "iT-XoLmsa6Yf"
      },
      "source": [
        "**Code Check:** You should be merging 8 values together into 1 (`CA`) and be left with 54 unique values after this step (including the `CA` value)."
      ]
    },
    {
      "cell_type": "code",
      "execution_count": 939,
      "metadata": {
        "scrolled": true,
        "colab": {
          "base_uri": "https://localhost:8080/"
        },
        "id": "nlnFdh-Ya6Yg",
        "outputId": "9d2342ee-4284-4936-ebdb-09a5db8a2284"
      },
      "outputs": [
        {
          "output_type": "stream",
          "name": "stdout",
          "text": [
            "['USA' 'Other' 'CA' 'uk' 'United Kingdom' 'UAE' 'England' 'UK' '35'\n",
            " 'france' 'finland' 'Mexico' 'Netherlands' 'germany' 'Europe' 'U.K. '\n",
            " 'Costa Rica' '46' 'Greece' '45' '32' 'France' 'Trumpistan' 'Ireland'\n",
            " 'Korea' 'Japan' 'South africa' 'Uk' 'Germany' 'Scotland' 'UK ' 'Denmark'\n",
            " 'France ' 'Switzerland' 'UD' 'Scotland ' 'South Korea' 'Indonesia'\n",
            " 'The Netherlands' 'endland' 'soviet canuckistan' 'Singapore' 'China'\n",
            " 'Taiwan' 'Ireland ' 'hong kong' 'spain' 'Sweden' 'Hong Kong' 'Narnia'\n",
            " 'subscribe to dm4uz3 on youtube' 'United kingdom' \"I don't know anymore\"\n",
            " 'Fear and Loathing']\n",
            "54\n"
          ]
        }
      ],
      "source": [
        "# check unique values\n",
        "### ENTER CODE HERE ###\n",
        "print(candy['Q4: COUNTRY'].unique())\n",
        "print(candy['Q4: COUNTRY'].nunique())"
      ]
    },
    {
      "cell_type": "markdown",
      "metadata": {
        "id": "Lt80Zhsxa6Yg"
      },
      "source": [
        "**Exercise_N:** Combine the European entries and label them as `EU`. Again, we are looking at the continent of Europe and not necessarily the countries that are a part of the European Union.  \n",
        "\n",
        "These values include:\n",
        "```\n",
        "'uk', 'United Kingdom', 'England', 'UK', 'france', 'finland', 'Netherlands', 'germany', 'Europe', 'U.K. ', 'Greece', 'France', 'Ireland', 'Uk', 'Germany', 'Scotland', 'UK ', 'Denmark', 'France ', 'Switzerland', 'Scotland ', 'The Netherlands', 'Ireland ', 'spain', 'Sweden', 'United kingdom'\n",
        "```"
      ]
    },
    {
      "cell_type": "code",
      "execution_count": 940,
      "metadata": {
        "scrolled": true,
        "id": "h6CXeDPKa6Yg"
      },
      "outputs": [],
      "source": [
        "### ENTER CODE HERE ###\n",
        "europe = ['uk', 'United Kingdom', 'England', 'UK', 'france', 'finland', 'Netherlands', 'germany', 'Europe', 'U.K. ', 'Greece', 'France', 'Ireland', 'Uk', \n",
        "          'Germany', 'Scotland', 'UK ', 'Denmark', 'France ', 'Switzerland', 'Scotland ', 'The Netherlands', 'Ireland ', 'spain', 'Sweden', 'United kingdom']\n",
        "\n",
        "candy.loc[candy['Q4: COUNTRY'].isin(europe), 'Q4: COUNTRY'] = \"EU\""
      ]
    },
    {
      "cell_type": "markdown",
      "metadata": {
        "id": "qZreQjuta6Yh"
      },
      "source": [
        "**Code Check:** You should be merging 26 entries together and be left with 29 unique values after this step (including the `EU` value)."
      ]
    },
    {
      "cell_type": "code",
      "execution_count": 941,
      "metadata": {
        "scrolled": true,
        "colab": {
          "base_uri": "https://localhost:8080/"
        },
        "id": "OoARnHBva6Yh",
        "outputId": "41100361-b448-40e7-afb0-9f000f9f8cde"
      },
      "outputs": [
        {
          "output_type": "stream",
          "name": "stdout",
          "text": [
            "['USA' 'Other' 'CA' 'EU' 'UAE' '35' 'Mexico' 'Costa Rica' '46' '45' '32'\n",
            " 'Trumpistan' 'Korea' 'Japan' 'South africa' 'UD' 'South Korea'\n",
            " 'Indonesia' 'endland' 'soviet canuckistan' 'Singapore' 'China' 'Taiwan'\n",
            " 'hong kong' 'Hong Kong' 'Narnia' 'subscribe to dm4uz3 on youtube'\n",
            " \"I don't know anymore\" 'Fear and Loathing']\n",
            "29\n"
          ]
        }
      ],
      "source": [
        "# check unique values\n",
        "### ENTER CODE HERE ###\n",
        "print(candy['Q4: COUNTRY'].unique())\n",
        "print(candy['Q4: COUNTRY'].nunique())"
      ]
    },
    {
      "cell_type": "markdown",
      "metadata": {
        "id": "moZqtCY_a6Yi"
      },
      "source": [
        "**Exercise_O:** Finally, combine the other entries and label them as `Other`."
      ]
    },
    {
      "cell_type": "code",
      "execution_count": 942,
      "metadata": {
        "scrolled": true,
        "id": "JWrSTobya6Yi"
      },
      "outputs": [],
      "source": [
        "### ENTER CODE HERE ###\n",
        "candy.loc[~candy['Q4: COUNTRY'].isin(['USA','CA','EU']), 'Q4: COUNTRY'] = 'Other'"
      ]
    },
    {
      "cell_type": "markdown",
      "metadata": {
        "id": "WSRjfhpLa6Yi"
      },
      "source": [
        "**Code Check:** Double check that you only have four unique values in the `Q4: COUNTRY` column: `USA`, `Other`, `CA`, and `EU`"
      ]
    },
    {
      "cell_type": "code",
      "execution_count": 943,
      "metadata": {
        "scrolled": true,
        "colab": {
          "base_uri": "https://localhost:8080/"
        },
        "id": "vezritXRa6Yj",
        "outputId": "5cbc10ca-f79e-47a0-e748-410814d50173"
      },
      "outputs": [
        {
          "output_type": "stream",
          "name": "stdout",
          "text": [
            "['USA' 'Other' 'CA' 'EU']\n",
            "4\n"
          ]
        }
      ],
      "source": [
        "# check unique values\n",
        "### ENTER CODE HERE ###\n",
        "print(candy['Q4: COUNTRY'].unique())\n",
        "print(candy['Q4: COUNTRY'].nunique())"
      ]
    },
    {
      "cell_type": "markdown",
      "metadata": {
        "id": "D3d_ncoxa6Yj"
      },
      "source": [
        "**Q6:** To double check that everything was coded correctly, save the value counts of the `Q4: COUNTRY` column as `Q6`.  You can check this once you run your CodeGrade check."
      ]
    },
    {
      "cell_type": "code",
      "execution_count": 944,
      "metadata": {
        "scrolled": true,
        "id": "H5mW2zxua6Yk"
      },
      "outputs": [],
      "source": [
        "### ENTER CODE HERE ###\n",
        "Q6 = candy['Q4: COUNTRY'].value_counts()"
      ]
    },
    {
      "cell_type": "markdown",
      "metadata": {
        "id": "_-40P1Apa6Yk"
      },
      "source": [
        "We now want to look at the `Q3: AGE` column. Let's look at all the unique values."
      ]
    },
    {
      "cell_type": "code",
      "execution_count": 945,
      "metadata": {
        "scrolled": true,
        "colab": {
          "base_uri": "https://localhost:8080/"
        },
        "id": "c5CTyRhta6Yl",
        "outputId": "32e76bed-97ca-469c-88cc-fd0633f286fd"
      },
      "outputs": [
        {
          "output_type": "execute_result",
          "data": {
            "text/plain": [
              "array(['44', '49', '40', '23', nan, '53', '33', '43', '56', '64', '37',\n",
              "       '48', '54', '36', '45', '25', '34', '35', '38', '58', '50', '47',\n",
              "       '16', '52', '63', '65', '41', '27', '31', '59', '61', '46', '42',\n",
              "       '62', '29', '39', '32', '28', '69', '67', '30', '22', '51', '70',\n",
              "       '24', '19', 'Old enough', '57', '60', '66', '12', 'Many', '55',\n",
              "       '72', '?', '21', '11', 'no', '9', '68', '20', '6', '10', '71',\n",
              "       '13', '26', '45-55', '7', '39.4', '74', '18', 'older than dirt',\n",
              "       '17', '15', '8', '75', '5u', 'Enough', 'Over 50', '90', '76',\n",
              "       'sixty-nine', 'ancient', '77', 'OLD', 'old', '73', '70 1/2', '14',\n",
              "       'MY NAME JEFF', '4', '59 on the day after Halloween', 'old enough',\n",
              "       'your mom', 'I can remember when Java was a cool new language',\n",
              "       '60+'], dtype=object)"
            ]
          },
          "metadata": {},
          "execution_count": 945
        }
      ],
      "source": [
        "# check unique age values for the age column\n",
        "### ENTER CODE HERE ###\n",
        "candy['Q3: AGE'].unique()"
      ]
    },
    {
      "cell_type": "markdown",
      "metadata": {
        "id": "-m25L-Taa6Yl"
      },
      "source": [
        "Again, this is a pretty messy column of data. This is a good example of why those that create online surveys shouldn't allow the individual to just put any value into the field. But it is now our job to clean this up.\n",
        "\n",
        "**Exercise_P:** Your task is to put these values into the following categorical bins: `unknown`, `17 and under`, `18-25`, `26-35`, `36-45`, `46-55`, and `56+`. \n",
        "\n",
        "- The category labels should exactly match the above.\n",
        "- Missing values should be replaced with the `unknown` category\n",
        "- To make things easier and avoid ambiguity, let's say that any value with text, even if we could determine the age, will be binned with the `unknown` category. For example: `sixty-nine` should be coded as `unknown`, `45-55` should be coded as `unknown`, `59 on the day after Halloween` should be coded as `unknown`, etc.\n",
        "- Ensure that the category labels are unordered but reorder the categories so that 'unknown' is listed in the first position. This is not really needed but will help us grade your assignment. The categories should be listed as follows: `Index(['unknown', '17 and under', '18-25', '26-35', '36-45', '46-55', '56+'], dtype='object')`"
      ]
    },
    {
      "cell_type": "markdown",
      "metadata": {
        "id": "L3QGfgWDa6Ym"
      },
      "source": [
        "First, we will replace any non-numeric value (those with text as mentioned above) with a missing value.  This will allow you to turn the other values into floats so that you can bin them. Just don't forget to code the missing values as `unknown` when you are done.  To replace the non-numeric values, run the following code:"
      ]
    },
    {
      "cell_type": "code",
      "execution_count": 946,
      "metadata": {
        "scrolled": true,
        "id": "eRll5Fkia6Ym"
      },
      "outputs": [],
      "source": [
        "# create True/False index\n",
        "age_index = candy['Q3: AGE'].str.isnumeric()\n",
        "\n",
        "# for the index, fill missing values with False\n",
        "age_index = age_index.fillna(False)\n",
        "\n",
        "# select Age column for only those False values from index and code as missing\n",
        "candy.loc[~age_index, 'Q3: AGE'] = np.nan"
      ]
    },
    {
      "cell_type": "code",
      "execution_count": 947,
      "metadata": {
        "scrolled": true,
        "id": "xSbqu1Csa6Yn"
      },
      "outputs": [],
      "source": [
        "### ENTER REST OF CODE HERE ###\n",
        "candy.loc[:,'Q3: AGE'] = candy.loc[:,'Q3: AGE'].astype(float)\n",
        "\n",
        "candy['Q3: AGE'] = pd.cut(candy['Q3: AGE'], bins=[0,17,25,35,45,55,candy['Q3: AGE'].max()], \n",
        "                                        labels=['17 and under','18-25','26-35','36-45','46-55','56+'])\n",
        "\n",
        "candy['Q3: AGE'] = candy['Q3: AGE'].cat.add_categories('unknown').cat.reorder_categories(['unknown', '17 and under','18-25','26-35','36-45','46-55','56+'], ordered=False)"
      ]
    },
    {
      "cell_type": "code",
      "source": [
        "candy['Q3: AGE'] = candy['Q3: AGE'].fillna('unknown')"
      ],
      "metadata": {
        "id": "rdvBT7ZG0kvk"
      },
      "execution_count": 948,
      "outputs": []
    },
    {
      "cell_type": "markdown",
      "metadata": {
        "id": "Cyg2IfNQa6Yn"
      },
      "source": [
        "**Exercise_Q:** Double check yourself by checking the categories for the `Q3: AGE` column. It should output: `Index(['unknown', '17 and under', '18-25', '26-35', '36-45', '46-55', '56+'], dtype='object')`"
      ]
    },
    {
      "cell_type": "code",
      "execution_count": 949,
      "metadata": {
        "scrolled": true,
        "colab": {
          "base_uri": "https://localhost:8080/"
        },
        "id": "HUrvER1ba6Yo",
        "outputId": "eb093426-273b-4f08-e7ad-817101312b78"
      },
      "outputs": [
        {
          "output_type": "execute_result",
          "data": {
            "text/plain": [
              "1         36-45\n",
              "2         46-55\n",
              "3         36-45\n",
              "4         18-25\n",
              "5       unknown\n",
              "         ...   \n",
              "2474      18-25\n",
              "2475      26-35\n",
              "2476      26-35\n",
              "2477        56+\n",
              "2478        56+\n",
              "Name: Q3: AGE, Length: 2305, dtype: category\n",
              "Categories (7, object): ['unknown', '17 and under', '18-25', '26-35', '36-45', '46-55', '56+']"
            ]
          },
          "metadata": {},
          "execution_count": 949
        }
      ],
      "source": [
        "# double check categories\n",
        "### ENTER CODE HERE ###\n",
        "candy['Q3: AGE']"
      ]
    },
    {
      "cell_type": "markdown",
      "metadata": {
        "id": "MWhjAEXza6Yo"
      },
      "source": [
        "**Code Check:** To double check your above binning worked correctly, your value counts (sorted by the index) should be as follows:\n",
        "\n",
        "```\n",
        "unknown: 60 \n",
        "17 and under: 49 \n",
        "18-25: 85\n",
        "26-35: 520\n",
        "36-45: 768\n",
        "46-55: 525\n",
        "56+: 298\n",
        "```"
      ]
    },
    {
      "cell_type": "code",
      "execution_count": 950,
      "metadata": {
        "scrolled": true,
        "colab": {
          "base_uri": "https://localhost:8080/"
        },
        "id": "oYRd1h-xa6Yp",
        "outputId": "7278b3f8-55aa-4059-feb4-c5aea160cfe4"
      },
      "outputs": [
        {
          "output_type": "execute_result",
          "data": {
            "text/plain": [
              "36-45           768\n",
              "46-55           525\n",
              "26-35           520\n",
              "56+             298\n",
              "18-25            85\n",
              "unknown          60\n",
              "17 and under     49\n",
              "Name: Q3: AGE, dtype: int64"
            ]
          },
          "metadata": {},
          "execution_count": 950
        }
      ],
      "source": [
        "### ENTER CODE HERE ###\n",
        "candy['Q3: AGE'].value_counts()"
      ]
    },
    {
      "cell_type": "markdown",
      "metadata": {
        "id": "Ueeujw_wa6Yp"
      },
      "source": [
        "You can also double check some of your work up to this point by making sure that there are no missing values in the data set anymore."
      ]
    },
    {
      "cell_type": "markdown",
      "metadata": {
        "id": "65VhzXtea6Yq"
      },
      "source": [
        "**Code Check:** Check to see if there are any missing values in the data set. Your output should show `0`."
      ]
    },
    {
      "cell_type": "code",
      "execution_count": 951,
      "metadata": {
        "scrolled": true,
        "colab": {
          "base_uri": "https://localhost:8080/"
        },
        "id": "IJfkk-9za6Yq",
        "outputId": "f48a20dd-2439-48e3-b42c-370efb57369e"
      },
      "outputs": [
        {
          "output_type": "execute_result",
          "data": {
            "text/plain": [
              "0    113\n",
              "dtype: int64"
            ]
          },
          "metadata": {},
          "execution_count": 951
        }
      ],
      "source": [
        "### ENTER CODE HERE ###\n",
        "candy.isnull().sum().value_counts()"
      ]
    },
    {
      "cell_type": "markdown",
      "metadata": {
        "id": "bjh_AUWga6Yq"
      },
      "source": [
        "**Exercise_R:** Before you move on to the Data Analysis section, reset the index for `candy` ensuring that it goes from 0 to n-1.  "
      ]
    },
    {
      "cell_type": "code",
      "execution_count": 952,
      "metadata": {
        "scrolled": true,
        "colab": {
          "base_uri": "https://localhost:8080/",
          "height": 696
        },
        "id": "ULdeBu7ca6Yr",
        "outputId": "8e324ca5-ff5c-4ec4-aa8a-2ec0f19bf1a7"
      },
      "outputs": [
        {
          "output_type": "execute_result",
          "data": {
            "text/plain": [
              "     Q1: GOING OUT? Q2: GENDER  Q3: AGE Q4: COUNTRY Q6 | 100 Grand Bar  \\\n",
              "0                No       Male    36-45         USA                MEH   \n",
              "1                No       Male    46-55         USA          NO_ANSWER   \n",
              "2                No       Male    36-45         USA                MEH   \n",
              "3                No       Male    18-25         USA                JOY   \n",
              "4                No       Male  unknown       Other                JOY   \n",
              "...             ...        ...      ...         ...                ...   \n",
              "2300             No       Male    18-25         USA                JOY   \n",
              "2301             No     Female    26-35         USA                MEH   \n",
              "2302             No     Female    26-35         USA                MEH   \n",
              "2303             No       Male      56+         USA          NO_ANSWER   \n",
              "2304             No     Female      56+         USA            DESPAIR   \n",
              "\n",
              "     Q6 | Anonymous brown globs that come in black and orange wrappers\\t(a.k.a. Mary Janes)  \\\n",
              "0                                               DESPAIR                                       \n",
              "1                                             NO_ANSWER                                       \n",
              "2                                               DESPAIR                                       \n",
              "3                                               DESPAIR                                       \n",
              "4                                               DESPAIR                                       \n",
              "...                                                 ...                                       \n",
              "2300                                            DESPAIR                                       \n",
              "2301                                            DESPAIR                                       \n",
              "2302                                            DESPAIR                                       \n",
              "2303                                          NO_ANSWER                                       \n",
              "2304                                            DESPAIR                                       \n",
              "\n",
              "     Q6 | Any full-sized candy bar Q6 | Black Jacks Q6 | Bonkers (the candy)  \\\n",
              "0                              JOY              MEH                  DESPAIR   \n",
              "1                        NO_ANSWER        NO_ANSWER                NO_ANSWER   \n",
              "2                              JOY              MEH                      MEH   \n",
              "3                              JOY          DESPAIR                      MEH   \n",
              "4                              JOY        NO_ANSWER                NO_ANSWER   \n",
              "...                            ...              ...                      ...   \n",
              "2300                           MEH          DESPAIR                  DESPAIR   \n",
              "2301                           JOY        NO_ANSWER                NO_ANSWER   \n",
              "2302                           JOY          DESPAIR                      MEH   \n",
              "2303                     NO_ANSWER        NO_ANSWER                NO_ANSWER   \n",
              "2304                           JOY          DESPAIR                  DESPAIR   \n",
              "\n",
              "     Q6 | Bonkers (the board game)  ... Q6 | Whatchamacallit Bars  \\\n",
              "0                          DESPAIR  ...                   DESPAIR   \n",
              "1                        NO_ANSWER  ...                 NO_ANSWER   \n",
              "2                          DESPAIR  ...                       JOY   \n",
              "3                          DESPAIR  ...                       JOY   \n",
              "4                        NO_ANSWER  ...                       JOY   \n",
              "...                            ...  ...                       ...   \n",
              "2300                           MEH  ...                   DESPAIR   \n",
              "2301                     NO_ANSWER  ...                       JOY   \n",
              "2302                           JOY  ...                       MEH   \n",
              "2303                     NO_ANSWER  ...                 NO_ANSWER   \n",
              "2304                       DESPAIR  ...                   DESPAIR   \n",
              "\n",
              "     Q6 | White Bread Q6 | Whole Wheat anything Q6 | York Peppermint Patties  \\\n",
              "0             DESPAIR                   DESPAIR                      DESPAIR   \n",
              "1           NO_ANSWER                 NO_ANSWER                    NO_ANSWER   \n",
              "2             DESPAIR                   DESPAIR                      DESPAIR   \n",
              "3             DESPAIR                   DESPAIR                          JOY   \n",
              "4             DESPAIR                   DESPAIR                          JOY   \n",
              "...               ...                       ...                          ...   \n",
              "2300              MEH                   DESPAIR                          MEH   \n",
              "2301          DESPAIR                       MEH                          JOY   \n",
              "2302          DESPAIR                   DESPAIR                          MEH   \n",
              "2303        NO_ANSWER                 NO_ANSWER                    NO_ANSWER   \n",
              "2304              MEH                   DESPAIR                          JOY   \n",
              "\n",
              "          Q10: DRESS   Q11: DAY Q12: MEDIA [Daily Dish] Q12: MEDIA [Science]  \\\n",
              "0     White and gold     Sunday                     0.0                  1.0   \n",
              "1          NO_ANSWER  NO_ANSWER                     0.0                  0.0   \n",
              "2     White and gold     Sunday                     0.0                  1.0   \n",
              "3     White and gold     Friday                     0.0                  1.0   \n",
              "4          NO_ANSWER  NO_ANSWER                     0.0                  1.0   \n",
              "...              ...        ...                     ...                  ...   \n",
              "2300  White and gold     Friday                     0.0                  0.0   \n",
              "2301  Blue and black     Friday                     0.0                  1.0   \n",
              "2302  Blue and black     Friday                     0.0                  1.0   \n",
              "2303       NO_ANSWER  NO_ANSWER                     0.0                  0.0   \n",
              "2304  White and gold     Sunday                     1.0                  0.0   \n",
              "\n",
              "     Q12: MEDIA [ESPN] Q12: MEDIA [Yahoo]  \n",
              "0                  0.0                0.0  \n",
              "1                  0.0                0.0  \n",
              "2                  0.0                0.0  \n",
              "3                  0.0                0.0  \n",
              "4                  0.0                0.0  \n",
              "...                ...                ...  \n",
              "2300               0.0                0.0  \n",
              "2301               0.0                0.0  \n",
              "2302               0.0                0.0  \n",
              "2303               0.0                0.0  \n",
              "2304               0.0                0.0  \n",
              "\n",
              "[2305 rows x 113 columns]"
            ],
            "text/html": [
              "\n",
              "  <div id=\"df-f1050670-b53a-45b9-92bd-00a36dbed010\">\n",
              "    <div class=\"colab-df-container\">\n",
              "      <div>\n",
              "<style scoped>\n",
              "    .dataframe tbody tr th:only-of-type {\n",
              "        vertical-align: middle;\n",
              "    }\n",
              "\n",
              "    .dataframe tbody tr th {\n",
              "        vertical-align: top;\n",
              "    }\n",
              "\n",
              "    .dataframe thead th {\n",
              "        text-align: right;\n",
              "    }\n",
              "</style>\n",
              "<table border=\"1\" class=\"dataframe\">\n",
              "  <thead>\n",
              "    <tr style=\"text-align: right;\">\n",
              "      <th></th>\n",
              "      <th>Q1: GOING OUT?</th>\n",
              "      <th>Q2: GENDER</th>\n",
              "      <th>Q3: AGE</th>\n",
              "      <th>Q4: COUNTRY</th>\n",
              "      <th>Q6 | 100 Grand Bar</th>\n",
              "      <th>Q6 | Anonymous brown globs that come in black and orange wrappers\\t(a.k.a. Mary Janes)</th>\n",
              "      <th>Q6 | Any full-sized candy bar</th>\n",
              "      <th>Q6 | Black Jacks</th>\n",
              "      <th>Q6 | Bonkers (the candy)</th>\n",
              "      <th>Q6 | Bonkers (the board game)</th>\n",
              "      <th>...</th>\n",
              "      <th>Q6 | Whatchamacallit Bars</th>\n",
              "      <th>Q6 | White Bread</th>\n",
              "      <th>Q6 | Whole Wheat anything</th>\n",
              "      <th>Q6 | York Peppermint Patties</th>\n",
              "      <th>Q10: DRESS</th>\n",
              "      <th>Q11: DAY</th>\n",
              "      <th>Q12: MEDIA [Daily Dish]</th>\n",
              "      <th>Q12: MEDIA [Science]</th>\n",
              "      <th>Q12: MEDIA [ESPN]</th>\n",
              "      <th>Q12: MEDIA [Yahoo]</th>\n",
              "    </tr>\n",
              "  </thead>\n",
              "  <tbody>\n",
              "    <tr>\n",
              "      <th>0</th>\n",
              "      <td>No</td>\n",
              "      <td>Male</td>\n",
              "      <td>36-45</td>\n",
              "      <td>USA</td>\n",
              "      <td>MEH</td>\n",
              "      <td>DESPAIR</td>\n",
              "      <td>JOY</td>\n",
              "      <td>MEH</td>\n",
              "      <td>DESPAIR</td>\n",
              "      <td>DESPAIR</td>\n",
              "      <td>...</td>\n",
              "      <td>DESPAIR</td>\n",
              "      <td>DESPAIR</td>\n",
              "      <td>DESPAIR</td>\n",
              "      <td>DESPAIR</td>\n",
              "      <td>White and gold</td>\n",
              "      <td>Sunday</td>\n",
              "      <td>0.0</td>\n",
              "      <td>1.0</td>\n",
              "      <td>0.0</td>\n",
              "      <td>0.0</td>\n",
              "    </tr>\n",
              "    <tr>\n",
              "      <th>1</th>\n",
              "      <td>No</td>\n",
              "      <td>Male</td>\n",
              "      <td>46-55</td>\n",
              "      <td>USA</td>\n",
              "      <td>NO_ANSWER</td>\n",
              "      <td>NO_ANSWER</td>\n",
              "      <td>NO_ANSWER</td>\n",
              "      <td>NO_ANSWER</td>\n",
              "      <td>NO_ANSWER</td>\n",
              "      <td>NO_ANSWER</td>\n",
              "      <td>...</td>\n",
              "      <td>NO_ANSWER</td>\n",
              "      <td>NO_ANSWER</td>\n",
              "      <td>NO_ANSWER</td>\n",
              "      <td>NO_ANSWER</td>\n",
              "      <td>NO_ANSWER</td>\n",
              "      <td>NO_ANSWER</td>\n",
              "      <td>0.0</td>\n",
              "      <td>0.0</td>\n",
              "      <td>0.0</td>\n",
              "      <td>0.0</td>\n",
              "    </tr>\n",
              "    <tr>\n",
              "      <th>2</th>\n",
              "      <td>No</td>\n",
              "      <td>Male</td>\n",
              "      <td>36-45</td>\n",
              "      <td>USA</td>\n",
              "      <td>MEH</td>\n",
              "      <td>DESPAIR</td>\n",
              "      <td>JOY</td>\n",
              "      <td>MEH</td>\n",
              "      <td>MEH</td>\n",
              "      <td>DESPAIR</td>\n",
              "      <td>...</td>\n",
              "      <td>JOY</td>\n",
              "      <td>DESPAIR</td>\n",
              "      <td>DESPAIR</td>\n",
              "      <td>DESPAIR</td>\n",
              "      <td>White and gold</td>\n",
              "      <td>Sunday</td>\n",
              "      <td>0.0</td>\n",
              "      <td>1.0</td>\n",
              "      <td>0.0</td>\n",
              "      <td>0.0</td>\n",
              "    </tr>\n",
              "    <tr>\n",
              "      <th>3</th>\n",
              "      <td>No</td>\n",
              "      <td>Male</td>\n",
              "      <td>18-25</td>\n",
              "      <td>USA</td>\n",
              "      <td>JOY</td>\n",
              "      <td>DESPAIR</td>\n",
              "      <td>JOY</td>\n",
              "      <td>DESPAIR</td>\n",
              "      <td>MEH</td>\n",
              "      <td>DESPAIR</td>\n",
              "      <td>...</td>\n",
              "      <td>JOY</td>\n",
              "      <td>DESPAIR</td>\n",
              "      <td>DESPAIR</td>\n",
              "      <td>JOY</td>\n",
              "      <td>White and gold</td>\n",
              "      <td>Friday</td>\n",
              "      <td>0.0</td>\n",
              "      <td>1.0</td>\n",
              "      <td>0.0</td>\n",
              "      <td>0.0</td>\n",
              "    </tr>\n",
              "    <tr>\n",
              "      <th>4</th>\n",
              "      <td>No</td>\n",
              "      <td>Male</td>\n",
              "      <td>unknown</td>\n",
              "      <td>Other</td>\n",
              "      <td>JOY</td>\n",
              "      <td>DESPAIR</td>\n",
              "      <td>JOY</td>\n",
              "      <td>NO_ANSWER</td>\n",
              "      <td>NO_ANSWER</td>\n",
              "      <td>NO_ANSWER</td>\n",
              "      <td>...</td>\n",
              "      <td>JOY</td>\n",
              "      <td>DESPAIR</td>\n",
              "      <td>DESPAIR</td>\n",
              "      <td>JOY</td>\n",
              "      <td>NO_ANSWER</td>\n",
              "      <td>NO_ANSWER</td>\n",
              "      <td>0.0</td>\n",
              "      <td>1.0</td>\n",
              "      <td>0.0</td>\n",
              "      <td>0.0</td>\n",
              "    </tr>\n",
              "    <tr>\n",
              "      <th>...</th>\n",
              "      <td>...</td>\n",
              "      <td>...</td>\n",
              "      <td>...</td>\n",
              "      <td>...</td>\n",
              "      <td>...</td>\n",
              "      <td>...</td>\n",
              "      <td>...</td>\n",
              "      <td>...</td>\n",
              "      <td>...</td>\n",
              "      <td>...</td>\n",
              "      <td>...</td>\n",
              "      <td>...</td>\n",
              "      <td>...</td>\n",
              "      <td>...</td>\n",
              "      <td>...</td>\n",
              "      <td>...</td>\n",
              "      <td>...</td>\n",
              "      <td>...</td>\n",
              "      <td>...</td>\n",
              "      <td>...</td>\n",
              "      <td>...</td>\n",
              "    </tr>\n",
              "    <tr>\n",
              "      <th>2300</th>\n",
              "      <td>No</td>\n",
              "      <td>Male</td>\n",
              "      <td>18-25</td>\n",
              "      <td>USA</td>\n",
              "      <td>JOY</td>\n",
              "      <td>DESPAIR</td>\n",
              "      <td>MEH</td>\n",
              "      <td>DESPAIR</td>\n",
              "      <td>DESPAIR</td>\n",
              "      <td>MEH</td>\n",
              "      <td>...</td>\n",
              "      <td>DESPAIR</td>\n",
              "      <td>MEH</td>\n",
              "      <td>DESPAIR</td>\n",
              "      <td>MEH</td>\n",
              "      <td>White and gold</td>\n",
              "      <td>Friday</td>\n",
              "      <td>0.0</td>\n",
              "      <td>0.0</td>\n",
              "      <td>0.0</td>\n",
              "      <td>0.0</td>\n",
              "    </tr>\n",
              "    <tr>\n",
              "      <th>2301</th>\n",
              "      <td>No</td>\n",
              "      <td>Female</td>\n",
              "      <td>26-35</td>\n",
              "      <td>USA</td>\n",
              "      <td>MEH</td>\n",
              "      <td>DESPAIR</td>\n",
              "      <td>JOY</td>\n",
              "      <td>NO_ANSWER</td>\n",
              "      <td>NO_ANSWER</td>\n",
              "      <td>NO_ANSWER</td>\n",
              "      <td>...</td>\n",
              "      <td>JOY</td>\n",
              "      <td>DESPAIR</td>\n",
              "      <td>MEH</td>\n",
              "      <td>JOY</td>\n",
              "      <td>Blue and black</td>\n",
              "      <td>Friday</td>\n",
              "      <td>0.0</td>\n",
              "      <td>1.0</td>\n",
              "      <td>0.0</td>\n",
              "      <td>0.0</td>\n",
              "    </tr>\n",
              "    <tr>\n",
              "      <th>2302</th>\n",
              "      <td>No</td>\n",
              "      <td>Female</td>\n",
              "      <td>26-35</td>\n",
              "      <td>USA</td>\n",
              "      <td>MEH</td>\n",
              "      <td>DESPAIR</td>\n",
              "      <td>JOY</td>\n",
              "      <td>DESPAIR</td>\n",
              "      <td>MEH</td>\n",
              "      <td>JOY</td>\n",
              "      <td>...</td>\n",
              "      <td>MEH</td>\n",
              "      <td>DESPAIR</td>\n",
              "      <td>DESPAIR</td>\n",
              "      <td>MEH</td>\n",
              "      <td>Blue and black</td>\n",
              "      <td>Friday</td>\n",
              "      <td>0.0</td>\n",
              "      <td>1.0</td>\n",
              "      <td>0.0</td>\n",
              "      <td>0.0</td>\n",
              "    </tr>\n",
              "    <tr>\n",
              "      <th>2303</th>\n",
              "      <td>No</td>\n",
              "      <td>Male</td>\n",
              "      <td>56+</td>\n",
              "      <td>USA</td>\n",
              "      <td>NO_ANSWER</td>\n",
              "      <td>NO_ANSWER</td>\n",
              "      <td>NO_ANSWER</td>\n",
              "      <td>NO_ANSWER</td>\n",
              "      <td>NO_ANSWER</td>\n",
              "      <td>NO_ANSWER</td>\n",
              "      <td>...</td>\n",
              "      <td>NO_ANSWER</td>\n",
              "      <td>NO_ANSWER</td>\n",
              "      <td>NO_ANSWER</td>\n",
              "      <td>NO_ANSWER</td>\n",
              "      <td>NO_ANSWER</td>\n",
              "      <td>NO_ANSWER</td>\n",
              "      <td>0.0</td>\n",
              "      <td>0.0</td>\n",
              "      <td>0.0</td>\n",
              "      <td>0.0</td>\n",
              "    </tr>\n",
              "    <tr>\n",
              "      <th>2304</th>\n",
              "      <td>No</td>\n",
              "      <td>Female</td>\n",
              "      <td>56+</td>\n",
              "      <td>USA</td>\n",
              "      <td>DESPAIR</td>\n",
              "      <td>DESPAIR</td>\n",
              "      <td>JOY</td>\n",
              "      <td>DESPAIR</td>\n",
              "      <td>DESPAIR</td>\n",
              "      <td>DESPAIR</td>\n",
              "      <td>...</td>\n",
              "      <td>DESPAIR</td>\n",
              "      <td>MEH</td>\n",
              "      <td>DESPAIR</td>\n",
              "      <td>JOY</td>\n",
              "      <td>White and gold</td>\n",
              "      <td>Sunday</td>\n",
              "      <td>1.0</td>\n",
              "      <td>0.0</td>\n",
              "      <td>0.0</td>\n",
              "      <td>0.0</td>\n",
              "    </tr>\n",
              "  </tbody>\n",
              "</table>\n",
              "<p>2305 rows × 113 columns</p>\n",
              "</div>\n",
              "      <button class=\"colab-df-convert\" onclick=\"convertToInteractive('df-f1050670-b53a-45b9-92bd-00a36dbed010')\"\n",
              "              title=\"Convert this dataframe to an interactive table.\"\n",
              "              style=\"display:none;\">\n",
              "        \n",
              "  <svg xmlns=\"http://www.w3.org/2000/svg\" height=\"24px\"viewBox=\"0 0 24 24\"\n",
              "       width=\"24px\">\n",
              "    <path d=\"M0 0h24v24H0V0z\" fill=\"none\"/>\n",
              "    <path d=\"M18.56 5.44l.94 2.06.94-2.06 2.06-.94-2.06-.94-.94-2.06-.94 2.06-2.06.94zm-11 1L8.5 8.5l.94-2.06 2.06-.94-2.06-.94L8.5 2.5l-.94 2.06-2.06.94zm10 10l.94 2.06.94-2.06 2.06-.94-2.06-.94-.94-2.06-.94 2.06-2.06.94z\"/><path d=\"M17.41 7.96l-1.37-1.37c-.4-.4-.92-.59-1.43-.59-.52 0-1.04.2-1.43.59L10.3 9.45l-7.72 7.72c-.78.78-.78 2.05 0 2.83L4 21.41c.39.39.9.59 1.41.59.51 0 1.02-.2 1.41-.59l7.78-7.78 2.81-2.81c.8-.78.8-2.07 0-2.86zM5.41 20L4 18.59l7.72-7.72 1.47 1.35L5.41 20z\"/>\n",
              "  </svg>\n",
              "      </button>\n",
              "      \n",
              "  <style>\n",
              "    .colab-df-container {\n",
              "      display:flex;\n",
              "      flex-wrap:wrap;\n",
              "      gap: 12px;\n",
              "    }\n",
              "\n",
              "    .colab-df-convert {\n",
              "      background-color: #E8F0FE;\n",
              "      border: none;\n",
              "      border-radius: 50%;\n",
              "      cursor: pointer;\n",
              "      display: none;\n",
              "      fill: #1967D2;\n",
              "      height: 32px;\n",
              "      padding: 0 0 0 0;\n",
              "      width: 32px;\n",
              "    }\n",
              "\n",
              "    .colab-df-convert:hover {\n",
              "      background-color: #E2EBFA;\n",
              "      box-shadow: 0px 1px 2px rgba(60, 64, 67, 0.3), 0px 1px 3px 1px rgba(60, 64, 67, 0.15);\n",
              "      fill: #174EA6;\n",
              "    }\n",
              "\n",
              "    [theme=dark] .colab-df-convert {\n",
              "      background-color: #3B4455;\n",
              "      fill: #D2E3FC;\n",
              "    }\n",
              "\n",
              "    [theme=dark] .colab-df-convert:hover {\n",
              "      background-color: #434B5C;\n",
              "      box-shadow: 0px 1px 3px 1px rgba(0, 0, 0, 0.15);\n",
              "      filter: drop-shadow(0px 1px 2px rgba(0, 0, 0, 0.3));\n",
              "      fill: #FFFFFF;\n",
              "    }\n",
              "  </style>\n",
              "\n",
              "      <script>\n",
              "        const buttonEl =\n",
              "          document.querySelector('#df-f1050670-b53a-45b9-92bd-00a36dbed010 button.colab-df-convert');\n",
              "        buttonEl.style.display =\n",
              "          google.colab.kernel.accessAllowed ? 'block' : 'none';\n",
              "\n",
              "        async function convertToInteractive(key) {\n",
              "          const element = document.querySelector('#df-f1050670-b53a-45b9-92bd-00a36dbed010');\n",
              "          const dataTable =\n",
              "            await google.colab.kernel.invokeFunction('convertToInteractive',\n",
              "                                                     [key], {});\n",
              "          if (!dataTable) return;\n",
              "\n",
              "          const docLinkHtml = 'Like what you see? Visit the ' +\n",
              "            '<a target=\"_blank\" href=https://colab.research.google.com/notebooks/data_table.ipynb>data table notebook</a>'\n",
              "            + ' to learn more about interactive tables.';\n",
              "          element.innerHTML = '';\n",
              "          dataTable['output_type'] = 'display_data';\n",
              "          await google.colab.output.renderOutput(dataTable, element);\n",
              "          const docLink = document.createElement('div');\n",
              "          docLink.innerHTML = docLinkHtml;\n",
              "          element.appendChild(docLink);\n",
              "        }\n",
              "      </script>\n",
              "    </div>\n",
              "  </div>\n",
              "  "
            ]
          },
          "metadata": {},
          "execution_count": 952
        }
      ],
      "source": [
        "### ENTER CODE HERE ###\n",
        "\n",
        "candy.reset_index(inplace=True, drop=True)\n",
        "candy"
      ]
    },
    {
      "cell_type": "markdown",
      "metadata": {
        "id": "NRguj__Va6Yr"
      },
      "source": [
        "I would suggest that you stop here and run your code through CodeGrade to check the previous steps before continuing.  Just keep in mind that there are some preparation steps below that will be marked incorrect because you have not yet gotten to them."
      ]
    },
    {
      "cell_type": "markdown",
      "metadata": {
        "id": "dpgSRPDVa6Ys"
      },
      "source": [
        "## Data Analysis\n",
        "\n",
        "Make sure that you are ready to answer any of the following questions about the data set that may appear on your quiz.  Please use the cleaned, final `candy` data to answer these questions. Note that the answers here may be different than any that appear in the article about this data set or that could be found using Excel. Ours has been altered and cleaned in a different way than the original authors did. Also, please do not use Excel to try to find these answers. First, you may not get the correct answer, and more importantly, we want you to practice your Pandas skills."
      ]
    },
    {
      "cell_type": "markdown",
      "metadata": {
        "id": "ucH1SsS5a6Ys"
      },
      "source": [
        "**Exercise_S:** How many rows were in the original, uncleaned data that you imported? How many rows are in the cleaned data? How many did we end up removing from the data set?"
      ]
    },
    {
      "cell_type": "code",
      "execution_count": 953,
      "metadata": {
        "scrolled": true,
        "colab": {
          "base_uri": "https://localhost:8080/"
        },
        "id": "hqlsvgpZa6Yt",
        "outputId": "074ca338-644c-4b9f-a87a-277d74ff0b06"
      },
      "outputs": [
        {
          "output_type": "stream",
          "name": "stdout",
          "text": [
            "(2479, 120)\n",
            "(2305, 113)\n",
            "174\n"
          ]
        }
      ],
      "source": [
        "### ENTER CODE HERE ###\n",
        "\n",
        "print(candy_full.shape)\n",
        "print(candy.shape)\n",
        "print(candy_full.shape[0]-candy.shape[0])\n"
      ]
    },
    {
      "cell_type": "markdown",
      "metadata": {
        "id": "sKXGshg-a6Yt"
      },
      "source": [
        "**Exercise_T:** What percentage of respondents are planning to go out trick-or-treating? (Again, make sure that you are using the final, cleaned data for this and all the following questions.)"
      ]
    },
    {
      "cell_type": "code",
      "execution_count": 954,
      "metadata": {
        "scrolled": true,
        "colab": {
          "base_uri": "https://localhost:8080/"
        },
        "id": "XLTbFdHra6Yu",
        "outputId": "b9ab73f1-284a-4fe3-dbc3-a238ba3b5b1c"
      },
      "outputs": [
        {
          "output_type": "execute_result",
          "data": {
            "text/plain": [
              "No     0.870716\n",
              "Yes    0.129284\n",
              "Name: Q1: GOING OUT?, dtype: float64"
            ]
          },
          "metadata": {},
          "execution_count": 954
        }
      ],
      "source": [
        "### ENTER CODE HERE ###\n",
        "candy['Q1: GOING OUT?'].value_counts(normalize=True) #12% are going out"
      ]
    },
    {
      "cell_type": "markdown",
      "metadata": {
        "id": "7iTrqkCNa6Yu"
      },
      "source": [
        "**Exercise_U:** What percentage of respondents 17 and younger are planning to go out for trick-or-treating?"
      ]
    },
    {
      "cell_type": "code",
      "execution_count": 955,
      "metadata": {
        "scrolled": true,
        "colab": {
          "base_uri": "https://localhost:8080/"
        },
        "id": "1uMgd8lja6Yv",
        "outputId": "8e35d3fd-ddfb-48c6-d64f-f5365b233357"
      },
      "outputs": [
        {
          "output_type": "execute_result",
          "data": {
            "text/plain": [
              "Yes    0.693878\n",
              "No     0.306122\n",
              "Name: Q1: GOING OUT?, dtype: float64"
            ]
          },
          "metadata": {},
          "execution_count": 955
        }
      ],
      "source": [
        "### ENTER CODE HERE ###\n",
        "candy[candy['Q3: AGE']=='17 and under']['Q1: GOING OUT?'].value_counts(normalize=True) #69.3% are going out"
      ]
    },
    {
      "cell_type": "markdown",
      "metadata": {
        "id": "7jOpUh6Ma6Yv"
      },
      "source": [
        "**Exercise_V:** What are the total value counts and the normalized percentages of the age categories from the age column?"
      ]
    },
    {
      "cell_type": "code",
      "execution_count": 956,
      "metadata": {
        "scrolled": true,
        "colab": {
          "base_uri": "https://localhost:8080/"
        },
        "id": "EvUZd__Ga6Yw",
        "outputId": "96e019ff-3ad4-4b61-cbc6-15ad55f080ed"
      },
      "outputs": [
        {
          "output_type": "execute_result",
          "data": {
            "text/plain": [
              "unknown          60\n",
              "17 and under     49\n",
              "18-25            85\n",
              "26-35           520\n",
              "36-45           768\n",
              "46-55           525\n",
              "56+             298\n",
              "Name: Q3: AGE, dtype: int64"
            ]
          },
          "metadata": {},
          "execution_count": 956
        }
      ],
      "source": [
        "### ENTER CODE HERE ###\n",
        "candy['Q3: AGE'].value_counts().sort_index()"
      ]
    },
    {
      "cell_type": "code",
      "execution_count": 957,
      "metadata": {
        "scrolled": true,
        "colab": {
          "base_uri": "https://localhost:8080/"
        },
        "id": "3QhfGFExa6Yw",
        "outputId": "d0dd5c76-97b4-4c86-b192-b6cff8391a56"
      },
      "outputs": [
        {
          "output_type": "execute_result",
          "data": {
            "text/plain": [
              "unknown         0.026030\n",
              "17 and under    0.021258\n",
              "18-25           0.036876\n",
              "26-35           0.225597\n",
              "36-45           0.333189\n",
              "46-55           0.227766\n",
              "56+             0.129284\n",
              "Name: Q3: AGE, dtype: float64"
            ]
          },
          "metadata": {},
          "execution_count": 957
        }
      ],
      "source": [
        "### ENTER CODE HERE ###\n",
        "candy['Q3: AGE'].value_counts(normalize=True).sort_index()"
      ]
    },
    {
      "cell_type": "markdown",
      "metadata": {
        "id": "i4-Bddp9a6Yx"
      },
      "source": [
        "**Exercise_W:** What are the total counts and percentages for the gender column?"
      ]
    },
    {
      "cell_type": "code",
      "execution_count": 958,
      "metadata": {
        "scrolled": true,
        "colab": {
          "base_uri": "https://localhost:8080/"
        },
        "id": "c_70_ciEa6Yx",
        "outputId": "86fff189-8bba-4b5e-ce34-15d1e6dcb0d4"
      },
      "outputs": [
        {
          "output_type": "execute_result",
          "data": {
            "text/plain": [
              "Female     839\n",
              "Male      1466\n",
              "Name: Q2: GENDER, dtype: int64"
            ]
          },
          "metadata": {},
          "execution_count": 958
        }
      ],
      "source": [
        "### ENTER CODE HERE ###\n",
        "candy['Q2: GENDER'].value_counts().sort_index()"
      ]
    },
    {
      "cell_type": "code",
      "execution_count": 959,
      "metadata": {
        "scrolled": true,
        "colab": {
          "base_uri": "https://localhost:8080/"
        },
        "id": "IQDnJ5EXa6Yy",
        "outputId": "c47736aa-7ce3-4f24-ad94-c0b999742a56"
      },
      "outputs": [
        {
          "output_type": "execute_result",
          "data": {
            "text/plain": [
              "Female    0.363991\n",
              "Male      0.636009\n",
              "Name: Q2: GENDER, dtype: float64"
            ]
          },
          "metadata": {},
          "execution_count": 959
        }
      ],
      "source": [
        "### ENTER CODE HERE ###\n",
        "candy['Q2: GENDER'].value_counts(normalize=True).sort_index()"
      ]
    },
    {
      "cell_type": "markdown",
      "metadata": {
        "id": "zx8eKKBua6Yy"
      },
      "source": [
        "**Exercise_X:** What are the breakdown of counts for the country column?"
      ]
    },
    {
      "cell_type": "code",
      "execution_count": 960,
      "metadata": {
        "scrolled": true,
        "colab": {
          "base_uri": "https://localhost:8080/"
        },
        "id": "1Xhbx-uXa6Yy",
        "outputId": "3ad80ea8-191e-4207-980b-7052d3e1e39e"
      },
      "outputs": [
        {
          "output_type": "execute_result",
          "data": {
            "text/plain": [
              "USA      1955\n",
              "CA        216\n",
              "EU         73\n",
              "Other      61\n",
              "Name: Q4: COUNTRY, dtype: int64"
            ]
          },
          "metadata": {},
          "execution_count": 960
        }
      ],
      "source": [
        "### ENTER CODE HERE ###\n",
        "candy['Q4: COUNTRY'].value_counts()"
      ]
    },
    {
      "cell_type": "markdown",
      "metadata": {
        "id": "IhJVfxTCa6Yz"
      },
      "source": [
        "**Exercise_Y:** How many total respondents voted joy in candy corn and how many voted despair? Did more people vote joy or despair for candy corn?"
      ]
    },
    {
      "cell_type": "code",
      "execution_count": 961,
      "metadata": {
        "scrolled": true,
        "colab": {
          "base_uri": "https://localhost:8080/"
        },
        "id": "i1aZlsrea6Yz",
        "outputId": "188c9e20-73f6-4575-da83-805541174214"
      },
      "outputs": [
        {
          "output_type": "execute_result",
          "data": {
            "text/plain": [
              "DESPAIR      702\n",
              "NO_ANSWER    620\n",
              "MEH          529\n",
              "JOY          454\n",
              "Name: Q6 | Candy Corn, dtype: int64"
            ]
          },
          "metadata": {},
          "execution_count": 961
        }
      ],
      "source": [
        "### ENTER CODE HERE ###\n",
        "candy['Q6 | Candy Corn'].value_counts()"
      ]
    },
    {
      "cell_type": "code",
      "execution_count": 962,
      "metadata": {
        "scrolled": true,
        "id": "VnNWe_aEa6Y0"
      },
      "outputs": [],
      "source": [
        "### ENTER CODE HERE ###"
      ]
    },
    {
      "cell_type": "markdown",
      "metadata": {
        "id": "-YgwT3d2a6Y0"
      },
      "source": [
        "**Exercise_Z:** How many people voted joy in Reese's Peanut Butter Cups? In Snickers? Did more people vote joy for Reese's Peanut Butter Cups or for Snickers?"
      ]
    },
    {
      "cell_type": "code",
      "execution_count": 963,
      "metadata": {
        "scrolled": true,
        "colab": {
          "base_uri": "https://localhost:8080/"
        },
        "id": "VfCBxauoa6Y1",
        "outputId": "14189acf-efe8-43aa-f2bc-db2584f52838"
      },
      "outputs": [
        {
          "output_type": "execute_result",
          "data": {
            "text/plain": [
              "JOY          1416\n",
              "NO_ANSWER     623\n",
              "MEH           178\n",
              "DESPAIR        88\n",
              "Name: Q6 | Reese's Peanut Butter Cups, dtype: int64"
            ]
          },
          "metadata": {},
          "execution_count": 963
        }
      ],
      "source": [
        "### ENTER CODE HERE ###\n",
        "candy['Q6 | Reese\\'s Peanut Butter Cups'].value_counts()"
      ]
    },
    {
      "cell_type": "code",
      "execution_count": 964,
      "metadata": {
        "scrolled": true,
        "colab": {
          "base_uri": "https://localhost:8080/"
        },
        "id": "wwpXiniua6Y1",
        "outputId": "991ff597-f94e-4b6d-d6a5-eee478fca79d"
      },
      "outputs": [
        {
          "output_type": "execute_result",
          "data": {
            "text/plain": [
              "JOY          1325\n",
              "NO_ANSWER     633\n",
              "MEH           273\n",
              "DESPAIR        74\n",
              "Name: Q6 | Snickers, dtype: int64"
            ]
          },
          "metadata": {},
          "execution_count": 964
        }
      ],
      "source": [
        "### ENTER CODE HERE ###\n",
        "candy['Q6 | Snickers'].value_counts()"
      ]
    },
    {
      "cell_type": "markdown",
      "metadata": {
        "id": "_VM8B2JMa6Y1"
      },
      "source": [
        "**Exercise_AA:** How many people voted joy in Twix? In Kit Kats? Did more people vote joy for Twix or for Kit Kats?"
      ]
    },
    {
      "cell_type": "code",
      "execution_count": 965,
      "metadata": {
        "scrolled": true,
        "colab": {
          "base_uri": "https://localhost:8080/"
        },
        "id": "0TgJdgDba6Y1",
        "outputId": "73aed9c3-5271-417e-b097-a2c15687c703"
      },
      "outputs": [
        {
          "output_type": "execute_result",
          "data": {
            "text/plain": [
              "1339"
            ]
          },
          "metadata": {},
          "execution_count": 965
        }
      ],
      "source": [
        "### ENTER CODE HERE ###\n",
        "candy['Q6 | Twix'].value_counts().JOY"
      ]
    },
    {
      "cell_type": "code",
      "execution_count": 966,
      "metadata": {
        "scrolled": true,
        "colab": {
          "base_uri": "https://localhost:8080/"
        },
        "id": "q9frbZ3La6Y2",
        "outputId": "5d9106cb-35f2-47a1-fbf3-4dffd1128166"
      },
      "outputs": [
        {
          "output_type": "execute_result",
          "data": {
            "text/plain": [
              "1367"
            ]
          },
          "metadata": {},
          "execution_count": 966
        }
      ],
      "source": [
        "### ENTER CODE HERE ###\n",
        "candy['Q6 | Kit Kat'].value_counts().JOY"
      ]
    },
    {
      "cell_type": "markdown",
      "metadata": {
        "id": "tsbGi4uza6Y2"
      },
      "source": [
        "**Exercise_AB:** How many people voted joy in white bread? For whole wheat items? Did more people vote joy for white bread or whole wheat items?"
      ]
    },
    {
      "cell_type": "code",
      "execution_count": 967,
      "metadata": {
        "scrolled": true,
        "colab": {
          "base_uri": "https://localhost:8080/"
        },
        "id": "5fbPKSBka6Y2",
        "outputId": "09251704-0dc4-4354-ca0c-846beb504dbc"
      },
      "outputs": [
        {
          "output_type": "execute_result",
          "data": {
            "text/plain": [
              "43"
            ]
          },
          "metadata": {},
          "execution_count": 967
        }
      ],
      "source": [
        "### ENTER CODE HERE ###\n",
        "candy['Q6 | White Bread'].value_counts().JOY"
      ]
    },
    {
      "cell_type": "code",
      "execution_count": 968,
      "metadata": {
        "scrolled": true,
        "colab": {
          "base_uri": "https://localhost:8080/"
        },
        "id": "S0VvtAbha6Y3",
        "outputId": "5dd9ca77-2271-46bc-a95c-445022a622d5"
      },
      "outputs": [
        {
          "output_type": "execute_result",
          "data": {
            "text/plain": [
              "110"
            ]
          },
          "metadata": {},
          "execution_count": 968
        }
      ],
      "source": [
        "### ENTER CODE HERE ###\n",
        "candy['Q6 | Whole Wheat anything'].value_counts().JOY"
      ]
    },
    {
      "cell_type": "markdown",
      "metadata": {
        "id": "Ad4LOEWNa6Y3"
      },
      "source": [
        "**Exercise_AC:** How many people voted joy for Bonkers the board game? For Bonkers the candy? Did more people vote joy for the board game or for the candy?"
      ]
    },
    {
      "cell_type": "code",
      "execution_count": 969,
      "metadata": {
        "scrolled": true,
        "colab": {
          "base_uri": "https://localhost:8080/"
        },
        "id": "-tsQFxoKa6Y4",
        "outputId": "a4e3e3f9-2935-4ae9-e605-e3b3f2ac7020"
      },
      "outputs": [
        {
          "output_type": "execute_result",
          "data": {
            "text/plain": [
              "188"
            ]
          },
          "metadata": {},
          "execution_count": 969
        }
      ],
      "source": [
        "### ENTER CODE HERE ###\n",
        "candy['Q6 | Bonkers (the board game)'].value_counts().JOY"
      ]
    },
    {
      "cell_type": "code",
      "execution_count": 970,
      "metadata": {
        "scrolled": true,
        "colab": {
          "base_uri": "https://localhost:8080/"
        },
        "id": "ZLiKS20da6Y4",
        "outputId": "7118e218-d61b-4ba3-d373-3086f0db5fad"
      },
      "outputs": [
        {
          "output_type": "execute_result",
          "data": {
            "text/plain": [
              "109"
            ]
          },
          "metadata": {},
          "execution_count": 970
        }
      ],
      "source": [
        "### ENTER CODE HERE ###\n",
        "\n",
        "candy['Q6 | Bonkers (the candy)'].value_counts().JOY"
      ]
    },
    {
      "cell_type": "markdown",
      "metadata": {
        "id": "qTserUx7a6Y5"
      },
      "source": [
        "**Exercise_AD:** How many people voted joy for a box of raisins? For the Blue-Ray DVD of the Real Housewives of Orange County Season 9? Did more people vote joy for a box of raisins or for the DVD?"
      ]
    },
    {
      "cell_type": "code",
      "execution_count": 971,
      "metadata": {
        "scrolled": true,
        "colab": {
          "base_uri": "https://localhost:8080/"
        },
        "id": "LUe39Ryca6Y6",
        "outputId": "fab69428-700d-4f10-a618-31f77ffbbad8"
      },
      "outputs": [
        {
          "output_type": "execute_result",
          "data": {
            "text/plain": [
              "108"
            ]
          },
          "metadata": {},
          "execution_count": 971
        }
      ],
      "source": [
        "### ENTER CODE HERE ###\n",
        "candy['Q6 | Box\\'o\\'Raisins'].value_counts().JOY"
      ]
    },
    {
      "cell_type": "code",
      "execution_count": 972,
      "metadata": {
        "scrolled": true,
        "colab": {
          "base_uri": "https://localhost:8080/"
        },
        "id": "ziiTX99Va6Y6",
        "outputId": "e39834ec-72e6-4336-e6ac-8362a078b70b"
      },
      "outputs": [
        {
          "output_type": "execute_result",
          "data": {
            "text/plain": [
              "86"
            ]
          },
          "metadata": {},
          "execution_count": 972
        }
      ],
      "source": [
        "### ENTER CODE HERE ###\n",
        "candy['Q6 | Real Housewives of Orange County Season 9 Blue-Ray'].value_counts().JOY"
      ]
    },
    {
      "cell_type": "markdown",
      "metadata": {
        "id": "X32GGzvxa6Y7"
      },
      "source": [
        "**Exercise_AE:** What is the favorite day of the week for the respondents (both by total counts and percentages)?"
      ]
    },
    {
      "cell_type": "code",
      "execution_count": 973,
      "metadata": {
        "scrolled": true,
        "colab": {
          "base_uri": "https://localhost:8080/"
        },
        "id": "yb2D4WsJa6Y7",
        "outputId": "2b2eed6e-4fca-4160-c041-d61839c41d70"
      },
      "outputs": [
        {
          "output_type": "execute_result",
          "data": {
            "text/plain": [
              "Friday       1026\n",
              "NO_ANSWER     658\n",
              "Sunday        621\n",
              "Name: Q11: DAY, dtype: int64"
            ]
          },
          "metadata": {},
          "execution_count": 973
        }
      ],
      "source": [
        "### ENTER CODE HERE ###\n",
        "candy['Q11: DAY'].value_counts()"
      ]
    },
    {
      "cell_type": "code",
      "execution_count": 974,
      "metadata": {
        "scrolled": true,
        "colab": {
          "base_uri": "https://localhost:8080/"
        },
        "id": "D5MuCVtAa6Y8",
        "outputId": "a7b4c7a4-fff7-4a6e-cf12-9056146333dc"
      },
      "outputs": [
        {
          "output_type": "execute_result",
          "data": {
            "text/plain": [
              "Friday       0.445119\n",
              "NO_ANSWER    0.285466\n",
              "Sunday       0.269414\n",
              "Name: Q11: DAY, dtype: float64"
            ]
          },
          "metadata": {},
          "execution_count": 974
        }
      ],
      "source": [
        "### ENTER CODE HERE ###\n",
        "candy['Q11: DAY'].value_counts(normalize=True)"
      ]
    },
    {
      "cell_type": "markdown",
      "metadata": {
        "id": "9n5J3Frua6Y8"
      },
      "source": [
        "**Exercise_AF:** Do more respondents see 'white and gold' or 'blue and black' for the [color of the dress](https://en.wikipedia.org/wiki/The_dress) (both total counts and percentages)?"
      ]
    },
    {
      "cell_type": "code",
      "execution_count": 975,
      "metadata": {
        "scrolled": true,
        "colab": {
          "base_uri": "https://localhost:8080/"
        },
        "id": "VvIf6PQYa6Y8",
        "outputId": "c16bc9a5-e15d-4d84-affd-0187c9e70eda"
      },
      "outputs": [
        {
          "output_type": "execute_result",
          "data": {
            "text/plain": [
              "White and gold    1027\n",
              "NO_ANSWER          679\n",
              "Blue and black     599\n",
              "Name: Q10: DRESS, dtype: int64"
            ]
          },
          "metadata": {},
          "execution_count": 975
        }
      ],
      "source": [
        "### ENTER CODE HERE ###\n",
        "candy['Q10: DRESS'].value_counts()"
      ]
    },
    {
      "cell_type": "code",
      "execution_count": 976,
      "metadata": {
        "scrolled": true,
        "colab": {
          "base_uri": "https://localhost:8080/"
        },
        "id": "Z9AgMLW6a6Y9",
        "outputId": "7d2569b5-dd71-4194-ab28-fc70996c91b8"
      },
      "outputs": [
        {
          "output_type": "execute_result",
          "data": {
            "text/plain": [
              "White and gold    0.445553\n",
              "NO_ANSWER         0.294577\n",
              "Blue and black    0.259870\n",
              "Name: Q10: DRESS, dtype: float64"
            ]
          },
          "metadata": {},
          "execution_count": 976
        }
      ],
      "source": [
        "### ENTER CODE HERE ###\n",
        "candy['Q10: DRESS'].value_counts(normalize=True)"
      ]
    },
    {
      "cell_type": "markdown",
      "metadata": {
        "id": "crKzqRZUa6Y9"
      },
      "source": [
        "**Exercise_AG:** For those respondents that clicked on the media link (listed as `Q12` columns on the survey), which link did they click on the most?"
      ]
    },
    {
      "cell_type": "code",
      "execution_count": 977,
      "metadata": {
        "scrolled": true,
        "colab": {
          "base_uri": "https://localhost:8080/"
        },
        "id": "sSYn-JPHa6Y9",
        "outputId": "2ab55765-4500-4db5-8976-2461caab9b8a"
      },
      "outputs": [
        {
          "output_type": "execute_result",
          "data": {
            "text/plain": [
              "Q12: MEDIA [Daily Dish]  Q12: MEDIA [Science]  Q12: MEDIA [ESPN]  Q12: MEDIA [Yahoo]\n",
              "0.0                      0.0                   0.0                0.0                    776\n",
              "                                                                  1.0                     61\n",
              "                                               1.0                0.0                     96\n",
              "                         1.0                   0.0                0.0                   1289\n",
              "1.0                      0.0                   0.0                0.0                     83\n",
              "dtype: int64"
            ]
          },
          "metadata": {},
          "execution_count": 977
        }
      ],
      "source": [
        "### ENTER CODE HERE ###\n",
        "candy.loc[:,'Q12: MEDIA [Daily Dish]':'Q12: MEDIA [Yahoo]'].value_counts().sort_index() #Science"
      ]
    },
    {
      "cell_type": "markdown",
      "metadata": {
        "id": "FMl4K9gya6Y-"
      },
      "source": [
        "**Exercise_AH:** How many males voted joy for receiving a copy of the Real Housewives of Orange County Season 9 DVD for Halloween? Females? Those 17 or younger?"
      ]
    },
    {
      "cell_type": "code",
      "execution_count": 978,
      "metadata": {
        "scrolled": true,
        "colab": {
          "base_uri": "https://localhost:8080/"
        },
        "id": "bbJ5_rxEa6Y-",
        "outputId": "064a8869-5885-4bc7-e99c-0ea0a516715a"
      },
      "outputs": [
        {
          "output_type": "execute_result",
          "data": {
            "text/plain": [
              "DESPAIR      901\n",
              "NO_ANSWER    439\n",
              "MEH           81\n",
              "JOY           45\n",
              "Name: Q6 | Real Housewives of Orange County Season 9 Blue-Ray, dtype: int64"
            ]
          },
          "metadata": {},
          "execution_count": 978
        }
      ],
      "source": [
        "### ENTER CODE HERE ###\n",
        "candy.loc[candy['Q2: GENDER']==\"Male\"]['Q6 | Real Housewives of Orange County Season 9 Blue-Ray'].value_counts()"
      ]
    },
    {
      "cell_type": "code",
      "source": [
        "candy.loc[candy['Q2: GENDER']==\"Female\"]['Q6 | Real Housewives of Orange County Season 9 Blue-Ray'].value_counts()"
      ],
      "metadata": {
        "colab": {
          "base_uri": "https://localhost:8080/"
        },
        "id": "h_-wwI9SBbmc",
        "outputId": "08515500-265e-4f4a-f24b-de347685a9a7"
      },
      "execution_count": 979,
      "outputs": [
        {
          "output_type": "execute_result",
          "data": {
            "text/plain": [
              "DESPAIR      497\n",
              "NO_ANSWER    253\n",
              "MEH           48\n",
              "JOY           41\n",
              "Name: Q6 | Real Housewives of Orange County Season 9 Blue-Ray, dtype: int64"
            ]
          },
          "metadata": {},
          "execution_count": 979
        }
      ]
    },
    {
      "cell_type": "code",
      "source": [
        "candy.loc[candy['Q3: AGE']==\"17 and under\"]['Q6 | Real Housewives of Orange County Season 9 Blue-Ray'].value_counts()"
      ],
      "metadata": {
        "colab": {
          "base_uri": "https://localhost:8080/"
        },
        "id": "fBoZ_xBLCCBQ",
        "outputId": "96e54217-2d47-4a60-90df-41f1456d9a29"
      },
      "execution_count": 980,
      "outputs": [
        {
          "output_type": "execute_result",
          "data": {
            "text/plain": [
              "DESPAIR      27\n",
              "NO_ANSWER    17\n",
              "MEH           3\n",
              "JOY           2\n",
              "Name: Q6 | Real Housewives of Orange County Season 9 Blue-Ray, dtype: int64"
            ]
          },
          "metadata": {},
          "execution_count": 980
        }
      ]
    },
    {
      "cell_type": "markdown",
      "metadata": {
        "id": "WvWl9tPSa6Y-"
      },
      "source": [
        "**Exercise_AI:** The authors tried a funny way to determine a respondent's political leaning. Note this was purely a joke and not meant to be scientific.  How many total respondents voted joy in the following: Blue M&M's, Red M&M's, Green Party M&M's, Independent M&M's, and Abstained from M&M'ing."
      ]
    },
    {
      "cell_type": "code",
      "execution_count": 981,
      "metadata": {
        "scrolled": true,
        "colab": {
          "base_uri": "https://localhost:8080/"
        },
        "id": "EGgwP936a6Y_",
        "outputId": "4cb96a6a-0569-4de1-f1d9-60befcc8299c"
      },
      "outputs": [
        {
          "output_type": "stream",
          "name": "stdout",
          "text": [
            "Blue 963\n",
            "Red 949\n",
            "Green 915\n",
            "Independent 711\n",
            "Abstained 202\n"
          ]
        }
      ],
      "source": [
        "### ENTER CODE HERE ###\n",
        "print(\"Blue\",candy.loc[:,['Q6 | Blue M&M\\'s']].value_counts().JOY)\n",
        "print(\"Red\", candy.loc[:,'Q6 | Red M&M\\'s'].value_counts().JOY)\n",
        "print(\"Green\", candy.loc[:,'Q6 | Green Party M&M\\'s'].value_counts().JOY)\n",
        "print(\"Independent\", candy['Q6 | Independent M&M\\'s'].value_counts().JOY)\n",
        "print(\"Abstained\", candy['Q6 | Abstained from M&M\\'ing.'].value_counts().JOY)"
      ]
    },
    {
      "cell_type": "markdown",
      "metadata": {
        "id": "IivPf0l8a6Y_"
      },
      "source": [
        "**Exercise_AJ:** Select only the Q6 candy columns (`Q6 | 100 Grand Bar` through `Q6 | York Peppermint Patties`) in the data set and save this as a new DataFrame called `candy_reduced`."
      ]
    },
    {
      "cell_type": "code",
      "execution_count": 982,
      "metadata": {
        "scrolled": true,
        "id": "VqwMlR1Za6Y_"
      },
      "outputs": [],
      "source": [
        "### ENTER CODE HERE ###\n",
        "candy_reduced = candy.loc[:,'Q6 | 100 Grand Bar' : 'Q6 | York Peppermint Patties']\n"
      ]
    },
    {
      "cell_type": "markdown",
      "metadata": {
        "id": "sbiV6aToa6ZA"
      },
      "source": [
        "**Exercise_AK:** Determine what candy/item from the `candy_reduced` DataFrame has the most number of JOY votes and the least number of JOY votes. A simple way to do this is to filter the entire DataFrame for any `JOY` values, then use `count()`, then sort the values in descending order. See this [stackoverflow question](https://stackoverflow.com/questions/63103090/how-do-i-count-specific-values-across-multiple-columns-in-pandas) and answers."
      ]
    },
    {
      "cell_type": "code",
      "execution_count": 983,
      "metadata": {
        "scrolled": true,
        "colab": {
          "base_uri": "https://localhost:8080/"
        },
        "id": "P7T2o_GYa6ZA",
        "outputId": "ea290af5-6343-4ff5-f3d8-c60c81b35798"
      },
      "outputs": [
        {
          "output_type": "execute_result",
          "data": {
            "text/plain": [
              "Q6 | Any full-sized candy bar                                                  1477\n",
              "Q6 | Reese's Peanut Butter Cups                                                1416\n",
              "Q6 | Kit Kat                                                                   1367\n",
              "Q6 | Cash, or other forms of legal tender                                      1363\n",
              "Q6 | Twix                                                                      1339\n",
              "                                                                               ... \n",
              "Q6 | JoyJoy (Mit Iodine!)                                                        72\n",
              "Q6 | Gum from baseball cards                                                     43\n",
              "Q6 | White Bread                                                                 43\n",
              "Q6 | Candy that is clearly just the stuff given out for free at restaurants      37\n",
              "Q6 | Broken glow stick                                                           24\n",
              "Length: 103, dtype: int64"
            ]
          },
          "metadata": {},
          "execution_count": 983
        }
      ],
      "source": [
        "### ENTER CODE HERE ###\n",
        "candy_reduced[candy_reduced=='JOY'].count().sort_values(ascending=False)"
      ]
    },
    {
      "cell_type": "markdown",
      "metadata": {
        "id": "4zx8EoRWa6ZA"
      },
      "source": [
        "**Exercise_AL:** Using the above as an example, what candy/item has the most DESPAIR votes? "
      ]
    },
    {
      "cell_type": "code",
      "execution_count": 984,
      "metadata": {
        "scrolled": true,
        "colab": {
          "base_uri": "https://localhost:8080/"
        },
        "id": "S_TkZz1ea6ZB",
        "outputId": "3089c3ad-e7dd-4fea-a1d3-83c032a835f0"
      },
      "outputs": [
        {
          "output_type": "execute_result",
          "data": {
            "text/plain": [
              "Q6 | Broken glow stick                                     1535\n",
              "Q6 | Real Housewives of Orange County Season 9 Blue-Ray    1398\n",
              "Q6 | Gum from baseball cards                               1386\n",
              "Q6 | White Bread                                           1376\n",
              "Q6 | Kale smoothie                                         1365\n",
              "                                                           ... \n",
              "Q6 | Regular M&Ms                                            71\n",
              "Q6 | Twix                                                    67\n",
              "Q6 | Cash, or other forms of legal tender                    63\n",
              "Q6 | Kit Kat                                                 47\n",
              "Q6 | Any full-sized candy bar                                15\n",
              "Length: 103, dtype: int64"
            ]
          },
          "metadata": {},
          "execution_count": 984
        }
      ],
      "source": [
        "### ENTER CODE HERE ###\n",
        "candy_reduced[candy_reduced=='DESPAIR'].count().sort_values(ascending=False)"
      ]
    },
    {
      "cell_type": "markdown",
      "metadata": {
        "id": "p9GlAsS2a6ZB"
      },
      "source": [
        "**Exercise_AM:** What candy/item has the most MEH votes?"
      ]
    },
    {
      "cell_type": "code",
      "execution_count": 985,
      "metadata": {
        "scrolled": true,
        "colab": {
          "base_uri": "https://localhost:8080/"
        },
        "id": "8NKepG5va6ZC",
        "outputId": "702f6581-75fe-474a-b9ad-0d459a0b2ed2"
      },
      "outputs": [
        {
          "output_type": "execute_result",
          "data": {
            "text/plain": [
              "Q6 | Lollipops                                             877\n",
              "Q6 | Hard Candy                                            855\n",
              "Q6 | Bonkers (the candy)                                   818\n",
              "Q6 | Minibags of chips                                     718\n",
              "Q6 | 100 Grand Bar                                         715\n",
              "                                                          ... \n",
              "Q6 | Reese's Peanut Butter Cups                            178\n",
              "Q6 | Kale smoothie                                         162\n",
              "Q6 | Real Housewives of Orange County Season 9 Blue-Ray    129\n",
              "Q6 | Broken glow stick                                      99\n",
              "Q6 | Creepy Religious comics/Chick Tracts                   95\n",
              "Length: 103, dtype: int64"
            ]
          },
          "metadata": {},
          "execution_count": 985
        }
      ],
      "source": [
        "### ENTER CODE HERE ###\n",
        "candy_reduced[candy_reduced=='MEH'].count().sort_values(ascending=False)"
      ]
    },
    {
      "cell_type": "markdown",
      "metadata": {
        "id": "iWu_-AI5a6ZC"
      },
      "source": [
        "**Exercise_AN:** What candy/item did the most people not recognize or have an opinion on? (According to the survey, the respondents were asked to leave a question blank if they did not know the item)"
      ]
    },
    {
      "cell_type": "code",
      "execution_count": 986,
      "metadata": {
        "scrolled": true,
        "colab": {
          "base_uri": "https://localhost:8080/"
        },
        "id": "E98zgecTa6ZD",
        "outputId": "7961d4e8-35b6-45ee-ba69-86ccb1db2f53"
      },
      "outputs": [
        {
          "output_type": "execute_result",
          "data": {
            "text/plain": [
              "Q6 | JoyJoy (Mit Iodine!)               942\n",
              "Q6 | Maynards                           939\n",
              "Q6 | Reggie Jackson Bar                 933\n",
              "Q6 | Bonkers (the board game)           926\n",
              "Q6 | Sweetums (a friend to diabetes)    924\n",
              "                                       ... \n",
              "Q6 | Kit Kat                            616\n",
              "Q6 | Any full-sized candy bar           615\n",
              "Q6 | Hershey's Dark Chocolate           615\n",
              "Q6 | Hershey's Milk Chocolate           614\n",
              "Q6 | Peanut M&M's                       614\n",
              "Length: 103, dtype: int64"
            ]
          },
          "metadata": {},
          "execution_count": 986
        }
      ],
      "source": [
        "### ENTER CODE HERE ###\n",
        "candy_reduced[candy_reduced=='NO_ANSWER'].count().sort_values(ascending=False)"
      ]
    },
    {
      "cell_type": "markdown",
      "metadata": {
        "id": "rrTiRb3Aa6ZD"
      },
      "source": [
        "In the final piece of the analysis, we will determine what candy/items have the most and lowest \"net_feelies\" (calculated by the authors as the total joy count minus the total despair count).\n",
        "\n",
        "First, we will create two Series, one with JOY counts and one with DESPAIR counts to add to our `candy_reduced` data.\n",
        "\n",
        "**Exercise_AO:** Create a Series called `joy_count` that lists total counts for JOY for each column, making sure to keep it in the same order as the columns in the `candy_reduced` DataFrame. Hint: This should be almost exactly how we determined which candy/items had the most JOY votes, but we would not do any sorting."
      ]
    },
    {
      "cell_type": "code",
      "execution_count": 987,
      "metadata": {
        "scrolled": true,
        "id": "l14lFSXPa6ZD"
      },
      "outputs": [],
      "source": [
        "### ENTER CODE HERE ###\n",
        "joy_count = candy_reduced[candy_reduced=='JOY'].count()\n"
      ]
    },
    {
      "cell_type": "markdown",
      "metadata": {
        "id": "IoKiHm5ba6ZE"
      },
      "source": [
        "**Exercise_AP:** Same as above except you will create a Series called `despair_count` that lists the total counts for DESPAIR for each column."
      ]
    },
    {
      "cell_type": "code",
      "execution_count": 988,
      "metadata": {
        "scrolled": true,
        "id": "aV9NybDma6ZE"
      },
      "outputs": [],
      "source": [
        "### ENTER CODE HERE ###\n",
        "despair_count = candy_reduced[candy_reduced=='DESPAIR'].count()"
      ]
    },
    {
      "cell_type": "markdown",
      "metadata": {
        "id": "xT2FV-h1a6ZE"
      },
      "source": [
        "**Exercise_AQ:** Take the transpose of the `candy_reduced` DataFrame and save this transposed data as `candy_reduced_transpose`."
      ]
    },
    {
      "cell_type": "code",
      "execution_count": 989,
      "metadata": {
        "scrolled": true,
        "id": "1nKIk_pGa6ZF"
      },
      "outputs": [],
      "source": [
        "### ENTER CODE HERE ###\n",
        "candy_reduced_transpose = candy_reduced.T"
      ]
    },
    {
      "cell_type": "markdown",
      "metadata": {
        "id": "W8KKtpsya6ZF"
      },
      "source": [
        "**Exercise_AR:** Add a new column called \"joy_count\" using the `joy_count` Series above and a new column called 'despair_count\" using the `despair_count` Series above to the `candy_reduced_transpose` DataFrame."
      ]
    },
    {
      "cell_type": "code",
      "execution_count": 990,
      "metadata": {
        "scrolled": true,
        "id": "sE0p3_fra6ZF"
      },
      "outputs": [],
      "source": [
        "### ENTER CODE HERE ###\n",
        "candy_reduced_transpose['joy_count'] = joy_count\n",
        "candy_reduced_transpose['despair_count'] = despair_count"
      ]
    },
    {
      "cell_type": "markdown",
      "metadata": {
        "id": "1VW4LK-Ka6ZG"
      },
      "source": [
        "**Exercise_AS:** Add a new column to the `candy_reduced_transpose` DataFrame called \"net_feelies\" that takes the `joy_count` column and subtracts the `despair_count` column."
      ]
    },
    {
      "cell_type": "code",
      "execution_count": 991,
      "metadata": {
        "scrolled": true,
        "id": "qSu7M7Z1a6ZG"
      },
      "outputs": [],
      "source": [
        "### ENTER CODE HERE ###\n",
        "candy_reduced_transpose['net_feelies'] = candy_reduced_transpose['joy_count'] - candy_reduced_transpose['despair_count']"
      ]
    },
    {
      "cell_type": "markdown",
      "metadata": {
        "id": "yd_9psnAa6ZG"
      },
      "source": [
        "**Exercise_AT:** Select only the `joy_count`, `despair_count`, and `net_feelies` columns from the `candy_reduced_transpose` DataFrame. Sort this DataFrame in descending order by `net_feelies` and save this as `candy_net_sorted`."
      ]
    },
    {
      "cell_type": "code",
      "execution_count": 992,
      "metadata": {
        "scrolled": true,
        "id": "LYQ1iQt5a6ZH"
      },
      "outputs": [],
      "source": [
        "### ENTER CODE HERE ###\n",
        "candy_net_sorted = candy_reduced_transpose[['joy_count','despair_count','net_feelies']].sort_values(by='net_feelies',ascending=False)\n",
        "\n"
      ]
    },
    {
      "cell_type": "markdown",
      "metadata": {
        "id": "IU_YNEJqa6ZH"
      },
      "source": [
        "Be prepared to answer what candy/item had the most and least `net_feelies` values."
      ]
    },
    {
      "cell_type": "markdown",
      "metadata": {
        "id": "ToaiOALla6ZI"
      },
      "source": [
        "## Encoding DataFrame\n",
        "\n",
        "We now want to get the `candy` DataFrame ready to run a machine learning algorthim to determine if we could predict a person's gender based on what candy they prefer.\n",
        "\n",
        "You will learn more about this in the machine learning classes, but some algorithms work exclusively with numeric values. We will now turn all of our values into numeric values.  There are easier ways to do this with sklearn, which you will study in later courses, but we will use Pandas to perform these exercises for further practice."
      ]
    },
    {
      "cell_type": "markdown",
      "metadata": {
        "id": "ErggO-mza6ZI"
      },
      "source": [
        "**Exercise_AU:** For grading purposes, we want to leave the `candy` DataFrame as is. Make a copy of the `candy` DataFrame and save this new DataFrame as `candy_encode`."
      ]
    },
    {
      "cell_type": "code",
      "execution_count": 993,
      "metadata": {
        "scrolled": true,
        "id": "KZzAQg_Aa6ZI"
      },
      "outputs": [],
      "source": [
        "### ENTER CODE HERE ###\n",
        "candy_encode = candy.copy()"
      ]
    },
    {
      "cell_type": "markdown",
      "metadata": {
        "id": "mtSdy4Yta6ZJ"
      },
      "source": [
        "**Exercise_AV:** For the `candy_encode` DataFrame, replace any `Female` values with `0` and any `Male` values with `1`."
      ]
    },
    {
      "cell_type": "code",
      "execution_count": 994,
      "metadata": {
        "scrolled": true,
        "colab": {
          "base_uri": "https://localhost:8080/"
        },
        "id": "3FFkuQHba6ZJ",
        "outputId": "9a48fbdb-85d6-4b91-db7f-6ae4d3301c1c"
      },
      "outputs": [
        {
          "output_type": "execute_result",
          "data": {
            "text/plain": [
              "0       1\n",
              "1       1\n",
              "2       1\n",
              "3       1\n",
              "4       1\n",
              "       ..\n",
              "2300    1\n",
              "2301    0\n",
              "2302    0\n",
              "2303    1\n",
              "2304    0\n",
              "Name: Q2: GENDER, Length: 2305, dtype: int64"
            ]
          },
          "metadata": {},
          "execution_count": 994
        }
      ],
      "source": [
        "### ENTER CODE HERE ###\n",
        "gender_numeric = {'Male':1,'Female':0}\n",
        "\n",
        "candy_encode['Q2: GENDER'] = candy_encode['Q2: GENDER'].map(gender_numeric)\n",
        "\n",
        "candy_encode['Q2: GENDER']"
      ]
    },
    {
      "cell_type": "markdown",
      "metadata": {
        "id": "3jsDNjSLa6ZJ"
      },
      "source": [
        "**Exercise_AW:** Again, you will learn more about this later, but we need to separate the column that we want to predict (called the response) and the columns that we will use to make the predictions (called the features).  **For both of the items below, make sure that the index is reset and goes from 0 to n-1.**\n",
        "\n",
        "- Select only the `Q2: GENDER` column from `candy_encode` and save this as `candy_response`.  **Note: This should be a Series.**\n",
        "- Drop the following columns from the `candy_encode` DataFrame: `Q2: GENDER`,`Q1: GOING OUT?`,`Q3: AGE`,`Q4: COUNTRY`,`Q10: DRESS`,`Q11: DAY`, `Q12: MEDIA [Daily Dish]`,`Q12: MEDIA [Science]`,`Q12: MEDIA [ESPN]`,`Q12: MEDIA [Yahoo]`.  Save the remaining columns as `candy_features`."
      ]
    },
    {
      "cell_type": "code",
      "execution_count": 995,
      "metadata": {
        "scrolled": true,
        "colab": {
          "base_uri": "https://localhost:8080/",
          "height": 609
        },
        "id": "tGelE3wta6ZK",
        "outputId": "6109e314-ae81-4e49-dd7f-e4b0deccddf9"
      },
      "outputs": [
        {
          "output_type": "execute_result",
          "data": {
            "text/plain": [
              "     Q6 | 100 Grand Bar  \\\n",
              "0                   MEH   \n",
              "1             NO_ANSWER   \n",
              "2                   MEH   \n",
              "3                   JOY   \n",
              "4                   JOY   \n",
              "...                 ...   \n",
              "2300                JOY   \n",
              "2301                MEH   \n",
              "2302                MEH   \n",
              "2303          NO_ANSWER   \n",
              "2304            DESPAIR   \n",
              "\n",
              "     Q6 | Anonymous brown globs that come in black and orange wrappers\\t(a.k.a. Mary Janes)  \\\n",
              "0                                               DESPAIR                                       \n",
              "1                                             NO_ANSWER                                       \n",
              "2                                               DESPAIR                                       \n",
              "3                                               DESPAIR                                       \n",
              "4                                               DESPAIR                                       \n",
              "...                                                 ...                                       \n",
              "2300                                            DESPAIR                                       \n",
              "2301                                            DESPAIR                                       \n",
              "2302                                            DESPAIR                                       \n",
              "2303                                          NO_ANSWER                                       \n",
              "2304                                            DESPAIR                                       \n",
              "\n",
              "     Q6 | Any full-sized candy bar Q6 | Black Jacks Q6 | Bonkers (the candy)  \\\n",
              "0                              JOY              MEH                  DESPAIR   \n",
              "1                        NO_ANSWER        NO_ANSWER                NO_ANSWER   \n",
              "2                              JOY              MEH                      MEH   \n",
              "3                              JOY          DESPAIR                      MEH   \n",
              "4                              JOY        NO_ANSWER                NO_ANSWER   \n",
              "...                            ...              ...                      ...   \n",
              "2300                           MEH          DESPAIR                  DESPAIR   \n",
              "2301                           JOY        NO_ANSWER                NO_ANSWER   \n",
              "2302                           JOY          DESPAIR                      MEH   \n",
              "2303                     NO_ANSWER        NO_ANSWER                NO_ANSWER   \n",
              "2304                           JOY          DESPAIR                  DESPAIR   \n",
              "\n",
              "     Q6 | Bonkers (the board game) Q6 | Bottle Caps Q6 | Box'o'Raisins  \\\n",
              "0                          DESPAIR          DESPAIR            DESPAIR   \n",
              "1                        NO_ANSWER        NO_ANSWER          NO_ANSWER   \n",
              "2                          DESPAIR              MEH            DESPAIR   \n",
              "3                          DESPAIR              MEH            DESPAIR   \n",
              "4                        NO_ANSWER              MEH                MEH   \n",
              "...                            ...              ...                ...   \n",
              "2300                           MEH              MEH            DESPAIR   \n",
              "2301                     NO_ANSWER        NO_ANSWER            DESPAIR   \n",
              "2302                           JOY          DESPAIR                MEH   \n",
              "2303                     NO_ANSWER        NO_ANSWER          NO_ANSWER   \n",
              "2304                       DESPAIR          DESPAIR                MEH   \n",
              "\n",
              "     Q6 | Broken glow stick Q6 | Butterfinger  ... Q6 | Three Musketeers  \\\n",
              "0                   DESPAIR           DESPAIR  ...                   JOY   \n",
              "1                 NO_ANSWER         NO_ANSWER  ...             NO_ANSWER   \n",
              "2                   DESPAIR               MEH  ...               DESPAIR   \n",
              "3                   DESPAIR               MEH  ...                   JOY   \n",
              "4                   DESPAIR               JOY  ...                   JOY   \n",
              "...                     ...               ...  ...                   ...   \n",
              "2300                DESPAIR               MEH  ...                   MEH   \n",
              "2301                DESPAIR               JOY  ...                   MEH   \n",
              "2302                    MEH           DESPAIR  ...                   JOY   \n",
              "2303              NO_ANSWER         NO_ANSWER  ...             NO_ANSWER   \n",
              "2304                DESPAIR               JOY  ...                   JOY   \n",
              "\n",
              "     Q6 | Tolberone something or other Q6 | Trail Mix  Q6 | Twix  \\\n",
              "0                                  JOY        DESPAIR        JOY   \n",
              "1                            NO_ANSWER      NO_ANSWER  NO_ANSWER   \n",
              "2                                  JOY            MEH        JOY   \n",
              "3                                  JOY        DESPAIR        JOY   \n",
              "4                                  JOY            MEH        JOY   \n",
              "...                                ...            ...        ...   \n",
              "2300                               MEH            JOY        JOY   \n",
              "2301                               MEH        DESPAIR        JOY   \n",
              "2302                               JOY            MEH        MEH   \n",
              "2303                         NO_ANSWER      NO_ANSWER  NO_ANSWER   \n",
              "2304                               MEH        DESPAIR    DESPAIR   \n",
              "\n",
              "     Q6 | Vials of pure high fructose corn syrup, for main-lining into your vein  \\\n",
              "0                                               DESPAIR                            \n",
              "1                                             NO_ANSWER                            \n",
              "2                                               DESPAIR                            \n",
              "3                                                   MEH                            \n",
              "4                                               DESPAIR                            \n",
              "...                                                 ...                            \n",
              "2300                                                MEH                            \n",
              "2301                                          NO_ANSWER                            \n",
              "2302                                                MEH                            \n",
              "2303                                          NO_ANSWER                            \n",
              "2304                                            DESPAIR                            \n",
              "\n",
              "     Q6 | Vicodin Q6 | Whatchamacallit Bars Q6 | White Bread  \\\n",
              "0         DESPAIR                   DESPAIR          DESPAIR   \n",
              "1       NO_ANSWER                 NO_ANSWER        NO_ANSWER   \n",
              "2             JOY                       JOY          DESPAIR   \n",
              "3             JOY                       JOY          DESPAIR   \n",
              "4         DESPAIR                       JOY          DESPAIR   \n",
              "...           ...                       ...              ...   \n",
              "2300          JOY                   DESPAIR              MEH   \n",
              "2301    NO_ANSWER                       JOY          DESPAIR   \n",
              "2302          JOY                       MEH          DESPAIR   \n",
              "2303    NO_ANSWER                 NO_ANSWER        NO_ANSWER   \n",
              "2304          JOY                   DESPAIR              MEH   \n",
              "\n",
              "     Q6 | Whole Wheat anything Q6 | York Peppermint Patties  \n",
              "0                      DESPAIR                      DESPAIR  \n",
              "1                    NO_ANSWER                    NO_ANSWER  \n",
              "2                      DESPAIR                      DESPAIR  \n",
              "3                      DESPAIR                          JOY  \n",
              "4                      DESPAIR                          JOY  \n",
              "...                        ...                          ...  \n",
              "2300                   DESPAIR                          MEH  \n",
              "2301                       MEH                          JOY  \n",
              "2302                   DESPAIR                          MEH  \n",
              "2303                 NO_ANSWER                    NO_ANSWER  \n",
              "2304                   DESPAIR                          JOY  \n",
              "\n",
              "[2305 rows x 103 columns]"
            ],
            "text/html": [
              "\n",
              "  <div id=\"df-d17717c1-e255-4743-b7a9-9aa7d334e327\">\n",
              "    <div class=\"colab-df-container\">\n",
              "      <div>\n",
              "<style scoped>\n",
              "    .dataframe tbody tr th:only-of-type {\n",
              "        vertical-align: middle;\n",
              "    }\n",
              "\n",
              "    .dataframe tbody tr th {\n",
              "        vertical-align: top;\n",
              "    }\n",
              "\n",
              "    .dataframe thead th {\n",
              "        text-align: right;\n",
              "    }\n",
              "</style>\n",
              "<table border=\"1\" class=\"dataframe\">\n",
              "  <thead>\n",
              "    <tr style=\"text-align: right;\">\n",
              "      <th></th>\n",
              "      <th>Q6 | 100 Grand Bar</th>\n",
              "      <th>Q6 | Anonymous brown globs that come in black and orange wrappers\\t(a.k.a. Mary Janes)</th>\n",
              "      <th>Q6 | Any full-sized candy bar</th>\n",
              "      <th>Q6 | Black Jacks</th>\n",
              "      <th>Q6 | Bonkers (the candy)</th>\n",
              "      <th>Q6 | Bonkers (the board game)</th>\n",
              "      <th>Q6 | Bottle Caps</th>\n",
              "      <th>Q6 | Box'o'Raisins</th>\n",
              "      <th>Q6 | Broken glow stick</th>\n",
              "      <th>Q6 | Butterfinger</th>\n",
              "      <th>...</th>\n",
              "      <th>Q6 | Three Musketeers</th>\n",
              "      <th>Q6 | Tolberone something or other</th>\n",
              "      <th>Q6 | Trail Mix</th>\n",
              "      <th>Q6 | Twix</th>\n",
              "      <th>Q6 | Vials of pure high fructose corn syrup, for main-lining into your vein</th>\n",
              "      <th>Q6 | Vicodin</th>\n",
              "      <th>Q6 | Whatchamacallit Bars</th>\n",
              "      <th>Q6 | White Bread</th>\n",
              "      <th>Q6 | Whole Wheat anything</th>\n",
              "      <th>Q6 | York Peppermint Patties</th>\n",
              "    </tr>\n",
              "  </thead>\n",
              "  <tbody>\n",
              "    <tr>\n",
              "      <th>0</th>\n",
              "      <td>MEH</td>\n",
              "      <td>DESPAIR</td>\n",
              "      <td>JOY</td>\n",
              "      <td>MEH</td>\n",
              "      <td>DESPAIR</td>\n",
              "      <td>DESPAIR</td>\n",
              "      <td>DESPAIR</td>\n",
              "      <td>DESPAIR</td>\n",
              "      <td>DESPAIR</td>\n",
              "      <td>DESPAIR</td>\n",
              "      <td>...</td>\n",
              "      <td>JOY</td>\n",
              "      <td>JOY</td>\n",
              "      <td>DESPAIR</td>\n",
              "      <td>JOY</td>\n",
              "      <td>DESPAIR</td>\n",
              "      <td>DESPAIR</td>\n",
              "      <td>DESPAIR</td>\n",
              "      <td>DESPAIR</td>\n",
              "      <td>DESPAIR</td>\n",
              "      <td>DESPAIR</td>\n",
              "    </tr>\n",
              "    <tr>\n",
              "      <th>1</th>\n",
              "      <td>NO_ANSWER</td>\n",
              "      <td>NO_ANSWER</td>\n",
              "      <td>NO_ANSWER</td>\n",
              "      <td>NO_ANSWER</td>\n",
              "      <td>NO_ANSWER</td>\n",
              "      <td>NO_ANSWER</td>\n",
              "      <td>NO_ANSWER</td>\n",
              "      <td>NO_ANSWER</td>\n",
              "      <td>NO_ANSWER</td>\n",
              "      <td>NO_ANSWER</td>\n",
              "      <td>...</td>\n",
              "      <td>NO_ANSWER</td>\n",
              "      <td>NO_ANSWER</td>\n",
              "      <td>NO_ANSWER</td>\n",
              "      <td>NO_ANSWER</td>\n",
              "      <td>NO_ANSWER</td>\n",
              "      <td>NO_ANSWER</td>\n",
              "      <td>NO_ANSWER</td>\n",
              "      <td>NO_ANSWER</td>\n",
              "      <td>NO_ANSWER</td>\n",
              "      <td>NO_ANSWER</td>\n",
              "    </tr>\n",
              "    <tr>\n",
              "      <th>2</th>\n",
              "      <td>MEH</td>\n",
              "      <td>DESPAIR</td>\n",
              "      <td>JOY</td>\n",
              "      <td>MEH</td>\n",
              "      <td>MEH</td>\n",
              "      <td>DESPAIR</td>\n",
              "      <td>MEH</td>\n",
              "      <td>DESPAIR</td>\n",
              "      <td>DESPAIR</td>\n",
              "      <td>MEH</td>\n",
              "      <td>...</td>\n",
              "      <td>DESPAIR</td>\n",
              "      <td>JOY</td>\n",
              "      <td>MEH</td>\n",
              "      <td>JOY</td>\n",
              "      <td>DESPAIR</td>\n",
              "      <td>JOY</td>\n",
              "      <td>JOY</td>\n",
              "      <td>DESPAIR</td>\n",
              "      <td>DESPAIR</td>\n",
              "      <td>DESPAIR</td>\n",
              "    </tr>\n",
              "    <tr>\n",
              "      <th>3</th>\n",
              "      <td>JOY</td>\n",
              "      <td>DESPAIR</td>\n",
              "      <td>JOY</td>\n",
              "      <td>DESPAIR</td>\n",
              "      <td>MEH</td>\n",
              "      <td>DESPAIR</td>\n",
              "      <td>MEH</td>\n",
              "      <td>DESPAIR</td>\n",
              "      <td>DESPAIR</td>\n",
              "      <td>MEH</td>\n",
              "      <td>...</td>\n",
              "      <td>JOY</td>\n",
              "      <td>JOY</td>\n",
              "      <td>DESPAIR</td>\n",
              "      <td>JOY</td>\n",
              "      <td>MEH</td>\n",
              "      <td>JOY</td>\n",
              "      <td>JOY</td>\n",
              "      <td>DESPAIR</td>\n",
              "      <td>DESPAIR</td>\n",
              "      <td>JOY</td>\n",
              "    </tr>\n",
              "    <tr>\n",
              "      <th>4</th>\n",
              "      <td>JOY</td>\n",
              "      <td>DESPAIR</td>\n",
              "      <td>JOY</td>\n",
              "      <td>NO_ANSWER</td>\n",
              "      <td>NO_ANSWER</td>\n",
              "      <td>NO_ANSWER</td>\n",
              "      <td>MEH</td>\n",
              "      <td>MEH</td>\n",
              "      <td>DESPAIR</td>\n",
              "      <td>JOY</td>\n",
              "      <td>...</td>\n",
              "      <td>JOY</td>\n",
              "      <td>JOY</td>\n",
              "      <td>MEH</td>\n",
              "      <td>JOY</td>\n",
              "      <td>DESPAIR</td>\n",
              "      <td>DESPAIR</td>\n",
              "      <td>JOY</td>\n",
              "      <td>DESPAIR</td>\n",
              "      <td>DESPAIR</td>\n",
              "      <td>JOY</td>\n",
              "    </tr>\n",
              "    <tr>\n",
              "      <th>...</th>\n",
              "      <td>...</td>\n",
              "      <td>...</td>\n",
              "      <td>...</td>\n",
              "      <td>...</td>\n",
              "      <td>...</td>\n",
              "      <td>...</td>\n",
              "      <td>...</td>\n",
              "      <td>...</td>\n",
              "      <td>...</td>\n",
              "      <td>...</td>\n",
              "      <td>...</td>\n",
              "      <td>...</td>\n",
              "      <td>...</td>\n",
              "      <td>...</td>\n",
              "      <td>...</td>\n",
              "      <td>...</td>\n",
              "      <td>...</td>\n",
              "      <td>...</td>\n",
              "      <td>...</td>\n",
              "      <td>...</td>\n",
              "      <td>...</td>\n",
              "    </tr>\n",
              "    <tr>\n",
              "      <th>2300</th>\n",
              "      <td>JOY</td>\n",
              "      <td>DESPAIR</td>\n",
              "      <td>MEH</td>\n",
              "      <td>DESPAIR</td>\n",
              "      <td>DESPAIR</td>\n",
              "      <td>MEH</td>\n",
              "      <td>MEH</td>\n",
              "      <td>DESPAIR</td>\n",
              "      <td>DESPAIR</td>\n",
              "      <td>MEH</td>\n",
              "      <td>...</td>\n",
              "      <td>MEH</td>\n",
              "      <td>MEH</td>\n",
              "      <td>JOY</td>\n",
              "      <td>JOY</td>\n",
              "      <td>MEH</td>\n",
              "      <td>JOY</td>\n",
              "      <td>DESPAIR</td>\n",
              "      <td>MEH</td>\n",
              "      <td>DESPAIR</td>\n",
              "      <td>MEH</td>\n",
              "    </tr>\n",
              "    <tr>\n",
              "      <th>2301</th>\n",
              "      <td>MEH</td>\n",
              "      <td>DESPAIR</td>\n",
              "      <td>JOY</td>\n",
              "      <td>NO_ANSWER</td>\n",
              "      <td>NO_ANSWER</td>\n",
              "      <td>NO_ANSWER</td>\n",
              "      <td>NO_ANSWER</td>\n",
              "      <td>DESPAIR</td>\n",
              "      <td>DESPAIR</td>\n",
              "      <td>JOY</td>\n",
              "      <td>...</td>\n",
              "      <td>MEH</td>\n",
              "      <td>MEH</td>\n",
              "      <td>DESPAIR</td>\n",
              "      <td>JOY</td>\n",
              "      <td>NO_ANSWER</td>\n",
              "      <td>NO_ANSWER</td>\n",
              "      <td>JOY</td>\n",
              "      <td>DESPAIR</td>\n",
              "      <td>MEH</td>\n",
              "      <td>JOY</td>\n",
              "    </tr>\n",
              "    <tr>\n",
              "      <th>2302</th>\n",
              "      <td>MEH</td>\n",
              "      <td>DESPAIR</td>\n",
              "      <td>JOY</td>\n",
              "      <td>DESPAIR</td>\n",
              "      <td>MEH</td>\n",
              "      <td>JOY</td>\n",
              "      <td>DESPAIR</td>\n",
              "      <td>MEH</td>\n",
              "      <td>MEH</td>\n",
              "      <td>DESPAIR</td>\n",
              "      <td>...</td>\n",
              "      <td>JOY</td>\n",
              "      <td>JOY</td>\n",
              "      <td>MEH</td>\n",
              "      <td>MEH</td>\n",
              "      <td>MEH</td>\n",
              "      <td>JOY</td>\n",
              "      <td>MEH</td>\n",
              "      <td>DESPAIR</td>\n",
              "      <td>DESPAIR</td>\n",
              "      <td>MEH</td>\n",
              "    </tr>\n",
              "    <tr>\n",
              "      <th>2303</th>\n",
              "      <td>NO_ANSWER</td>\n",
              "      <td>NO_ANSWER</td>\n",
              "      <td>NO_ANSWER</td>\n",
              "      <td>NO_ANSWER</td>\n",
              "      <td>NO_ANSWER</td>\n",
              "      <td>NO_ANSWER</td>\n",
              "      <td>NO_ANSWER</td>\n",
              "      <td>NO_ANSWER</td>\n",
              "      <td>NO_ANSWER</td>\n",
              "      <td>NO_ANSWER</td>\n",
              "      <td>...</td>\n",
              "      <td>NO_ANSWER</td>\n",
              "      <td>NO_ANSWER</td>\n",
              "      <td>NO_ANSWER</td>\n",
              "      <td>NO_ANSWER</td>\n",
              "      <td>NO_ANSWER</td>\n",
              "      <td>NO_ANSWER</td>\n",
              "      <td>NO_ANSWER</td>\n",
              "      <td>NO_ANSWER</td>\n",
              "      <td>NO_ANSWER</td>\n",
              "      <td>NO_ANSWER</td>\n",
              "    </tr>\n",
              "    <tr>\n",
              "      <th>2304</th>\n",
              "      <td>DESPAIR</td>\n",
              "      <td>DESPAIR</td>\n",
              "      <td>JOY</td>\n",
              "      <td>DESPAIR</td>\n",
              "      <td>DESPAIR</td>\n",
              "      <td>DESPAIR</td>\n",
              "      <td>DESPAIR</td>\n",
              "      <td>MEH</td>\n",
              "      <td>DESPAIR</td>\n",
              "      <td>JOY</td>\n",
              "      <td>...</td>\n",
              "      <td>JOY</td>\n",
              "      <td>MEH</td>\n",
              "      <td>DESPAIR</td>\n",
              "      <td>DESPAIR</td>\n",
              "      <td>DESPAIR</td>\n",
              "      <td>JOY</td>\n",
              "      <td>DESPAIR</td>\n",
              "      <td>MEH</td>\n",
              "      <td>DESPAIR</td>\n",
              "      <td>JOY</td>\n",
              "    </tr>\n",
              "  </tbody>\n",
              "</table>\n",
              "<p>2305 rows × 103 columns</p>\n",
              "</div>\n",
              "      <button class=\"colab-df-convert\" onclick=\"convertToInteractive('df-d17717c1-e255-4743-b7a9-9aa7d334e327')\"\n",
              "              title=\"Convert this dataframe to an interactive table.\"\n",
              "              style=\"display:none;\">\n",
              "        \n",
              "  <svg xmlns=\"http://www.w3.org/2000/svg\" height=\"24px\"viewBox=\"0 0 24 24\"\n",
              "       width=\"24px\">\n",
              "    <path d=\"M0 0h24v24H0V0z\" fill=\"none\"/>\n",
              "    <path d=\"M18.56 5.44l.94 2.06.94-2.06 2.06-.94-2.06-.94-.94-2.06-.94 2.06-2.06.94zm-11 1L8.5 8.5l.94-2.06 2.06-.94-2.06-.94L8.5 2.5l-.94 2.06-2.06.94zm10 10l.94 2.06.94-2.06 2.06-.94-2.06-.94-.94-2.06-.94 2.06-2.06.94z\"/><path d=\"M17.41 7.96l-1.37-1.37c-.4-.4-.92-.59-1.43-.59-.52 0-1.04.2-1.43.59L10.3 9.45l-7.72 7.72c-.78.78-.78 2.05 0 2.83L4 21.41c.39.39.9.59 1.41.59.51 0 1.02-.2 1.41-.59l7.78-7.78 2.81-2.81c.8-.78.8-2.07 0-2.86zM5.41 20L4 18.59l7.72-7.72 1.47 1.35L5.41 20z\"/>\n",
              "  </svg>\n",
              "      </button>\n",
              "      \n",
              "  <style>\n",
              "    .colab-df-container {\n",
              "      display:flex;\n",
              "      flex-wrap:wrap;\n",
              "      gap: 12px;\n",
              "    }\n",
              "\n",
              "    .colab-df-convert {\n",
              "      background-color: #E8F0FE;\n",
              "      border: none;\n",
              "      border-radius: 50%;\n",
              "      cursor: pointer;\n",
              "      display: none;\n",
              "      fill: #1967D2;\n",
              "      height: 32px;\n",
              "      padding: 0 0 0 0;\n",
              "      width: 32px;\n",
              "    }\n",
              "\n",
              "    .colab-df-convert:hover {\n",
              "      background-color: #E2EBFA;\n",
              "      box-shadow: 0px 1px 2px rgba(60, 64, 67, 0.3), 0px 1px 3px 1px rgba(60, 64, 67, 0.15);\n",
              "      fill: #174EA6;\n",
              "    }\n",
              "\n",
              "    [theme=dark] .colab-df-convert {\n",
              "      background-color: #3B4455;\n",
              "      fill: #D2E3FC;\n",
              "    }\n",
              "\n",
              "    [theme=dark] .colab-df-convert:hover {\n",
              "      background-color: #434B5C;\n",
              "      box-shadow: 0px 1px 3px 1px rgba(0, 0, 0, 0.15);\n",
              "      filter: drop-shadow(0px 1px 2px rgba(0, 0, 0, 0.3));\n",
              "      fill: #FFFFFF;\n",
              "    }\n",
              "  </style>\n",
              "\n",
              "      <script>\n",
              "        const buttonEl =\n",
              "          document.querySelector('#df-d17717c1-e255-4743-b7a9-9aa7d334e327 button.colab-df-convert');\n",
              "        buttonEl.style.display =\n",
              "          google.colab.kernel.accessAllowed ? 'block' : 'none';\n",
              "\n",
              "        async function convertToInteractive(key) {\n",
              "          const element = document.querySelector('#df-d17717c1-e255-4743-b7a9-9aa7d334e327');\n",
              "          const dataTable =\n",
              "            await google.colab.kernel.invokeFunction('convertToInteractive',\n",
              "                                                     [key], {});\n",
              "          if (!dataTable) return;\n",
              "\n",
              "          const docLinkHtml = 'Like what you see? Visit the ' +\n",
              "            '<a target=\"_blank\" href=https://colab.research.google.com/notebooks/data_table.ipynb>data table notebook</a>'\n",
              "            + ' to learn more about interactive tables.';\n",
              "          element.innerHTML = '';\n",
              "          dataTable['output_type'] = 'display_data';\n",
              "          await google.colab.output.renderOutput(dataTable, element);\n",
              "          const docLink = document.createElement('div');\n",
              "          docLink.innerHTML = docLinkHtml;\n",
              "          element.appendChild(docLink);\n",
              "        }\n",
              "      </script>\n",
              "    </div>\n",
              "  </div>\n",
              "  "
            ]
          },
          "metadata": {},
          "execution_count": 995
        }
      ],
      "source": [
        "### ENTER CODE HERE ###\n",
        "candy_response = candy_encode['Q2: GENDER']\n",
        "candy_features = candy_encode.drop(columns =['Q2: GENDER','Q1: GOING OUT?','Q3: AGE','Q4: COUNTRY','Q10: DRESS','Q11: DAY', 'Q12: MEDIA [Daily Dish]',\n",
        "                                    'Q12: MEDIA [Science]','Q12: MEDIA [ESPN]','Q12: MEDIA [Yahoo]'])\n",
        "candy_features"
      ]
    },
    {
      "cell_type": "markdown",
      "metadata": {
        "id": "mKuLOphoa6ZK"
      },
      "source": [
        "**Exercise_AX:** Use Panda's `get_dummies()` to encode the `candy_features` data, making sure to set `drop_first=True`. Save this as `candy_features_encoded`."
      ]
    },
    {
      "cell_type": "code",
      "execution_count": 999,
      "metadata": {
        "scrolled": true,
        "colab": {
          "base_uri": "https://localhost:8080/"
        },
        "id": "CnmCnXlIa6ZL",
        "outputId": "540642e4-a602-4a1a-be22-696b07b8ca8e"
      },
      "outputs": [
        {
          "output_type": "execute_result",
          "data": {
            "text/plain": [
              "182246"
            ]
          },
          "metadata": {},
          "execution_count": 999
        }
      ],
      "source": [
        "### ENTER CODE HERE ###\n",
        "candy_features_encoded = pd.get_dummies(candy_features,drop_first=True)\n",
        "\n",
        "\n"
      ]
    },
    {
      "cell_type": "code",
      "source": [
        "candy"
      ],
      "metadata": {
        "colab": {
          "base_uri": "https://localhost:8080/",
          "height": 696
        },
        "id": "j10Rt3iuJY6W",
        "outputId": "a4d83e60-0038-4929-f1ee-4ba68194cbd9"
      },
      "execution_count": 997,
      "outputs": [
        {
          "output_type": "execute_result",
          "data": {
            "text/plain": [
              "     Q1: GOING OUT? Q2: GENDER  Q3: AGE Q4: COUNTRY Q6 | 100 Grand Bar  \\\n",
              "0                No       Male    36-45         USA                MEH   \n",
              "1                No       Male    46-55         USA          NO_ANSWER   \n",
              "2                No       Male    36-45         USA                MEH   \n",
              "3                No       Male    18-25         USA                JOY   \n",
              "4                No       Male  unknown       Other                JOY   \n",
              "...             ...        ...      ...         ...                ...   \n",
              "2300             No       Male    18-25         USA                JOY   \n",
              "2301             No     Female    26-35         USA                MEH   \n",
              "2302             No     Female    26-35         USA                MEH   \n",
              "2303             No       Male      56+         USA          NO_ANSWER   \n",
              "2304             No     Female      56+         USA            DESPAIR   \n",
              "\n",
              "     Q6 | Anonymous brown globs that come in black and orange wrappers\\t(a.k.a. Mary Janes)  \\\n",
              "0                                               DESPAIR                                       \n",
              "1                                             NO_ANSWER                                       \n",
              "2                                               DESPAIR                                       \n",
              "3                                               DESPAIR                                       \n",
              "4                                               DESPAIR                                       \n",
              "...                                                 ...                                       \n",
              "2300                                            DESPAIR                                       \n",
              "2301                                            DESPAIR                                       \n",
              "2302                                            DESPAIR                                       \n",
              "2303                                          NO_ANSWER                                       \n",
              "2304                                            DESPAIR                                       \n",
              "\n",
              "     Q6 | Any full-sized candy bar Q6 | Black Jacks Q6 | Bonkers (the candy)  \\\n",
              "0                              JOY              MEH                  DESPAIR   \n",
              "1                        NO_ANSWER        NO_ANSWER                NO_ANSWER   \n",
              "2                              JOY              MEH                      MEH   \n",
              "3                              JOY          DESPAIR                      MEH   \n",
              "4                              JOY        NO_ANSWER                NO_ANSWER   \n",
              "...                            ...              ...                      ...   \n",
              "2300                           MEH          DESPAIR                  DESPAIR   \n",
              "2301                           JOY        NO_ANSWER                NO_ANSWER   \n",
              "2302                           JOY          DESPAIR                      MEH   \n",
              "2303                     NO_ANSWER        NO_ANSWER                NO_ANSWER   \n",
              "2304                           JOY          DESPAIR                  DESPAIR   \n",
              "\n",
              "     Q6 | Bonkers (the board game)  ... Q6 | Whatchamacallit Bars  \\\n",
              "0                          DESPAIR  ...                   DESPAIR   \n",
              "1                        NO_ANSWER  ...                 NO_ANSWER   \n",
              "2                          DESPAIR  ...                       JOY   \n",
              "3                          DESPAIR  ...                       JOY   \n",
              "4                        NO_ANSWER  ...                       JOY   \n",
              "...                            ...  ...                       ...   \n",
              "2300                           MEH  ...                   DESPAIR   \n",
              "2301                     NO_ANSWER  ...                       JOY   \n",
              "2302                           JOY  ...                       MEH   \n",
              "2303                     NO_ANSWER  ...                 NO_ANSWER   \n",
              "2304                       DESPAIR  ...                   DESPAIR   \n",
              "\n",
              "     Q6 | White Bread Q6 | Whole Wheat anything Q6 | York Peppermint Patties  \\\n",
              "0             DESPAIR                   DESPAIR                      DESPAIR   \n",
              "1           NO_ANSWER                 NO_ANSWER                    NO_ANSWER   \n",
              "2             DESPAIR                   DESPAIR                      DESPAIR   \n",
              "3             DESPAIR                   DESPAIR                          JOY   \n",
              "4             DESPAIR                   DESPAIR                          JOY   \n",
              "...               ...                       ...                          ...   \n",
              "2300              MEH                   DESPAIR                          MEH   \n",
              "2301          DESPAIR                       MEH                          JOY   \n",
              "2302          DESPAIR                   DESPAIR                          MEH   \n",
              "2303        NO_ANSWER                 NO_ANSWER                    NO_ANSWER   \n",
              "2304              MEH                   DESPAIR                          JOY   \n",
              "\n",
              "          Q10: DRESS   Q11: DAY Q12: MEDIA [Daily Dish] Q12: MEDIA [Science]  \\\n",
              "0     White and gold     Sunday                     0.0                  1.0   \n",
              "1          NO_ANSWER  NO_ANSWER                     0.0                  0.0   \n",
              "2     White and gold     Sunday                     0.0                  1.0   \n",
              "3     White and gold     Friday                     0.0                  1.0   \n",
              "4          NO_ANSWER  NO_ANSWER                     0.0                  1.0   \n",
              "...              ...        ...                     ...                  ...   \n",
              "2300  White and gold     Friday                     0.0                  0.0   \n",
              "2301  Blue and black     Friday                     0.0                  1.0   \n",
              "2302  Blue and black     Friday                     0.0                  1.0   \n",
              "2303       NO_ANSWER  NO_ANSWER                     0.0                  0.0   \n",
              "2304  White and gold     Sunday                     1.0                  0.0   \n",
              "\n",
              "     Q12: MEDIA [ESPN] Q12: MEDIA [Yahoo]  \n",
              "0                  0.0                0.0  \n",
              "1                  0.0                0.0  \n",
              "2                  0.0                0.0  \n",
              "3                  0.0                0.0  \n",
              "4                  0.0                0.0  \n",
              "...                ...                ...  \n",
              "2300               0.0                0.0  \n",
              "2301               0.0                0.0  \n",
              "2302               0.0                0.0  \n",
              "2303               0.0                0.0  \n",
              "2304               0.0                0.0  \n",
              "\n",
              "[2305 rows x 113 columns]"
            ],
            "text/html": [
              "\n",
              "  <div id=\"df-ac3ceddc-bec2-4ac7-9d3a-a250d8fe3522\">\n",
              "    <div class=\"colab-df-container\">\n",
              "      <div>\n",
              "<style scoped>\n",
              "    .dataframe tbody tr th:only-of-type {\n",
              "        vertical-align: middle;\n",
              "    }\n",
              "\n",
              "    .dataframe tbody tr th {\n",
              "        vertical-align: top;\n",
              "    }\n",
              "\n",
              "    .dataframe thead th {\n",
              "        text-align: right;\n",
              "    }\n",
              "</style>\n",
              "<table border=\"1\" class=\"dataframe\">\n",
              "  <thead>\n",
              "    <tr style=\"text-align: right;\">\n",
              "      <th></th>\n",
              "      <th>Q1: GOING OUT?</th>\n",
              "      <th>Q2: GENDER</th>\n",
              "      <th>Q3: AGE</th>\n",
              "      <th>Q4: COUNTRY</th>\n",
              "      <th>Q6 | 100 Grand Bar</th>\n",
              "      <th>Q6 | Anonymous brown globs that come in black and orange wrappers\\t(a.k.a. Mary Janes)</th>\n",
              "      <th>Q6 | Any full-sized candy bar</th>\n",
              "      <th>Q6 | Black Jacks</th>\n",
              "      <th>Q6 | Bonkers (the candy)</th>\n",
              "      <th>Q6 | Bonkers (the board game)</th>\n",
              "      <th>...</th>\n",
              "      <th>Q6 | Whatchamacallit Bars</th>\n",
              "      <th>Q6 | White Bread</th>\n",
              "      <th>Q6 | Whole Wheat anything</th>\n",
              "      <th>Q6 | York Peppermint Patties</th>\n",
              "      <th>Q10: DRESS</th>\n",
              "      <th>Q11: DAY</th>\n",
              "      <th>Q12: MEDIA [Daily Dish]</th>\n",
              "      <th>Q12: MEDIA [Science]</th>\n",
              "      <th>Q12: MEDIA [ESPN]</th>\n",
              "      <th>Q12: MEDIA [Yahoo]</th>\n",
              "    </tr>\n",
              "  </thead>\n",
              "  <tbody>\n",
              "    <tr>\n",
              "      <th>0</th>\n",
              "      <td>No</td>\n",
              "      <td>Male</td>\n",
              "      <td>36-45</td>\n",
              "      <td>USA</td>\n",
              "      <td>MEH</td>\n",
              "      <td>DESPAIR</td>\n",
              "      <td>JOY</td>\n",
              "      <td>MEH</td>\n",
              "      <td>DESPAIR</td>\n",
              "      <td>DESPAIR</td>\n",
              "      <td>...</td>\n",
              "      <td>DESPAIR</td>\n",
              "      <td>DESPAIR</td>\n",
              "      <td>DESPAIR</td>\n",
              "      <td>DESPAIR</td>\n",
              "      <td>White and gold</td>\n",
              "      <td>Sunday</td>\n",
              "      <td>0.0</td>\n",
              "      <td>1.0</td>\n",
              "      <td>0.0</td>\n",
              "      <td>0.0</td>\n",
              "    </tr>\n",
              "    <tr>\n",
              "      <th>1</th>\n",
              "      <td>No</td>\n",
              "      <td>Male</td>\n",
              "      <td>46-55</td>\n",
              "      <td>USA</td>\n",
              "      <td>NO_ANSWER</td>\n",
              "      <td>NO_ANSWER</td>\n",
              "      <td>NO_ANSWER</td>\n",
              "      <td>NO_ANSWER</td>\n",
              "      <td>NO_ANSWER</td>\n",
              "      <td>NO_ANSWER</td>\n",
              "      <td>...</td>\n",
              "      <td>NO_ANSWER</td>\n",
              "      <td>NO_ANSWER</td>\n",
              "      <td>NO_ANSWER</td>\n",
              "      <td>NO_ANSWER</td>\n",
              "      <td>NO_ANSWER</td>\n",
              "      <td>NO_ANSWER</td>\n",
              "      <td>0.0</td>\n",
              "      <td>0.0</td>\n",
              "      <td>0.0</td>\n",
              "      <td>0.0</td>\n",
              "    </tr>\n",
              "    <tr>\n",
              "      <th>2</th>\n",
              "      <td>No</td>\n",
              "      <td>Male</td>\n",
              "      <td>36-45</td>\n",
              "      <td>USA</td>\n",
              "      <td>MEH</td>\n",
              "      <td>DESPAIR</td>\n",
              "      <td>JOY</td>\n",
              "      <td>MEH</td>\n",
              "      <td>MEH</td>\n",
              "      <td>DESPAIR</td>\n",
              "      <td>...</td>\n",
              "      <td>JOY</td>\n",
              "      <td>DESPAIR</td>\n",
              "      <td>DESPAIR</td>\n",
              "      <td>DESPAIR</td>\n",
              "      <td>White and gold</td>\n",
              "      <td>Sunday</td>\n",
              "      <td>0.0</td>\n",
              "      <td>1.0</td>\n",
              "      <td>0.0</td>\n",
              "      <td>0.0</td>\n",
              "    </tr>\n",
              "    <tr>\n",
              "      <th>3</th>\n",
              "      <td>No</td>\n",
              "      <td>Male</td>\n",
              "      <td>18-25</td>\n",
              "      <td>USA</td>\n",
              "      <td>JOY</td>\n",
              "      <td>DESPAIR</td>\n",
              "      <td>JOY</td>\n",
              "      <td>DESPAIR</td>\n",
              "      <td>MEH</td>\n",
              "      <td>DESPAIR</td>\n",
              "      <td>...</td>\n",
              "      <td>JOY</td>\n",
              "      <td>DESPAIR</td>\n",
              "      <td>DESPAIR</td>\n",
              "      <td>JOY</td>\n",
              "      <td>White and gold</td>\n",
              "      <td>Friday</td>\n",
              "      <td>0.0</td>\n",
              "      <td>1.0</td>\n",
              "      <td>0.0</td>\n",
              "      <td>0.0</td>\n",
              "    </tr>\n",
              "    <tr>\n",
              "      <th>4</th>\n",
              "      <td>No</td>\n",
              "      <td>Male</td>\n",
              "      <td>unknown</td>\n",
              "      <td>Other</td>\n",
              "      <td>JOY</td>\n",
              "      <td>DESPAIR</td>\n",
              "      <td>JOY</td>\n",
              "      <td>NO_ANSWER</td>\n",
              "      <td>NO_ANSWER</td>\n",
              "      <td>NO_ANSWER</td>\n",
              "      <td>...</td>\n",
              "      <td>JOY</td>\n",
              "      <td>DESPAIR</td>\n",
              "      <td>DESPAIR</td>\n",
              "      <td>JOY</td>\n",
              "      <td>NO_ANSWER</td>\n",
              "      <td>NO_ANSWER</td>\n",
              "      <td>0.0</td>\n",
              "      <td>1.0</td>\n",
              "      <td>0.0</td>\n",
              "      <td>0.0</td>\n",
              "    </tr>\n",
              "    <tr>\n",
              "      <th>...</th>\n",
              "      <td>...</td>\n",
              "      <td>...</td>\n",
              "      <td>...</td>\n",
              "      <td>...</td>\n",
              "      <td>...</td>\n",
              "      <td>...</td>\n",
              "      <td>...</td>\n",
              "      <td>...</td>\n",
              "      <td>...</td>\n",
              "      <td>...</td>\n",
              "      <td>...</td>\n",
              "      <td>...</td>\n",
              "      <td>...</td>\n",
              "      <td>...</td>\n",
              "      <td>...</td>\n",
              "      <td>...</td>\n",
              "      <td>...</td>\n",
              "      <td>...</td>\n",
              "      <td>...</td>\n",
              "      <td>...</td>\n",
              "      <td>...</td>\n",
              "    </tr>\n",
              "    <tr>\n",
              "      <th>2300</th>\n",
              "      <td>No</td>\n",
              "      <td>Male</td>\n",
              "      <td>18-25</td>\n",
              "      <td>USA</td>\n",
              "      <td>JOY</td>\n",
              "      <td>DESPAIR</td>\n",
              "      <td>MEH</td>\n",
              "      <td>DESPAIR</td>\n",
              "      <td>DESPAIR</td>\n",
              "      <td>MEH</td>\n",
              "      <td>...</td>\n",
              "      <td>DESPAIR</td>\n",
              "      <td>MEH</td>\n",
              "      <td>DESPAIR</td>\n",
              "      <td>MEH</td>\n",
              "      <td>White and gold</td>\n",
              "      <td>Friday</td>\n",
              "      <td>0.0</td>\n",
              "      <td>0.0</td>\n",
              "      <td>0.0</td>\n",
              "      <td>0.0</td>\n",
              "    </tr>\n",
              "    <tr>\n",
              "      <th>2301</th>\n",
              "      <td>No</td>\n",
              "      <td>Female</td>\n",
              "      <td>26-35</td>\n",
              "      <td>USA</td>\n",
              "      <td>MEH</td>\n",
              "      <td>DESPAIR</td>\n",
              "      <td>JOY</td>\n",
              "      <td>NO_ANSWER</td>\n",
              "      <td>NO_ANSWER</td>\n",
              "      <td>NO_ANSWER</td>\n",
              "      <td>...</td>\n",
              "      <td>JOY</td>\n",
              "      <td>DESPAIR</td>\n",
              "      <td>MEH</td>\n",
              "      <td>JOY</td>\n",
              "      <td>Blue and black</td>\n",
              "      <td>Friday</td>\n",
              "      <td>0.0</td>\n",
              "      <td>1.0</td>\n",
              "      <td>0.0</td>\n",
              "      <td>0.0</td>\n",
              "    </tr>\n",
              "    <tr>\n",
              "      <th>2302</th>\n",
              "      <td>No</td>\n",
              "      <td>Female</td>\n",
              "      <td>26-35</td>\n",
              "      <td>USA</td>\n",
              "      <td>MEH</td>\n",
              "      <td>DESPAIR</td>\n",
              "      <td>JOY</td>\n",
              "      <td>DESPAIR</td>\n",
              "      <td>MEH</td>\n",
              "      <td>JOY</td>\n",
              "      <td>...</td>\n",
              "      <td>MEH</td>\n",
              "      <td>DESPAIR</td>\n",
              "      <td>DESPAIR</td>\n",
              "      <td>MEH</td>\n",
              "      <td>Blue and black</td>\n",
              "      <td>Friday</td>\n",
              "      <td>0.0</td>\n",
              "      <td>1.0</td>\n",
              "      <td>0.0</td>\n",
              "      <td>0.0</td>\n",
              "    </tr>\n",
              "    <tr>\n",
              "      <th>2303</th>\n",
              "      <td>No</td>\n",
              "      <td>Male</td>\n",
              "      <td>56+</td>\n",
              "      <td>USA</td>\n",
              "      <td>NO_ANSWER</td>\n",
              "      <td>NO_ANSWER</td>\n",
              "      <td>NO_ANSWER</td>\n",
              "      <td>NO_ANSWER</td>\n",
              "      <td>NO_ANSWER</td>\n",
              "      <td>NO_ANSWER</td>\n",
              "      <td>...</td>\n",
              "      <td>NO_ANSWER</td>\n",
              "      <td>NO_ANSWER</td>\n",
              "      <td>NO_ANSWER</td>\n",
              "      <td>NO_ANSWER</td>\n",
              "      <td>NO_ANSWER</td>\n",
              "      <td>NO_ANSWER</td>\n",
              "      <td>0.0</td>\n",
              "      <td>0.0</td>\n",
              "      <td>0.0</td>\n",
              "      <td>0.0</td>\n",
              "    </tr>\n",
              "    <tr>\n",
              "      <th>2304</th>\n",
              "      <td>No</td>\n",
              "      <td>Female</td>\n",
              "      <td>56+</td>\n",
              "      <td>USA</td>\n",
              "      <td>DESPAIR</td>\n",
              "      <td>DESPAIR</td>\n",
              "      <td>JOY</td>\n",
              "      <td>DESPAIR</td>\n",
              "      <td>DESPAIR</td>\n",
              "      <td>DESPAIR</td>\n",
              "      <td>...</td>\n",
              "      <td>DESPAIR</td>\n",
              "      <td>MEH</td>\n",
              "      <td>DESPAIR</td>\n",
              "      <td>JOY</td>\n",
              "      <td>White and gold</td>\n",
              "      <td>Sunday</td>\n",
              "      <td>1.0</td>\n",
              "      <td>0.0</td>\n",
              "      <td>0.0</td>\n",
              "      <td>0.0</td>\n",
              "    </tr>\n",
              "  </tbody>\n",
              "</table>\n",
              "<p>2305 rows × 113 columns</p>\n",
              "</div>\n",
              "      <button class=\"colab-df-convert\" onclick=\"convertToInteractive('df-ac3ceddc-bec2-4ac7-9d3a-a250d8fe3522')\"\n",
              "              title=\"Convert this dataframe to an interactive table.\"\n",
              "              style=\"display:none;\">\n",
              "        \n",
              "  <svg xmlns=\"http://www.w3.org/2000/svg\" height=\"24px\"viewBox=\"0 0 24 24\"\n",
              "       width=\"24px\">\n",
              "    <path d=\"M0 0h24v24H0V0z\" fill=\"none\"/>\n",
              "    <path d=\"M18.56 5.44l.94 2.06.94-2.06 2.06-.94-2.06-.94-.94-2.06-.94 2.06-2.06.94zm-11 1L8.5 8.5l.94-2.06 2.06-.94-2.06-.94L8.5 2.5l-.94 2.06-2.06.94zm10 10l.94 2.06.94-2.06 2.06-.94-2.06-.94-.94-2.06-.94 2.06-2.06.94z\"/><path d=\"M17.41 7.96l-1.37-1.37c-.4-.4-.92-.59-1.43-.59-.52 0-1.04.2-1.43.59L10.3 9.45l-7.72 7.72c-.78.78-.78 2.05 0 2.83L4 21.41c.39.39.9.59 1.41.59.51 0 1.02-.2 1.41-.59l7.78-7.78 2.81-2.81c.8-.78.8-2.07 0-2.86zM5.41 20L4 18.59l7.72-7.72 1.47 1.35L5.41 20z\"/>\n",
              "  </svg>\n",
              "      </button>\n",
              "      \n",
              "  <style>\n",
              "    .colab-df-container {\n",
              "      display:flex;\n",
              "      flex-wrap:wrap;\n",
              "      gap: 12px;\n",
              "    }\n",
              "\n",
              "    .colab-df-convert {\n",
              "      background-color: #E8F0FE;\n",
              "      border: none;\n",
              "      border-radius: 50%;\n",
              "      cursor: pointer;\n",
              "      display: none;\n",
              "      fill: #1967D2;\n",
              "      height: 32px;\n",
              "      padding: 0 0 0 0;\n",
              "      width: 32px;\n",
              "    }\n",
              "\n",
              "    .colab-df-convert:hover {\n",
              "      background-color: #E2EBFA;\n",
              "      box-shadow: 0px 1px 2px rgba(60, 64, 67, 0.3), 0px 1px 3px 1px rgba(60, 64, 67, 0.15);\n",
              "      fill: #174EA6;\n",
              "    }\n",
              "\n",
              "    [theme=dark] .colab-df-convert {\n",
              "      background-color: #3B4455;\n",
              "      fill: #D2E3FC;\n",
              "    }\n",
              "\n",
              "    [theme=dark] .colab-df-convert:hover {\n",
              "      background-color: #434B5C;\n",
              "      box-shadow: 0px 1px 3px 1px rgba(0, 0, 0, 0.15);\n",
              "      filter: drop-shadow(0px 1px 2px rgba(0, 0, 0, 0.3));\n",
              "      fill: #FFFFFF;\n",
              "    }\n",
              "  </style>\n",
              "\n",
              "      <script>\n",
              "        const buttonEl =\n",
              "          document.querySelector('#df-ac3ceddc-bec2-4ac7-9d3a-a250d8fe3522 button.colab-df-convert');\n",
              "        buttonEl.style.display =\n",
              "          google.colab.kernel.accessAllowed ? 'block' : 'none';\n",
              "\n",
              "        async function convertToInteractive(key) {\n",
              "          const element = document.querySelector('#df-ac3ceddc-bec2-4ac7-9d3a-a250d8fe3522');\n",
              "          const dataTable =\n",
              "            await google.colab.kernel.invokeFunction('convertToInteractive',\n",
              "                                                     [key], {});\n",
              "          if (!dataTable) return;\n",
              "\n",
              "          const docLinkHtml = 'Like what you see? Visit the ' +\n",
              "            '<a target=\"_blank\" href=https://colab.research.google.com/notebooks/data_table.ipynb>data table notebook</a>'\n",
              "            + ' to learn more about interactive tables.';\n",
              "          element.innerHTML = '';\n",
              "          dataTable['output_type'] = 'display_data';\n",
              "          await google.colab.output.renderOutput(dataTable, element);\n",
              "          const docLink = document.createElement('div');\n",
              "          docLink.innerHTML = docLinkHtml;\n",
              "          element.appendChild(docLink);\n",
              "        }\n",
              "      </script>\n",
              "    </div>\n",
              "  </div>\n",
              "  "
            ]
          },
          "metadata": {},
          "execution_count": 997
        }
      ]
    },
    {
      "cell_type": "markdown",
      "metadata": {
        "id": "t5-JQqxfa6ZL"
      },
      "source": [
        "**Code Check:** Make sure that the `candy`, `candy_features`, `candy_response` and `candy_features_encoded` has an index that goes from 0 to n-1 or your final CodeGrade tests will not pass."
      ]
    },
    {
      "cell_type": "markdown",
      "metadata": {
        "id": "BDwEQIQya6ZM"
      },
      "source": [
        "## Final Analysis\n",
        "\n",
        "Great work! You have now cleaned your data and prepared it to be passed to a machine learning model.  \n",
        "\n",
        "I created models using Random Forest, Logistic Regression, and XGBoost algorithms, and they all returned around 70% accuracy rates. However, the other accuracy metrics (that you will learn about more in the machine learning classes) didn't look as good. Given the metrics that were calculated, I would say that based only on this data, using candy preference is not that great of an indicator of someone's gender.\n",
        "\n",
        "**Next Steps:**  Make sure that your notebook passes all the CodeGrade tests and then use this notebook to answer questions in the corresponding quiz in Brightspace."
      ]
    }
  ],
  "metadata": {
    "kernelspec": {
      "display_name": "Python 3",
      "language": "python",
      "name": "python3"
    },
    "language_info": {
      "codemirror_mode": {
        "name": "ipython",
        "version": 3
      },
      "file_extension": ".py",
      "mimetype": "text/x-python",
      "name": "python",
      "nbconvert_exporter": "python",
      "pygments_lexer": "ipython3",
      "version": "3.8.8"
    },
    "colab": {
      "name": "halloween_candy.ipynb",
      "provenance": [],
      "collapsed_sections": [
        "BDwEQIQya6ZM"
      ]
    }
  },
  "nbformat": 4,
  "nbformat_minor": 0
}